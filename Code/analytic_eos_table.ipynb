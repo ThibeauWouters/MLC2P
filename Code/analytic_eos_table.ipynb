{
 "cells": [
  {
   "cell_type": "markdown",
   "id": "c2350117",
   "metadata": {},
   "source": [
    "# Preamble"
   ]
  },
  {
   "cell_type": "code",
   "execution_count": 1,
   "id": "0bb9f224",
   "metadata": {
    "executionInfo": {
     "elapsed": 8764,
     "status": "ok",
     "timestamp": 1681398656896,
     "user": {
      "displayName": "Thibeau Wouters",
      "userId": "14702334917940433667"
     },
     "user_tz": -120
    },
    "id": "0bb9f224"
   },
   "outputs": [],
   "source": [
    "# Standard libraries\n",
    "import time\n",
    "import numpy as np\n",
    "import matplotlib.pyplot as plt\n",
    "import matplotlib.cm as cm\n",
    "# plt.rcParams['figure.dpi'] = 300\n",
    "import random\n",
    "import csv\n",
    "import pandas as pd\n",
    "import h5py\n",
    "import gc  # garbage collection\n",
    "# Scikit learn libraries\n",
    "# from sklearn.model_selection import train_test_split\n",
    "# from sklearn.preprocessing import StandardScaler\n",
    "# # PyTorch libraries\n",
    "# import torch\n",
    "# from torch import nn\n",
    "# from torch.utils.data import Dataset, DataLoader\n",
    "# from torchvision.transforms import ToTensor, Normalize \n",
    "# Get dirs\n",
    "import os\n",
    "cwd = os.getcwd()# \"Code\" folder\n",
    "master_dir = os.path.abspath(os.path.join(cwd, \"..\"))\n",
    "## ONNX\n",
    "# import onnx\n",
    "# import onnxruntime"
   ]
  },
  {
   "cell_type": "markdown",
   "id": "4c465f7c",
   "metadata": {
    "id": "4c465f7c"
   },
   "source": [
    "When using __Google Colab__, run the following cell"
   ]
  },
  {
   "cell_type": "code",
   "execution_count": 2,
   "id": "75bacf53",
   "metadata": {
    "colab": {
     "base_uri": "https://localhost:8080/"
    },
    "executionInfo": {
     "elapsed": 19202,
     "status": "ok",
     "timestamp": 1681398681220,
     "user": {
      "displayName": "Thibeau Wouters",
      "userId": "14702334917940433667"
     },
     "user_tz": -120
    },
    "id": "bbeb496d",
    "outputId": "30fa916e-e8c0-4fbe-de12-cd51790fc6a3"
   },
   "outputs": [],
   "source": [
    "# from google.colab import drive\n",
    "# drive.mount('/content/drive')\n",
    "# code_dir = \"/content/drive/MyDrive/KUL/MAI thesis/Code\"\n",
    "# master_dir = os.path.join(code_dir, \"..\")\n",
    "# os.chdir(code_dir)\n",
    "# print(os.getcwd())"
   ]
  },
  {
   "cell_type": "code",
   "execution_count": 2,
   "id": "36bbffc0",
   "metadata": {
    "executionInfo": {
     "elapsed": 1462,
     "status": "ok",
     "timestamp": 1681398682653,
     "user": {
      "displayName": "Thibeau Wouters",
      "userId": "14702334917940433667"
     },
     "user_tz": -120
    },
    "id": "36bbffc0"
   },
   "outputs": [],
   "source": [
    "# Load own scripts:\n",
    "%load_ext autoreload\n",
    "%autoreload 2\n",
    "import physics\n",
    "import data\n",
    "import nnc2p"
   ]
  },
  {
   "cell_type": "markdown",
   "id": "04e9b2d4",
   "metadata": {},
   "source": [
    "Load in EOS table:"
   ]
  },
  {
   "cell_type": "code",
   "execution_count": 3,
   "id": "efbc8d2b",
   "metadata": {
    "colab": {
     "base_uri": "https://localhost:8080/"
    },
    "executionInfo": {
     "elapsed": 30,
     "status": "ok",
     "timestamp": 1681398682653,
     "user": {
      "displayName": "Thibeau Wouters",
      "userId": "14702334917940433667"
     },
     "user_tz": -120
    },
    "id": "efbc8d2b",
    "outputId": "49af00ba-c706-4dd9-fd2c-ee828683afe1"
   },
   "outputs": [
    {
     "name": "stdout",
     "output_type": "stream",
     "text": [
      "Going to look for EOS tables at D:/Coding/Datasets/eos_tables\n"
     ]
    }
   ],
   "source": [
    "eos_tables_dir = os.path.join(\"D:/Coding/Datasets/eos_tables\")  # offline\n",
    "# eos_tables_dir = os.path.join(master_dir, \"Data\")  # in Google Colab\n",
    "print(f\"Going to look for EOS tables at {eos_tables_dir}\")"
   ]
  },
  {
   "cell_type": "markdown",
   "id": "02fb3c8c",
   "metadata": {
    "id": "02fb3c8c"
   },
   "source": [
    "# Introduction"
   ]
  },
  {
   "cell_type": "markdown",
   "id": "bf2c1f4a",
   "metadata": {},
   "source": [
    "Garbage collect:"
   ]
  },
  {
   "cell_type": "code",
   "execution_count": 142,
   "id": "17ceb9b1",
   "metadata": {},
   "outputs": [
    {
     "data": {
      "text/plain": [
       "0"
      ]
     },
     "execution_count": 142,
     "metadata": {},
     "output_type": "execute_result"
    }
   ],
   "source": [
    "# Browse through objects\n",
    "for obj in gc.get_objects():\n",
    "    # see if is an HDF5 file\n",
    "    if isinstance(obj, h5py.File):\n",
    "#         print(obj)\n",
    "        try:\n",
    "            obj.close()\n",
    "            del obj\n",
    "        except:\n",
    "            pass\n",
    "gc.collect()"
   ]
  },
  {
   "cell_type": "markdown",
   "id": "cf08ad4a",
   "metadata": {
    "id": "cf08ad4a"
   },
   "source": [
    "# Exploring EOS tables"
   ]
  },
  {
   "cell_type": "code",
   "execution_count": 5,
   "id": "4d5e6fdb",
   "metadata": {
    "executionInfo": {
     "elapsed": 380,
     "status": "ok",
     "timestamp": 1681398683009,
     "user": {
      "displayName": "Thibeau Wouters",
      "userId": "14702334917940433667"
     },
     "user_tz": -120
    },
    "id": "4d5e6fdb"
   },
   "outputs": [],
   "source": [
    "# Then specify which we are going to use here\n",
    "eos_table_filename = \"SLy4_0000_rho391_temp163_ye66.h5\""
   ]
  },
  {
   "cell_type": "code",
   "execution_count": 31,
   "id": "913d9582",
   "metadata": {
    "colab": {
     "base_uri": "https://localhost:8080/"
    },
    "executionInfo": {
     "elapsed": 660,
     "status": "ok",
     "timestamp": 1681398683667,
     "user": {
      "displayName": "Thibeau Wouters",
      "userId": "14702334917940433667"
     },
     "user_tz": -120
    },
    "id": "913d9582",
    "outputId": "677bba7a-6c4a-4190-a9fa-8f0bbca82bfd"
   },
   "outputs": [
    {
     "name": "stdout",
     "output_type": "stream",
     "text": [
      "(66, 163, 391)\n",
      "This EOS table has dimensions (ye, T, rho): 66 x 163 x 391\n",
      "Example: (3.0239960056064277, -3.0, 0.005) we have (log eps, log p, cs2): (19.2791052025363, 17.99956975587081, 1575737840983096.0).\n",
      "---\n",
      "<HDF5 dataset \"munu\": shape (66, 163, 391), type \"<f8\">\n"
     ]
    }
   ],
   "source": [
    "# Open EOS table\n",
    "eos_table = physics.read_eos_table(os.path.join(eos_tables_dir, eos_table_filename))\n",
    "# Read in the most important variables and convert them to np arrays\n",
    "pointsye, pointstemp, pointsrho = eos_table[\"pointsye\"][()][0], eos_table[\"pointstemp\"][()][0], eos_table[\"pointsrho\"][()][0]\n",
    "dim_ye, dim_temp, dim_rho = pointsye, pointstemp, pointsrho\n",
    "logrho       = eos_table[\"logrho\"][()]\n",
    "logtemp      = eos_table[\"logtemp\"][()]\n",
    "ye           = eos_table[\"ye\"][()]\n",
    "logpress     = eos_table[\"logpress\"][()]\n",
    "logenergy    = eos_table[\"logenergy\"][()]\n",
    "print(np.shape(logenergy))\n",
    "energy_shift = eos_table[\"energy_shift\"][()][0]\n",
    "cs2          = eos_table[\"cs2\"][()]\n",
    "print(f\"This EOS table has dimensions (ye, T, rho): {dim_ye} x {dim_temp} x {dim_rho}\")\n",
    "# Small test to see the output of the EOS table\n",
    "test_ye      = eos_table[\"ye\"][()][0]\n",
    "test_temp    = eos_table[\"logtemp\"][()][0]\n",
    "test_rho     = eos_table[\"logrho\"][()][0]\n",
    "# Get an example output\n",
    "test_press, test_eps = eos_table[\"logpress\"][()][0, 0, 0], eos_table[\"logenergy\"][()][0, 0, 0]\n",
    "print(f\"Example: ({test_rho}, {test_temp}, {test_ye}) we have (log eps, log p, cs2): ({test_eps}, {test_press}, {cs2[0, 0, 0]}).\")\n",
    "print(\"---\")\n",
    "print(eos_table[\"munu\"])\n",
    "eos_table.close()"
   ]
  },
  {
   "cell_type": "markdown",
   "id": "a105d6b7",
   "metadata": {},
   "source": [
    "What is the input range of this table?"
   ]
  },
  {
   "cell_type": "code",
   "execution_count": 7,
   "id": "e19b3314",
   "metadata": {},
   "outputs": [
    {
     "name": "stdout",
     "output_type": "stream",
     "text": [
      "logrho    range:(3.0239960056064277, 16.023996005606428)\n",
      "logtemp range:(-3.0, 2.4000000000000004)\n",
      "ye             range:(0.005, 0.655)\n"
     ]
    }
   ],
   "source": [
    "print(f\"logrho    range:({min(logrho)}, {max(logrho)})\")\n",
    "print(f\"logtemp range:({min(logtemp)}, {max(logtemp)})\")\n",
    "print(f\"ye             range:({min(ye)}, {max(ye)})\")"
   ]
  },
  {
   "cell_type": "markdown",
   "id": "f0167f31",
   "metadata": {
    "id": "f0167f31"
   },
   "source": [
    "See what is inside this EOS table"
   ]
  },
  {
   "cell_type": "code",
   "execution_count": 33,
   "id": "316b6963",
   "metadata": {
    "colab": {
     "base_uri": "https://localhost:8080/"
    },
    "executionInfo": {
     "elapsed": 517,
     "status": "ok",
     "timestamp": 1681398689771,
     "user": {
      "displayName": "Thibeau Wouters",
      "userId": "14702334917940433667"
     },
     "user_tz": -120
    },
    "id": "316b6963",
    "outputId": "77b6ecac-15ea-461d-f76a-b641a290fd63"
   },
   "outputs": [],
   "source": [
    "# # Iterate over keys and save them to list for simplified viewing\n",
    "# keys = []\n",
    "# for key in eos_table:\n",
    "#     keys.append(key)\n",
    "# print(keys)\n",
    "# print(len(keys))\n",
    "\n",
    "# Save here variable names of other variables that we will get mock data for\n",
    "other_variable_names = ['Abar', 'Albar', 'Xa', 'Xh', 'Xl', 'Xn', 'Xp', 'Zbar', 'Zlbar', 'dedt', 'dpderho', 'dpdrhoe', 'entropy', 'gamma', 'meffn', 'meffp', 'mu_e', 'mu_n', 'mu_p', 'muhat', 'munu', 'r', 'u']"
   ]
  },
  {
   "cell_type": "markdown",
   "id": "ab4e72f8",
   "metadata": {},
   "source": [
    "# Construct EOS table for the analytic EOS"
   ]
  },
  {
   "cell_type": "markdown",
   "id": "ca20bb9d",
   "metadata": {},
   "source": [
    "Choose the size of the table, by specifying the number of points along one direction, $N$"
   ]
  },
  {
   "cell_type": "code",
   "execution_count": 87,
   "id": "1012829b",
   "metadata": {},
   "outputs": [],
   "source": [
    "N = 500\n",
    "\n",
    "# Choose Nrho, Ntemp, Nye based on this value for N\n",
    "Nrho = N\n",
    "Ntemp = int(N/1.3)\n",
    "Nye = 60  # fix this at 50 -- 60"
   ]
  },
  {
   "cell_type": "markdown",
   "id": "81f3e6b0",
   "metadata": {},
   "source": [
    "Or, choose for the SLy4 table size:"
   ]
  },
  {
   "cell_type": "code",
   "execution_count": 1,
   "id": "8030fbc1",
   "metadata": {},
   "outputs": [],
   "source": [
    "Nrho = 391\n",
    "Ntemp = 163\n",
    "Nye = 66"
   ]
  },
  {
   "cell_type": "code",
   "execution_count": 2,
   "id": "bf0628fe",
   "metadata": {},
   "outputs": [
    {
     "name": "stdout",
     "output_type": "stream",
     "text": [
      "4206378\n"
     ]
    }
   ],
   "source": [
    "print(Nrho * Ntemp * Nye)"
   ]
  },
  {
   "cell_type": "markdown",
   "id": "9026552d",
   "metadata": {},
   "source": [
    "## Temperature values"
   ]
  },
  {
   "cell_type": "markdown",
   "id": "5bd73855",
   "metadata": {},
   "source": [
    "These are a bit trickier and have to be obtained from the energy. Use: $ \\varepsilon = \\frac{1}{\\Gamma - 1} N_a k_B T \\, . $\n",
    "\n",
    "For the conversion below, also make sure to see Gmunu, mod_constants."
   ]
  },
  {
   "cell_type": "code",
   "execution_count": 114,
   "id": "97cbf31a",
   "metadata": {},
   "outputs": [],
   "source": [
    "# Define constants for conversion between eps and temp\n",
    "gamma = 5/3\n",
    "N_A = 6.0221367e23\n",
    "\n",
    "# Cod conversions that are in Gmunu:\n",
    "k_B = 1.3806488e-16 # erg/K\n",
    "eps_gf = 1.11265006e-21 # code unit to erg\n",
    "T_MeV_to_K = 1.1604447522806e10 # K/MeV\n",
    "\n",
    "## For some reason, correct can be obtained with these conversion factors: \n",
    "k_B = 1\n",
    "eps_gf = 1\n",
    "T_MeV_to_K = 1\n",
    "\n",
    "# Smallest possible float:\n",
    "SMALLEST = 2.2250738585072014e-308 "
   ]
  },
  {
   "cell_type": "code",
   "execution_count": 115,
   "id": "529b351a",
   "metadata": {},
   "outputs": [
    {
     "name": "stdout",
     "output_type": "stream",
     "text": [
      "1\n",
      "1\n"
     ]
    }
   ],
   "source": [
    "print(eps_gf)\n",
    "print(T_MeV_to_K)"
   ]
  },
  {
   "cell_type": "code",
   "execution_count": 116,
   "id": "80a6483c",
   "metadata": {},
   "outputs": [],
   "source": [
    "def temp_to_eps(temp):\n",
    "    \"\"\"Temp is in MeV, so code units\"\"\"\n",
    "    # Get temperature in K\n",
    "    temp_K = temp * T_MeV_to_K\n",
    "    # Get eps, in erg\n",
    "    eps_erg = (1/(gamma - 1)) * N_A * k_B * temp_K\n",
    "    # Convert erg to code unit\n",
    "    eps = eps_erg * eps_gf\n",
    "    return eps\n",
    "\n",
    "def eps_to_temp(eps):\n",
    "    \"\"\"Eps is in code unit\"\"\"\n",
    "    # Convert to erg\n",
    "    eps_erg = eps/eps_gf\n",
    "    # Get temperature in Kelvin\n",
    "    temp_K = ((gamma - 1)/(N_A * k_B)) * eps_erg\n",
    "    # Convert to MeV\n",
    "    temp = temp_K/T_MeV_to_K\n",
    "    return temp"
   ]
  },
  {
   "cell_type": "code",
   "execution_count": 117,
   "id": "b622b624",
   "metadata": {},
   "outputs": [
    {
     "data": {
      "text/plain": [
       "5.0"
      ]
     },
     "execution_count": 117,
     "metadata": {},
     "output_type": "execute_result"
    }
   ],
   "source": [
    "# Take a random test case, see if both transformations match\n",
    "eps_test = temp_to_eps(5)\n",
    "eps_to_temp(eps_test)"
   ]
  },
  {
   "cell_type": "markdown",
   "id": "ec9edc58",
   "metadata": {},
   "source": [
    "What are the ranges of our T table, if we have ranges of eps?"
   ]
  },
  {
   "cell_type": "code",
   "execution_count": 118,
   "id": "047a3430",
   "metadata": {},
   "outputs": [
    {
     "name": "stdout",
     "output_type": "stream",
     "text": [
      "(0, 2.02)\n"
     ]
    }
   ],
   "source": [
    "# Get new eps min, for the log:\n",
    "eps_min = physics.EPS_MIN\n",
    "eps_max = physics.EPS_MAX\n",
    "print((eps_min, eps_max))"
   ]
  },
  {
   "cell_type": "code",
   "execution_count": 119,
   "id": "b2f2e7f1",
   "metadata": {},
   "outputs": [
    {
     "name": "stdout",
     "output_type": "stream",
     "text": [
      "(2.2250738585072014e-308, 2.2361941180555848e-24)\n"
     ]
    }
   ],
   "source": [
    "temp_min = eps_to_temp(physics.EPS_MIN)\n",
    "# Adjust such that log is well defined\n",
    "temp_min += SMALLEST\n",
    "temp_max = eps_to_temp(physics.EPS_MAX)\n",
    "\n",
    "print((temp_min, temp_max))"
   ]
  },
  {
   "cell_type": "markdown",
   "id": "96b242d0",
   "metadata": {},
   "source": [
    "Now take the log"
   ]
  },
  {
   "cell_type": "code",
   "execution_count": 120,
   "id": "011aa41b",
   "metadata": {},
   "outputs": [
    {
     "name": "stdout",
     "output_type": "stream",
     "text": [
      "(-307.6526555685888, -23.650490499201915)\n"
     ]
    }
   ],
   "source": [
    "logtemp_min = np.log10(temp_min)\n",
    "logtemp_max = np.log10(temp_max)\n",
    "\n",
    "print((logtemp_min, logtemp_max))"
   ]
  },
  {
   "cell_type": "code",
   "execution_count": 121,
   "id": "09d32fb7",
   "metadata": {},
   "outputs": [],
   "source": [
    "logtemp = np.linspace(logtemp_min, logtemp_max, Ntemp)"
   ]
  },
  {
   "cell_type": "markdown",
   "id": "0d31983b",
   "metadata": {},
   "source": [
    "## Rho values:"
   ]
  },
  {
   "cell_type": "code",
   "execution_count": 122,
   "id": "55d7e261",
   "metadata": {},
   "outputs": [
    {
     "name": "stdout",
     "output_type": "stream",
     "text": [
      "(2.2250738585072014e-308, 10.1)\n"
     ]
    }
   ],
   "source": [
    "rho_min = physics.RHO_MIN\n",
    "# Again, add small float for the log\n",
    "rho_min += SMALLEST\n",
    "rho_max = physics.RHO_MAX\n",
    "print((rho_min, rho_max))"
   ]
  },
  {
   "cell_type": "markdown",
   "id": "9ddb7307",
   "metadata": {},
   "source": [
    "Get log of range"
   ]
  },
  {
   "cell_type": "code",
   "execution_count": 123,
   "id": "5b8e6fa0",
   "metadata": {},
   "outputs": [
    {
     "name": "stdout",
     "output_type": "stream",
     "text": [
      "(-307.6526555685888, 1.0043213737826426)\n"
     ]
    }
   ],
   "source": [
    "logrho_min = np.log10(rho_min)\n",
    "logrho_max = np.log10(rho_max)\n",
    "print((logrho_min, logrho_max))"
   ]
  },
  {
   "cell_type": "markdown",
   "id": "bf8de988",
   "metadata": {},
   "source": [
    "Get the values"
   ]
  },
  {
   "cell_type": "code",
   "execution_count": 124,
   "id": "0bd6f628",
   "metadata": {},
   "outputs": [],
   "source": [
    "logrho = np.linspace(logrho_min, logrho_max, Nrho)"
   ]
  },
  {
   "cell_type": "markdown",
   "id": "5f583b3f",
   "metadata": {},
   "source": [
    "## Ye"
   ]
  },
  {
   "cell_type": "markdown",
   "id": "ee185490",
   "metadata": {},
   "source": [
    "These are dummy values and linear, not log"
   ]
  },
  {
   "cell_type": "code",
   "execution_count": 125,
   "id": "fc2e8319",
   "metadata": {},
   "outputs": [],
   "source": [
    "ye_min = 0\n",
    "ye_max = 1\n",
    "ye = np.linspace(ye_min, ye_max, Nye)"
   ]
  },
  {
   "cell_type": "code",
   "execution_count": 126,
   "id": "11dfd3c5",
   "metadata": {},
   "outputs": [
    {
     "data": {
      "text/plain": [
       "array([0.        , 0.01538462, 0.03076923, 0.04615385, 0.06153846,\n",
       "       0.07692308, 0.09230769, 0.10769231, 0.12307692, 0.13846154,\n",
       "       0.15384615, 0.16923077, 0.18461538, 0.2       , 0.21538462,\n",
       "       0.23076923, 0.24615385, 0.26153846, 0.27692308, 0.29230769,\n",
       "       0.30769231, 0.32307692, 0.33846154, 0.35384615, 0.36923077,\n",
       "       0.38461538, 0.4       , 0.41538462, 0.43076923, 0.44615385,\n",
       "       0.46153846, 0.47692308, 0.49230769, 0.50769231, 0.52307692,\n",
       "       0.53846154, 0.55384615, 0.56923077, 0.58461538, 0.6       ,\n",
       "       0.61538462, 0.63076923, 0.64615385, 0.66153846, 0.67692308,\n",
       "       0.69230769, 0.70769231, 0.72307692, 0.73846154, 0.75384615,\n",
       "       0.76923077, 0.78461538, 0.8       , 0.81538462, 0.83076923,\n",
       "       0.84615385, 0.86153846, 0.87692308, 0.89230769, 0.90769231,\n",
       "       0.92307692, 0.93846154, 0.95384615, 0.96923077, 0.98461538,\n",
       "       1.        ])"
      ]
     },
     "execution_count": 126,
     "metadata": {},
     "output_type": "execute_result"
    }
   ],
   "source": [
    "ye"
   ]
  },
  {
   "cell_type": "markdown",
   "id": "5ba754ed",
   "metadata": {},
   "source": [
    "## Columns"
   ]
  },
  {
   "cell_type": "markdown",
   "id": "d004c002",
   "metadata": {},
   "source": [
    "The \"columns\" represent the output variables, such as $p$, $\\varepsilon$ and $c_s^2$ most importantly"
   ]
  },
  {
   "cell_type": "markdown",
   "id": "6b5855b4",
   "metadata": {},
   "source": [
    "Auxiliary function: derivatives of $p$ wrt $\\rho$ and $\\varepsilon$"
   ]
  },
  {
   "cell_type": "code",
   "execution_count": 127,
   "id": "7ee734b6",
   "metadata": {},
   "outputs": [],
   "source": [
    "def chi(eps):\n",
    "    return (gamma - 1) * eps\n",
    "\n",
    "def kappa(rho):\n",
    "    return (gamma - 1) * rho"
   ]
  },
  {
   "cell_type": "markdown",
   "id": "f7a77f86",
   "metadata": {},
   "source": [
    "More information: see appendix of Dieselhorst paper for precise equations!"
   ]
  },
  {
   "cell_type": "code",
   "execution_count": 128,
   "id": "1e8307e0",
   "metadata": {},
   "outputs": [],
   "source": [
    "def get_cs2(prs, rho, eps):\n",
    "    chi_val = chi(eps)\n",
    "    kappa_val = kappa(rho)\n",
    "    if rho == 0:\n",
    "        rho += SMALLEST\n",
    "    h = 1 + eps + prs/rho\n",
    "    rho_sqr = rho ** 2\n",
    "    if rho_sqr == 0:\n",
    "        rho_sqr += SMALLEST\n",
    "    \n",
    "    return (1/h) * (chi_val + (prs/rho_sqr) * kappa_val)"
   ]
  },
  {
   "cell_type": "code",
   "execution_count": 129,
   "id": "44ddf89b",
   "metadata": {},
   "outputs": [],
   "source": [
    "def get_columns(ye, logtemp, logrho, Nrho = 500, Ntemp = 500, Nye = 500):\n",
    "    # Initialize as empty\n",
    "    logpress  = np.empty((Nye, Ntemp, Nrho))\n",
    "    logenergy = np.empty((Nye, Ntemp, Nrho))\n",
    "    cs2       = np.empty((Nye, Ntemp, Nrho))\n",
    "    \n",
    "    # Get an empty matrix, we copy that one for each ye value to speed up\n",
    "    logpress_matrix = np.empty((Ntemp, Nrho))\n",
    "    logenergy_matrix = np.empty((Ntemp, Nrho))\n",
    "    cs2_matrix = np.empty((Ntemp, Nrho))\n",
    "    \n",
    "    # Get the individual values\n",
    "    for j, logtemp_val in enumerate(logtemp):\n",
    "        temp_val = 10 ** logtemp_val\n",
    "        # Compute eps\n",
    "        eps_val = temp_to_eps(temp_val)\n",
    "        # Convert to logeps val\n",
    "        logenergy_val = np.log10(eps_val)\n",
    "        for k, logrho_val in enumerate(logrho):\n",
    "            logenergy_matrix[j, k] = logenergy_val\n",
    "\n",
    "            rho_val = 10 ** logrho_val\n",
    "            # Compute the pressure\n",
    "            prs_val = (gamma - 1) * rho_val * eps_val\n",
    "            # Convert to logpress val\n",
    "            if prs_val == 0:\n",
    "                prs_val += SMALLEST\n",
    "            logpress_val = np.log10(prs_val)\n",
    "            logpress_matrix[j, k] = logpress_val\n",
    "\n",
    "            # Compute cs2\n",
    "            cs2_val = get_cs2(prs_val, rho_val, eps_val)\n",
    "            cs2_matrix[j, k] = cs2_val\n",
    "    \n",
    "    # Copy the matrix for each entry of ye, since ye is \"ignored\" here\n",
    "    for i, ye_val in enumerate(ye):\n",
    "        logpress[i, :, :]  = logpress_matrix\n",
    "        logenergy[i, :, :] = logenergy_matrix\n",
    "        cs2[i, :, :]       = cs2_matrix\n",
    "                \n",
    "    return logpress, logenergy, cs2"
   ]
  },
  {
   "cell_type": "code",
   "execution_count": 130,
   "id": "112cf548",
   "metadata": {},
   "outputs": [
    {
     "name": "stdout",
     "output_type": "stream",
     "text": [
      "(66, 163, 391)\n"
     ]
    }
   ],
   "source": [
    "print((Nye, Ntemp, Nrho))"
   ]
  },
  {
   "cell_type": "markdown",
   "id": "4707df0e",
   "metadata": {},
   "source": [
    "Now finally, get the column variables:"
   ]
  },
  {
   "cell_type": "code",
   "execution_count": 131,
   "id": "cccc703c",
   "metadata": {},
   "outputs": [],
   "source": [
    "logpress, logenergy, cs2 = get_columns(ye, logtemp, logrho, Nrho=Nrho, Ntemp=Ntemp, Nye=Nye)"
   ]
  },
  {
   "cell_type": "markdown",
   "id": "3e442b09",
   "metadata": {},
   "source": [
    "### Sanity checks"
   ]
  },
  {
   "cell_type": "code",
   "execution_count": 132,
   "id": "3bd403e7",
   "metadata": {},
   "outputs": [
    {
     "name": "stdout",
     "output_type": "stream",
     "text": [
      "13.601333333333336\n",
      "13.601333333333335\n"
     ]
    }
   ],
   "source": [
    "print(10 ** np.max(logpress))\n",
    "max_prs = (gamma - 1) * rho_max * eps_max\n",
    "print(max_prs)"
   ]
  },
  {
   "cell_type": "code",
   "execution_count": 133,
   "id": "d753b288",
   "metadata": {},
   "outputs": [
    {
     "name": "stdout",
     "output_type": "stream",
     "text": [
      "[[-283.6968137  -283.6968137  -283.6968137  ... -283.6968137\n",
      "  -283.6968137  -283.6968137 ]\n",
      " [-281.94371392 -281.94371392 -281.94371392 ... -281.94371392\n",
      "  -281.94371392 -281.94371392]\n",
      " [-280.19061413 -280.19061413 -280.19061413 ... -280.19061413\n",
      "  -280.19061413 -280.19061413]\n",
      " ...\n",
      " [  -3.2008482    -3.2008482    -3.2008482  ...   -3.2008482\n",
      "    -3.2008482    -3.2008482 ]\n",
      " [  -1.44774841   -1.44774841   -1.44774841 ...   -1.44774841\n",
      "    -1.44774841   -1.44774841]\n",
      " [   0.30535137    0.30535137    0.30535137 ...    0.30535137\n",
      "     0.30535137    0.30535137]]\n",
      "[[-283.6968137  -283.6968137  -283.6968137  ... -283.6968137\n",
      "  -283.6968137  -283.6968137 ]\n",
      " [-281.94371392 -281.94371392 -281.94371392 ... -281.94371392\n",
      "  -281.94371392 -281.94371392]\n",
      " [-280.19061413 -280.19061413 -280.19061413 ... -280.19061413\n",
      "  -280.19061413 -280.19061413]\n",
      " ...\n",
      " [  -3.2008482    -3.2008482    -3.2008482  ...   -3.2008482\n",
      "    -3.2008482    -3.2008482 ]\n",
      " [  -1.44774841   -1.44774841   -1.44774841 ...   -1.44774841\n",
      "    -1.44774841   -1.44774841]\n",
      " [   0.30535137    0.30535137    0.30535137 ...    0.30535137\n",
      "     0.30535137    0.30535137]]\n"
     ]
    }
   ],
   "source": [
    "print(logenergy[0])\n",
    "print(logenergy[1])"
   ]
  },
  {
   "cell_type": "code",
   "execution_count": 134,
   "id": "da1a95df",
   "metadata": {},
   "outputs": [
    {
     "name": "stdout",
     "output_type": "stream",
     "text": [
      "2.0099548415289234e-284\n",
      "2.0199999999999996\n"
     ]
    }
   ],
   "source": [
    "print(10**np.min(logenergy))\n",
    "print(10**np.max(logenergy))"
   ]
  },
  {
   "cell_type": "markdown",
   "id": "8a1b4e2f",
   "metadata": {},
   "source": [
    "Watch out: there were NaNs in the $c_s^2$ table! Everything fine now? __YES__"
   ]
  },
  {
   "cell_type": "code",
   "execution_count": 135,
   "id": "00e2c85d",
   "metadata": {},
   "outputs": [],
   "source": [
    "# test_array = cs2.flatten()\n",
    "# np.nanmax(test_array[test_array != float('inf')])\n",
    "# np.max(test_array)"
   ]
  },
  {
   "cell_type": "markdown",
   "id": "85b61528",
   "metadata": {},
   "source": [
    "## To HDF5"
   ]
  },
  {
   "cell_type": "code",
   "execution_count": 136,
   "id": "fe04731b",
   "metadata": {},
   "outputs": [],
   "source": [
    "mock_table_name = f\"analytic_eos_{N}.h5\"\n",
    "with h5py.File(os.path.join(eos_tables_dir, mock_table_name), 'w') as f:\n",
    "    # Save scalars, but they have to be arrays\n",
    "    pointsrho_array = [Nrho]\n",
    "    pointstemp_array = [Ntemp]\n",
    "    pointsye_array = [Nye]\n",
    "    dataset = f.create_dataset(\"pointsrho\", data=pointsrho_array)\n",
    "    dataset = f.create_dataset(\"pointstemp\", data=pointstemp_array)\n",
    "    dataset = f.create_dataset(\"pointsye\", data=pointsye_array)\n",
    "    # Save entries\n",
    "    dataset = f.create_dataset(\"logrho\", data=logrho)\n",
    "    dataset = f.create_dataset(\"logtemp\", data=logtemp)\n",
    "    dataset = f.create_dataset(\"ye\", data=ye)\n",
    "    # Columns\n",
    "    dataset = f.create_dataset(\"logenergy\", data=logenergy)\n",
    "    dataset = f.create_dataset(\"logpress\", data=logpress)\n",
    "    dataset = f.create_dataset(\"cs2\", data=cs2)\n",
    "    # Mock data for the other columns\n",
    "    mock_data = np.random.randn(Nye, Ntemp, Nrho)\n",
    "    for name in other_variable_names:\n",
    "        dataset = f.create_dataset(name, data=mock_data)"
   ]
  },
  {
   "cell_type": "markdown",
   "id": "701cb19f",
   "metadata": {},
   "source": [
    "## Check the HDF5 file"
   ]
  },
  {
   "cell_type": "code",
   "execution_count": 140,
   "id": "b10e6cdf",
   "metadata": {},
   "outputs": [
    {
     "name": "stdout",
     "output_type": "stream",
     "text": [
      "<HDF5 dataset \"pointsye\": shape (1,), type \"<i4\">\n",
      "(60, 384, 500)\n",
      "This EOS table has dimensions (ye, T, rho): 60 x 384 x 500\n",
      "Example: (1.0043213737826426, -23.650490499201915, 1.0) we have (log eps, log p, cs2): (0.30535136944662367, 1.1335814841735852, 6.699849471763349e-285).\n",
      "So: (eps, p, cs2): (2.0199999999999996, 13.601333333333336, 6.699849471763349e-285).\n"
     ]
    }
   ],
   "source": [
    "name = \"analytic_eos_large.h5\"\n",
    "# Open EOS table\n",
    "eos_table = physics.read_eos_table(os.path.join(eos_tables_dir, name))\n",
    "# Read in the most important variables and convert them to np arrays\n",
    "print(eos_table[\"pointsye\"])\n",
    "pointsye, pointstemp, pointsrho = eos_table[\"pointsye\"][()][0], eos_table[\"pointstemp\"][()][0], eos_table[\"pointsrho\"][()][0]\n",
    "logrho        = eos_table[\"logrho\"][()]\n",
    "logtemp     = eos_table[\"logtemp\"][()]\n",
    "ye                 = eos_table[\"ye\"][()]\n",
    "logpress     = eos_table[\"logpress\"][()]\n",
    "print(np.shape(logpress))\n",
    "logenergy  = eos_table[\"logenergy\"][()]\n",
    "# energy_shift = eos_table[\"energy_shift\"][()][0]\n",
    "cs2               = eos_table[\"cs2\"][()]\n",
    "print(f\"This EOS table has dimensions (ye, T, rho): {pointsye} x {pointstemp} x {pointsrho}\")\n",
    "# Small test to see the output of the EOS table\n",
    "test_ye       = eos_table[\"ye\"][()][-1]\n",
    "test_temp = eos_table[\"logtemp\"][()][-1]\n",
    "test_rho    = eos_table[\"logrho\"][()][-1]\n",
    "# Get an example output\n",
    "test_press, test_eps, test_cs2 = eos_table[\"logpress\"][()][-1, -1, -1], eos_table[\"logenergy\"][()][-1, -1, -1], cs2[0, 0, 0]\n",
    "print(f\"Example: ({test_rho}, {test_temp}, {test_ye}) we have (log eps, log p, cs2): ({test_eps}, {test_press}, {test_cs2}).\")\n",
    "print(f\"So: (eps, p, cs2): ({10**test_eps}, {10**test_press}, {test_cs2}).\")\n",
    "eos_table.close()"
   ]
  },
  {
   "cell_type": "code",
   "execution_count": 186,
   "id": "089ce710",
   "metadata": {},
   "outputs": [
    {
     "name": "stdout",
     "output_type": "stream",
     "text": [
      "['cs2', 'logenergy', 'logpress', 'logrho', 'logtemp', 'pointsrho', 'pointstemp', 'pointsye', 'ye']\n",
      "9\n"
     ]
    }
   ],
   "source": [
    "# name = \"analytic_eos.h5\"\n",
    "# # Open EOS table\n",
    "# eos_table = physics.read_eos_table(os.path.join(eos_tables_dir, name))\n",
    "# # Iterate over keys and save them to list for simplified viewing\n",
    "# keys = []\n",
    "# for key in eos_table:\n",
    "#     keys.append(key)\n",
    "# print(keys)\n",
    "# eos_table.close()"
   ]
  },
  {
   "cell_type": "markdown",
   "id": "a61ea946",
   "metadata": {},
   "source": [
    "# What should be the size of the EOS table?"
   ]
  },
  {
   "cell_type": "markdown",
   "id": "0c9a98bb",
   "metadata": {},
   "source": [
    "Using the same N for rho, temp or ye is not realistic. Check what the ratios should be based on the tables that are on stellarcollapse"
   ]
  },
  {
   "cell_type": "code",
   "execution_count": 40,
   "id": "18e316a9",
   "metadata": {},
   "outputs": [
    {
     "data": {
      "text/plain": [
       "125000000"
      ]
     },
     "execution_count": 40,
     "metadata": {},
     "output_type": "execute_result"
    }
   ],
   "source": [
    "500*500*500"
   ]
  },
  {
   "cell_type": "code",
   "execution_count": 41,
   "id": "1bfc73da",
   "metadata": {},
   "outputs": [
    {
     "data": {
      "text/plain": [
       "33251075"
      ]
     },
     "execution_count": 41,
     "metadata": {},
     "output_type": "execute_result"
    }
   ],
   "source": [
    "781*325*131"
   ]
  }
 ],
 "metadata": {
  "author": "Thibeau Wouters",
  "colab": {
   "provenance": []
  },
  "gpuClass": "standard",
  "kernelspec": {
   "display_name": "Python 3 (ipykernel)",
   "language": "python",
   "name": "python3"
  },
  "language_info": {
   "codemirror_mode": {
    "name": "ipython",
    "version": 3
   },
   "file_extension": ".py",
   "mimetype": "text/x-python",
   "name": "python",
   "nbconvert_exporter": "python",
   "pygments_lexer": "ipython3",
   "version": "3.9.12"
  },
  "latex_envs": {
   "LaTeX_envs_menu_present": true,
   "autoclose": false,
   "autocomplete": true,
   "bibliofile": "biblio.bib",
   "cite_by": "apalike",
   "current_citInitial": 1,
   "eqLabelWithNumbers": true,
   "eqNumInitial": 1,
   "hotkeys": {
    "equation": "Ctrl-E",
    "itemize": "Ctrl-I"
   },
   "labels_anchors": false,
   "latex_user_defs": false,
   "report_style_numbering": false,
   "user_envs_cfg": false
  },
  "toc": {
   "base_numbering": 1,
   "nav_menu": {},
   "number_sections": true,
   "sideBar": true,
   "skip_h1_title": false,
   "title_cell": "Table of Contents",
   "title_sidebar": "Contents",
   "toc_cell": false,
   "toc_position": {},
   "toc_section_display": true,
   "toc_window_display": false
  }
 },
 "nbformat": 4,
 "nbformat_minor": 5
}
