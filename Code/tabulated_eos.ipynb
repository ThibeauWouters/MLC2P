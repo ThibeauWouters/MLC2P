{
 "cells": [
  {
   "cell_type": "code",
   "execution_count": 1,
   "id": "0bb9f224",
   "metadata": {
    "executionInfo": {
     "elapsed": 8764,
     "status": "ok",
     "timestamp": 1681398656896,
     "user": {
      "displayName": "Thibeau Wouters",
      "userId": "14702334917940433667"
     },
     "user_tz": -120
    },
    "id": "0bb9f224"
   },
   "outputs": [],
   "source": [
    "# Standard libraries\n",
    "import time\n",
    "import numpy as np\n",
    "import matplotlib.pyplot as plt\n",
    "import matplotlib.cm as cm\n",
    "plt.rcParams['figure.dpi'] = 300\n",
    "import random\n",
    "import csv\n",
    "import pandas as pd\n",
    "import h5py\n",
    "import gc  # garbage collection\n",
    "# Scikit learn libraries\n",
    "from sklearn.model_selection import train_test_split\n",
    "from sklearn.preprocessing import StandardScaler\n",
    "# PyTorch libraries\n",
    "import torch\n",
    "from torch import nn\n",
    "from torch.utils.data import Dataset, DataLoader\n",
    "from torchvision.transforms import ToTensor, Normalize \n",
    "# Get dirs\n",
    "import os\n",
    "cwd = os.getcwd()# \"Code\" folder\n",
    "master_dir = os.path.abspath(os.path.join(cwd, \"..\"))\n",
    "# ONNX\n",
    "import onnx\n",
    "import onnxruntime"
   ]
  },
  {
   "cell_type": "markdown",
   "id": "4c465f7c",
   "metadata": {
    "id": "4c465f7c"
   },
   "source": [
    "When using __Google Colab__, run the following cell"
   ]
  },
  {
   "cell_type": "code",
   "execution_count": 2,
   "id": "bbeb496d",
   "metadata": {
    "colab": {
     "base_uri": "https://localhost:8080/"
    },
    "executionInfo": {
     "elapsed": 19202,
     "status": "ok",
     "timestamp": 1681398681220,
     "user": {
      "displayName": "Thibeau Wouters",
      "userId": "14702334917940433667"
     },
     "user_tz": -120
    },
    "id": "bbeb496d",
    "outputId": "30fa916e-e8c0-4fbe-de12-cd51790fc6a3"
   },
   "outputs": [],
   "source": [
    "# from google.colab import drive\n",
    "# drive.mount('/content/drive')\n",
    "# code_dir = \"/content/drive/MyDrive/KUL/MAI thesis/Code\"\n",
    "# master_dir = os.path.join(code_dir, \"..\")\n",
    "# os.chdir(code_dir)\n",
    "# print(os.getcwd())"
   ]
  },
  {
   "cell_type": "code",
   "execution_count": 3,
   "id": "36bbffc0",
   "metadata": {
    "executionInfo": {
     "elapsed": 1462,
     "status": "ok",
     "timestamp": 1681398682653,
     "user": {
      "displayName": "Thibeau Wouters",
      "userId": "14702334917940433667"
     },
     "user_tz": -120
    },
    "id": "36bbffc0"
   },
   "outputs": [],
   "source": [
    "# Load own scripts:\n",
    "%load_ext autoreload\n",
    "%autoreload 2\n",
    "import physics\n",
    "import data\n",
    "import nnc2p"
   ]
  },
  {
   "cell_type": "markdown",
   "id": "c3393c80",
   "metadata": {
    "id": "c3393c80"
   },
   "source": [
    "Point towards the folder where we store the EOS tables (__Note:__ they are not in the Github as these are very large files)"
   ]
  },
  {
   "cell_type": "code",
   "execution_count": 4,
   "id": "efbc8d2b",
   "metadata": {
    "colab": {
     "base_uri": "https://localhost:8080/"
    },
    "executionInfo": {
     "elapsed": 30,
     "status": "ok",
     "timestamp": 1681398682653,
     "user": {
      "displayName": "Thibeau Wouters",
      "userId": "14702334917940433667"
     },
     "user_tz": -120
    },
    "id": "efbc8d2b",
    "outputId": "49af00ba-c706-4dd9-fd2c-ee828683afe1"
   },
   "outputs": [
    {
     "name": "stdout",
     "output_type": "stream",
     "text": [
      "Going to look for EOS tables at D:/Coding/Datasets/eos_tables\n"
     ]
    }
   ],
   "source": [
    "eos_tables_dir = os.path.join(\"D:/Coding/Datasets/eos_tables\")  # offline\n",
    "# eos_tables_dir = os.path.join(master_dir, \"Data\")  # in Google Colab\n",
    "print(f\"Going to look for EOS tables at {eos_tables_dir}\")"
   ]
  },
  {
   "cell_type": "markdown",
   "id": "vqCsP2sKAeCm",
   "metadata": {
    "id": "vqCsP2sKAeCm"
   },
   "source": [
    "For the training, check if GPU is available (Google Colab):"
   ]
  },
  {
   "cell_type": "code",
   "execution_count": 5,
   "id": "P8YoVE15AhRC",
   "metadata": {
    "colab": {
     "base_uri": "https://localhost:8080/"
    },
    "executionInfo": {
     "elapsed": 29,
     "status": "ok",
     "timestamp": 1681398682654,
     "user": {
      "displayName": "Thibeau Wouters",
      "userId": "14702334917940433667"
     },
     "user_tz": -120
    },
    "id": "P8YoVE15AhRC",
    "outputId": "4f6e373c-7e27-4461-f5cf-51b91d99d440"
   },
   "outputs": [
    {
     "name": "stdout",
     "output_type": "stream",
     "text": [
      "Device for training: cpu\n"
     ]
    }
   ],
   "source": [
    "if torch.cuda.is_available(): \n",
    "    DEVICE = \"cuda:0\" \n",
    "    torch.set_default_device('cuda')\n",
    "else: \n",
    "    DEVICE = \"cpu\" \n",
    "print(f\"Device for training: {DEVICE}\")"
   ]
  },
  {
   "cell_type": "markdown",
   "id": "02fb3c8c",
   "metadata": {
    "id": "02fb3c8c"
   },
   "source": [
    "# Introduction"
   ]
  },
  {
   "cell_type": "markdown",
   "id": "96ab265e",
   "metadata": {
    "id": "96ab265e"
   },
   "source": [
    "Here, we try to find a way to generalize the NN approach from the first semester to the situation of tabular EOS. \n",
    "\n",
    "*Note*: We use HDF5 files, but you have to close them manually. Forgot to close one? Check if there is still an open HDF5 file with garbage collect in the memory, and close it:"
   ]
  },
  {
   "cell_type": "code",
   "execution_count": 6,
   "id": "17ceb9b1",
   "metadata": {},
   "outputs": [
    {
     "name": "stderr",
     "output_type": "stream",
     "text": [
      "D:\\Anaconda3\\lib\\site-packages\\torch\\distributed\\distributed_c10d.py:262: UserWarning: torch.distributed.reduce_op is deprecated, please use torch.distributed.ReduceOp instead\n",
      "  warnings.warn(\n"
     ]
    },
    {
     "data": {
      "text/plain": [
       "0"
      ]
     },
     "execution_count": 6,
     "metadata": {},
     "output_type": "execute_result"
    }
   ],
   "source": [
    "# Browse through objects\n",
    "for obj in gc.get_objects():\n",
    "    # see if is an HDF5 file\n",
    "    if isinstance(obj, h5py.File):\n",
    "        print(obj)\n",
    "        try:\n",
    "            obj.close()\n",
    "            del obj\n",
    "        except:\n",
    "            pass\n",
    "gc.collect()"
   ]
  },
  {
   "cell_type": "markdown",
   "id": "cf08ad4a",
   "metadata": {
    "id": "cf08ad4a"
   },
   "source": [
    "# Exploring EOS tables"
   ]
  },
  {
   "cell_type": "code",
   "execution_count": 7,
   "id": "4d5e6fdb",
   "metadata": {
    "executionInfo": {
     "elapsed": 380,
     "status": "ok",
     "timestamp": 1681398683009,
     "user": {
      "displayName": "Thibeau Wouters",
      "userId": "14702334917940433667"
     },
     "user_tz": -120
    },
    "id": "4d5e6fdb"
   },
   "outputs": [],
   "source": [
    "# Put the downloaded EOS tables here\n",
    "# first_table_filename       = \"LS180_234r_136t_50y_analmu_20091212_SVNr26.h5\"\n",
    "# second_table_filename = \"GShen_NL3EOS_rho280_temp180_ye52_version_1.1_20120817.h5\"\n",
    "third_table_filename      = \"SLy4_0000_rho391_temp163_ye66.h5\"\n",
    "# Then specify which we are going to use here\n",
    "eos_table_filename = third_table_filename"
   ]
  },
  {
   "cell_type": "markdown",
   "id": "78d8f465",
   "metadata": {
    "id": "78d8f465"
   },
   "source": [
    "Read in the SLy4 EOS table using our py script: (make sure to close HDF5 files!)"
   ]
  },
  {
   "cell_type": "code",
   "execution_count": 8,
   "id": "913d9582",
   "metadata": {
    "colab": {
     "base_uri": "https://localhost:8080/"
    },
    "executionInfo": {
     "elapsed": 660,
     "status": "ok",
     "timestamp": 1681398683667,
     "user": {
      "displayName": "Thibeau Wouters",
      "userId": "14702334917940433667"
     },
     "user_tz": -120
    },
    "id": "913d9582",
    "outputId": "677bba7a-6c4a-4190-a9fa-8f0bbca82bfd"
   },
   "outputs": [
    {
     "name": "stdout",
     "output_type": "stream",
     "text": [
      "This EOS table has dimensions 66 x 163 x 391\n",
      "Example: (3.0239960056064277, -3.0, 0.005) we have (log eps, log p): (19.2791052025363, 17.99956975587081).\n"
     ]
    }
   ],
   "source": [
    "# Open EOS table\n",
    "eos_table = physics.read_eos_table(os.path.join(eos_tables_dir, eos_table_filename))\n",
    "# Read in the most important variables and convert them to np arrays\n",
    "dim_ye, dim_temp, dim_rho = eos_table[\"pointsye\"][()][0], eos_table[\"pointstemp\"][()][0], eos_table[\"pointsrho\"][()][0]\n",
    "logrho = eos_table[\"logrho\"][()]\n",
    "logtemp = eos_table[\"logtemp\"][()]\n",
    "ye = eos_table[\"ye\"][()]\n",
    "logpress = eos_table[\"logpress\"][()]\n",
    "logenergy = eos_table[\"logenergy\"][()]\n",
    "print(f\"This EOS table has dimensions {dim_ye} x {dim_temp} x {dim_rho}\")\n",
    "# Small test to see the output of the EOS table\n",
    "test_ye = eos_table[\"ye\"][()][0]\n",
    "test_temp = eos_table[\"logtemp\"][()][0]\n",
    "test_rho = eos_table[\"logrho\"][()][0]\n",
    "test_press, test_eps = eos_table[\"logpress\"][()][0, 0, 0], eos_table[\"logenergy\"][()][0, 0, 0]\n",
    "print(f\"Example: ({test_rho}, {test_temp}, {test_ye}) we have (log eps, log p): ({test_eps}, {test_press}).\")\n",
    "eos_table.close()"
   ]
  },
  {
   "cell_type": "markdown",
   "id": "f0167f31",
   "metadata": {
    "id": "f0167f31"
   },
   "source": [
    "See what is inside this EOS table"
   ]
  },
  {
   "cell_type": "code",
   "execution_count": 9,
   "id": "316b6963",
   "metadata": {
    "colab": {
     "base_uri": "https://localhost:8080/"
    },
    "executionInfo": {
     "elapsed": 517,
     "status": "ok",
     "timestamp": 1681398689771,
     "user": {
      "displayName": "Thibeau Wouters",
      "userId": "14702334917940433667"
     },
     "user_tz": -120
    },
    "id": "316b6963",
    "outputId": "77b6ecac-15ea-461d-f76a-b641a290fd63"
   },
   "outputs": [],
   "source": [
    "# # Iterate over keys and save them to list for simplified viewing\n",
    "# keys = []\n",
    "# for key in eos_table:\n",
    "#     keys.append(key)\n",
    "# print(keys)\n",
    "# print(len(keys))\n",
    "\n",
    "## Output\n",
    "# ['Abar', 'Albar', 'MERGE-space.in', 'MERGE-src.tar.gz', 'MERGE-tables.in', 'MERGE-transition.in', 'SNA-skyrme.in', 'SNA-space.in', 'SNA-src.tar.gz', 'Xa', 'Xh', 'Xl', 'Xn', 'Xp', 'Zbar', 'Zlbar', 'cs2', 'dedt', 'dpderho', 'dpdrhoe', 'energy_shift', 'entropy', 'gamma', 'have_rel_cs2', 'logenergy', 'logpress', 'logrho', 'logtemp', 'meffn', 'meffp', 'mu_e', 'mu_n', 'mu_p', 'muhat', 'munu', 'pointsrho', 'pointstemp', 'pointsye', 'r', 'u', 'ye']"
   ]
  },
  {
   "cell_type": "markdown",
   "id": "cc15e58b",
   "metadata": {
    "id": "cc15e58b"
   },
   "source": [
    "# Generating training data by sampling from EOS table"
   ]
  },
  {
   "cell_type": "markdown",
   "id": "bc8fc6d3",
   "metadata": {
    "id": "bc8fc6d3"
   },
   "source": [
    "To generate new data"
   ]
  },
  {
   "cell_type": "code",
   "execution_count": 10,
   "id": "511ae7db",
   "metadata": {
    "executionInfo": {
     "elapsed": 7,
     "status": "ok",
     "timestamp": 1681398695231,
     "user": {
      "displayName": "Thibeau Wouters",
      "userId": "14702334917940433667"
     },
     "user_tz": -120
    },
    "id": "511ae7db"
   },
   "outputs": [],
   "source": [
    "# dat = physics.generate_tabular_data(eos_table, number_of_points = 100000, save_name = \"SLy4_training_data\")\n",
    "# dat = physics.generate_tabular_data(eos_table, number_of_points = 20000, save_name = \"SLy4_test_data\")"
   ]
  },
  {
   "cell_type": "markdown",
   "id": "a0a121af",
   "metadata": {
    "id": "a0a121af"
   },
   "source": [
    "Load data"
   ]
  },
  {
   "cell_type": "code",
   "execution_count": 11,
   "id": "f929937d",
   "metadata": {
    "colab": {
     "base_uri": "https://localhost:8080/",
     "height": 487
    },
    "executionInfo": {
     "elapsed": 557,
     "status": "ok",
     "timestamp": 1681398695783,
     "user": {
      "displayName": "Thibeau Wouters",
      "userId": "14702334917940433667"
     },
     "user_tz": -120
    },
    "id": "f929937d",
    "outputId": "304adfcc-4c0a-40fa-e2eb-452997407dc9"
   },
   "outputs": [],
   "source": [
    "# df = pd.read_csv(os.path.join(master_dir, \"Data/SLy4_training_data.csv\"))\n",
    "# df"
   ]
  },
  {
   "cell_type": "markdown",
   "id": "5f2fce3d",
   "metadata": {
    "id": "5f2fce3d"
   },
   "source": [
    "The network architecture we will use:"
   ]
  },
  {
   "cell_type": "code",
   "execution_count": 1,
   "id": "270fd513",
   "metadata": {
    "executionInfo": {
     "elapsed": 215,
     "status": "ok",
     "timestamp": 1681398697956,
     "user": {
      "displayName": "Thibeau Wouters",
      "userId": "14702334917940433667"
     },
     "user_tz": -120
    },
    "id": "270fd513"
   },
   "outputs": [
    {
     "ename": "NameError",
     "evalue": "name 'nn' is not defined",
     "output_type": "error",
     "traceback": [
      "\u001b[1;31m---------------------------------------------------------------------------\u001b[0m",
      "\u001b[1;31mNameError\u001b[0m                                 Traceback (most recent call last)",
      "Cell \u001b[1;32mIn[1], line 1\u001b[0m\n\u001b[1;32m----> 1\u001b[0m \u001b[38;5;28;01mclass\u001b[39;00m \u001b[38;5;21;01mNet\u001b[39;00m(\u001b[43mnn\u001b[49m\u001b[38;5;241m.\u001b[39mModule):\n\u001b[0;32m      2\u001b[0m \u001b[38;5;250m    \u001b[39m\u001b[38;5;124;03m\"\"\"\u001b[39;00m\n\u001b[0;32m      3\u001b[0m \u001b[38;5;124;03m    Implements a simple feedforward neural network.\u001b[39;00m\n\u001b[0;32m      4\u001b[0m \u001b[38;5;124;03m    \"\"\"\u001b[39;00m\n\u001b[0;32m      5\u001b[0m     \u001b[38;5;28;01mdef\u001b[39;00m \u001b[38;5;21m__init__\u001b[39m(\u001b[38;5;28mself\u001b[39m, nb_of_inputs: \u001b[38;5;28mint\u001b[39m \u001b[38;5;241m=\u001b[39m \u001b[38;5;241m3\u001b[39m, nb_of_outputs: \u001b[38;5;28mint\u001b[39m \u001b[38;5;241m=\u001b[39m \u001b[38;5;241m1\u001b[39m, h: \u001b[38;5;28mlist\u001b[39m \u001b[38;5;241m=\u001b[39m [\u001b[38;5;241m600\u001b[39m, \u001b[38;5;241m200\u001b[39m], reg: \u001b[38;5;28mbool\u001b[39m \u001b[38;5;241m=\u001b[39m \u001b[38;5;28;01mFalse\u001b[39;00m, \n\u001b[0;32m      6\u001b[0m                  activation_function \u001b[38;5;241m=\u001b[39m torch\u001b[38;5;241m.\u001b[39mnn\u001b[38;5;241m.\u001b[39mSigmoid) \u001b[38;5;241m-\u001b[39m\u001b[38;5;241m>\u001b[39m \u001b[38;5;28;01mNone\u001b[39;00m:\n",
      "\u001b[1;31mNameError\u001b[0m: name 'nn' is not defined"
     ]
    }
   ],
   "source": [
    "class Net(nn.Module):\n",
    "    \"\"\"\n",
    "    Implements a simple feedforward neural network.\n",
    "    \"\"\"\n",
    "    def __init__(self, nb_of_inputs: int = 3, nb_of_outputs: int = 1, h: list = [600, 200], reg: bool = False, \n",
    "                 activation_function = torch.nn.Sigmoid) -> None:\n",
    "        \"\"\"\n",
    "        Initialize the neural network class.\n",
    "        \"\"\"\n",
    "        # Call the super constructor first\n",
    "        super(Net, self).__init__()\n",
    "        \n",
    "        # For convenience, save the sizes of the hidden layers as fields as well\n",
    "        self.h = h\n",
    "        # Add visible layers as well: input is 3D and output is 1D\n",
    "        self.h_augmented = [nb_of_inputs] + h + [nb_of_outputs]\n",
    "\n",
    "        # Add field to specify whether or not we do regularization\n",
    "        self.regularization = reg\n",
    "\n",
    "        # Define the layers:\n",
    "        for i in range(len(self.h_augmented)-1):\n",
    "            if i == len(self.h_augmented)-2:\n",
    "                setattr(self, f\"linear{i+1}\", nn.Linear(self.h_augmented[i], self.h_augmented[i+1], bias=False))\n",
    "            else:\n",
    "                setattr(self, f\"linear{i+1}\", nn.Linear(self.h_augmented[i], self.h_augmented[i+1]))\n",
    "                setattr(self, f\"activation{i+1}\", activation_function())\n",
    "\n",
    "    def forward(self, x):\n",
    "        \"\"\"\n",
    "        Computes a forward step given the input x.\n",
    "        :param x: Input for the neural network.\n",
    "        :return: x: Output neural network\n",
    "        \"\"\"\n",
    "        \n",
    "        for i, module in enumerate(self.modules()):\n",
    "            # The first module is the whole NNC2P object, continue\n",
    "            if i == 0:\n",
    "                continue\n",
    "            x = module(x)\n",
    "\n",
    "        return x"
   ]
  },
  {
   "cell_type": "markdown",
   "id": "8fd2f127",
   "metadata": {
    "id": "8fd2f127"
   },
   "source": [
    "# First goal: NNEOS"
   ]
  },
  {
   "cell_type": "markdown",
   "id": "e5850152",
   "metadata": {
    "id": "e5850152"
   },
   "source": [
    "__NNEOS__: try to replicate the EOS table (at least the core variables we are interested in) using the \"input\" variables rho, temp, ye."
   ]
  },
  {
   "cell_type": "markdown",
   "id": "12089f53",
   "metadata": {
    "id": "12089f53"
   },
   "source": [
    "For this, choose the output variables and convert the EOS table to the appropriate format, which has rows of examples"
   ]
  },
  {
   "cell_type": "code",
   "execution_count": 13,
   "id": "7a92994d",
   "metadata": {
    "executionInfo": {
     "elapsed": 4,
     "status": "ok",
     "timestamp": 1681398700618,
     "user": {
      "displayName": "Thibeau Wouters",
      "userId": "14702334917940433667"
     },
     "user_tz": -120
    },
    "id": "7a92994d"
   },
   "outputs": [],
   "source": [
    "# Get the filename of converted training data\n",
    "filename = os.path.join(eos_tables_dir, \"train_eos_table.h5\")"
   ]
  },
  {
   "cell_type": "code",
   "execution_count": 14,
   "id": "051199cf",
   "metadata": {
    "executionInfo": {
     "elapsed": 3,
     "status": "ok",
     "timestamp": 1681398701905,
     "user": {
      "displayName": "Thibeau Wouters",
      "userId": "14702334917940433667"
     },
     "user_tz": -120
    },
    "id": "051199cf"
   },
   "outputs": [],
   "source": [
    "# # Create new dataset (if desired)\n",
    "# # Specify output vars as \"var_names\" argument in this function - see physics.py\n",
    "# physics.convert_eos_table(eos_table, save_name=\"train_eos_table_GShen.h5\")"
   ]
  },
  {
   "cell_type": "code",
   "execution_count": 15,
   "id": "ccbc983b",
   "metadata": {
    "colab": {
     "base_uri": "https://localhost:8080/"
    },
    "executionInfo": {
     "elapsed": 2035,
     "status": "ok",
     "timestamp": 1681398704133,
     "user": {
      "displayName": "Thibeau Wouters",
      "userId": "14702334917940433667"
     },
     "user_tz": -120
    },
    "id": "ccbc983b",
    "outputId": "a345b306-1aba-427e-874c-daa97b43cdca"
   },
   "outputs": [
    {
     "name": "stdout",
     "output_type": "stream",
     "text": [
      "The output variables are [b'logenergy' b'logpress']. Number of examples: 4206378\n"
     ]
    }
   ],
   "source": [
    "# Load the data\n",
    "train_eos_table = h5py.File(filename, 'r')\n",
    "# Get the data saved in the HDF5 file\n",
    "features  = train_eos_table[\"features\"][:]\n",
    "labels    = train_eos_table[\"labels\"][:]\n",
    "var_names = train_eos_table[\"var_names\"][:]\n",
    "size_eos_table = len(features)\n",
    "print(f\"The output variables are {var_names}. Number of examples: {size_eos_table}\")\n",
    "# Close the file\n",
    "train_eos_table.close()"
   ]
  },
  {
   "cell_type": "code",
   "execution_count": 16,
   "id": "0d8a4d14",
   "metadata": {
    "colab": {
     "base_uri": "https://localhost:8080/"
    },
    "executionInfo": {
     "elapsed": 36,
     "status": "ok",
     "timestamp": 1681398706075,
     "user": {
      "displayName": "Thibeau Wouters",
      "userId": "14702334917940433667"
     },
     "user_tz": -120
    },
    "id": "0d8a4d14",
    "outputId": "0f2e12a5-cd17-4dcb-ac27-f09ecee5e38a"
   },
   "outputs": [
    {
     "name": "stdout",
     "output_type": "stream",
     "text": [
      "[ 3.02399601 -3.          0.005     ]\n",
      "[19.2791052  17.99956976]\n"
     ]
    }
   ],
   "source": [
    "# test - how does output look like?\n",
    "print(features[0])\n",
    "print(labels[0])"
   ]
  },
  {
   "cell_type": "markdown",
   "id": "ec6d6047",
   "metadata": {
    "id": "ec6d6047"
   },
   "source": [
    "Get the training data as DataSet and DataLoader objects. Note on normalization: we fit transform on the training data, then use the fitted scaler object to transform (i.e. using same transformation as the training data) the test set."
   ]
  },
  {
   "cell_type": "code",
   "execution_count": 17,
   "id": "ec910284",
   "metadata": {
    "colab": {
     "base_uri": "https://localhost:8080/"
    },
    "executionInfo": {
     "elapsed": 1126,
     "status": "ok",
     "timestamp": 1681398709169,
     "user": {
      "displayName": "Thibeau Wouters",
      "userId": "14702334917940433667"
     },
     "user_tz": -120
    },
    "id": "ec910284",
    "outputId": "4f15e095-7252-40dc-c90d-2bafae1c6cb4"
   },
   "outputs": [
    {
     "name": "stdout",
     "output_type": "stream",
     "text": [
      "3154783\n",
      "78869\n"
     ]
    }
   ],
   "source": [
    "# For normalization, use sklearn's StandardScaler\n",
    "scaler = StandardScaler()\n",
    "# Do train test split here\n",
    "train_features, test_features, train_labels, test_labels = train_test_split(features, labels, random_state=42)\n",
    "# \"Cutoff\": only use certain portion of the data for training and testing, to speed up training when tuning architecture \n",
    "cutoff = 0.025\n",
    "print(len(train_features))\n",
    "end = int(cutoff*len(train_features))\n",
    "train_features = train_features[:end]\n",
    "train_labels = train_labels[:end]\n",
    "end = int(cutoff*len(test_features))\n",
    "test_features = test_features[:end]\n",
    "test_labels = test_labels[:end]\n",
    "print(len(train_features))\n",
    "# Convert to PyTorch Datasets as we defined them\n",
    "train_dataset = data.HDF5Dataset(train_features, train_labels, normalization_function = scaler.fit_transform) \n",
    "test_dataset  = data.HDF5Dataset(test_features, test_labels, normalization_function = scaler.transform)\n",
    "# Then create dataloaders, with batch size 32, from datasets\n",
    "train_dataloader = DataLoader(train_dataset, batch_size = 32)\n",
    "test_dataloader  = DataLoader(test_dataset, batch_size = 32)"
   ]
  },
  {
   "cell_type": "markdown",
   "id": "f12e532a",
   "metadata": {
    "id": "f12e532a"
   },
   "source": [
    "Create a new instance of the Net:"
   ]
  },
  {
   "cell_type": "code",
   "execution_count": 18,
   "id": "be7a388c",
   "metadata": {
    "colab": {
     "base_uri": "https://localhost:8080/"
    },
    "executionInfo": {
     "elapsed": 31,
     "status": "ok",
     "timestamp": 1681398714800,
     "user": {
      "displayName": "Thibeau Wouters",
      "userId": "14702334917940433667"
     },
     "user_tz": -120
    },
    "id": "be7a388c",
    "outputId": "c92948dd-975b-4e2f-81a0-ee0661b400ff"
   },
   "outputs": [],
   "source": [
    "model = Net(nb_of_inputs=3, nb_of_outputs=2, h=[50, 50]).double()\n",
    "# print(next(model.parameters()).is_cuda )"
   ]
  },
  {
   "cell_type": "code",
   "execution_count": 19,
   "id": "5a0e1f63",
   "metadata": {
    "colab": {
     "base_uri": "https://localhost:8080/"
    },
    "executionInfo": {
     "elapsed": 31,
     "status": "ok",
     "timestamp": 1681398716642,
     "user": {
      "displayName": "Thibeau Wouters",
      "userId": "14702334917940433667"
     },
     "user_tz": -120
    },
    "id": "5a0e1f63",
    "outputId": "474f33c1-c8a7-4433-9f4d-9738b0a08141"
   },
   "outputs": [
    {
     "data": {
      "text/plain": [
       "2850"
      ]
     },
     "execution_count": 19,
     "metadata": {},
     "output_type": "execute_result"
    }
   ],
   "source": [
    "nnc2p.count_parameters(model)"
   ]
  },
  {
   "cell_type": "markdown",
   "id": "1e1e3745",
   "metadata": {
    "id": "1e1e3745"
   },
   "source": [
    "Create a trainer object:"
   ]
  },
  {
   "cell_type": "code",
   "execution_count": 20,
   "id": "df92e917",
   "metadata": {
    "executionInfo": {
     "elapsed": 705,
     "status": "ok",
     "timestamp": 1681398719638,
     "user": {
      "displayName": "Thibeau Wouters",
      "userId": "14702334917940433667"
     },
     "user_tz": -120
    },
    "id": "df92e917"
   },
   "outputs": [],
   "source": [
    "trainer = nnc2p.Trainer(model, 1e-2, train_dataloader=train_dataloader, test_dataloader=test_dataloader)"
   ]
  },
  {
   "cell_type": "markdown",
   "id": "227207f2",
   "metadata": {},
   "source": [
    "Train the network"
   ]
  },
  {
   "cell_type": "code",
   "execution_count": 21,
   "id": "53ce8669",
   "metadata": {
    "colab": {
     "base_uri": "https://localhost:8080/"
    },
    "executionInfo": {
     "elapsed": 171807,
     "status": "ok",
     "timestamp": 1681398892786,
     "user": {
      "displayName": "Thibeau Wouters",
      "userId": "14702334917940433667"
     },
     "user_tz": -120
    },
    "id": "53ce8669",
    "outputId": "711c53ca-cf46-43e3-8d63-6625ebdf0880"
   },
   "outputs": [],
   "source": [
    "# trainer.train()"
   ]
  },
  {
   "cell_type": "markdown",
   "id": "c550e901",
   "metadata": {},
   "source": [
    "Report architecture (this saves info to a CSV, such as hidden layer set-up, nb of epochs trained, loss after training,... in order to compare performances across different architecture details)."
   ]
  },
  {
   "cell_type": "code",
   "execution_count": 22,
   "id": "2f3a92f7",
   "metadata": {
    "id": "2f3a92f7"
   },
   "outputs": [],
   "source": [
    "# trainer.report_training(\"NNEOS_tab_experiments.csv\", comment = \"eps and p.\")"
   ]
  },
  {
   "cell_type": "markdown",
   "id": "296ab01e",
   "metadata": {
    "id": "296ab01e"
   },
   "source": [
    "Create a quick sketch of training"
   ]
  },
  {
   "cell_type": "code",
   "execution_count": 23,
   "id": "f8056faf",
   "metadata": {
    "id": "f8056faf"
   },
   "outputs": [],
   "source": [
    "# plt.plot(trainer.train_losses, color='red', label=\"Train loss\")\n",
    "# plt.plot(trainer.test_losses, color='blue', label=\"Test loss\")\n",
    "\n",
    "# plt.grid()\n",
    "# plt.legend()\n",
    "# for ind in trainer.adaptation_indices:\n",
    "#     plt.axvline(ind, ls = '--', color='grey')\n",
    "# plt.yscale('log')\n",
    "# plt.xlabel(\"Epochs\")\n",
    "# plt.ylabel(\"MSE Loss\")\n",
    "# plt.title(\"Training (50, 50) network tabular EOS for p and eps\")\n",
    "# plt.savefig(\"testing_training_tab_eos_network_50_50.pdf\", bbox_inches = 'tight')\n",
    "# plt.show()"
   ]
  },
  {
   "cell_type": "markdown",
   "id": "52a12dfa",
   "metadata": {},
   "source": [
    "## Save, load and export model "
   ]
  },
  {
   "cell_type": "markdown",
   "id": "29e9ef41",
   "metadata": {},
   "source": [
    "If desired, save the model"
   ]
  },
  {
   "cell_type": "code",
   "execution_count": 24,
   "id": "7f5344f8",
   "metadata": {},
   "outputs": [],
   "source": [
    "# torch.save(model.state_dict, \"tabular_eos_50_50.pth\")"
   ]
  },
  {
   "cell_type": "markdown",
   "id": "cbaefc43",
   "metadata": {},
   "source": [
    "If desired, load the original architecture (`tabular_eos_14_04.pth` contains for h = 50, 100, 20). "
   ]
  },
  {
   "cell_type": "code",
   "execution_count": 25,
   "id": "84a8d614",
   "metadata": {},
   "outputs": [
    {
     "data": {
      "text/plain": [
       "<All keys matched successfully>"
      ]
     },
     "execution_count": 25,
     "metadata": {},
     "output_type": "execute_result"
    }
   ],
   "source": [
    "model = Net(nb_of_inputs=3, nb_of_outputs=2, h=[50, 50]).float()\n",
    "# Load the state dict\n",
    "state_dict = torch.load(\"tabular_eos_50_50.pth\") \n",
    "# Accidentally saved the method, so make call to convert to dict for params before loading\n",
    "state_dict = state_dict()\n",
    "# Convert everything to floats rather than doubles\n",
    "for key in state_dict:\n",
    "    state_dict[key] = state_dict[key].float()\n",
    "model.load_state_dict(state_dict)"
   ]
  },
  {
   "cell_type": "markdown",
   "id": "3f64a42c",
   "metadata": {},
   "source": [
    "If desired, creat jit and onnx of the model"
   ]
  },
  {
   "cell_type": "code",
   "execution_count": 78,
   "id": "1ab9eba0",
   "metadata": {},
   "outputs": [
    {
     "name": "stdout",
     "output_type": "stream",
     "text": [
      "Example\n",
      "-1.728142261505127\n",
      "-1.4035654067993164\n",
      "-1.1849615573883057\n",
      "Output\n",
      "19.214147567749023\n",
      "18.384708404541016\n"
     ]
    }
   ],
   "source": [
    "x = scaler.transform(features[1000].reshape(1,-1))\n",
    "x = torch.from_numpy(x).float()\n",
    "print(\"Example\")\n",
    "print(x[0][0].item())\n",
    "print(x[0][1].item())\n",
    "print(x[0][2].item())\n",
    "torch_out = model(x)\n",
    "print(\"Output\")\n",
    "print(torch_out[0][0].item())\n",
    "print(torch_out[0][1].item())"
   ]
  },
  {
   "cell_type": "code",
   "execution_count": 79,
   "id": "c952dd37",
   "metadata": {},
   "outputs": [],
   "source": [
    "# ## ONNX\n",
    "# # Export the model\n",
    "# torch.onnx.export(model,               # model being run\n",
    "#                   x,                         # model input (or a tuple for multiple inputs)\n",
    "#                   \"tab_eos.onnx\",   # where to save the model (can be a file or file-like object)\n",
    "#                   export_params=True,        # store the trained parameter weights inside the model file\n",
    "#                   opset_version=10,          # the ONNX version to export the model to\n",
    "#                   do_constant_folding=True,  # whether to execute constant folding for optimization\n",
    "#                   input_names = ['input'],   # the model's input names\n",
    "#                   output_names = ['output'], # the model's output names\n",
    "#                   dynamic_axes={'input' : {0 : 'batch_size'},    # variable length axes\n",
    "#                                 'output' : {0 : 'batch_size'}})\n",
    "# ## Torchscript\n",
    "# # Use torch.jit.trace to generate a torch.jit.ScriptModule via tracing.\n",
    "# traced_script_module = torch.jit.trace(model, x)\n",
    "\n",
    "# # Save the TorchScript model\n",
    "# traced_script_module.save(\"tab_eos.pt\")"
   ]
  },
  {
   "cell_type": "markdown",
   "id": "79fbece1",
   "metadata": {},
   "source": [
    "Testing ONNX here!!! See [this PyTorch docs page for info.](https://pytorch.org/tutorials/advanced/super_resolution_with_onnxruntime.html)"
   ]
  },
  {
   "cell_type": "code",
   "execution_count": 111,
   "id": "33c3d4f3",
   "metadata": {},
   "outputs": [],
   "source": [
    "onnx_model = onnx.load(\"tab_eos.onnx\")\n",
    "onnx.checker.check_model(onnx_model)"
   ]
  },
  {
   "cell_type": "code",
   "execution_count": 112,
   "id": "33a31b56",
   "metadata": {},
   "outputs": [
    {
     "name": "stdout",
     "output_type": "stream",
     "text": [
      "Exported model has been tested with ONNXRuntime, and the result looks good!\n"
     ]
    }
   ],
   "source": [
    "ort_session = onnxruntime.InferenceSession(\"tab_eos.onnx\")\n",
    "\n",
    "def to_numpy(tensor):\n",
    "    return tensor.detach().cpu().numpy() if tensor.requires_grad else tensor.cpu().numpy()\n",
    "\n",
    "# compute ONNX Runtime output prediction\n",
    "ort_inputs = {ort_session.get_inputs()[0].name: to_numpy(x)}\n",
    "ort_outs = ort_session.run(None, ort_inputs)\n",
    "\n",
    "# compare ONNX Runtime and PyTorch results\n",
    "np.testing.assert_allclose(to_numpy(torch_out), ort_outs[0], rtol=1e-03, atol=1e-05)\n",
    "\n",
    "print(\"Exported model has been tested with ONNXRuntime, and the result looks good!\")"
   ]
  },
  {
   "cell_type": "markdown",
   "id": "751ad8d9",
   "metadata": {},
   "source": [
    "## Compare performance against trilinear interpolation"
   ]
  },
  {
   "cell_type": "markdown",
   "id": "170faab4",
   "metadata": {},
   "source": [
    "We see (by running the cell below several times) that network is quite robust in generalization, althought the $\\ell_\\infty$ norm can sometimes suddenly get quite high, so further investigation into training on the full table is needed."
   ]
  },
  {
   "cell_type": "code",
   "execution_count": 96,
   "id": "8a8b5739",
   "metadata": {},
   "outputs": [
    {
     "name": "stdout",
     "output_type": "stream",
     "text": [
      "L2       difference on sample:  [3.02251261e-05 9.49709248e-05]\n",
      "Linfty difference on sample:  [0.04101227 0.11753509]\n"
     ]
    }
   ],
   "source": [
    "# Sample features and their labels\n",
    "n_samples = 10000\n",
    "sample_ind = np.random.choice(len(features), size=min(len(features), n_samples), replace=False)\n",
    "sample_features = features[sample_ind]\n",
    "sample_labels = labels[sample_ind]\n",
    "# Get predictions\n",
    "with torch.no_grad():\n",
    "    # Don't forget to apply normalization!!! We fixed the random seed for reproducibility\n",
    "    sample_features = scaler.transform(sample_features)\n",
    "    predictions = model(torch.from_numpy(sample_features).float())\n",
    "    predictions = predictions.numpy()\n",
    "    \n",
    "# print(sample_labels[0])\n",
    "# print(predictions[0])\n",
    "print(\"L2       difference on sample: \", nnc2p.l2_norm(sample_labels, predictions))\n",
    "# print(nnc2p.l1_norm(sample_labels, predictions))\n",
    "print(\"Linfty difference on sample: \",nnc2p.linfty_norm(sample_labels, predictions))"
   ]
  },
  {
   "cell_type": "markdown",
   "id": "617ca2f7",
   "metadata": {},
   "source": [
    "Don't forget normalization (note: we can export the normalization procedure later on by saving the mean and std)."
   ]
  },
  {
   "cell_type": "code",
   "execution_count": 97,
   "id": "1f1060b7",
   "metadata": {},
   "outputs": [
    {
     "name": "stdout",
     "output_type": "stream",
     "text": [
      "Mean: [ 9.52894768 -0.29533657  0.3306817 ], std: [3.76412966 1.57075933 0.19045487]\n"
     ]
    }
   ],
   "source": [
    "print(f\"Mean: {scaler.mean_}, std: {scaler.scale_}\")"
   ]
  },
  {
   "cell_type": "markdown",
   "id": "3438e32b",
   "metadata": {},
   "source": [
    "## Compare network with trilinear interpolation"
   ]
  },
  {
   "cell_type": "markdown",
   "id": "040e1408",
   "metadata": {},
   "source": [
    "We use scipy for the interpolation: see [this docs page](https://docs.scipy.org/doc/scipy/reference/generated/scipy.interpolate.interpn.html#scipy.interpolate.interpn)"
   ]
  },
  {
   "cell_type": "code",
   "execution_count": 98,
   "id": "4eaa66fb",
   "metadata": {},
   "outputs": [],
   "source": [
    "from scipy.interpolate import interpn"
   ]
  },
  {
   "cell_type": "code",
   "execution_count": 99,
   "id": "c7d3e7ae",
   "metadata": {},
   "outputs": [],
   "source": [
    "def randomn(a, b):\n",
    "    \"\"\"Generate a random number in the range [a, b]\"\"\"\n",
    "    \n",
    "    return a + (b-a)*np.random.rand()"
   ]
  },
  {
   "cell_type": "markdown",
   "id": "c041a544",
   "metadata": {},
   "source": [
    "We define our own trilinear interpolation routine based on scipy:"
   ]
  },
  {
   "cell_type": "code",
   "execution_count": 100,
   "id": "f009fd46",
   "metadata": {},
   "outputs": [],
   "source": [
    "def trilinear_interpolation(points, values_list, test_points):\n",
    "    \"\"\"\n",
    "    Does a single prediction using trilinear interpolation.\n",
    "    \"\"\"\n",
    "    # Make the predictions\n",
    "    predictions = [interpn(points, values, test_points) for values in values_list]            \n",
    "    # Return transpose: shape is (n_samples, n_vars) similar to neural network\n",
    "    return np.transpose(np.array(predictions))"
   ]
  },
  {
   "cell_type": "markdown",
   "id": "0805f55e",
   "metadata": {},
   "source": [
    "For the grid points, we reverse the order compared to the EOS table. That is, the EOS table uses (ye, logtemp, logrho), but we will use (logrho, logtemp, ye)."
   ]
  },
  {
   "cell_type": "code",
   "execution_count": 101,
   "id": "b22ff32c",
   "metadata": {},
   "outputs": [
    {
     "name": "stdout",
     "output_type": "stream",
     "text": [
      "(391, 163, 66)\n"
     ]
    }
   ],
   "source": [
    "logpress_reversed = np.swapaxes(logpress, 0, 2)\n",
    "logenergy_reversed = np.swapaxes(logenergy, 0, 2)\n",
    "print(logpress_reversed.shape)"
   ]
  },
  {
   "cell_type": "code",
   "execution_count": 102,
   "id": "24facc89",
   "metadata": {},
   "outputs": [],
   "source": [
    "def sample_eos(logrho, logtemp, ye, n_examples = 1):\n",
    "    \"\"\"\n",
    "    Simple auxiliary function that returns a random input data point for an EOS table, based on its (logrho, logtemp, ye) values.\n",
    "    \"\"\"\n",
    "    \n",
    "    return np.stack([[randomn(min(logrho), max(logrho)), randomn(min(logtemp), max(logtemp)), randomn(min(ye), max(ye))] for _ in range(n_examples)])"
   ]
  },
  {
   "cell_type": "code",
   "execution_count": 104,
   "id": "0b48f682",
   "metadata": {},
   "outputs": [],
   "source": [
    "# Get an array of test cases:\n",
    "n_examples = 10000\n",
    "test_points = sample_eos(logrho, logtemp, ye, n_examples=n_examples)\n",
    "# Grid of tables\n",
    "points = (logrho, logtemp, ye)\n",
    "# Variables we wish to get\n",
    "values_list = [logenergy_reversed, logpress_reversed]\n",
    "# Interpolation\n",
    "interpolated = trilinear_interpolation(points, values_list, test_points)\n",
    "# print(interpolated)  # print in case n_examples is low\n",
    "# Compare with neural net\n",
    "with torch.no_grad():\n",
    "    # Don't forget normalization!!!\n",
    "    test_points_n = scaler.transform(test_points)\n",
    "    predictions = model(torch.from_numpy(test_points_n).float())\n",
    "    predictions = predictions.numpy()\n",
    "#     print(predictions)  # print in case n_examples is low"
   ]
  },
  {
   "cell_type": "markdown",
   "id": "6165a0d3",
   "metadata": {},
   "source": [
    "Now get error rates"
   ]
  },
  {
   "cell_type": "code",
   "execution_count": 105,
   "id": "51b66e96",
   "metadata": {},
   "outputs": [],
   "source": [
    "l1_error, l2_error, linfty_error = nnc2p.l1_norm(interpolated, predictions), nnc2p.l2_norm(interpolated, predictions), nnc2p.linfty_norm(interpolated, predictions)"
   ]
  },
  {
   "cell_type": "code",
   "execution_count": 106,
   "id": "48ee6869",
   "metadata": {},
   "outputs": [
    {
     "name": "stdout",
     "output_type": "stream",
     "text": [
      "[0.00393417 0.00683158]\n",
      "[2.79085436e-05 8.78257317e-05]\n",
      "[0.03703167 0.10229384]\n"
     ]
    }
   ],
   "source": [
    "print(l1_error)\n",
    "print(l2_error)\n",
    "print(linfty_error)"
   ]
  },
  {
   "cell_type": "markdown",
   "id": "e0ccc391",
   "metadata": {},
   "source": [
    "## Compare performance of methods"
   ]
  },
  {
   "cell_type": "markdown",
   "id": "34e72317",
   "metadata": {},
   "source": [
    "Here, we will try to compare the performance of the methods, by measuring the time they take (CPU time) through `timeit`."
   ]
  },
  {
   "cell_type": "code",
   "execution_count": 107,
   "id": "1d6f2327",
   "metadata": {},
   "outputs": [],
   "source": [
    "# Get a single point that has to be predicted\n",
    "test_point = sample_eos(logrho, logtemp, ye)"
   ]
  },
  {
   "cell_type": "markdown",
   "id": "f02146ac",
   "metadata": {},
   "source": [
    "Choose the number of runs and number of loops within each run"
   ]
  },
  {
   "cell_type": "code",
   "execution_count": 108,
   "id": "dba98145",
   "metadata": {},
   "outputs": [],
   "source": [
    "n_runs = 10\n",
    "n_loops = 10000"
   ]
  },
  {
   "cell_type": "code",
   "execution_count": 219,
   "id": "96877c57",
   "metadata": {},
   "outputs": [],
   "source": [
    "def time_execution(func, n_runs=10, n_loops=10000, verbose=True):\n",
    "    # Save all the runtimes\n",
    "    runtimes = []\n",
    "    for _ in range(n_runs):\n",
    "        # Start timer each run\n",
    "        start = time.process_time_ns()\n",
    "        for _ in range(n_loops):\n",
    "            func()\n",
    "        end = time.process_time_ns()\n",
    "        # Convert to micro seconds and get average for one loop\n",
    "        time_run = (end-start)/1000\n",
    "        time_loop = time_run/n_loops\n",
    "        runtimes.append(time_loop)\n",
    "    \n",
    "    # Convert to mean adn std\n",
    "    mu, sigma = np.mean(runtimes), np.std(runtimes)\n",
    "    \n",
    "    if verbose:\n",
    "        print(f\"{mu} \\pm {sigma} per loop ({n_runs} runs, {n_loops} each)\")\n",
    "    \n",
    "    return mu, sigma"
   ]
  },
  {
   "cell_type": "markdown",
   "id": "3266a43e",
   "metadata": {},
   "source": [
    "### Trilinear interpolation"
   ]
  },
  {
   "cell_type": "markdown",
   "id": "77be19ac",
   "metadata": {},
   "source": [
    "Performance of trilinear interpolation with Scipy:"
   ]
  },
  {
   "cell_type": "code",
   "execution_count": 220,
   "id": "6da37954",
   "metadata": {},
   "outputs": [],
   "source": [
    "# Which values to predict?\n",
    "values_list = [logenergy_reversed, logpress_reversed]\n",
    "# single value:\n",
    "val = logenergy_reversed\n",
    "def function1():\n",
    "    [interpn(points, val, test_point) for val in values_list]"
   ]
  },
  {
   "cell_type": "code",
   "execution_count": 221,
   "id": "2210bea5",
   "metadata": {},
   "outputs": [],
   "source": [
    "# %timeit -r10 -n10000 interpn(points, logenergy_reversed, test_point)  # measure Scipy"
   ]
  },
  {
   "cell_type": "markdown",
   "id": "57960034",
   "metadata": {},
   "source": [
    "### Neural network (using PyTorch)"
   ]
  },
  {
   "cell_type": "markdown",
   "id": "2fa6d74c",
   "metadata": {},
   "source": [
    "Performance of running the network with PyTorch built-ins: first convert point to right format"
   ]
  },
  {
   "cell_type": "code",
   "execution_count": 222,
   "id": "53c473f6",
   "metadata": {},
   "outputs": [],
   "source": [
    "test_point_n = scaler.transform(test_point)\n",
    "test_point_torch = torch.from_numpy(test_point_n).float()"
   ]
  },
  {
   "cell_type": "code",
   "execution_count": 223,
   "id": "f700b984",
   "metadata": {},
   "outputs": [],
   "source": [
    "def function2():\n",
    "    model(test_point_torch)"
   ]
  },
  {
   "cell_type": "markdown",
   "id": "1d903553",
   "metadata": {},
   "source": [
    "### Neural network (using PyTorch, no grad)"
   ]
  },
  {
   "cell_type": "markdown",
   "id": "d3f7dc09",
   "metadata": {},
   "source": [
    "It might be that saving the gradients etc in PyTorch can slow down the inference: check performance with grads disabled"
   ]
  },
  {
   "cell_type": "code",
   "execution_count": 224,
   "id": "69bb21dc",
   "metadata": {},
   "outputs": [],
   "source": [
    "def function3():\n",
    "    with torch.no_grad():\n",
    "        model(test_point_torch)"
   ]
  },
  {
   "cell_type": "markdown",
   "id": "7320f22f",
   "metadata": {},
   "source": [
    "### Neural network (using ONNX Runtime)"
   ]
  },
  {
   "cell_type": "code",
   "execution_count": 225,
   "id": "eab43d7e",
   "metadata": {},
   "outputs": [],
   "source": [
    "def function4():\n",
    "    ort_inputs = {ort_session.get_inputs()[0].name: to_numpy(x)}\n",
    "    ort_outs = ort_session.run(None, ort_inputs)"
   ]
  },
  {
   "cell_type": "markdown",
   "id": "c7dbd218",
   "metadata": {},
   "source": [
    "### Neural network (using Numpy)"
   ]
  },
  {
   "cell_type": "markdown",
   "id": "7476d3d2",
   "metadata": {},
   "source": [
    "Other comparison: the neural network but just the matrices and using Numpy! Save everything externally"
   ]
  },
  {
   "cell_type": "code",
   "execution_count": 226,
   "id": "b42da0ab",
   "metadata": {},
   "outputs": [],
   "source": [
    "w1 = model.state_dict()[\"linear1.weight\"].numpy()\n",
    "b1 = model.state_dict()[\"linear1.bias\"].numpy()\n",
    "w2 = model.state_dict()[\"linear2.weight\"].numpy()\n",
    "b2 = model.state_dict()[\"linear2.bias\"].numpy()\n",
    "w3 = model.state_dict()[\"linear3.weight\"].numpy()"
   ]
  },
  {
   "cell_type": "code",
   "execution_count": 227,
   "id": "5552111b",
   "metadata": {},
   "outputs": [],
   "source": [
    "test_point_np = test_point_n[0]"
   ]
  },
  {
   "cell_type": "code",
   "execution_count": 228,
   "id": "e39a3e13",
   "metadata": {},
   "outputs": [],
   "source": [
    "def sigmoid(x):\n",
    "    return 1/(1+np.exp(-x))"
   ]
  },
  {
   "cell_type": "code",
   "execution_count": 229,
   "id": "dd1d0e2d",
   "metadata": {},
   "outputs": [],
   "source": [
    "def run_nn(x):\n",
    "    x = np.matmul(w1, x) + b1\n",
    "    x = sigmoid(x)\n",
    "    x = np.matmul(w2, x) + b2\n",
    "    x = sigmoid(x)\n",
    "    x = np.matmul(w3, x)\n",
    "    \n",
    "    return x"
   ]
  },
  {
   "cell_type": "code",
   "execution_count": 230,
   "id": "814df05f",
   "metadata": {},
   "outputs": [
    {
     "name": "stdout",
     "output_type": "stream",
     "text": [
      "[[3.089459   1.61559649 0.58864598]]\n",
      "[24.34407878 39.68375599]\n",
      "[24.344078 39.683754]\n"
     ]
    }
   ],
   "source": [
    "# Check if we get the same results -- OK\n",
    "print(test_point)\n",
    "test1 = run_nn(test_point[0])\n",
    "print(test1)\n",
    "with torch.no_grad():\n",
    "    test2 = model(torch.from_numpy(test_point[0]).float())\n",
    "    test2 = test2.numpy()\n",
    "print(test2)"
   ]
  },
  {
   "cell_type": "code",
   "execution_count": 231,
   "id": "c87285fa",
   "metadata": {},
   "outputs": [],
   "source": [
    "def function5():\n",
    "    run_nn(test_point_np)"
   ]
  },
  {
   "cell_type": "markdown",
   "id": "87e70883",
   "metadata": {},
   "source": [
    "### Python (no packages)"
   ]
  },
  {
   "cell_type": "markdown",
   "id": "c826585c",
   "metadata": {},
   "source": [
    "Convert everything to lists"
   ]
  },
  {
   "cell_type": "code",
   "execution_count": 232,
   "id": "916ba2ac",
   "metadata": {},
   "outputs": [
    {
     "name": "stdout",
     "output_type": "stream",
     "text": [
      "[[-1.7107510237379462], [1.216566422461508], [1.3544640644157173]]\n"
     ]
    }
   ],
   "source": [
    "test_point_list = test_point_np.tolist()\n",
    "test_point_list = [[val] for val in test_point_list]\n",
    "print(test_point_list)\n",
    "w1_list = w1.tolist()\n",
    "# b1_list = b1.tolist()\n",
    "b1_list = [[b1[i]] for i in range(len(b1))]\n",
    "# b1_list = [b1_list]\n",
    "w2_list = w2.tolist()\n",
    "b2_list = [[b2[i]] for i in range(len(b2))]\n",
    "w3_list = w3.tolist()"
   ]
  },
  {
   "cell_type": "markdown",
   "id": "4c4f1ef8",
   "metadata": {},
   "source": [
    "Get sigmoid function without numpy"
   ]
  },
  {
   "cell_type": "code",
   "execution_count": 233,
   "id": "ff76dfb6",
   "metadata": {},
   "outputs": [],
   "source": [
    "def sigmoid_list(x):\n",
    "    return [[1/(1+2.71828182845904523536028747135266249**(-x[i][0]))] for i in range(len(x))]"
   ]
  },
  {
   "cell_type": "code",
   "execution_count": 234,
   "id": "4d6b49e5",
   "metadata": {},
   "outputs": [],
   "source": [
    "def mm(A, B):\n",
    "    \"\"\"Matrix multiplication, pure Python\"\"\"\n",
    "    return [[sum(a*b for a,b in zip(A_row, B_col)) for B_col in zip(*B)] for A_row in A]"
   ]
  },
  {
   "cell_type": "code",
   "execution_count": 235,
   "id": "0daf7f73",
   "metadata": {},
   "outputs": [
    {
     "name": "stdout",
     "output_type": "stream",
     "text": [
      "[[2], [4], [6]]\n"
     ]
    },
    {
     "data": {
      "text/plain": [
       "[[2.731058578630005], [4.880797077977882], [6.952574126822433]]"
      ]
     },
     "execution_count": 235,
     "metadata": {},
     "output_type": "execute_result"
    }
   ],
   "source": [
    "a = [[2, 0, 0], [0, 2, 0], [0, 0, 2]]\n",
    "b = [[1],[2],[3]]\n",
    "first = mm(a,b)\n",
    "print(first)\n",
    "second = sigmoid_list(b)\n",
    "[[first[i][0] + second[i][0]] for i in range(len(first))]"
   ]
  },
  {
   "cell_type": "code",
   "execution_count": 236,
   "id": "46596592",
   "metadata": {},
   "outputs": [],
   "source": [
    "def run_nn_list(x):\n",
    "    x = mm(w1_list, x)\n",
    "    x = [[x[i][0] + b1_list[i][0]] for i in range(len(x))]\n",
    "    x = sigmoid_list(x)\n",
    "    x = mm(w2_list, x)\n",
    "    x = [[x[i][0] + b2_list[i][0]] for i in range(len(x))]\n",
    "    x = sigmoid_list(x)\n",
    "    x = mm(w3_list, x)\n",
    "    \n",
    "    return x"
   ]
  },
  {
   "cell_type": "markdown",
   "id": "35f01dc3",
   "metadata": {},
   "source": [
    "The shape is slightly different, but this is good enough!"
   ]
  },
  {
   "cell_type": "code",
   "execution_count": 237,
   "id": "bfee6f19",
   "metadata": {},
   "outputs": [
    {
     "name": "stdout",
     "output_type": "stream",
     "text": [
      "[[29.942357545771657], [32.53861407993529]]\n",
      "[[29.94236  32.538612]]\n"
     ]
    }
   ],
   "source": [
    "# Check if we get the same results -- OK\n",
    "test1 = run_nn_list(test_point_list)\n",
    "print(test1)\n",
    "with torch.no_grad():\n",
    "    test2 = model(test_point_torch)\n",
    "    test2 = test2.numpy()\n",
    "print(test2)"
   ]
  },
  {
   "cell_type": "code",
   "execution_count": 238,
   "id": "432f3553",
   "metadata": {},
   "outputs": [],
   "source": [
    "def function6():\n",
    "    run_nn_list(test_point_list)"
   ]
  },
  {
   "cell_type": "markdown",
   "id": "91dea986",
   "metadata": {},
   "source": [
    "__Do the runtime analysis__"
   ]
  },
  {
   "cell_type": "code",
   "execution_count": 258,
   "id": "643e25e0",
   "metadata": {},
   "outputs": [
    {
     "name": "stdout",
     "output_type": "stream",
     "text": [
      "Runtime analysis for Interpolation\n",
      "466.71875 \\pm 19.715382042012273 per loop (10 runs, 10000 each)\n",
      "Runtime analysis for PyTorch\n",
      "88.28125 \\pm 2.34375 per loop (10 runs, 10000 each)\n",
      "Runtime analysis for PyTorch (no grad)\n",
      "66.875 \\pm 2.5 per loop (10 runs, 10000 each)\n",
      "Runtime analysis for ONNX RT\n",
      "29.375 \\pm 1.8221724671391564 per loop (10 runs, 10000 each)\n",
      "Runtime analysis for Numpy\n",
      "21.40625 \\pm 2.5242960033442987 per loop (10 runs, 10000 each)\n"
     ]
    }
   ],
   "source": [
    "# Empty lists\n",
    "mu_list, sigma_list = [], []\n",
    "# Functions & names for runtime analysis\n",
    "funcs = [function1, function2, function3, function4, function5]\n",
    "method_names = [\"Interpolation\", \"PyTorch\", \"PyTorch (no grad)\", \"ONNX RT\", \"Numpy\"]  # , \"Pure Python\"\n",
    "for i, func in enumerate(funcs):\n",
    "    print(f\"--- {method_names[i]} ---\")\n",
    "    mu, sigma = time_execution(func)\n",
    "    mu_list.append(mu)\n",
    "    sigma_list.append(sigma)"
   ]
  },
  {
   "cell_type": "markdown",
   "id": "aa0903ef",
   "metadata": {},
   "source": [
    "\n",
    "### Plot to combine analysis"
   ]
  },
  {
   "cell_type": "markdown",
   "id": "89dac9bf",
   "metadata": {},
   "source": [
    "Prepare the plot, sort values etc"
   ]
  },
  {
   "cell_type": "code",
   "execution_count": 259,
   "id": "b3ef8205",
   "metadata": {},
   "outputs": [],
   "source": [
    "cutoff = 5\n",
    "\n",
    "xticks = [i+1 for i in range(len(method_names[:cutoff]))]\n",
    "# Get vals more clearly, do cutoff\n",
    "xvals = xticks[:cutoff]\n",
    "yvals = mu_list[:cutoff]\n",
    "yerrs = sigma_list[:cutoff]\n",
    "# Swap based on performance  ## NOT WORKING FOR SOME REASON\n",
    "# sort_ind = np.argsort(yvals)[::-1]\n",
    "# # Sort\n",
    "# xvals = my_sort(xvals, sort_ind)\n",
    "# yvals = my_sort(yvals, sort_ind)\n",
    "# yerrs = my_sort(yerrs, sort_ind)\n",
    "# method_names = my_sort(method_names, sort_ind)"
   ]
  },
  {
   "cell_type": "code",
   "execution_count": 260,
   "id": "8036f717",
   "metadata": {},
   "outputs": [
    {
     "data": {
      "image/png": "[encoded data removed]",
      "text/plain": [
       "<Figure size 1920x1440 with 1 Axes>"
      ]
     },
     "metadata": {},
     "output_type": "display_data"
    }
   ],
   "source": [
    "# Preparation\n",
    "plt.errorbar(xvals, yvals, yerrs, fmt=\"o\", color=\"blue\", capsize=5)\n",
    "plt.xticks(ticks=xvals, labels = method_names, rotation=30)\n",
    "plt.ylabel(\"CPU time/prediction (µs)\")\n",
    "plt.grid()\n",
    "plt.savefig(\"Time comparison single prediction\")\n",
    "plt.savefig(\"interpolation_neuralnet_speed_comparison.pdf\", bbox_inches='tight')\n",
    "plt.show()"
   ]
  },
  {
   "cell_type": "markdown",
   "id": "377b0cbf",
   "metadata": {
    "id": "377b0cbf"
   },
   "source": [
    "# Second goal: NNC2P"
   ]
  },
  {
   "cell_type": "markdown",
   "id": "bf95fa58",
   "metadata": {
    "id": "bf95fa58"
   },
   "source": [
    "__TO DO__ think about design of architecture AND fix the conserved variable values -- I think they were not computed correctly before! "
   ]
  },
  {
   "cell_type": "markdown",
   "id": "2b454181",
   "metadata": {
    "id": "2b454181"
   },
   "source": [
    "__NNC2P__: try to replicate the full C2P conversion."
   ]
  },
  {
   "cell_type": "markdown",
   "id": "9c10571f",
   "metadata": {
    "id": "9c10571f"
   },
   "source": [
    "Get the training data as DataSet and DataLoader objects. Note on normalization: we fit transform on the training data, then use the fitted scaler object to transform (i.e. using same transformation as the training data) the test set."
   ]
  },
  {
   "cell_type": "code",
   "execution_count": null,
   "id": "852d22c5",
   "metadata": {
    "id": "852d22c5"
   },
   "outputs": [],
   "source": [
    "# Give the names of the input vars (features) and output vars (labels)\n",
    "in_vars = [\"rho\", \"eps\", \"ye\"]\n",
    "out_vars = [\"temp\"]\n",
    "# For normalization, use sklearn's StandardScaler\n",
    "scaler = StandardScaler()\n",
    "# Read the sampled data as pandas dataframes\n",
    "train_df = pd.read_csv(os.path.join(master_dir, \"Data/SLy4_training_data.csv\"))\n",
    "test_df  = pd.read_csv(os.path.join(master_dir, \"Data/SLy4_test_data.csv\"))\n",
    "# Convert to PyTorch Datasets as we defined them\n",
    "train_dataset = data.CustomDataset(train_df, feature_names = in_vars, label_names = out_vars, normalization_function = scaler.fit_transform) \n",
    "test_dataset  = data.CustomDataset(test_df, feature_names = in_vars, label_names = out_vars, normalization_function = scaler.transform)\n",
    "# Then create dataloaders, with batch size 32, from datasets\n",
    "train_dataloader = DataLoader(train_dataset, batch_size=32)\n",
    "test_dataloader  = DataLoader(test_dataset, batch_size=32)"
   ]
  },
  {
   "cell_type": "markdown",
   "id": "24e96de6",
   "metadata": {
    "id": "24e96de6"
   },
   "source": [
    "Create a new instance of the Net:"
   ]
  },
  {
   "cell_type": "code",
   "execution_count": null,
   "id": "d08aa592",
   "metadata": {
    "id": "d08aa592",
    "outputId": "1a3ec4f4-f574-496b-d3a8-25cfc9c30361"
   },
   "outputs": [
    {
     "data": {
      "text/plain": [
       "Net(\n",
       "  (linear1): Linear(in_features=3, out_features=50, bias=True)\n",
       "  (activation1): Sigmoid()\n",
       "  (linear2): Linear(in_features=50, out_features=50, bias=True)\n",
       "  (activation2): Sigmoid()\n",
       "  (linear3): Linear(in_features=50, out_features=1, bias=False)\n",
       ")"
      ]
     },
     "metadata": {},
     "output_type": "display_data"
    }
   ],
   "source": [
    "model = Net(nb_of_inputs = 3, nb_of_outputs = 1, h=[50, 50])\n",
    "model"
   ]
  },
  {
   "cell_type": "code",
   "execution_count": null,
   "id": "504399cb",
   "metadata": {
    "id": "504399cb",
    "outputId": "aa1b5560-9e9b-461b-a9e5-3eb90573d2c6"
   },
   "outputs": [
    {
     "data": {
      "text/plain": [
       "2800"
      ]
     },
     "metadata": {},
     "output_type": "display_data"
    }
   ],
   "source": [
    "nnc2p.count_parameters(model)"
   ]
  },
  {
   "cell_type": "markdown",
   "id": "da83cead",
   "metadata": {
    "id": "da83cead"
   },
   "source": [
    "Create a trainer object from it:"
   ]
  },
  {
   "cell_type": "code",
   "execution_count": null,
   "id": "7fffc1e4",
   "metadata": {
    "id": "7fffc1e4"
   },
   "outputs": [],
   "source": [
    "trainer = nnc2p.Trainer(model, 1e-1, train_dataloader=train_dataloader, test_dataloader=test_dataloader)"
   ]
  },
  {
   "cell_type": "code",
   "execution_count": null,
   "id": "e0369872",
   "metadata": {
    "id": "e0369872",
    "outputId": "324b4965-3166-4d96-dac7-ff9fa27aae78"
   },
   "outputs": [
    {
     "name": "stdout",
     "output_type": "stream",
     "text": [
      "Training the model for 500 epochs.\n",
      "\n",
      " Epoch 0 \n",
      " --------------\n",
      "Train loss: 7.59E-01\n",
      "Test  loss: 7.62E-01\n",
      "\n",
      " Epoch 1 \n",
      " --------------\n",
      "Train loss: 9.92E-01\n",
      "Test  loss: 9.98E-01\n",
      "\n",
      " Epoch 2 \n",
      " --------------\n",
      "Train loss: 9.45E-01\n",
      "Test  loss: 9.61E-01\n",
      "\n",
      " Epoch 3 \n",
      " --------------\n",
      "Train loss: 8.24E-01\n",
      "Test  loss: 8.29E-01\n",
      "\n",
      " Epoch 4 \n",
      " --------------\n",
      "Train loss: 9.10E-01\n",
      "Test  loss: 9.16E-01\n",
      "\n",
      " Epoch 5 \n",
      " --------------\n",
      "Train loss: 8.80E-01\n",
      "Test  loss: 8.91E-01\n",
      "\n",
      " Epoch 6 \n",
      " --------------\n",
      "Train loss: 8.62E-01\n",
      "Test  loss: 8.67E-01\n",
      "\n",
      " Epoch 7 \n",
      " --------------\n",
      "Train loss: 8.20E-01\n",
      "Test  loss: 8.27E-01\n",
      "\n",
      " Epoch 8 \n",
      " --------------\n",
      "Train loss: 8.80E-01\n",
      "Test  loss: 8.94E-01\n",
      "\n",
      " Epoch 9 \n",
      " --------------\n",
      "Train loss: 9.20E-01\n",
      "Test  loss: 9.26E-01\n",
      "\n",
      " Epoch 10 \n",
      " --------------\n",
      "Train loss: 7.34E-01\n",
      "Test  loss: 7.39E-01\n",
      "\n",
      " Epoch 11 \n",
      " --------------\n",
      "Train loss: 7.48E-01\n",
      "Test  loss: 7.56E-01\n",
      "\n",
      " Epoch 12 \n",
      " --------------\n",
      "Train loss: 7.28E-01\n",
      "Test  loss: 7.31E-01\n",
      "\n",
      " Epoch 13 \n",
      " --------------\n",
      "Train loss: 8.87E-01\n",
      "Test  loss: 8.99E-01\n",
      "\n",
      " Epoch 14 \n",
      " --------------\n",
      "Train loss: 8.02E-01\n",
      "Test  loss: 8.09E-01\n",
      "\n",
      " Epoch 15 \n",
      " --------------\n",
      "Train loss: 8.11E-01\n",
      "Test  loss: 8.20E-01\n",
      "\n",
      " Epoch 16 \n",
      " --------------\n",
      "Train loss: 8.02E-01\n",
      "Test  loss: 8.08E-01\n",
      "\n",
      " Epoch 17 \n",
      " --------------\n",
      "Adapting learning rate to 0.05\n",
      "Train loss: 8.70E-01\n",
      "Test  loss: 8.79E-01\n",
      "\n",
      " Epoch 18 \n",
      " --------------\n",
      "Train loss: 6.88E-01\n",
      "Test  loss: 6.92E-01\n",
      "\n",
      " Epoch 19 \n",
      " --------------\n",
      "Train loss: 6.24E-01\n",
      "Test  loss: 6.25E-01\n",
      "\n",
      " Epoch 20 \n",
      " --------------\n",
      "Train loss: 6.42E-01\n",
      "Test  loss: 6.46E-01\n",
      "\n",
      " Epoch 21 \n",
      " --------------\n",
      "Train loss: 6.21E-01\n",
      "Test  loss: 6.25E-01\n",
      "\n",
      " Epoch 22 \n",
      " --------------\n",
      "Train loss: 6.29E-01\n",
      "Test  loss: 6.32E-01\n",
      "\n",
      " Epoch 23 \n",
      " --------------\n",
      "Train loss: 6.30E-01\n",
      "Test  loss: 6.33E-01\n",
      "\n",
      " Epoch 24 \n",
      " --------------\n",
      "Train loss: 6.13E-01\n",
      "Test  loss: 6.16E-01\n",
      "\n",
      " Epoch 25 \n",
      " --------------\n",
      "Train loss: 6.25E-01\n",
      "Test  loss: 6.27E-01\n",
      "\n",
      " Epoch 26 \n",
      " --------------\n",
      "Train loss: 6.75E-01\n",
      "Test  loss: 6.81E-01\n",
      "\n",
      " Epoch 27 \n",
      " --------------\n",
      "Train loss: 6.22E-01\n",
      "Test  loss: 6.23E-01\n",
      "\n",
      " Epoch 28 \n",
      " --------------\n",
      "Train loss: 6.77E-01\n",
      "Test  loss: 6.81E-01\n",
      "\n",
      " Epoch 29 \n",
      " --------------\n",
      "Adapting learning rate to 0.025\n",
      "Train loss: 6.98E-01\n",
      "Test  loss: 6.99E-01\n",
      "\n",
      " Epoch 30 \n",
      " --------------\n",
      "Train loss: 5.71E-01\n",
      "Test  loss: 5.74E-01\n",
      "\n",
      " Epoch 31 \n",
      " --------------\n",
      "Train loss: 5.77E-01\n",
      "Test  loss: 5.81E-01\n",
      "\n",
      " Epoch 32 \n",
      " --------------\n",
      "Train loss: 5.69E-01\n",
      "Test  loss: 5.74E-01\n",
      "\n",
      " Epoch 33 \n",
      " --------------\n",
      "Train loss: 5.65E-01\n",
      "Test  loss: 5.69E-01\n",
      "\n",
      " Epoch 34 \n",
      " --------------\n",
      "Train loss: 5.63E-01\n",
      "Test  loss: 5.67E-01\n",
      "\n",
      " Epoch 35 \n",
      " --------------\n",
      "Train loss: 5.60E-01\n",
      "Test  loss: 5.65E-01\n",
      "\n",
      " Epoch 36 \n",
      " --------------\n",
      "Train loss: 5.67E-01\n",
      "Test  loss: 5.70E-01\n",
      "\n",
      " Epoch 37 \n",
      " --------------\n",
      "Train loss: 5.58E-01\n",
      "Test  loss: 5.60E-01\n",
      "\n",
      " Epoch 38 \n",
      " --------------\n",
      "Train loss: 5.62E-01\n",
      "Test  loss: 5.66E-01\n",
      "\n",
      " Epoch 39 \n",
      " --------------\n",
      "Train loss: 5.62E-01\n",
      "Test  loss: 5.66E-01\n",
      "\n",
      " Epoch 40 \n",
      " --------------\n",
      "Train loss: 5.62E-01\n",
      "Test  loss: 5.64E-01\n",
      "\n",
      " Epoch 41 \n",
      " --------------\n",
      "Train loss: 5.73E-01\n",
      "Test  loss: 5.75E-01\n",
      "\n",
      " Epoch 42 \n",
      " --------------\n",
      "Adapting learning rate to 0.0125\n",
      "Train loss: 5.69E-01\n",
      "Test  loss: 5.73E-01\n",
      "\n",
      " Epoch 43 \n",
      " --------------\n",
      "Train loss: 4.89E-01\n",
      "Test  loss: 4.92E-01\n",
      "\n",
      " Epoch 44 \n",
      " --------------\n",
      "Train loss: 4.87E-01\n",
      "Test  loss: 4.91E-01\n",
      "\n",
      " Epoch 45 \n",
      " --------------\n",
      "Train loss: 4.86E-01\n",
      "Test  loss: 4.91E-01\n",
      "\n",
      " Epoch 46 \n",
      " --------------\n",
      "Train loss: 4.83E-01\n",
      "Test  loss: 4.88E-01\n",
      "\n",
      " Epoch 47 \n",
      " --------------\n",
      "Train loss: 4.80E-01\n",
      "Test  loss: 4.85E-01\n",
      "\n",
      " Epoch 48 \n",
      " --------------\n",
      "Train loss: 4.78E-01\n",
      "Test  loss: 4.83E-01\n",
      "\n",
      " Epoch 49 \n",
      " --------------\n",
      "Train loss: 4.77E-01\n",
      "Test  loss: 4.81E-01\n",
      "\n",
      " Epoch 50 \n",
      " --------------\n",
      "Train loss: 4.75E-01\n",
      "Test  loss: 4.79E-01\n",
      "\n",
      " Epoch 51 \n",
      " --------------\n"
     ]
    },
    {
     "ename": "KeyboardInterrupt",
     "evalue": "",
     "output_type": "error",
     "traceback": [
      "\u001b[1;31m---------------------------------------------------------------------------\u001b[0m\n",
      "\u001b[1;31mKeyboardInterrupt\u001b[0m                         Traceback (most recent call last)\n",
      "Cell \u001b[1;32mIn[118], line 1\u001b[0m\n",
      "\u001b[1;32m----> 1\u001b[0m trainer\u001b[39m.\u001b[39;49mtrain()\n",
      "\n",
      "File \u001b[1;32md:\\Coding\\master-thesis-AI\\Code\\nnc2p.py:407\u001b[0m, in \u001b[0;36mTrainer.train\u001b[1;34m(self, adaptation_threshold, adaptation_multiplier, number_of_epochs, log_file, csv_file)\u001b[0m\n",
      "\u001b[0;32m    405\u001b[0m write_to_txt(log_file, \u001b[39mf\u001b[39m\u001b[39m\"\u001b[39m\u001b[39m\\n\u001b[39;00m\u001b[39m Epoch \u001b[39m\u001b[39m{\u001b[39;00mepoch_counter\u001b[39m}\u001b[39;00m\u001b[39m \u001b[39m\u001b[39m\\n\u001b[39;00m\u001b[39m --------------\u001b[39m\u001b[39m\"\u001b[39m)\n",
      "\u001b[0;32m    406\u001b[0m \u001b[39m# Train the network\u001b[39;00m\n",
      "\u001b[1;32m--> 407\u001b[0m train_loop(\u001b[39mself\u001b[39;49m\u001b[39m.\u001b[39;49mtrain_dataloader, \u001b[39mself\u001b[39;49m\u001b[39m.\u001b[39;49mmodel, \u001b[39mself\u001b[39;49m\u001b[39m.\u001b[39;49mloss_fn, \u001b[39mself\u001b[39;49m\u001b[39m.\u001b[39;49moptimizer, use_c2p_loss\u001b[39m=\u001b[39;49m\u001b[39mself\u001b[39;49m\u001b[39m.\u001b[39;49muse_c2p_loss)\n",
      "\u001b[0;32m    408\u001b[0m \u001b[39m# Test on the training data\u001b[39;00m\n",
      "\u001b[0;32m    409\u001b[0m average_train_loss \u001b[39m=\u001b[39m test_loop(\u001b[39mself\u001b[39m\u001b[39m.\u001b[39mtrain_dataloader, \u001b[39mself\u001b[39m\u001b[39m.\u001b[39mmodel, \u001b[39mself\u001b[39m\u001b[39m.\u001b[39mloss_fn)\n",
      "\n",
      "File \u001b[1;32md:\\Coding\\master-thesis-AI\\Code\\nnc2p.py:277\u001b[0m, in \u001b[0;36mtrain_loop\u001b[1;34m(dataloader, model, loss_fn, optimizer, report_progress, use_c2p_loss)\u001b[0m\n",
      "\u001b[0;32m    274\u001b[0m size \u001b[39m=\u001b[39m \u001b[39mlen\u001b[39m(dataloader\u001b[39m.\u001b[39mdataset)\n",
      "\u001b[0;32m    275\u001b[0m \u001b[39mfor\u001b[39;00m batch, (X, y) \u001b[39min\u001b[39;00m \u001b[39menumerate\u001b[39m(dataloader):\n",
      "\u001b[0;32m    276\u001b[0m     \u001b[39m# Compute prediction \u001b[39;00m\n",
      "\u001b[1;32m--> 277\u001b[0m     prediction \u001b[39m=\u001b[39m model(X)\n",
      "\u001b[0;32m    278\u001b[0m     \u001b[39m# In case we use C2P loss function, have to provide conserved variables for the loss computation\u001b[39;00m\n",
      "\u001b[0;32m    279\u001b[0m     \u001b[39mif\u001b[39;00m use_c2p_loss:\n",
      "\n",
      "File \u001b[1;32md:\\Anaconda3\\lib\\site-packages\\torch\\nn\\modules\\module.py:1194\u001b[0m, in \u001b[0;36mModule._call_impl\u001b[1;34m(self, *input, **kwargs)\u001b[0m\n",
      "\u001b[0;32m   1190\u001b[0m \u001b[39m# If we don't have any hooks, we want to skip the rest of the logic in\u001b[39;00m\n",
      "\u001b[0;32m   1191\u001b[0m \u001b[39m# this function, and just call forward.\u001b[39;00m\n",
      "\u001b[0;32m   1192\u001b[0m \u001b[39mif\u001b[39;00m \u001b[39mnot\u001b[39;00m (\u001b[39mself\u001b[39m\u001b[39m.\u001b[39m_backward_hooks \u001b[39mor\u001b[39;00m \u001b[39mself\u001b[39m\u001b[39m.\u001b[39m_forward_hooks \u001b[39mor\u001b[39;00m \u001b[39mself\u001b[39m\u001b[39m.\u001b[39m_forward_pre_hooks \u001b[39mor\u001b[39;00m _global_backward_hooks\n",
      "\u001b[0;32m   1193\u001b[0m         \u001b[39mor\u001b[39;00m _global_forward_hooks \u001b[39mor\u001b[39;00m _global_forward_pre_hooks):\n",
      "\u001b[1;32m-> 1194\u001b[0m     \u001b[39mreturn\u001b[39;00m forward_call(\u001b[39m*\u001b[39m\u001b[39minput\u001b[39m, \u001b[39m*\u001b[39m\u001b[39m*\u001b[39mkwargs)\n",
      "\u001b[0;32m   1195\u001b[0m \u001b[39m# Do not call functions when jit is used\u001b[39;00m\n",
      "\u001b[0;32m   1196\u001b[0m full_backward_hooks, non_full_backward_hooks \u001b[39m=\u001b[39m [], []\n",
      "\n",
      "Cell \u001b[1;32mIn[25], line 39\u001b[0m, in \u001b[0;36mNet.forward\u001b[1;34m(self, x)\u001b[0m\n",
      "\u001b[0;32m     37\u001b[0m     \u001b[39mif\u001b[39;00m i \u001b[39m==\u001b[39m \u001b[39m0\u001b[39m:\n",
      "\u001b[0;32m     38\u001b[0m         \u001b[39mcontinue\u001b[39;00m\n",
      "\u001b[1;32m---> 39\u001b[0m     x \u001b[39m=\u001b[39m module(x)\n",
      "\u001b[0;32m     41\u001b[0m \u001b[39mreturn\u001b[39;00m x\n",
      "\n",
      "File \u001b[1;32md:\\Anaconda3\\lib\\site-packages\\torch\\nn\\modules\\module.py:1194\u001b[0m, in \u001b[0;36mModule._call_impl\u001b[1;34m(self, *input, **kwargs)\u001b[0m\n",
      "\u001b[0;32m   1190\u001b[0m \u001b[39m# If we don't have any hooks, we want to skip the rest of the logic in\u001b[39;00m\n",
      "\u001b[0;32m   1191\u001b[0m \u001b[39m# this function, and just call forward.\u001b[39;00m\n",
      "\u001b[0;32m   1192\u001b[0m \u001b[39mif\u001b[39;00m \u001b[39mnot\u001b[39;00m (\u001b[39mself\u001b[39m\u001b[39m.\u001b[39m_backward_hooks \u001b[39mor\u001b[39;00m \u001b[39mself\u001b[39m\u001b[39m.\u001b[39m_forward_hooks \u001b[39mor\u001b[39;00m \u001b[39mself\u001b[39m\u001b[39m.\u001b[39m_forward_pre_hooks \u001b[39mor\u001b[39;00m _global_backward_hooks\n",
      "\u001b[0;32m   1193\u001b[0m         \u001b[39mor\u001b[39;00m _global_forward_hooks \u001b[39mor\u001b[39;00m _global_forward_pre_hooks):\n",
      "\u001b[1;32m-> 1194\u001b[0m     \u001b[39mreturn\u001b[39;00m forward_call(\u001b[39m*\u001b[39m\u001b[39minput\u001b[39m, \u001b[39m*\u001b[39m\u001b[39m*\u001b[39mkwargs)\n",
      "\u001b[0;32m   1195\u001b[0m \u001b[39m# Do not call functions when jit is used\u001b[39;00m\n",
      "\u001b[0;32m   1196\u001b[0m full_backward_hooks, non_full_backward_hooks \u001b[39m=\u001b[39m [], []\n",
      "\n",
      "File \u001b[1;32md:\\Anaconda3\\lib\\site-packages\\torch\\nn\\modules\\linear.py:114\u001b[0m, in \u001b[0;36mLinear.forward\u001b[1;34m(self, input)\u001b[0m\n",
      "\u001b[0;32m    113\u001b[0m \u001b[39mdef\u001b[39;00m \u001b[39mforward\u001b[39m(\u001b[39mself\u001b[39m, \u001b[39minput\u001b[39m: Tensor) \u001b[39m-\u001b[39m\u001b[39m>\u001b[39m Tensor:\n",
      "\u001b[1;32m--> 114\u001b[0m     \u001b[39mreturn\u001b[39;00m F\u001b[39m.\u001b[39;49mlinear(\u001b[39minput\u001b[39;49m, \u001b[39mself\u001b[39;49m\u001b[39m.\u001b[39;49mweight, \u001b[39mself\u001b[39;49m\u001b[39m.\u001b[39;49mbias)\n",
      "\n",
      "\u001b[1;31mKeyboardInterrupt\u001b[0m: "
     ]
    }
   ],
   "source": [
    "trainer.train()"
   ]
  },
  {
   "cell_type": "markdown",
   "id": "1b8a5288",
   "metadata": {
    "id": "1b8a5288"
   },
   "source": [
    "Create a quick sketch of training"
   ]
  },
  {
   "cell_type": "code",
   "execution_count": null,
   "id": "f07eb521",
   "metadata": {
    "id": "f07eb521"
   },
   "outputs": [],
   "source": [
    "# plt.plot(trainer.train_losses, color='red', label=\"Train loss\")\n",
    "# plt.plot(trainer.test_losses, color='blue', label=\"Test loss\")\n",
    "\n",
    "# plt.grid()\n",
    "# plt.legend()\n",
    "# for ind in trainer.adaptation_indices:\n",
    "#     plt.axvline(ind, ls = '--', color='grey')\n",
    "# plt.yscale('log')\n",
    "# plt.xlabel(\"Epochs\")\n",
    "# plt.xlabel(\"MSE Loss\")\n",
    "# plt.title(\"Training (100, 100) network tabular EOS for p and eps\")\n",
    "# plt.savefig(\"testing_training_tab_eos_network_100_100.pdf\", bbox_inches = 'tight')\n",
    "# plt.show()"
   ]
  },
  {
   "cell_type": "markdown",
   "id": "8ad41d2a",
   "metadata": {
    "id": "8ad41d2a"
   },
   "source": [
    "# Archive: NNE2T"
   ]
  },
  {
   "cell_type": "markdown",
   "id": "391a25b5",
   "metadata": {
    "id": "391a25b5"
   },
   "source": [
    "__NNE2T__: try to replicate the conversion from energy to temperature, which is currently done by rootfinding approximations & lookups in the EOS table (see Gmunu code). It seemed harder than I initially thought to model and train this; and in the end, I'm not sure how useful it'll be, so I'm archiving this."
   ]
  },
  {
   "cell_type": "markdown",
   "id": "7f48e387",
   "metadata": {
    "id": "7f48e387"
   },
   "source": [
    "Get the training data as DataSet and DataLoader objects. Note on normalization: we fit transform on the training data, then use the fitted scaler object to transform (i.e. using same transformation as the training data) the test set."
   ]
  },
  {
   "cell_type": "code",
   "execution_count": null,
   "id": "b88f2675",
   "metadata": {
    "id": "b88f2675"
   },
   "outputs": [],
   "source": [
    "# Give the names of the input vars (features) and output vars (labels)\n",
    "in_vars = [\"rho\", \"eps\", \"ye\"]\n",
    "out_vars = [\"temp\"]\n",
    "# For normalization, use sklearn's StandardScaler\n",
    "scaler = StandardScaler()\n",
    "# Read the sampled data as pandas dataframes\n",
    "train_df = pd.read_csv(os.path.join(master_dir, \"Data/SLy4_training_data.csv\"))\n",
    "test_df  = pd.read_csv(os.path.join(master_dir, \"Data/SLy4_test_data.csv\"))\n",
    "# Convert to PyTorch Datasets as we defined them\n",
    "train_dataset = data.CustomDataset(train_df, feature_names = in_vars, label_names = out_vars, normalization_function = scaler.fit_transform) \n",
    "test_dataset  = data.CustomDataset(test_df, feature_names = in_vars, label_names = out_vars, normalization_function = scaler.transform)\n",
    "# Then create dataloaders, with batch size 32, from datasets\n",
    "train_dataloader = DataLoader(train_dataset, batch_size=32)\n",
    "test_dataloader  = DataLoader(test_dataset, batch_size=32)"
   ]
  },
  {
   "cell_type": "markdown",
   "id": "abee61f0",
   "metadata": {
    "id": "abee61f0"
   },
   "source": [
    "Create a new instance of the Net:"
   ]
  },
  {
   "cell_type": "code",
   "execution_count": null,
   "id": "b990a7ff",
   "metadata": {
    "id": "b990a7ff",
    "outputId": "76d4c28e-ca6a-423d-e905-27d55d54b42e"
   },
   "outputs": [
    {
     "data": {
      "text/plain": [
       "Net(\n",
       "  (linear1): Linear(in_features=3, out_features=50, bias=True)\n",
       "  (activation1): Sigmoid()\n",
       "  (linear2): Linear(in_features=50, out_features=50, bias=True)\n",
       "  (activation2): Sigmoid()\n",
       "  (linear3): Linear(in_features=50, out_features=1, bias=False)\n",
       ")"
      ]
     },
     "execution_count": 115,
     "metadata": {},
     "output_type": "execute_result"
    }
   ],
   "source": [
    "model = Net(nb_of_inputs = 3, nb_of_outputs = 1, h=[50, 50])\n",
    "model"
   ]
  },
  {
   "cell_type": "code",
   "execution_count": null,
   "id": "312052a9",
   "metadata": {
    "id": "312052a9",
    "outputId": "18d37e9e-a86e-48e2-87bd-c82646596aeb"
   },
   "outputs": [
    {
     "data": {
      "text/plain": [
       "2800"
      ]
     },
     "execution_count": 116,
     "metadata": {},
     "output_type": "execute_result"
    }
   ],
   "source": [
    "nnc2p.count_parameters(model)"
   ]
  },
  {
   "cell_type": "markdown",
   "id": "1f23d022",
   "metadata": {
    "id": "1f23d022"
   },
   "source": [
    "Create a trainer object from it:"
   ]
  },
  {
   "cell_type": "code",
   "execution_count": null,
   "id": "06becda4",
   "metadata": {
    "id": "06becda4"
   },
   "outputs": [],
   "source": [
    "trainer = nnc2p.Trainer(model, 1e-1, train_dataloader=train_dataloader, test_dataloader=test_dataloader)"
   ]
  },
  {
   "cell_type": "code",
   "execution_count": null,
   "id": "93ce3bda",
   "metadata": {
    "id": "93ce3bda",
    "outputId": "f4a25ecd-bfdf-4140-b06d-6c414eaf8736"
   },
   "outputs": [
    {
     "name": "stdout",
     "output_type": "stream",
     "text": [
      "Training the model for 500 epochs.\n",
      "\n",
      " Epoch 0 \n",
      " --------------\n",
      "Train loss: 7.59E-01\n",
      "Test  loss: 7.62E-01\n",
      "\n",
      " Epoch 1 \n",
      " --------------\n",
      "Train loss: 9.92E-01\n",
      "Test  loss: 9.98E-01\n",
      "\n",
      " Epoch 2 \n",
      " --------------\n",
      "Train loss: 9.45E-01\n",
      "Test  loss: 9.61E-01\n",
      "\n",
      " Epoch 3 \n",
      " --------------\n",
      "Train loss: 8.24E-01\n",
      "Test  loss: 8.29E-01\n",
      "\n",
      " Epoch 4 \n",
      " --------------\n",
      "Train loss: 9.10E-01\n",
      "Test  loss: 9.16E-01\n",
      "\n",
      " Epoch 5 \n",
      " --------------\n",
      "Train loss: 8.80E-01\n",
      "Test  loss: 8.91E-01\n",
      "\n",
      " Epoch 6 \n",
      " --------------\n",
      "Train loss: 8.62E-01\n",
      "Test  loss: 8.67E-01\n",
      "\n",
      " Epoch 7 \n",
      " --------------\n",
      "Train loss: 8.20E-01\n",
      "Test  loss: 8.27E-01\n",
      "\n",
      " Epoch 8 \n",
      " --------------\n",
      "Train loss: 8.80E-01\n",
      "Test  loss: 8.94E-01\n",
      "\n",
      " Epoch 9 \n",
      " --------------\n",
      "Train loss: 9.20E-01\n",
      "Test  loss: 9.26E-01\n",
      "\n",
      " Epoch 10 \n",
      " --------------\n",
      "Train loss: 7.34E-01\n",
      "Test  loss: 7.39E-01\n",
      "\n",
      " Epoch 11 \n",
      " --------------\n",
      "Train loss: 7.48E-01\n",
      "Test  loss: 7.56E-01\n",
      "\n",
      " Epoch 12 \n",
      " --------------\n",
      "Train loss: 7.28E-01\n",
      "Test  loss: 7.31E-01\n",
      "\n",
      " Epoch 13 \n",
      " --------------\n",
      "Train loss: 8.87E-01\n",
      "Test  loss: 8.99E-01\n",
      "\n",
      " Epoch 14 \n",
      " --------------\n",
      "Train loss: 8.02E-01\n",
      "Test  loss: 8.09E-01\n",
      "\n",
      " Epoch 15 \n",
      " --------------\n",
      "Train loss: 8.11E-01\n",
      "Test  loss: 8.20E-01\n",
      "\n",
      " Epoch 16 \n",
      " --------------\n",
      "Train loss: 8.02E-01\n",
      "Test  loss: 8.08E-01\n",
      "\n",
      " Epoch 17 \n",
      " --------------\n",
      "Adapting learning rate to 0.05\n",
      "Train loss: 8.70E-01\n",
      "Test  loss: 8.79E-01\n",
      "\n",
      " Epoch 18 \n",
      " --------------\n",
      "Train loss: 6.88E-01\n",
      "Test  loss: 6.92E-01\n",
      "\n",
      " Epoch 19 \n",
      " --------------\n",
      "Train loss: 6.24E-01\n",
      "Test  loss: 6.25E-01\n",
      "\n",
      " Epoch 20 \n",
      " --------------\n",
      "Train loss: 6.42E-01\n",
      "Test  loss: 6.46E-01\n",
      "\n",
      " Epoch 21 \n",
      " --------------\n",
      "Train loss: 6.21E-01\n",
      "Test  loss: 6.25E-01\n",
      "\n",
      " Epoch 22 \n",
      " --------------\n",
      "Train loss: 6.29E-01\n",
      "Test  loss: 6.32E-01\n",
      "\n",
      " Epoch 23 \n",
      " --------------\n",
      "Train loss: 6.30E-01\n",
      "Test  loss: 6.33E-01\n",
      "\n",
      " Epoch 24 \n",
      " --------------\n",
      "Train loss: 6.13E-01\n",
      "Test  loss: 6.16E-01\n",
      "\n",
      " Epoch 25 \n",
      " --------------\n",
      "Train loss: 6.25E-01\n",
      "Test  loss: 6.27E-01\n",
      "\n",
      " Epoch 26 \n",
      " --------------\n",
      "Train loss: 6.75E-01\n",
      "Test  loss: 6.81E-01\n",
      "\n",
      " Epoch 27 \n",
      " --------------\n",
      "Train loss: 6.22E-01\n",
      "Test  loss: 6.23E-01\n",
      "\n",
      " Epoch 28 \n",
      " --------------\n",
      "Train loss: 6.77E-01\n",
      "Test  loss: 6.81E-01\n",
      "\n",
      " Epoch 29 \n",
      " --------------\n",
      "Adapting learning rate to 0.025\n",
      "Train loss: 6.98E-01\n",
      "Test  loss: 6.99E-01\n",
      "\n",
      " Epoch 30 \n",
      " --------------\n",
      "Train loss: 5.71E-01\n",
      "Test  loss: 5.74E-01\n",
      "\n",
      " Epoch 31 \n",
      " --------------\n",
      "Train loss: 5.77E-01\n",
      "Test  loss: 5.81E-01\n",
      "\n",
      " Epoch 32 \n",
      " --------------\n",
      "Train loss: 5.69E-01\n",
      "Test  loss: 5.74E-01\n",
      "\n",
      " Epoch 33 \n",
      " --------------\n",
      "Train loss: 5.65E-01\n",
      "Test  loss: 5.69E-01\n",
      "\n",
      " Epoch 34 \n",
      " --------------\n",
      "Train loss: 5.63E-01\n",
      "Test  loss: 5.67E-01\n",
      "\n",
      " Epoch 35 \n",
      " --------------\n",
      "Train loss: 5.60E-01\n",
      "Test  loss: 5.65E-01\n",
      "\n",
      " Epoch 36 \n",
      " --------------\n",
      "Train loss: 5.67E-01\n",
      "Test  loss: 5.70E-01\n",
      "\n",
      " Epoch 37 \n",
      " --------------\n",
      "Train loss: 5.58E-01\n",
      "Test  loss: 5.60E-01\n",
      "\n",
      " Epoch 38 \n",
      " --------------\n",
      "Train loss: 5.62E-01\n",
      "Test  loss: 5.66E-01\n",
      "\n",
      " Epoch 39 \n",
      " --------------\n",
      "Train loss: 5.62E-01\n",
      "Test  loss: 5.66E-01\n",
      "\n",
      " Epoch 40 \n",
      " --------------\n",
      "Train loss: 5.62E-01\n",
      "Test  loss: 5.64E-01\n",
      "\n",
      " Epoch 41 \n",
      " --------------\n",
      "Train loss: 5.73E-01\n",
      "Test  loss: 5.75E-01\n",
      "\n",
      " Epoch 42 \n",
      " --------------\n",
      "Adapting learning rate to 0.0125\n",
      "Train loss: 5.69E-01\n",
      "Test  loss: 5.73E-01\n",
      "\n",
      " Epoch 43 \n",
      " --------------\n",
      "Train loss: 4.89E-01\n",
      "Test  loss: 4.92E-01\n",
      "\n",
      " Epoch 44 \n",
      " --------------\n",
      "Train loss: 4.87E-01\n",
      "Test  loss: 4.91E-01\n",
      "\n",
      " Epoch 45 \n",
      " --------------\n",
      "Train loss: 4.86E-01\n",
      "Test  loss: 4.91E-01\n",
      "\n",
      " Epoch 46 \n",
      " --------------\n",
      "Train loss: 4.83E-01\n",
      "Test  loss: 4.88E-01\n",
      "\n",
      " Epoch 47 \n",
      " --------------\n",
      "Train loss: 4.80E-01\n",
      "Test  loss: 4.85E-01\n",
      "\n",
      " Epoch 48 \n",
      " --------------\n",
      "Train loss: 4.78E-01\n",
      "Test  loss: 4.83E-01\n",
      "\n",
      " Epoch 49 \n",
      " --------------\n",
      "Train loss: 4.77E-01\n",
      "Test  loss: 4.81E-01\n",
      "\n",
      " Epoch 50 \n",
      " --------------\n",
      "Train loss: 4.75E-01\n",
      "Test  loss: 4.79E-01\n",
      "\n",
      " Epoch 51 \n",
      " --------------\n"
     ]
    },
    {
     "ename": "KeyboardInterrupt",
     "evalue": "",
     "output_type": "error",
     "traceback": [
      "\u001b[1;31m---------------------------------------------------------------------------\u001b[0m",
      "\u001b[1;31mKeyboardInterrupt\u001b[0m                         Traceback (most recent call last)",
      "Cell \u001b[1;32mIn[118], line 1\u001b[0m\n\u001b[1;32m----> 1\u001b[0m trainer\u001b[39m.\u001b[39;49mtrain()\n",
      "File \u001b[1;32md:\\Coding\\master-thesis-AI\\Code\\nnc2p.py:407\u001b[0m, in \u001b[0;36mTrainer.train\u001b[1;34m(self, adaptation_threshold, adaptation_multiplier, number_of_epochs, log_file, csv_file)\u001b[0m\n\u001b[0;32m    405\u001b[0m write_to_txt(log_file, \u001b[39mf\u001b[39m\u001b[39m\"\u001b[39m\u001b[39m\\n\u001b[39;00m\u001b[39m Epoch \u001b[39m\u001b[39m{\u001b[39;00mepoch_counter\u001b[39m}\u001b[39;00m\u001b[39m \u001b[39m\u001b[39m\\n\u001b[39;00m\u001b[39m --------------\u001b[39m\u001b[39m\"\u001b[39m)\n\u001b[0;32m    406\u001b[0m \u001b[39m# Train the network\u001b[39;00m\n\u001b[1;32m--> 407\u001b[0m train_loop(\u001b[39mself\u001b[39;49m\u001b[39m.\u001b[39;49mtrain_dataloader, \u001b[39mself\u001b[39;49m\u001b[39m.\u001b[39;49mmodel, \u001b[39mself\u001b[39;49m\u001b[39m.\u001b[39;49mloss_fn, \u001b[39mself\u001b[39;49m\u001b[39m.\u001b[39;49moptimizer, use_c2p_loss\u001b[39m=\u001b[39;49m\u001b[39mself\u001b[39;49m\u001b[39m.\u001b[39;49muse_c2p_loss)\n\u001b[0;32m    408\u001b[0m \u001b[39m# Test on the training data\u001b[39;00m\n\u001b[0;32m    409\u001b[0m average_train_loss \u001b[39m=\u001b[39m test_loop(\u001b[39mself\u001b[39m\u001b[39m.\u001b[39mtrain_dataloader, \u001b[39mself\u001b[39m\u001b[39m.\u001b[39mmodel, \u001b[39mself\u001b[39m\u001b[39m.\u001b[39mloss_fn)\n",
      "File \u001b[1;32md:\\Coding\\master-thesis-AI\\Code\\nnc2p.py:277\u001b[0m, in \u001b[0;36mtrain_loop\u001b[1;34m(dataloader, model, loss_fn, optimizer, report_progress, use_c2p_loss)\u001b[0m\n\u001b[0;32m    274\u001b[0m size \u001b[39m=\u001b[39m \u001b[39mlen\u001b[39m(dataloader\u001b[39m.\u001b[39mdataset)\n\u001b[0;32m    275\u001b[0m \u001b[39mfor\u001b[39;00m batch, (X, y) \u001b[39min\u001b[39;00m \u001b[39menumerate\u001b[39m(dataloader):\n\u001b[0;32m    276\u001b[0m     \u001b[39m# Compute prediction \u001b[39;00m\n\u001b[1;32m--> 277\u001b[0m     prediction \u001b[39m=\u001b[39m model(X)\n\u001b[0;32m    278\u001b[0m     \u001b[39m# In case we use C2P loss function, have to provide conserved variables for the loss computation\u001b[39;00m\n\u001b[0;32m    279\u001b[0m     \u001b[39mif\u001b[39;00m use_c2p_loss:\n",
      "File \u001b[1;32md:\\Anaconda3\\lib\\site-packages\\torch\\nn\\modules\\module.py:1194\u001b[0m, in \u001b[0;36mModule._call_impl\u001b[1;34m(self, *input, **kwargs)\u001b[0m\n\u001b[0;32m   1190\u001b[0m \u001b[39m# If we don't have any hooks, we want to skip the rest of the logic in\u001b[39;00m\n\u001b[0;32m   1191\u001b[0m \u001b[39m# this function, and just call forward.\u001b[39;00m\n\u001b[0;32m   1192\u001b[0m \u001b[39mif\u001b[39;00m \u001b[39mnot\u001b[39;00m (\u001b[39mself\u001b[39m\u001b[39m.\u001b[39m_backward_hooks \u001b[39mor\u001b[39;00m \u001b[39mself\u001b[39m\u001b[39m.\u001b[39m_forward_hooks \u001b[39mor\u001b[39;00m \u001b[39mself\u001b[39m\u001b[39m.\u001b[39m_forward_pre_hooks \u001b[39mor\u001b[39;00m _global_backward_hooks\n\u001b[0;32m   1193\u001b[0m         \u001b[39mor\u001b[39;00m _global_forward_hooks \u001b[39mor\u001b[39;00m _global_forward_pre_hooks):\n\u001b[1;32m-> 1194\u001b[0m     \u001b[39mreturn\u001b[39;00m forward_call(\u001b[39m*\u001b[39m\u001b[39minput\u001b[39m, \u001b[39m*\u001b[39m\u001b[39m*\u001b[39mkwargs)\n\u001b[0;32m   1195\u001b[0m \u001b[39m# Do not call functions when jit is used\u001b[39;00m\n\u001b[0;32m   1196\u001b[0m full_backward_hooks, non_full_backward_hooks \u001b[39m=\u001b[39m [], []\n",
      "Cell \u001b[1;32mIn[25], line 39\u001b[0m, in \u001b[0;36mNet.forward\u001b[1;34m(self, x)\u001b[0m\n\u001b[0;32m     37\u001b[0m     \u001b[39mif\u001b[39;00m i \u001b[39m==\u001b[39m \u001b[39m0\u001b[39m:\n\u001b[0;32m     38\u001b[0m         \u001b[39mcontinue\u001b[39;00m\n\u001b[1;32m---> 39\u001b[0m     x \u001b[39m=\u001b[39m module(x)\n\u001b[0;32m     41\u001b[0m \u001b[39mreturn\u001b[39;00m x\n",
      "File \u001b[1;32md:\\Anaconda3\\lib\\site-packages\\torch\\nn\\modules\\module.py:1194\u001b[0m, in \u001b[0;36mModule._call_impl\u001b[1;34m(self, *input, **kwargs)\u001b[0m\n\u001b[0;32m   1190\u001b[0m \u001b[39m# If we don't have any hooks, we want to skip the rest of the logic in\u001b[39;00m\n\u001b[0;32m   1191\u001b[0m \u001b[39m# this function, and just call forward.\u001b[39;00m\n\u001b[0;32m   1192\u001b[0m \u001b[39mif\u001b[39;00m \u001b[39mnot\u001b[39;00m (\u001b[39mself\u001b[39m\u001b[39m.\u001b[39m_backward_hooks \u001b[39mor\u001b[39;00m \u001b[39mself\u001b[39m\u001b[39m.\u001b[39m_forward_hooks \u001b[39mor\u001b[39;00m \u001b[39mself\u001b[39m\u001b[39m.\u001b[39m_forward_pre_hooks \u001b[39mor\u001b[39;00m _global_backward_hooks\n\u001b[0;32m   1193\u001b[0m         \u001b[39mor\u001b[39;00m _global_forward_hooks \u001b[39mor\u001b[39;00m _global_forward_pre_hooks):\n\u001b[1;32m-> 1194\u001b[0m     \u001b[39mreturn\u001b[39;00m forward_call(\u001b[39m*\u001b[39m\u001b[39minput\u001b[39m, \u001b[39m*\u001b[39m\u001b[39m*\u001b[39mkwargs)\n\u001b[0;32m   1195\u001b[0m \u001b[39m# Do not call functions when jit is used\u001b[39;00m\n\u001b[0;32m   1196\u001b[0m full_backward_hooks, non_full_backward_hooks \u001b[39m=\u001b[39m [], []\n",
      "File \u001b[1;32md:\\Anaconda3\\lib\\site-packages\\torch\\nn\\modules\\linear.py:114\u001b[0m, in \u001b[0;36mLinear.forward\u001b[1;34m(self, input)\u001b[0m\n\u001b[0;32m    113\u001b[0m \u001b[39mdef\u001b[39;00m \u001b[39mforward\u001b[39m(\u001b[39mself\u001b[39m, \u001b[39minput\u001b[39m: Tensor) \u001b[39m-\u001b[39m\u001b[39m>\u001b[39m Tensor:\n\u001b[1;32m--> 114\u001b[0m     \u001b[39mreturn\u001b[39;00m F\u001b[39m.\u001b[39;49mlinear(\u001b[39minput\u001b[39;49m, \u001b[39mself\u001b[39;49m\u001b[39m.\u001b[39;49mweight, \u001b[39mself\u001b[39;49m\u001b[39m.\u001b[39;49mbias)\n",
      "\u001b[1;31mKeyboardInterrupt\u001b[0m: "
     ]
    }
   ],
   "source": [
    "trainer.train()"
   ]
  },
  {
   "cell_type": "markdown",
   "id": "8cc2a130",
   "metadata": {
    "id": "8cc2a130"
   },
   "source": [
    "Create a quick sketch of training"
   ]
  },
  {
   "cell_type": "code",
   "execution_count": null,
   "id": "c5338413",
   "metadata": {
    "id": "c5338413"
   },
   "outputs": [],
   "source": [
    "# plt.plot(trainer.train_losses, color='red', label=\"Train loss\")\n",
    "# plt.plot(trainer.test_losses, color='blue', label=\"Test loss\")\n",
    "\n",
    "# plt.grid()\n",
    "# plt.legend()\n",
    "# for ind in trainer.adaptation_indices:\n",
    "#     plt.axvline(ind, ls = '--', color='grey')\n",
    "# plt.yscale('log')\n",
    "# plt.xlabel(\"Epochs\")\n",
    "# plt.xlabel(\"MSE Loss\")\n",
    "# plt.title(\"Training (100, 100) network tabular EOS for p and eps\")\n",
    "# plt.savefig(\"testing_training_tab_eos_network_100_100.pdf\", bbox_inches = 'tight')\n",
    "# plt.show()"
   ]
  }
 ],
 "metadata": {
  "author": "Thibeau Wouters",
  "colab": {
   "provenance": []
  },
  "gpuClass": "standard",
  "kernelspec": {
   "display_name": "Python 3 (ipykernel)",
   "language": "python",
   "name": "python3"
  },
  "language_info": {
   "codemirror_mode": {
    "name": "ipython",
    "version": 3
   },
   "file_extension": ".py",
   "mimetype": "text/x-python",
   "name": "python",
   "nbconvert_exporter": "python",
   "pygments_lexer": "ipython3",
   "version": "3.9.12"
  },
  "latex_envs": {
   "LaTeX_envs_menu_present": true,
   "autoclose": false,
   "autocomplete": true,
   "bibliofile": "biblio.bib",
   "cite_by": "apalike",
   "current_citInitial": 1,
   "eqLabelWithNumbers": true,
   "eqNumInitial": 1,
   "hotkeys": {
    "equation": "Ctrl-E",
    "itemize": "Ctrl-I"
   },
   "labels_anchors": false,
   "latex_user_defs": false,
   "report_style_numbering": false,
   "user_envs_cfg": false
  },
  "toc": {
   "base_numbering": 1,
   "nav_menu": {},
   "number_sections": true,
   "sideBar": true,
   "skip_h1_title": false,
   "title_cell": "Table of Contents",
   "title_sidebar": "Contents",
   "toc_cell": false,
   "toc_position": {},
   "toc_section_display": true,
   "toc_window_display": false
  }
 },
 "nbformat": 4,
 "nbformat_minor": 5
}
