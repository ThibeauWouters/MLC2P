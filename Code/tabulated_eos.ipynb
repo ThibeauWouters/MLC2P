{
 "cells": [
  {
   "cell_type": "code",
   "execution_count": 2,
   "id": "0bb9f224",
   "metadata": {
    "executionInfo": {
     "elapsed": 8764,
     "status": "ok",
     "timestamp": 1681398656896,
     "user": {
      "displayName": "Thibeau Wouters",
      "userId": "14702334917940433667"
     },
     "user_tz": -120
    },
    "id": "0bb9f224"
   },
   "outputs": [],
   "source": [
    "# Standard libraries\n",
    "import time\n",
    "import numpy as np\n",
    "import matplotlib.pyplot as plt\n",
    "import matplotlib.cm as cm\n",
    "plt.rcParams['figure.dpi'] = 300\n",
    "import random\n",
    "import csv\n",
    "import pandas as pd\n",
    "import h5py\n",
    "import gc  # garbage collection\n",
    "# Scikit learn libraries\n",
    "from sklearn.model_selection import train_test_split\n",
    "from sklearn.preprocessing import StandardScaler\n",
    "# PyTorch libraries\n",
    "import torch\n",
    "from torch import nn\n",
    "from torch.utils.data import Dataset, DataLoader\n",
    "from torchvision.transforms import ToTensor, Normalize \n",
    "# Get dirs\n",
    "import os\n",
    "cwd = os.getcwd()# \"Code\" folder\n",
    "master_dir = os.path.abspath(os.path.join(cwd, \"..\"))\n",
    "# ONNX\n",
    "# import onnx\n",
    "# import onnxruntime"
   ]
  },
  {
   "cell_type": "markdown",
   "id": "4c465f7c",
   "metadata": {
    "id": "4c465f7c"
   },
   "source": [
    "When using __Google Colab__, run the following cell"
   ]
  },
  {
   "cell_type": "code",
   "execution_count": 3,
   "id": "75bacf53",
   "metadata": {
    "colab": {
     "base_uri": "https://localhost:8080/"
    },
    "executionInfo": {
     "elapsed": 19202,
     "status": "ok",
     "timestamp": 1681398681220,
     "user": {
      "displayName": "Thibeau Wouters",
      "userId": "14702334917940433667"
     },
     "user_tz": -120
    },
    "id": "bbeb496d",
    "outputId": "30fa916e-e8c0-4fbe-de12-cd51790fc6a3"
   },
   "outputs": [],
   "source": [
    "# from google.colab import drive\n",
    "# drive.mount('/content/drive')\n",
    "# code_dir = \"/content/drive/MyDrive/KUL/MAI thesis/Code\"\n",
    "# master_dir = os.path.join(code_dir, \"..\")\n",
    "# os.chdir(code_dir)\n",
    "# print(os.getcwd())"
   ]
  },
  {
   "cell_type": "code",
   "execution_count": 4,
   "id": "36bbffc0",
   "metadata": {
    "executionInfo": {
     "elapsed": 1462,
     "status": "ok",
     "timestamp": 1681398682653,
     "user": {
      "displayName": "Thibeau Wouters",
      "userId": "14702334917940433667"
     },
     "user_tz": -120
    },
    "id": "36bbffc0"
   },
   "outputs": [],
   "source": [
    "# Load own scripts:\n",
    "%load_ext autoreload\n",
    "%autoreload 2\n",
    "import physics\n",
    "import data\n",
    "import nnc2p"
   ]
  },
  {
   "cell_type": "markdown",
   "id": "c3393c80",
   "metadata": {
    "id": "c3393c80"
   },
   "source": [
    "Point towards the folder where we store the EOS tables (__Note:__ they are not in the Github as these are very large files)"
   ]
  },
  {
   "cell_type": "code",
   "execution_count": 6,
   "id": "efbc8d2b",
   "metadata": {
    "colab": {
     "base_uri": "https://localhost:8080/"
    },
    "executionInfo": {
     "elapsed": 30,
     "status": "ok",
     "timestamp": 1681398682653,
     "user": {
      "displayName": "Thibeau Wouters",
      "userId": "14702334917940433667"
     },
     "user_tz": -120
    },
    "id": "efbc8d2b",
    "outputId": "49af00ba-c706-4dd9-fd2c-ee828683afe1"
   },
   "outputs": [
    {
     "name": "stdout",
     "output_type": "stream",
     "text": [
      "Going to look for EOS tables at D:/Coding/Datasets/eos_tables\n"
     ]
    }
   ],
   "source": [
    "eos_tables_dir = os.path.join(\"D:/Coding/Datasets/eos_tables\")  # offline\n",
    "# eos_tables_dir = os.path.join(master_dir, \"Data\")  # in Google Colab\n",
    "print(f\"Going to look for EOS tables at {eos_tables_dir}\")"
   ]
  },
  {
   "cell_type": "markdown",
   "id": "vqCsP2sKAeCm",
   "metadata": {
    "id": "vqCsP2sKAeCm"
   },
   "source": [
    "For the training, check if GPU is available (Google Colab):"
   ]
  },
  {
   "cell_type": "code",
   "execution_count": 7,
   "id": "P8YoVE15AhRC",
   "metadata": {
    "colab": {
     "base_uri": "https://localhost:8080/"
    },
    "executionInfo": {
     "elapsed": 29,
     "status": "ok",
     "timestamp": 1681398682654,
     "user": {
      "displayName": "Thibeau Wouters",
      "userId": "14702334917940433667"
     },
     "user_tz": -120
    },
    "id": "P8YoVE15AhRC",
    "outputId": "4f6e373c-7e27-4461-f5cf-51b91d99d440"
   },
   "outputs": [
    {
     "name": "stdout",
     "output_type": "stream",
     "text": [
      "Device for training: cpu\n"
     ]
    }
   ],
   "source": [
    "if torch.cuda.is_available(): \n",
    "    DEVICE = \"cuda:0\" \n",
    "    torch.set_default_device('cuda')\n",
    "else: \n",
    "    DEVICE = \"cpu\" \n",
    "print(f\"Device for training: {DEVICE}\")"
   ]
  },
  {
   "cell_type": "markdown",
   "id": "02fb3c8c",
   "metadata": {
    "id": "02fb3c8c"
   },
   "source": [
    "# Introduction"
   ]
  },
  {
   "cell_type": "markdown",
   "id": "96ab265e",
   "metadata": {
    "id": "96ab265e"
   },
   "source": [
    "Here, we try to find a way to generalize the NN approach from the first semester to the situation of tabular EOS. \n",
    "\n",
    "*Note*: We use HDF5 files, but you have to close them manually. Forgot to close one? Check if there is still an open HDF5 file with garbage collect in the memory, and close it:"
   ]
  },
  {
   "cell_type": "code",
   "execution_count": 21,
   "id": "17ceb9b1",
   "metadata": {},
   "outputs": [
    {
     "name": "stdout",
     "output_type": "stream",
     "text": [
      "<Closed HDF5 file>\n"
     ]
    },
    {
     "data": {
      "text/plain": [
       "0"
      ]
     },
     "execution_count": 21,
     "metadata": {},
     "output_type": "execute_result"
    }
   ],
   "source": [
    "# Browse through objects\n",
    "for obj in gc.get_objects():\n",
    "    # see if is an HDF5 file\n",
    "    if isinstance(obj, h5py.File):\n",
    "        print(obj)\n",
    "        try:\n",
    "            obj.close()\n",
    "            del obj\n",
    "        except:\n",
    "            pass\n",
    "gc.collect()"
   ]
  },
  {
   "cell_type": "markdown",
   "id": "cf08ad4a",
   "metadata": {
    "id": "cf08ad4a"
   },
   "source": [
    "# Exploring EOS tables"
   ]
  },
  {
   "cell_type": "code",
   "execution_count": 9,
   "id": "4d5e6fdb",
   "metadata": {
    "executionInfo": {
     "elapsed": 380,
     "status": "ok",
     "timestamp": 1681398683009,
     "user": {
      "displayName": "Thibeau Wouters",
      "userId": "14702334917940433667"
     },
     "user_tz": -120
    },
    "id": "4d5e6fdb"
   },
   "outputs": [],
   "source": [
    "# Put the downloaded EOS tables here\n",
    "# first_table_filename       = \"LS180_234r_136t_50y_analmu_20091212_SVNr26.h5\"\n",
    "# second_table_filename = \"GShen_NL3EOS_rho280_temp180_ye52_version_1.1_20120817.h5\"\n",
    "third_table_filename      = \"SLy4_0000_rho391_temp163_ye66.h5\"\n",
    "# Then specify which we are going to use here\n",
    "eos_table_filename = third_table_filename"
   ]
  },
  {
   "cell_type": "markdown",
   "id": "78d8f465",
   "metadata": {
    "id": "78d8f465"
   },
   "source": [
    "Read in the SLy4 EOS table using our py script: (make sure to close HDF5 files!)"
   ]
  },
  {
   "cell_type": "code",
   "execution_count": 136,
   "id": "913d9582",
   "metadata": {
    "colab": {
     "base_uri": "https://localhost:8080/"
    },
    "executionInfo": {
     "elapsed": 660,
     "status": "ok",
     "timestamp": 1681398683667,
     "user": {
      "displayName": "Thibeau Wouters",
      "userId": "14702334917940433667"
     },
     "user_tz": -120
    },
    "id": "913d9582",
    "outputId": "677bba7a-6c4a-4190-a9fa-8f0bbca82bfd"
   },
   "outputs": [
    {
     "name": "stdout",
     "output_type": "stream",
     "text": [
      "This EOS table has dimensions 66 x 163 x 391\n",
      "Example: (3.0239960056064277, -3.0, 0.005) we have (log eps, log p): (19.2791052025363, 17.99956975587081).\n"
     ]
    }
   ],
   "source": [
    "# Open EOS table\n",
    "eos_table = physics.read_eos_table(os.path.join(eos_tables_dir, eos_table_filename))\n",
    "# Read in the most important variables and convert them to np arrays\n",
    "dim_ye, dim_temp, dim_rho = eos_table[\"pointsye\"][()][0], eos_table[\"pointstemp\"][()][0], eos_table[\"pointsrho\"][()][0]\n",
    "logrho = eos_table[\"logrho\"][()]\n",
    "logtemp = eos_table[\"logtemp\"][()]\n",
    "ye = eos_table[\"ye\"][()]\n",
    "logpress = eos_table[\"logpress\"][()]\n",
    "logenergy = eos_table[\"logenergy\"][()]\n",
    "energy_shift = eos_table[\"energy_shift\"][()][0]\n",
    "cs2 = eos_table[\"cs2\"][()]\n",
    "print(f\"This EOS table has dimensions {dim_ye} x {dim_temp} x {dim_rho}\")\n",
    "# Small test to see the output of the EOS table\n",
    "test_ye = eos_table[\"ye\"][()][0]\n",
    "test_temp = eos_table[\"logtemp\"][()][0]\n",
    "test_rho = eos_table[\"logrho\"][()][0]\n",
    "test_press, test_eps = eos_table[\"logpress\"][()][0, 0, 0], eos_table[\"logenergy\"][()][0, 0, 0]\n",
    "print(f\"Example: ({test_rho}, {test_temp}, {test_ye}) we have (log eps, log p): ({test_eps}, {test_press}).\")\n",
    "eos_table.close()"
   ]
  },
  {
   "cell_type": "code",
   "execution_count": 11,
   "id": "8dd7c23c",
   "metadata": {},
   "outputs": [],
   "source": [
    "# np.savetxt(\"energy_shift.txt\", [energy_shift])"
   ]
  },
  {
   "cell_type": "markdown",
   "id": "f0167f31",
   "metadata": {
    "id": "f0167f31"
   },
   "source": [
    "See what is inside this EOS table"
   ]
  },
  {
   "cell_type": "code",
   "execution_count": 12,
   "id": "316b6963",
   "metadata": {
    "colab": {
     "base_uri": "https://localhost:8080/"
    },
    "executionInfo": {
     "elapsed": 517,
     "status": "ok",
     "timestamp": 1681398689771,
     "user": {
      "displayName": "Thibeau Wouters",
      "userId": "14702334917940433667"
     },
     "user_tz": -120
    },
    "id": "316b6963",
    "outputId": "77b6ecac-15ea-461d-f76a-b641a290fd63"
   },
   "outputs": [],
   "source": [
    "# # Iterate over keys and save them to list for simplified viewing\n",
    "# keys = []\n",
    "# for key in eos_table:\n",
    "#     keys.append(key)\n",
    "# print(keys)\n",
    "# print(len(keys))\n",
    "\n",
    "## Output\n",
    "# ['Abar', 'Albar', 'MERGE-space.in', 'MERGE-src.tar.gz', 'MERGE-tables.in', 'MERGE-transition.in', 'SNA-skyrme.in', 'SNA-space.in', 'SNA-src.tar.gz', 'Xa', 'Xh', 'Xl', 'Xn', 'Xp', 'Zbar', 'Zlbar', 'cs2', 'dedt', 'dpderho', 'dpdrhoe', 'energy_shift', 'entropy', 'gamma', 'have_rel_cs2', 'logenergy', 'logpress', 'logrho', 'logtemp', 'meffn', 'meffp', 'mu_e', 'mu_n', 'mu_p', 'muhat', 'munu', 'pointsrho', 'pointstemp', 'pointsye', 'r', 'u', 'ye']"
   ]
  },
  {
   "cell_type": "markdown",
   "id": "cc15e58b",
   "metadata": {
    "id": "cc15e58b"
   },
   "source": [
    "# Generating training data by sampling from EOS table"
   ]
  },
  {
   "cell_type": "markdown",
   "id": "bc8fc6d3",
   "metadata": {
    "id": "bc8fc6d3"
   },
   "source": [
    "To generate new data"
   ]
  },
  {
   "cell_type": "code",
   "execution_count": 13,
   "id": "511ae7db",
   "metadata": {
    "executionInfo": {
     "elapsed": 7,
     "status": "ok",
     "timestamp": 1681398695231,
     "user": {
      "displayName": "Thibeau Wouters",
      "userId": "14702334917940433667"
     },
     "user_tz": -120
    },
    "id": "511ae7db"
   },
   "outputs": [],
   "source": [
    "# dat = physics.generate_tabular_data(eos_table, number_of_points = 100000, save_name = \"SLy4_training_data\")\n",
    "# dat = physics.generate_tabular_data(eos_table, number_of_points = 20000, save_name = \"SLy4_test_data\")"
   ]
  },
  {
   "cell_type": "markdown",
   "id": "a0a121af",
   "metadata": {
    "id": "a0a121af"
   },
   "source": [
    "Load data"
   ]
  },
  {
   "cell_type": "code",
   "execution_count": 14,
   "id": "f929937d",
   "metadata": {
    "colab": {
     "base_uri": "https://localhost:8080/",
     "height": 487
    },
    "executionInfo": {
     "elapsed": 557,
     "status": "ok",
     "timestamp": 1681398695783,
     "user": {
      "displayName": "Thibeau Wouters",
      "userId": "14702334917940433667"
     },
     "user_tz": -120
    },
    "id": "f929937d",
    "outputId": "304adfcc-4c0a-40fa-e2eb-452997407dc9"
   },
   "outputs": [],
   "source": [
    "# df = pd.read_csv(os.path.join(master_dir, \"Data/SLy4_training_data.csv\"))\n",
    "# df"
   ]
  },
  {
   "cell_type": "markdown",
   "id": "5f2fce3d",
   "metadata": {
    "id": "5f2fce3d"
   },
   "source": [
    "The network architecture we will use:"
   ]
  },
  {
   "cell_type": "code",
   "execution_count": 15,
   "id": "270fd513",
   "metadata": {
    "executionInfo": {
     "elapsed": 215,
     "status": "ok",
     "timestamp": 1681398697956,
     "user": {
      "displayName": "Thibeau Wouters",
      "userId": "14702334917940433667"
     },
     "user_tz": -120
    },
    "id": "270fd513"
   },
   "outputs": [],
   "source": [
    "class Net(nn.Module):\n",
    "    \"\"\"\n",
    "    Implements a simple feedforward neural network.\n",
    "    \"\"\"\n",
    "    def __init__(self, nb_of_inputs: int = 3, nb_of_outputs: int = 1, h: list = [600, 200], reg: bool = False, \n",
    "                 activation_function = torch.nn.Sigmoid) -> None:\n",
    "        \"\"\"\n",
    "        Initialize the neural network class.\n",
    "        \"\"\"\n",
    "        # Call the super constructor first\n",
    "        super(Net, self).__init__()\n",
    "        \n",
    "        # For convenience, save the sizes of the hidden layers as fields as well\n",
    "        self.h = h\n",
    "        # Add visible layers as well: input is 3D and output is 1D\n",
    "        self.h_augmented = [nb_of_inputs] + h + [nb_of_outputs]\n",
    "\n",
    "        # Add field to specify whether or not we do regularization\n",
    "        self.regularization = reg\n",
    "\n",
    "        # Define the layers:\n",
    "        for i in range(len(self.h_augmented)-1):\n",
    "            if i == len(self.h_augmented)-2:\n",
    "                setattr(self, f\"linear{i+1}\", nn.Linear(self.h_augmented[i], self.h_augmented[i+1], bias=False))\n",
    "            else:\n",
    "                setattr(self, f\"linear{i+1}\", nn.Linear(self.h_augmented[i], self.h_augmented[i+1]))\n",
    "                setattr(self, f\"activation{i+1}\", activation_function())\n",
    "\n",
    "    def forward(self, x):\n",
    "        \"\"\"\n",
    "        Computes a forward step given the input x.\n",
    "        :param x: Input for the neural network.\n",
    "        :return: x: Output neural network\n",
    "        \"\"\"\n",
    "        \n",
    "        for i, module in enumerate(self.modules()):\n",
    "            # The first module is the whole NNC2P object, continue\n",
    "            if i == 0:\n",
    "                continue\n",
    "            x = module(x)\n",
    "\n",
    "        return x"
   ]
  },
  {
   "cell_type": "markdown",
   "id": "8fd2f127",
   "metadata": {
    "id": "8fd2f127"
   },
   "source": [
    "# First goal: NNEOS"
   ]
  },
  {
   "cell_type": "markdown",
   "id": "e5850152",
   "metadata": {
    "id": "e5850152"
   },
   "source": [
    "__NNEOS__: try to replicate the EOS table (at least the core variables we are interested in) using the \"input\" variables rho, temp, ye."
   ]
  },
  {
   "cell_type": "markdown",
   "id": "12089f53",
   "metadata": {
    "id": "12089f53"
   },
   "source": [
    "## Convert EOS table to table of training examples"
   ]
  },
  {
   "cell_type": "code",
   "execution_count": 69,
   "id": "7a92994d",
   "metadata": {
    "executionInfo": {
     "elapsed": 4,
     "status": "ok",
     "timestamp": 1681398700618,
     "user": {
      "displayName": "Thibeau Wouters",
      "userId": "14702334917940433667"
     },
     "user_tz": -120
    },
    "id": "7a92994d"
   },
   "outputs": [],
   "source": [
    "# Get the filename of converted training data\n",
    "filename = os.path.join(eos_tables_dir, \"train_eos_table.h5\")"
   ]
  },
  {
   "cell_type": "code",
   "execution_count": 70,
   "id": "051199cf",
   "metadata": {
    "executionInfo": {
     "elapsed": 3,
     "status": "ok",
     "timestamp": 1681398701905,
     "user": {
      "displayName": "Thibeau Wouters",
      "userId": "14702334917940433667"
     },
     "user_tz": -120
    },
    "id": "051199cf"
   },
   "outputs": [],
   "source": [
    "# # Create new dataset (if desired)\n",
    "# # Specify output vars as \"var_names\" argument in this function - see physics.py\n",
    "# eos_table = physics.read_eos_table(os.path.join(eos_tables_dir, eos_table_filename))\n",
    "# physics.convert_eos_table(eos_table, save_name=filename)\n",
    "# eos_table.close()"
   ]
  },
  {
   "cell_type": "code",
   "execution_count": 71,
   "id": "ccbc983b",
   "metadata": {
    "colab": {
     "base_uri": "https://localhost:8080/"
    },
    "executionInfo": {
     "elapsed": 2035,
     "status": "ok",
     "timestamp": 1681398704133,
     "user": {
      "displayName": "Thibeau Wouters",
      "userId": "14702334917940433667"
     },
     "user_tz": -120
    },
    "id": "ccbc983b",
    "outputId": "a345b306-1aba-427e-874c-daa97b43cdca"
   },
   "outputs": [
    {
     "name": "stdout",
     "output_type": "stream",
     "text": [
      "The output variables are [b'logenergy' b'logpress' b'cs2']. Number of examples: 4206378\n"
     ]
    }
   ],
   "source": [
    "# Load the data\n",
    "train_eos_table = h5py.File(filename, 'r')\n",
    "# Get the data saved in the HDF5 file\n",
    "features  = train_eos_table[\"features\"][:]\n",
    "labels    = train_eos_table[\"labels\"][:]\n",
    "var_names = train_eos_table[\"var_names\"][:]\n",
    "size_eos_table = len(features)\n",
    "print(f\"The output variables are {var_names}. Number of examples: {size_eos_table}\")\n",
    "# Close the file\n",
    "train_eos_table.close()"
   ]
  },
  {
   "cell_type": "markdown",
   "id": "805525b8",
   "metadata": {},
   "source": [
    "## Preprocess the data"
   ]
  },
  {
   "cell_type": "markdown",
   "id": "370870df",
   "metadata": {},
   "source": [
    "An example of a features/labels pair:"
   ]
  },
  {
   "cell_type": "code",
   "execution_count": 138,
   "id": "0d8a4d14",
   "metadata": {
    "colab": {
     "base_uri": "https://localhost:8080/"
    },
    "executionInfo": {
     "elapsed": 36,
     "status": "ok",
     "timestamp": 1681398706075,
     "user": {
      "displayName": "Thibeau Wouters",
      "userId": "14702334917940433667"
     },
     "user_tz": -120
    },
    "id": "0d8a4d14",
    "outputId": "0f2e12a5-cd17-4dcb-ac27-f09ecee5e38a"
   },
   "outputs": [
    {
     "name": "stdout",
     "output_type": "stream",
     "text": [
      "[ 3.02399601 -3.          0.005     ]\n",
      "[19.2791052  17.99956976 34.99350003]\n"
     ]
    }
   ],
   "source": [
    "print(features[0])\n",
    "print(labels[0])"
   ]
  },
  {
   "cell_type": "markdown",
   "id": "f8ffe6ce",
   "metadata": {},
   "source": [
    "### Delete negative $c_s^2$ values"
   ]
  },
  {
   "cell_type": "markdown",
   "id": "54ff9a72",
   "metadata": {},
   "source": [
    "There are apparently a few negative values for the speed of sound... They are likely a bug in the code? We'll remove them."
   ]
  },
  {
   "cell_type": "code",
   "execution_count": 73,
   "id": "4dd3f488",
   "metadata": {},
   "outputs": [
    {
     "data": {
      "text/plain": [
       "array([1.57573784e+15, 1.53801127e+15, 1.49992954e+15, ...,\n",
       "       1.34334539e+21, 1.34446322e+21, 1.34570741e+21])"
      ]
     },
     "execution_count": 73,
     "metadata": {},
     "output_type": "execute_result"
    }
   ],
   "source": [
    "cs_values = labels[:, 2]\n",
    "cs_values"
   ]
  },
  {
   "cell_type": "code",
   "execution_count": 74,
   "id": "afe39d42",
   "metadata": {},
   "outputs": [
    {
     "data": {
      "text/plain": [
       "array([[3629826],\n",
       "       [3629892],\n",
       "       [3629958],\n",
       "       [3630024],\n",
       "       [3630090],\n",
       "       [3630156],\n",
       "       [3630222],\n",
       "       [3630288],\n",
       "       [3630354]], dtype=int64)"
      ]
     },
     "execution_count": 74,
     "metadata": {},
     "output_type": "execute_result"
    }
   ],
   "source": [
    "negative_indices = np.argwhere(cs_values < 0)\n",
    "negative_indices"
   ]
  },
  {
   "cell_type": "code",
   "execution_count": 75,
   "id": "318b7b08",
   "metadata": {},
   "outputs": [],
   "source": [
    "features = np.delete(features, negative_indices, axis=0)\n",
    "labels = np.delete(labels, negative_indices, axis=0)"
   ]
  },
  {
   "cell_type": "markdown",
   "id": "eae7707a",
   "metadata": {},
   "source": [
    "### Use log values for $c_s^2$"
   ]
  },
  {
   "cell_type": "markdown",
   "id": "64c4f2e6",
   "metadata": {},
   "source": [
    "If we are using cs2 in the output, you see that its values are huge -- we will also output log cs2 values to improve training the network:"
   ]
  },
  {
   "cell_type": "code",
   "execution_count": 76,
   "id": "c822a63c",
   "metadata": {},
   "outputs": [],
   "source": [
    "# Note: binary text!\n",
    "if b\"cs2\" in var_names:\n",
    "    cs_index = np.where(var_names == b\"cs2\")[0][0]\n",
    "    labels[:, cs_index] = np.log(labels[:, cs_index])"
   ]
  },
  {
   "cell_type": "code",
   "execution_count": 77,
   "id": "7e8b787d",
   "metadata": {},
   "outputs": [
    {
     "name": "stdout",
     "output_type": "stream",
     "text": [
      "[ 3.02399601 -3.          0.005     ]\n",
      "[19.2791052  17.99956976 34.99350003]\n"
     ]
    }
   ],
   "source": [
    "print(features[0])\n",
    "print(labels[0])"
   ]
  },
  {
   "cell_type": "code",
   "execution_count": 82,
   "id": "eb2c3936",
   "metadata": {},
   "outputs": [
    {
     "name": "stdout",
     "output_type": "stream",
     "text": [
      "[19.02463658 17.42022108 33.74498022]\n",
      "[33.15270695 38.1640256  48.77010732]\n"
     ]
    }
   ],
   "source": [
    "min_values = np.min(labels, axis=0)\n",
    "print(min_values)\n",
    "max_values = np.max(labels, axis=0)\n",
    "print(max_values)"
   ]
  },
  {
   "cell_type": "markdown",
   "id": "95206a4e",
   "metadata": {},
   "source": [
    "### Convert to Torch datasets"
   ]
  },
  {
   "cell_type": "markdown",
   "id": "ec6d6047",
   "metadata": {
    "id": "ec6d6047"
   },
   "source": [
    "Get the training data as DataSet and DataLoader objects. Note on normalization: we fit transform on the training data, then use the fitted scaler object to transform (i.e. using same transformation as the training data) the test set."
   ]
  },
  {
   "cell_type": "code",
   "execution_count": 83,
   "id": "ec910284",
   "metadata": {
    "colab": {
     "base_uri": "https://localhost:8080/"
    },
    "executionInfo": {
     "elapsed": 1126,
     "status": "ok",
     "timestamp": 1681398709169,
     "user": {
      "displayName": "Thibeau Wouters",
      "userId": "14702334917940433667"
     },
     "user_tz": -120
    },
    "id": "ec910284",
    "outputId": "4f15e095-7252-40dc-c90d-2bafae1c6cb4"
   },
   "outputs": [
    {
     "name": "stdout",
     "output_type": "stream",
     "text": [
      "3154776\n",
      "78869\n"
     ]
    }
   ],
   "source": [
    "# For normalization, use sklearn's StandardScaler\n",
    "scaler = StandardScaler()\n",
    "# Do train test split here\n",
    "train_features, test_features, train_labels, test_labels = train_test_split(features, labels, random_state=42)\n",
    "# \"Cutoff\": only use certain portion of the data for training and testing, to speed up training when tuning architecture \n",
    "cutoff = 0.025\n",
    "print(len(train_features))\n",
    "end = int(cutoff*len(train_features))\n",
    "train_features = train_features[:end]\n",
    "train_labels = train_labels[:end]\n",
    "end = int(cutoff*len(test_features))\n",
    "test_features = test_features[:end]\n",
    "test_labels = test_labels[:end]\n",
    "print(len(train_features))\n",
    "# Convert to PyTorch Datasets as we defined them\n",
    "train_dataset = data.HDF5Dataset(train_features, train_labels, normalization_function = scaler.fit_transform) \n",
    "test_dataset  = data.HDF5Dataset(test_features, test_labels, normalization_function = scaler.transform)\n",
    "# Then create dataloaders, with batch size 32, from datasets\n",
    "train_dataloader = DataLoader(train_dataset, batch_size = 32)\n",
    "test_dataloader  = DataLoader(test_dataset, batch_size = 32)"
   ]
  },
  {
   "cell_type": "markdown",
   "id": "f12e532a",
   "metadata": {
    "id": "f12e532a"
   },
   "source": [
    "Create a new instance of the Net:"
   ]
  },
  {
   "cell_type": "code",
   "execution_count": 84,
   "id": "be7a388c",
   "metadata": {
    "colab": {
     "base_uri": "https://localhost:8080/"
    },
    "executionInfo": {
     "elapsed": 31,
     "status": "ok",
     "timestamp": 1681398714800,
     "user": {
      "displayName": "Thibeau Wouters",
      "userId": "14702334917940433667"
     },
     "user_tz": -120
    },
    "id": "be7a388c",
    "outputId": "c92948dd-975b-4e2f-81a0-ee0661b400ff"
   },
   "outputs": [],
   "source": [
    "model = Net(nb_of_inputs=3, nb_of_outputs=3, h=[50, 50]).double()\n",
    "# print(next(model.parameters()).is_cuda )"
   ]
  },
  {
   "cell_type": "code",
   "execution_count": 85,
   "id": "5a0e1f63",
   "metadata": {
    "colab": {
     "base_uri": "https://localhost:8080/"
    },
    "executionInfo": {
     "elapsed": 31,
     "status": "ok",
     "timestamp": 1681398716642,
     "user": {
      "displayName": "Thibeau Wouters",
      "userId": "14702334917940433667"
     },
     "user_tz": -120
    },
    "id": "5a0e1f63",
    "outputId": "474f33c1-c8a7-4433-9f4d-9738b0a08141"
   },
   "outputs": [
    {
     "data": {
      "text/plain": [
       "2900"
      ]
     },
     "execution_count": 85,
     "metadata": {},
     "output_type": "execute_result"
    }
   ],
   "source": [
    "nnc2p.count_parameters(model)"
   ]
  },
  {
   "cell_type": "markdown",
   "id": "1e1e3745",
   "metadata": {
    "id": "1e1e3745"
   },
   "source": [
    "Create a trainer object:"
   ]
  },
  {
   "cell_type": "code",
   "execution_count": 86,
   "id": "df92e917",
   "metadata": {
    "executionInfo": {
     "elapsed": 705,
     "status": "ok",
     "timestamp": 1681398719638,
     "user": {
      "displayName": "Thibeau Wouters",
      "userId": "14702334917940433667"
     },
     "user_tz": -120
    },
    "id": "df92e917"
   },
   "outputs": [],
   "source": [
    "trainer = nnc2p.Trainer(model, 1e-2, train_dataloader=train_dataloader, test_dataloader=test_dataloader)"
   ]
  },
  {
   "cell_type": "markdown",
   "id": "227207f2",
   "metadata": {},
   "source": [
    "Train the network"
   ]
  },
  {
   "cell_type": "code",
   "execution_count": 87,
   "id": "53ce8669",
   "metadata": {
    "colab": {
     "base_uri": "https://localhost:8080/"
    },
    "executionInfo": {
     "elapsed": 171807,
     "status": "ok",
     "timestamp": 1681398892786,
     "user": {
      "displayName": "Thibeau Wouters",
      "userId": "14702334917940433667"
     },
     "user_tz": -120
    },
    "id": "53ce8669",
    "outputId": "711c53ca-cf46-43e3-8d63-6625ebdf0880"
   },
   "outputs": [
    {
     "name": "stdout",
     "output_type": "stream",
     "text": [
      "Training the model for 500 epochs.\n",
      "\n",
      " Epoch 0 \n",
      " --------------\n",
      "Train loss: 1.95E-01\n",
      "Test  loss: 1.93E-01\n",
      "\n",
      " Epoch 1 \n",
      " --------------\n",
      "Train loss: 1.98E-02\n",
      "Test  loss: 1.97E-02\n",
      "\n",
      " Epoch 2 \n",
      " --------------\n",
      "Train loss: 1.02E-02\n",
      "Test  loss: 1.03E-02\n",
      "\n",
      " Epoch 3 \n",
      " --------------\n",
      "Train loss: 8.71E-03\n",
      "Test  loss: 8.84E-03\n",
      "\n",
      " Epoch 4 \n",
      " --------------\n",
      "Train loss: 8.40E-03\n",
      "Test  loss: 8.52E-03\n",
      "\n",
      " Epoch 5 \n",
      " --------------\n",
      "Train loss: 7.04E-03\n",
      "Test  loss: 7.18E-03\n",
      "\n",
      " Epoch 6 \n",
      " --------------\n",
      "Train loss: 6.35E-03\n",
      "Test  loss: 6.51E-03\n",
      "\n",
      " Epoch 7 \n",
      " --------------\n",
      "Train loss: 5.96E-03\n",
      "Test  loss: 6.13E-03\n",
      "\n",
      " Epoch 8 \n",
      " --------------\n",
      "Train loss: 5.32E-03\n",
      "Test  loss: 5.49E-03\n",
      "\n",
      " Epoch 9 \n",
      " --------------\n",
      "Train loss: 5.02E-03\n",
      "Test  loss: 5.17E-03\n",
      "\n",
      " Epoch 10 \n",
      " --------------\n",
      "Train loss: 4.97E-03\n",
      "Test  loss: 5.11E-03\n",
      "\n",
      " Epoch 11 \n",
      " --------------\n",
      "Train loss: 4.69E-03\n",
      "Test  loss: 4.82E-03\n",
      "\n",
      " Epoch 12 \n",
      " --------------\n",
      "Train loss: 4.54E-03\n",
      "Test  loss: 4.67E-03\n",
      "\n",
      " Epoch 13 \n",
      " --------------\n",
      "Train loss: 4.28E-03\n",
      "Test  loss: 4.40E-03\n",
      "\n",
      " Epoch 14 \n",
      " --------------\n",
      "Train loss: 4.04E-03\n",
      "Test  loss: 4.16E-03\n",
      "\n",
      " Epoch 15 \n",
      " --------------\n",
      "Train loss: 3.79E-03\n",
      "Test  loss: 3.90E-03\n",
      "\n",
      " Epoch 16 \n",
      " --------------\n",
      "Train loss: 3.40E-03\n",
      "Test  loss: 3.52E-03\n",
      "\n",
      " Epoch 17 \n",
      " --------------\n",
      "Train loss: 3.05E-03\n",
      "Test  loss: 3.16E-03\n",
      "\n",
      " Epoch 18 \n",
      " --------------\n",
      "Train loss: 2.80E-03\n",
      "Test  loss: 2.90E-03\n",
      "\n",
      " Epoch 19 \n",
      " --------------\n",
      "Train loss: 2.65E-03\n",
      "Test  loss: 2.76E-03\n",
      "\n",
      " Epoch 20 \n",
      " --------------\n",
      "Train loss: 2.57E-03\n",
      "Test  loss: 2.68E-03\n",
      "\n",
      " Epoch 21 \n",
      " --------------\n",
      "Train loss: 2.52E-03\n",
      "Test  loss: 2.62E-03\n",
      "\n",
      " Epoch 22 \n",
      " --------------\n",
      "Train loss: 2.49E-03\n",
      "Test  loss: 2.59E-03\n",
      "\n",
      " Epoch 23 \n",
      " --------------\n",
      "Train loss: 2.48E-03\n",
      "Test  loss: 2.57E-03\n",
      "\n",
      " Epoch 24 \n",
      " --------------\n",
      "Train loss: 2.46E-03\n",
      "Test  loss: 2.56E-03\n",
      "\n",
      " Epoch 25 \n",
      " --------------\n",
      "Train loss: 2.45E-03\n",
      "Test  loss: 2.55E-03\n",
      "\n",
      " Epoch 26 \n",
      " --------------\n",
      "Train loss: 2.45E-03\n",
      "Test  loss: 2.54E-03\n",
      "\n",
      " Epoch 27 \n",
      " --------------\n",
      "Train loss: 2.44E-03\n",
      "Test  loss: 2.53E-03\n",
      "\n",
      " Epoch 28 \n",
      " --------------\n",
      "Train loss: 2.43E-03\n",
      "Test  loss: 2.52E-03\n",
      "\n",
      " Epoch 29 \n",
      " --------------\n",
      "Train loss: 2.40E-03\n",
      "Test  loss: 2.49E-03\n",
      "\n",
      " Epoch 30 \n",
      " --------------\n",
      "Train loss: 2.32E-03\n",
      "Test  loss: 2.40E-03\n",
      "\n",
      " Epoch 31 \n",
      " --------------\n",
      "Train loss: 2.24E-03\n",
      "Test  loss: 2.33E-03\n",
      "\n",
      " Epoch 32 \n",
      " --------------\n",
      "Train loss: 2.18E-03\n",
      "Test  loss: 2.26E-03\n",
      "\n",
      " Epoch 33 \n",
      " --------------\n",
      "Train loss: 2.15E-03\n",
      "Test  loss: 2.23E-03\n",
      "\n",
      " Epoch 34 \n",
      " --------------\n",
      "Train loss: 2.15E-03\n",
      "Test  loss: 2.24E-03\n",
      "\n",
      " Epoch 35 \n",
      " --------------\n",
      "Train loss: 2.18E-03\n",
      "Test  loss: 2.26E-03\n",
      "\n",
      " Epoch 36 \n",
      " --------------\n",
      "Train loss: 2.21E-03\n",
      "Test  loss: 2.29E-03\n",
      "\n",
      " Epoch 37 \n",
      " --------------\n",
      "Train loss: 2.23E-03\n",
      "Test  loss: 2.31E-03\n",
      "\n",
      " Epoch 38 \n",
      " --------------\n",
      "Adapting learning rate to 0.005\n",
      "Train loss: 2.22E-03\n",
      "Test  loss: 2.30E-03\n",
      "\n",
      " Epoch 39 \n",
      " --------------\n",
      "Train loss: 1.01E-03\n",
      "Test  loss: 1.08E-03\n",
      "\n",
      " Epoch 40 \n",
      " --------------\n",
      "Train loss: 9.76E-04\n",
      "Test  loss: 1.05E-03\n",
      "\n",
      " Epoch 41 \n",
      " --------------\n",
      "Train loss: 9.57E-04\n",
      "Test  loss: 1.03E-03\n",
      "\n",
      " Epoch 42 \n",
      " --------------\n",
      "Train loss: 9.41E-04\n",
      "Test  loss: 1.02E-03\n",
      "\n",
      " Epoch 43 \n",
      " --------------\n",
      "Train loss: 9.27E-04\n",
      "Test  loss: 1.00E-03\n",
      "\n",
      " Epoch 44 \n",
      " --------------\n",
      "Train loss: 9.15E-04\n",
      "Test  loss: 9.91E-04\n",
      "\n",
      " Epoch 45 \n",
      " --------------\n",
      "Train loss: 9.05E-04\n",
      "Test  loss: 9.80E-04\n",
      "\n",
      " Epoch 46 \n",
      " --------------\n",
      "Train loss: 8.96E-04\n",
      "Test  loss: 9.70E-04\n",
      "\n",
      " Epoch 47 \n",
      " --------------\n",
      "Train loss: 8.88E-04\n",
      "Test  loss: 9.62E-04\n",
      "\n",
      " Epoch 48 \n",
      " --------------\n",
      "Train loss: 8.82E-04\n",
      "Test  loss: 9.55E-04\n",
      "\n",
      " Epoch 49 \n",
      " --------------\n",
      "Train loss: 8.77E-04\n",
      "Test  loss: 9.49E-04\n",
      "\n",
      " Epoch 50 \n",
      " --------------\n",
      "Train loss: 8.73E-04\n",
      "Test  loss: 9.45E-04\n",
      "\n",
      " Epoch 51 \n",
      " --------------\n",
      "Train loss: 8.70E-04\n",
      "Test  loss: 9.42E-04\n",
      "\n",
      " Epoch 52 \n",
      " --------------\n",
      "Train loss: 8.68E-04\n",
      "Test  loss: 9.39E-04\n",
      "\n",
      " Epoch 53 \n",
      " --------------\n",
      "Train loss: 8.67E-04\n",
      "Test  loss: 9.37E-04\n",
      "\n",
      " Epoch 54 \n",
      " --------------\n",
      "Train loss: 8.65E-04\n",
      "Test  loss: 9.35E-04\n",
      "\n",
      " Epoch 55 \n",
      " --------------\n",
      "Train loss: 8.64E-04\n",
      "Test  loss: 9.33E-04\n",
      "\n",
      " Epoch 56 \n",
      " --------------\n",
      "Train loss: 8.63E-04\n",
      "Test  loss: 9.31E-04\n",
      "\n",
      " Epoch 57 \n",
      " --------------\n",
      "Train loss: 8.61E-04\n",
      "Test  loss: 9.29E-04\n",
      "\n",
      " Epoch 58 \n",
      " --------------\n",
      "Train loss: 8.60E-04\n",
      "Test  loss: 9.27E-04\n",
      "\n",
      " Epoch 59 \n",
      " --------------\n",
      "Train loss: 8.58E-04\n",
      "Test  loss: 9.25E-04\n",
      "\n",
      " Epoch 60 \n",
      " --------------\n",
      "Train loss: 8.55E-04\n",
      "Test  loss: 9.22E-04\n",
      "\n",
      " Epoch 61 \n",
      " --------------\n",
      "Train loss: 8.53E-04\n",
      "Test  loss: 9.19E-04\n",
      "\n",
      " Epoch 62 \n",
      " --------------\n",
      "Train loss: 8.50E-04\n",
      "Test  loss: 9.16E-04\n",
      "\n",
      " Epoch 63 \n",
      " --------------\n",
      "Train loss: 8.47E-04\n",
      "Test  loss: 9.13E-04\n",
      "\n",
      " Epoch 64 \n",
      " --------------\n",
      "Train loss: 8.44E-04\n",
      "Test  loss: 9.09E-04\n",
      "\n",
      " Epoch 65 \n",
      " --------------\n",
      "Train loss: 8.41E-04\n",
      "Test  loss: 9.06E-04\n",
      "\n",
      " Epoch 66 \n",
      " --------------\n",
      "Train loss: 8.38E-04\n",
      "Test  loss: 9.02E-04\n",
      "\n",
      " Epoch 67 \n",
      " --------------\n",
      "Train loss: 8.34E-04\n",
      "Test  loss: 8.99E-04\n",
      "\n",
      " Epoch 68 \n",
      " --------------\n",
      "Train loss: 8.31E-04\n",
      "Test  loss: 8.95E-04\n",
      "\n",
      " Epoch 69 \n",
      " --------------\n",
      "Train loss: 8.28E-04\n",
      "Test  loss: 8.92E-04\n",
      "\n",
      " Epoch 70 \n",
      " --------------\n",
      "Train loss: 8.25E-04\n",
      "Test  loss: 8.89E-04\n",
      "\n",
      " Epoch 71 \n",
      " --------------\n",
      "Train loss: 8.23E-04\n",
      "Test  loss: 8.86E-04\n",
      "\n",
      " Epoch 72 \n",
      " --------------\n",
      "Train loss: 8.20E-04\n",
      "Test  loss: 8.84E-04\n",
      "\n",
      " Epoch 73 \n",
      " --------------\n",
      "Train loss: 8.18E-04\n",
      "Test  loss: 8.81E-04\n",
      "\n",
      " Epoch 74 \n",
      " --------------\n",
      "Train loss: 8.16E-04\n",
      "Test  loss: 8.79E-04\n",
      "\n",
      " Epoch 75 \n",
      " --------------\n",
      "Train loss: 8.14E-04\n",
      "Test  loss: 8.77E-04\n",
      "\n",
      " Epoch 76 \n",
      " --------------\n",
      "Train loss: 8.12E-04\n",
      "Test  loss: 8.75E-04\n",
      "\n",
      " Epoch 77 \n",
      " --------------\n",
      "Train loss: 8.10E-04\n",
      "Test  loss: 8.73E-04\n",
      "\n",
      " Epoch 78 \n",
      " --------------\n",
      "Train loss: 8.08E-04\n",
      "Test  loss: 8.71E-04\n",
      "\n",
      " Epoch 79 \n",
      " --------------\n",
      "Train loss: 8.06E-04\n",
      "Test  loss: 8.69E-04\n",
      "\n",
      " Epoch 80 \n",
      " --------------\n",
      "Train loss: 8.04E-04\n",
      "Test  loss: 8.67E-04\n",
      "\n",
      " Epoch 81 \n",
      " --------------\n",
      "Train loss: 8.11E-04\n",
      "Test  loss: 8.74E-04\n",
      "\n",
      " Epoch 82 \n",
      " --------------\n",
      "Train loss: 8.22E-04\n",
      "Test  loss: 8.85E-04\n",
      "\n",
      " Epoch 83 \n",
      " --------------\n",
      "Train loss: 8.31E-04\n",
      "Test  loss: 8.93E-04\n",
      "\n",
      " Epoch 84 \n",
      " --------------\n",
      "Train loss: 8.28E-04\n",
      "Test  loss: 8.91E-04\n",
      "\n",
      " Epoch 85 \n",
      " --------------\n",
      "Adapting learning rate to 0.0025\n",
      "Train loss: 8.24E-04\n",
      "Test  loss: 8.87E-04\n",
      "\n",
      " Epoch 86 \n",
      " --------------\n",
      "Train loss: 7.13E-04\n",
      "Test  loss: 7.80E-04\n",
      "\n",
      " Epoch 87 \n",
      " --------------\n",
      "Train loss: 7.08E-04\n",
      "Test  loss: 7.75E-04\n",
      "\n",
      " Epoch 88 \n",
      " --------------\n",
      "Train loss: 7.06E-04\n",
      "Test  loss: 7.73E-04\n",
      "\n",
      " Epoch 89 \n",
      " --------------\n",
      "Train loss: 7.04E-04\n",
      "Test  loss: 7.71E-04\n",
      "\n",
      " Epoch 90 \n",
      " --------------\n",
      "Train loss: 7.02E-04\n",
      "Test  loss: 7.69E-04\n",
      "\n",
      " Epoch 91 \n",
      " --------------\n",
      "Train loss: 7.01E-04\n",
      "Test  loss: 7.68E-04\n",
      "\n",
      " Epoch 92 \n",
      " --------------\n",
      "Train loss: 7.00E-04\n",
      "Test  loss: 7.66E-04\n",
      "\n",
      " Epoch 93 \n",
      " --------------\n",
      "Train loss: 6.98E-04\n",
      "Test  loss: 7.65E-04\n",
      "\n",
      " Epoch 94 \n",
      " --------------\n",
      "Train loss: 6.96E-04\n",
      "Test  loss: 7.62E-04\n",
      "\n",
      " Epoch 95 \n",
      " --------------\n",
      "Train loss: 6.93E-04\n",
      "Test  loss: 7.60E-04\n",
      "\n",
      " Epoch 96 \n",
      " --------------\n",
      "Train loss: 6.91E-04\n",
      "Test  loss: 7.57E-04\n",
      "\n",
      " Epoch 97 \n",
      " --------------\n",
      "Train loss: 6.89E-04\n",
      "Test  loss: 7.55E-04\n",
      "\n",
      " Epoch 98 \n",
      " --------------\n",
      "Train loss: 6.87E-04\n",
      "Test  loss: 7.53E-04\n",
      "\n",
      " Epoch 99 \n",
      " --------------\n",
      "Train loss: 6.85E-04\n",
      "Test  loss: 7.51E-04\n",
      "\n",
      " Epoch 100 \n",
      " --------------\n",
      "Train loss: 6.83E-04\n",
      "Test  loss: 7.50E-04\n",
      "\n",
      " Epoch 101 \n",
      " --------------\n",
      "Train loss: 6.82E-04\n",
      "Test  loss: 7.48E-04\n",
      "\n",
      " Epoch 102 \n",
      " --------------\n",
      "Train loss: 6.81E-04\n",
      "Test  loss: 7.47E-04\n",
      "\n",
      " Epoch 103 \n",
      " --------------\n",
      "Train loss: 6.80E-04\n",
      "Test  loss: 7.46E-04\n",
      "\n",
      " Epoch 104 \n",
      " --------------\n",
      "Train loss: 6.79E-04\n",
      "Test  loss: 7.45E-04\n",
      "\n",
      " Epoch 105 \n",
      " --------------\n",
      "Train loss: 6.78E-04\n",
      "Test  loss: 7.45E-04\n",
      "\n",
      " Epoch 106 \n",
      " --------------\n",
      "Train loss: 6.78E-04\n",
      "Test  loss: 7.44E-04\n",
      "\n",
      " Epoch 107 \n",
      " --------------\n",
      "Train loss: 6.77E-04\n",
      "Test  loss: 7.43E-04\n",
      "\n",
      " Epoch 108 \n",
      " --------------\n",
      "Train loss: 6.77E-04\n",
      "Test  loss: 7.43E-04\n",
      "\n",
      " Epoch 109 \n",
      " --------------\n",
      "Train loss: 6.77E-04\n",
      "Test  loss: 7.43E-04\n",
      "\n",
      " Epoch 110 \n",
      " --------------\n",
      "Train loss: 6.76E-04\n",
      "Test  loss: 7.42E-04\n",
      "\n",
      " Epoch 111 \n",
      " --------------\n",
      "Train loss: 6.76E-04\n",
      "Test  loss: 7.42E-04\n",
      "\n",
      " Epoch 112 \n",
      " --------------\n",
      "Train loss: 6.76E-04\n",
      "Test  loss: 7.42E-04\n",
      "\n",
      " Epoch 113 \n",
      " --------------\n",
      "Train loss: 6.76E-04\n",
      "Test  loss: 7.41E-04\n",
      "\n",
      " Epoch 114 \n",
      " --------------\n",
      "Train loss: 6.76E-04\n",
      "Test  loss: 7.41E-04\n",
      "\n",
      " Epoch 115 \n",
      " --------------\n",
      "Train loss: 6.75E-04\n",
      "Test  loss: 7.41E-04\n",
      "\n",
      " Epoch 116 \n",
      " --------------\n"
     ]
    },
    {
     "name": "stdout",
     "output_type": "stream",
     "text": [
      "Train loss: 6.75E-04\n",
      "Test  loss: 7.41E-04\n",
      "\n",
      " Epoch 117 \n",
      " --------------\n",
      "Train loss: 6.75E-04\n",
      "Test  loss: 7.41E-04\n",
      "\n",
      " Epoch 118 \n",
      " --------------\n",
      "Train loss: 6.75E-04\n",
      "Test  loss: 7.40E-04\n",
      "\n",
      " Epoch 119 \n",
      " --------------\n",
      "Train loss: 6.75E-04\n",
      "Test  loss: 7.40E-04\n",
      "\n",
      " Epoch 120 \n",
      " --------------\n",
      "Train loss: 6.75E-04\n",
      "Test  loss: 7.40E-04\n",
      "\n",
      " Epoch 121 \n",
      " --------------\n",
      "Train loss: 6.75E-04\n",
      "Test  loss: 7.40E-04\n",
      "\n",
      " Epoch 122 \n",
      " --------------\n",
      "Train loss: 6.75E-04\n",
      "Test  loss: 7.40E-04\n",
      "\n",
      " Epoch 123 \n",
      " --------------\n",
      "Train loss: 6.74E-04\n",
      "Test  loss: 7.40E-04\n",
      "\n",
      " Epoch 124 \n",
      " --------------\n",
      "Train loss: 6.74E-04\n",
      "Test  loss: 7.39E-04\n",
      "\n",
      " Epoch 125 \n",
      " --------------\n",
      "Train loss: 6.74E-04\n",
      "Test  loss: 7.39E-04\n",
      "\n",
      " Epoch 126 \n",
      " --------------\n",
      "Train loss: 6.74E-04\n",
      "Test  loss: 7.39E-04\n",
      "\n",
      " Epoch 127 \n",
      " --------------\n",
      "Train loss: 6.73E-04\n",
      "Test  loss: 7.38E-04\n",
      "\n",
      " Epoch 128 \n",
      " --------------\n",
      "Train loss: 6.73E-04\n",
      "Test  loss: 7.38E-04\n",
      "\n",
      " Epoch 129 \n",
      " --------------\n",
      "Train loss: 6.73E-04\n",
      "Test  loss: 7.37E-04\n",
      "\n",
      " Epoch 130 \n",
      " --------------\n",
      "Train loss: 6.72E-04\n",
      "Test  loss: 7.37E-04\n",
      "\n",
      " Epoch 131 \n",
      " --------------\n",
      "Train loss: 6.71E-04\n",
      "Test  loss: 7.36E-04\n",
      "\n",
      " Epoch 132 \n",
      " --------------\n",
      "Train loss: 6.71E-04\n",
      "Test  loss: 7.35E-04\n",
      "\n",
      " Epoch 133 \n",
      " --------------\n",
      "Train loss: 6.70E-04\n",
      "Test  loss: 7.35E-04\n",
      "\n",
      " Epoch 134 \n",
      " --------------\n",
      "Train loss: 6.70E-04\n",
      "Test  loss: 7.34E-04\n",
      "\n",
      " Epoch 135 \n",
      " --------------\n",
      "Train loss: 6.69E-04\n",
      "Test  loss: 7.33E-04\n",
      "\n",
      " Epoch 136 \n",
      " --------------\n",
      "Train loss: 6.68E-04\n",
      "Test  loss: 7.33E-04\n",
      "\n",
      " Epoch 137 \n",
      " --------------\n",
      "Train loss: 6.67E-04\n",
      "Test  loss: 7.32E-04\n",
      "\n",
      " Epoch 138 \n",
      " --------------\n",
      "Train loss: 6.67E-04\n",
      "Test  loss: 7.31E-04\n",
      "\n",
      " Epoch 139 \n",
      " --------------\n",
      "Train loss: 6.66E-04\n",
      "Test  loss: 7.30E-04\n",
      "\n",
      " Epoch 140 \n",
      " --------------\n",
      "Train loss: 6.65E-04\n",
      "Test  loss: 7.29E-04\n",
      "\n",
      " Epoch 141 \n",
      " --------------\n",
      "Train loss: 6.64E-04\n",
      "Test  loss: 7.29E-04\n",
      "\n",
      " Epoch 142 \n",
      " --------------\n",
      "Train loss: 6.63E-04\n",
      "Test  loss: 7.28E-04\n",
      "\n",
      " Epoch 143 \n",
      " --------------\n",
      "Train loss: 6.63E-04\n",
      "Test  loss: 7.27E-04\n",
      "\n",
      " Epoch 144 \n",
      " --------------\n",
      "Train loss: 6.62E-04\n",
      "Test  loss: 7.26E-04\n",
      "\n",
      " Epoch 145 \n",
      " --------------\n",
      "Train loss: 6.61E-04\n",
      "Test  loss: 7.25E-04\n",
      "\n",
      " Epoch 146 \n",
      " --------------\n",
      "Train loss: 6.60E-04\n",
      "Test  loss: 7.25E-04\n",
      "\n",
      " Epoch 147 \n",
      " --------------\n",
      "Train loss: 6.60E-04\n",
      "Test  loss: 7.24E-04\n",
      "\n",
      " Epoch 148 \n",
      " --------------\n",
      "Train loss: 6.59E-04\n",
      "Test  loss: 7.23E-04\n",
      "\n",
      " Epoch 149 \n",
      " --------------\n",
      "Train loss: 6.58E-04\n",
      "Test  loss: 7.22E-04\n",
      "\n",
      " Epoch 150 \n",
      " --------------\n",
      "Train loss: 6.57E-04\n",
      "Test  loss: 7.21E-04\n",
      "\n",
      " Epoch 151 \n",
      " --------------\n",
      "Train loss: 6.57E-04\n",
      "Test  loss: 7.21E-04\n",
      "\n",
      " Epoch 152 \n",
      " --------------\n",
      "Train loss: 6.56E-04\n",
      "Test  loss: 7.20E-04\n",
      "\n",
      " Epoch 153 \n",
      " --------------\n",
      "Train loss: 6.55E-04\n",
      "Test  loss: 7.19E-04\n",
      "\n",
      " Epoch 154 \n",
      " --------------\n",
      "Train loss: 6.54E-04\n",
      "Test  loss: 7.18E-04\n",
      "\n",
      " Epoch 155 \n",
      " --------------\n",
      "Train loss: 6.53E-04\n",
      "Test  loss: 7.18E-04\n",
      "\n",
      " Epoch 156 \n",
      " --------------\n",
      "Train loss: 6.53E-04\n",
      "Test  loss: 7.17E-04\n",
      "\n",
      " Epoch 157 \n",
      " --------------\n",
      "Train loss: 6.52E-04\n",
      "Test  loss: 7.16E-04\n",
      "\n",
      " Epoch 158 \n",
      " --------------\n",
      "Train loss: 6.51E-04\n",
      "Test  loss: 7.15E-04\n",
      "\n",
      " Epoch 159 \n",
      " --------------\n",
      "Train loss: 6.51E-04\n",
      "Test  loss: 7.15E-04\n",
      "\n",
      " Epoch 160 \n",
      " --------------\n",
      "Train loss: 6.50E-04\n",
      "Test  loss: 7.14E-04\n",
      "\n",
      " Epoch 161 \n",
      " --------------\n",
      "Train loss: 6.49E-04\n",
      "Test  loss: 7.13E-04\n",
      "\n",
      " Epoch 162 \n",
      " --------------\n",
      "Train loss: 6.48E-04\n",
      "Test  loss: 7.13E-04\n",
      "\n",
      " Epoch 163 \n",
      " --------------\n",
      "Train loss: 6.48E-04\n",
      "Test  loss: 7.12E-04\n",
      "\n",
      " Epoch 164 \n",
      " --------------\n",
      "Train loss: 6.47E-04\n",
      "Test  loss: 7.11E-04\n",
      "\n",
      " Epoch 165 \n",
      " --------------\n",
      "Train loss: 6.47E-04\n",
      "Test  loss: 7.11E-04\n",
      "\n",
      " Epoch 166 \n",
      " --------------\n",
      "Train loss: 6.46E-04\n",
      "Test  loss: 7.10E-04\n",
      "\n",
      " Epoch 167 \n",
      " --------------\n",
      "Train loss: 6.45E-04\n",
      "Test  loss: 7.09E-04\n",
      "\n",
      " Epoch 168 \n",
      " --------------\n",
      "Train loss: 6.45E-04\n",
      "Test  loss: 7.09E-04\n",
      "\n",
      " Epoch 169 \n",
      " --------------\n",
      "Train loss: 6.44E-04\n",
      "Test  loss: 7.08E-04\n",
      "\n",
      " Epoch 170 \n",
      " --------------\n",
      "Train loss: 6.44E-04\n",
      "Test  loss: 7.08E-04\n",
      "\n",
      " Epoch 171 \n",
      " --------------\n",
      "Train loss: 6.43E-04\n",
      "Test  loss: 7.08E-04\n",
      "\n",
      " Epoch 172 \n",
      " --------------\n",
      "Train loss: 6.43E-04\n",
      "Test  loss: 7.07E-04\n",
      "\n",
      " Epoch 173 \n",
      " --------------\n",
      "Train loss: 6.43E-04\n",
      "Test  loss: 7.07E-04\n",
      "\n",
      " Epoch 174 \n",
      " --------------\n",
      "Train loss: 6.42E-04\n",
      "Test  loss: 7.07E-04\n",
      "\n",
      " Epoch 175 \n",
      " --------------\n",
      "Train loss: 6.42E-04\n",
      "Test  loss: 7.07E-04\n",
      "\n",
      " Epoch 176 \n",
      " --------------\n",
      "Train loss: 6.42E-04\n",
      "Test  loss: 7.06E-04\n",
      "\n",
      " Epoch 177 \n",
      " --------------\n",
      "Train loss: 6.42E-04\n",
      "Test  loss: 7.06E-04\n",
      "\n",
      " Epoch 178 \n",
      " --------------\n",
      "Train loss: 6.42E-04\n",
      "Test  loss: 7.06E-04\n",
      "\n",
      " Epoch 179 \n",
      " --------------\n",
      "Train loss: 6.41E-04\n",
      "Test  loss: 7.06E-04\n",
      "\n",
      " Epoch 180 \n",
      " --------------\n",
      "Train loss: 6.41E-04\n",
      "Test  loss: 7.06E-04\n",
      "\n",
      " Epoch 181 \n",
      " --------------\n",
      "Train loss: 6.41E-04\n",
      "Test  loss: 7.06E-04\n",
      "\n",
      " Epoch 182 \n",
      " --------------\n",
      "Train loss: 6.41E-04\n",
      "Test  loss: 7.05E-04\n",
      "\n",
      " Epoch 183 \n",
      " --------------\n",
      "Train loss: 6.41E-04\n",
      "Test  loss: 7.05E-04\n",
      "\n",
      " Epoch 184 \n",
      " --------------\n",
      "Train loss: 6.41E-04\n",
      "Test  loss: 7.05E-04\n",
      "\n",
      " Epoch 185 \n",
      " --------------\n",
      "Train loss: 6.40E-04\n",
      "Test  loss: 7.05E-04\n",
      "\n",
      " Epoch 186 \n",
      " --------------\n",
      "Train loss: 6.40E-04\n",
      "Test  loss: 7.04E-04\n",
      "\n",
      " Epoch 187 \n",
      " --------------\n",
      "Train loss: 6.40E-04\n",
      "Test  loss: 7.04E-04\n",
      "\n",
      " Epoch 188 \n",
      " --------------\n",
      "Train loss: 6.39E-04\n",
      "Test  loss: 7.03E-04\n",
      "\n",
      " Epoch 189 \n",
      " --------------\n",
      "Train loss: 6.39E-04\n",
      "Test  loss: 7.03E-04\n",
      "\n",
      " Epoch 190 \n",
      " --------------\n",
      "Train loss: 6.38E-04\n",
      "Test  loss: 7.02E-04\n",
      "\n",
      " Epoch 191 \n",
      " --------------\n",
      "Train loss: 6.38E-04\n",
      "Test  loss: 7.02E-04\n",
      "\n",
      " Epoch 192 \n",
      " --------------\n",
      "Train loss: 6.37E-04\n",
      "Test  loss: 7.01E-04\n",
      "\n",
      " Epoch 193 \n",
      " --------------\n",
      "Train loss: 6.36E-04\n",
      "Test  loss: 7.00E-04\n",
      "\n",
      " Epoch 194 \n",
      " --------------\n",
      "Train loss: 6.35E-04\n",
      "Test  loss: 6.99E-04\n",
      "\n",
      " Epoch 195 \n",
      " --------------\n",
      "Train loss: 6.34E-04\n",
      "Test  loss: 6.98E-04\n",
      "\n",
      " Epoch 196 \n",
      " --------------\n",
      "Train loss: 6.33E-04\n",
      "Test  loss: 6.97E-04\n",
      "\n",
      " Epoch 197 \n",
      " --------------\n",
      "Train loss: 6.32E-04\n",
      "Test  loss: 6.96E-04\n",
      "\n",
      " Epoch 198 \n",
      " --------------\n",
      "Train loss: 6.31E-04\n",
      "Test  loss: 6.94E-04\n",
      "\n",
      " Epoch 199 \n",
      " --------------\n",
      "Train loss: 6.30E-04\n",
      "Test  loss: 6.93E-04\n",
      "\n",
      " Epoch 200 \n",
      " --------------\n",
      "Train loss: 6.28E-04\n",
      "Test  loss: 6.92E-04\n",
      "\n",
      " Epoch 201 \n",
      " --------------\n",
      "Train loss: 6.27E-04\n",
      "Test  loss: 6.90E-04\n",
      "\n",
      " Epoch 202 \n",
      " --------------\n",
      "Train loss: 6.26E-04\n",
      "Test  loss: 6.89E-04\n",
      "\n",
      " Epoch 203 \n",
      " --------------\n",
      "Train loss: 6.24E-04\n",
      "Test  loss: 6.88E-04\n",
      "\n",
      " Epoch 204 \n",
      " --------------\n",
      "Train loss: 6.23E-04\n",
      "Test  loss: 6.86E-04\n",
      "\n",
      " Epoch 205 \n",
      " --------------\n",
      "Train loss: 6.22E-04\n",
      "Test  loss: 6.85E-04\n",
      "\n",
      " Epoch 206 \n",
      " --------------\n",
      "Train loss: 6.20E-04\n",
      "Test  loss: 6.83E-04\n",
      "\n",
      " Epoch 207 \n",
      " --------------\n",
      "Train loss: 6.19E-04\n",
      "Test  loss: 6.82E-04\n",
      "\n",
      " Epoch 208 \n",
      " --------------\n",
      "Train loss: 6.17E-04\n",
      "Test  loss: 6.80E-04\n",
      "\n",
      " Epoch 209 \n",
      " --------------\n",
      "Train loss: 6.15E-04\n",
      "Test  loss: 6.78E-04\n",
      "\n",
      " Epoch 210 \n",
      " --------------\n",
      "Train loss: 6.14E-04\n",
      "Test  loss: 6.77E-04\n",
      "\n",
      " Epoch 211 \n",
      " --------------\n",
      "Train loss: 6.12E-04\n",
      "Test  loss: 6.75E-04\n",
      "\n",
      " Epoch 212 \n",
      " --------------\n",
      "Train loss: 6.11E-04\n",
      "Test  loss: 6.74E-04\n",
      "\n",
      " Epoch 213 \n",
      " --------------\n",
      "Train loss: 6.09E-04\n",
      "Test  loss: 6.72E-04\n",
      "\n",
      " Epoch 214 \n",
      " --------------\n",
      "Train loss: 6.08E-04\n",
      "Test  loss: 6.70E-04\n",
      "\n",
      " Epoch 215 \n",
      " --------------\n",
      "Train loss: 6.06E-04\n",
      "Test  loss: 6.69E-04\n",
      "\n",
      " Epoch 216 \n",
      " --------------\n",
      "Train loss: 6.05E-04\n",
      "Test  loss: 6.67E-04\n",
      "\n",
      " Epoch 217 \n",
      " --------------\n",
      "Train loss: 6.03E-04\n",
      "Test  loss: 6.66E-04\n",
      "\n",
      " Epoch 218 \n",
      " --------------\n",
      "Train loss: 6.02E-04\n",
      "Test  loss: 6.64E-04\n",
      "\n",
      " Epoch 219 \n",
      " --------------\n",
      "Train loss: 6.00E-04\n",
      "Test  loss: 6.62E-04\n",
      "\n",
      " Epoch 220 \n",
      " --------------\n",
      "Train loss: 5.98E-04\n",
      "Test  loss: 6.61E-04\n",
      "\n",
      " Epoch 221 \n",
      " --------------\n",
      "Train loss: 5.97E-04\n",
      "Test  loss: 6.59E-04\n",
      "\n",
      " Epoch 222 \n",
      " --------------\n",
      "Train loss: 5.95E-04\n",
      "Test  loss: 6.58E-04\n",
      "\n",
      " Epoch 223 \n",
      " --------------\n",
      "Train loss: 5.94E-04\n",
      "Test  loss: 6.56E-04\n",
      "\n",
      " Epoch 224 \n",
      " --------------\n",
      "Train loss: 5.93E-04\n",
      "Test  loss: 6.55E-04\n",
      "\n",
      " Epoch 225 \n",
      " --------------\n",
      "Train loss: 5.91E-04\n",
      "Test  loss: 6.53E-04\n",
      "\n",
      " Epoch 226 \n",
      " --------------\n",
      "Train loss: 5.90E-04\n",
      "Test  loss: 6.52E-04\n",
      "\n",
      " Epoch 227 \n",
      " --------------\n",
      "Train loss: 5.88E-04\n",
      "Test  loss: 6.50E-04\n",
      "\n",
      " Epoch 228 \n",
      " --------------\n",
      "Train loss: 5.87E-04\n",
      "Test  loss: 6.49E-04\n",
      "\n",
      " Epoch 229 \n",
      " --------------\n",
      "Train loss: 5.85E-04\n",
      "Test  loss: 6.47E-04\n",
      "\n",
      " Epoch 230 \n",
      " --------------\n",
      "Train loss: 5.84E-04\n",
      "Test  loss: 6.46E-04\n",
      "\n",
      " Epoch 231 \n",
      " --------------\n",
      "Train loss: 5.83E-04\n",
      "Test  loss: 6.45E-04\n",
      "\n",
      " Epoch 232 \n",
      " --------------\n"
     ]
    },
    {
     "name": "stdout",
     "output_type": "stream",
     "text": [
      "Train loss: 5.81E-04\n",
      "Test  loss: 6.43E-04\n",
      "\n",
      " Epoch 233 \n",
      " --------------\n",
      "Train loss: 5.80E-04\n",
      "Test  loss: 6.42E-04\n",
      "\n",
      " Epoch 234 \n",
      " --------------\n",
      "Train loss: 5.79E-04\n",
      "Test  loss: 6.41E-04\n",
      "\n",
      " Epoch 235 \n",
      " --------------\n",
      "Train loss: 5.77E-04\n",
      "Test  loss: 6.39E-04\n",
      "\n",
      " Epoch 236 \n",
      " --------------\n",
      "Train loss: 5.76E-04\n",
      "Test  loss: 6.38E-04\n",
      "\n",
      " Epoch 237 \n",
      " --------------\n",
      "Train loss: 5.75E-04\n",
      "Test  loss: 6.37E-04\n",
      "\n",
      " Epoch 238 \n",
      " --------------\n",
      "Train loss: 5.74E-04\n",
      "Test  loss: 6.35E-04\n",
      "\n",
      " Epoch 239 \n",
      " --------------\n",
      "Train loss: 5.73E-04\n",
      "Test  loss: 6.34E-04\n",
      "\n",
      " Epoch 240 \n",
      " --------------\n",
      "Train loss: 5.71E-04\n",
      "Test  loss: 6.33E-04\n",
      "\n",
      " Epoch 241 \n",
      " --------------\n",
      "Train loss: 5.70E-04\n",
      "Test  loss: 6.32E-04\n",
      "\n",
      " Epoch 242 \n",
      " --------------\n",
      "Train loss: 5.69E-04\n",
      "Test  loss: 6.31E-04\n",
      "\n",
      " Epoch 243 \n",
      " --------------\n",
      "Train loss: 5.68E-04\n",
      "Test  loss: 6.29E-04\n",
      "\n",
      " Epoch 244 \n",
      " --------------\n",
      "Train loss: 5.67E-04\n",
      "Test  loss: 6.28E-04\n",
      "\n",
      " Epoch 245 \n",
      " --------------\n",
      "Train loss: 5.66E-04\n",
      "Test  loss: 6.27E-04\n",
      "\n",
      " Epoch 246 \n",
      " --------------\n",
      "Train loss: 5.65E-04\n",
      "Test  loss: 6.26E-04\n",
      "\n",
      " Epoch 247 \n",
      " --------------\n",
      "Train loss: 5.64E-04\n",
      "Test  loss: 6.25E-04\n",
      "\n",
      " Epoch 248 \n",
      " --------------\n",
      "Train loss: 5.63E-04\n",
      "Test  loss: 6.24E-04\n",
      "\n",
      " Epoch 249 \n",
      " --------------\n",
      "Train loss: 5.62E-04\n",
      "Test  loss: 6.23E-04\n",
      "\n",
      " Epoch 250 \n",
      " --------------\n",
      "Train loss: 5.61E-04\n",
      "Test  loss: 6.22E-04\n",
      "\n",
      " Epoch 251 \n",
      " --------------\n",
      "Train loss: 5.60E-04\n",
      "Test  loss: 6.21E-04\n",
      "\n",
      " Epoch 252 \n",
      " --------------\n",
      "Train loss: 5.59E-04\n",
      "Test  loss: 6.20E-04\n",
      "\n",
      " Epoch 253 \n",
      " --------------\n",
      "Train loss: 5.58E-04\n",
      "Test  loss: 6.19E-04\n",
      "\n",
      " Epoch 254 \n",
      " --------------\n",
      "Train loss: 5.57E-04\n",
      "Test  loss: 6.18E-04\n",
      "\n",
      " Epoch 255 \n",
      " --------------\n",
      "Train loss: 5.56E-04\n",
      "Test  loss: 6.17E-04\n",
      "\n",
      " Epoch 256 \n",
      " --------------\n",
      "Train loss: 5.55E-04\n",
      "Test  loss: 6.16E-04\n",
      "\n",
      " Epoch 257 \n",
      " --------------\n",
      "Train loss: 5.54E-04\n",
      "Test  loss: 6.15E-04\n",
      "\n",
      " Epoch 258 \n",
      " --------------\n",
      "Train loss: 5.53E-04\n",
      "Test  loss: 6.14E-04\n",
      "\n",
      " Epoch 259 \n",
      " --------------\n",
      "Train loss: 5.52E-04\n",
      "Test  loss: 6.13E-04\n",
      "\n",
      " Epoch 260 \n",
      " --------------\n",
      "Train loss: 5.51E-04\n",
      "Test  loss: 6.12E-04\n",
      "\n",
      " Epoch 261 \n",
      " --------------\n",
      "Train loss: 5.51E-04\n",
      "Test  loss: 6.11E-04\n",
      "\n",
      " Epoch 262 \n",
      " --------------\n",
      "Train loss: 5.50E-04\n",
      "Test  loss: 6.10E-04\n",
      "\n",
      " Epoch 263 \n",
      " --------------\n",
      "Train loss: 5.49E-04\n",
      "Test  loss: 6.10E-04\n",
      "\n",
      " Epoch 264 \n",
      " --------------\n",
      "Train loss: 5.48E-04\n",
      "Test  loss: 6.09E-04\n",
      "\n",
      " Epoch 265 \n",
      " --------------\n",
      "Train loss: 5.47E-04\n",
      "Test  loss: 6.08E-04\n",
      "\n",
      " Epoch 266 \n",
      " --------------\n",
      "Train loss: 5.46E-04\n",
      "Test  loss: 6.07E-04\n",
      "\n",
      " Epoch 267 \n",
      " --------------\n",
      "Train loss: 5.45E-04\n",
      "Test  loss: 6.06E-04\n",
      "\n",
      " Epoch 268 \n",
      " --------------\n",
      "Train loss: 5.45E-04\n",
      "Test  loss: 6.05E-04\n",
      "\n",
      " Epoch 269 \n",
      " --------------\n",
      "Train loss: 5.44E-04\n",
      "Test  loss: 6.04E-04\n",
      "\n",
      " Epoch 270 \n",
      " --------------\n",
      "Train loss: 5.43E-04\n",
      "Test  loss: 6.04E-04\n",
      "\n",
      " Epoch 271 \n",
      " --------------\n",
      "Train loss: 5.42E-04\n",
      "Test  loss: 6.03E-04\n",
      "\n",
      " Epoch 272 \n",
      " --------------\n",
      "Train loss: 5.41E-04\n",
      "Test  loss: 6.02E-04\n",
      "\n",
      " Epoch 273 \n",
      " --------------\n",
      "Train loss: 5.41E-04\n",
      "Test  loss: 6.01E-04\n",
      "\n",
      " Epoch 274 \n",
      " --------------\n",
      "Train loss: 5.40E-04\n",
      "Test  loss: 6.00E-04\n",
      "\n",
      " Epoch 275 \n",
      " --------------\n",
      "Train loss: 5.39E-04\n",
      "Test  loss: 6.00E-04\n",
      "\n",
      " Epoch 276 \n",
      " --------------\n",
      "Train loss: 5.39E-04\n",
      "Test  loss: 5.99E-04\n",
      "\n",
      " Epoch 277 \n",
      " --------------\n",
      "Train loss: 5.38E-04\n",
      "Test  loss: 5.98E-04\n",
      "\n",
      " Epoch 278 \n",
      " --------------\n",
      "Train loss: 5.37E-04\n",
      "Test  loss: 5.97E-04\n",
      "\n",
      " Epoch 279 \n",
      " --------------\n",
      "Train loss: 5.36E-04\n",
      "Test  loss: 5.97E-04\n",
      "\n",
      " Epoch 280 \n",
      " --------------\n",
      "Train loss: 5.36E-04\n",
      "Test  loss: 5.96E-04\n",
      "\n",
      " Epoch 281 \n",
      " --------------\n",
      "Train loss: 5.35E-04\n",
      "Test  loss: 5.95E-04\n",
      "\n",
      " Epoch 282 \n",
      " --------------\n",
      "Train loss: 5.34E-04\n",
      "Test  loss: 5.95E-04\n",
      "\n",
      " Epoch 283 \n",
      " --------------\n",
      "Train loss: 5.34E-04\n",
      "Test  loss: 5.94E-04\n",
      "\n",
      " Epoch 284 \n",
      " --------------\n",
      "Train loss: 5.33E-04\n",
      "Test  loss: 5.93E-04\n",
      "\n",
      " Epoch 285 \n",
      " --------------\n",
      "Train loss: 5.32E-04\n",
      "Test  loss: 5.93E-04\n",
      "\n",
      " Epoch 286 \n",
      " --------------\n",
      "Train loss: 5.32E-04\n",
      "Test  loss: 5.92E-04\n",
      "\n",
      " Epoch 287 \n",
      " --------------\n",
      "Train loss: 5.31E-04\n",
      "Test  loss: 5.91E-04\n",
      "\n",
      " Epoch 288 \n",
      " --------------\n",
      "Train loss: 5.30E-04\n",
      "Test  loss: 5.91E-04\n",
      "\n",
      " Epoch 289 \n",
      " --------------\n",
      "Train loss: 5.30E-04\n",
      "Test  loss: 5.90E-04\n",
      "\n",
      " Epoch 290 \n",
      " --------------\n",
      "Train loss: 5.29E-04\n",
      "Test  loss: 5.89E-04\n",
      "\n",
      " Epoch 291 \n",
      " --------------\n",
      "Train loss: 5.29E-04\n",
      "Test  loss: 5.89E-04\n",
      "\n",
      " Epoch 292 \n",
      " --------------\n",
      "Train loss: 5.28E-04\n",
      "Test  loss: 5.88E-04\n",
      "\n",
      " Epoch 293 \n",
      " --------------\n",
      "Train loss: 5.27E-04\n",
      "Test  loss: 5.87E-04\n",
      "\n",
      " Epoch 294 \n",
      " --------------\n",
      "Train loss: 5.27E-04\n",
      "Test  loss: 5.87E-04\n",
      "\n",
      " Epoch 295 \n",
      " --------------\n",
      "Train loss: 5.26E-04\n",
      "Test  loss: 5.86E-04\n",
      "\n",
      " Epoch 296 \n",
      " --------------\n",
      "Train loss: 5.26E-04\n",
      "Test  loss: 5.86E-04\n",
      "\n",
      " Epoch 297 \n",
      " --------------\n",
      "Train loss: 5.25E-04\n",
      "Test  loss: 5.85E-04\n",
      "\n",
      " Epoch 298 \n",
      " --------------\n",
      "Train loss: 5.24E-04\n",
      "Test  loss: 5.84E-04\n",
      "\n",
      " Epoch 299 \n",
      " --------------\n",
      "Train loss: 5.24E-04\n",
      "Test  loss: 5.84E-04\n",
      "\n",
      " Epoch 300 \n",
      " --------------\n",
      "Train loss: 5.23E-04\n",
      "Test  loss: 5.83E-04\n",
      "\n",
      " Epoch 301 \n",
      " --------------\n",
      "Train loss: 5.23E-04\n",
      "Test  loss: 5.83E-04\n",
      "\n",
      " Epoch 302 \n",
      " --------------\n",
      "Train loss: 5.22E-04\n",
      "Test  loss: 5.82E-04\n",
      "\n",
      " Epoch 303 \n",
      " --------------\n",
      "Train loss: 5.22E-04\n",
      "Test  loss: 5.81E-04\n",
      "\n",
      " Epoch 304 \n",
      " --------------\n",
      "Train loss: 5.21E-04\n",
      "Test  loss: 5.81E-04\n",
      "\n",
      " Epoch 305 \n",
      " --------------\n",
      "Train loss: 5.21E-04\n",
      "Test  loss: 5.80E-04\n",
      "\n",
      " Epoch 306 \n",
      " --------------\n",
      "Train loss: 5.20E-04\n",
      "Test  loss: 5.80E-04\n",
      "\n",
      " Epoch 307 \n",
      " --------------\n",
      "Train loss: 5.19E-04\n",
      "Test  loss: 5.79E-04\n",
      "\n",
      " Epoch 308 \n",
      " --------------\n",
      "Train loss: 5.19E-04\n",
      "Test  loss: 5.79E-04\n",
      "\n",
      " Epoch 309 \n",
      " --------------\n",
      "Train loss: 5.18E-04\n",
      "Test  loss: 5.78E-04\n",
      "\n",
      " Epoch 310 \n",
      " --------------\n",
      "Train loss: 5.18E-04\n",
      "Test  loss: 5.78E-04\n",
      "\n",
      " Epoch 311 \n",
      " --------------\n",
      "Train loss: 5.17E-04\n",
      "Test  loss: 5.77E-04\n",
      "\n",
      " Epoch 312 \n",
      " --------------\n",
      "Train loss: 5.17E-04\n",
      "Test  loss: 5.77E-04\n",
      "\n",
      " Epoch 313 \n",
      " --------------\n",
      "Train loss: 5.17E-04\n",
      "Test  loss: 5.76E-04\n",
      "\n",
      " Epoch 314 \n",
      " --------------\n",
      "Train loss: 5.16E-04\n",
      "Test  loss: 5.76E-04\n",
      "\n",
      " Epoch 315 \n",
      " --------------\n",
      "Train loss: 5.16E-04\n",
      "Test  loss: 5.75E-04\n",
      "\n",
      " Epoch 316 \n",
      " --------------\n",
      "Train loss: 5.15E-04\n",
      "Test  loss: 5.75E-04\n",
      "\n",
      " Epoch 317 \n",
      " --------------\n",
      "Train loss: 5.15E-04\n",
      "Test  loss: 5.74E-04\n",
      "\n",
      " Epoch 318 \n",
      " --------------\n",
      "Train loss: 5.14E-04\n",
      "Test  loss: 5.74E-04\n",
      "\n",
      " Epoch 319 \n",
      " --------------\n",
      "Train loss: 5.14E-04\n",
      "Test  loss: 5.73E-04\n",
      "\n",
      " Epoch 320 \n",
      " --------------\n",
      "Train loss: 5.13E-04\n",
      "Test  loss: 5.73E-04\n",
      "\n",
      " Epoch 321 \n",
      " --------------\n",
      "Train loss: 5.13E-04\n",
      "Test  loss: 5.72E-04\n",
      "\n",
      " Epoch 322 \n",
      " --------------\n",
      "Train loss: 5.12E-04\n",
      "Test  loss: 5.72E-04\n",
      "\n",
      " Epoch 323 \n",
      " --------------\n",
      "Train loss: 5.12E-04\n",
      "Test  loss: 5.71E-04\n",
      "\n",
      " Epoch 324 \n",
      " --------------\n",
      "Train loss: 5.11E-04\n",
      "Test  loss: 5.71E-04\n",
      "\n",
      " Epoch 325 \n",
      " --------------\n",
      "Train loss: 5.11E-04\n",
      "Test  loss: 5.70E-04\n",
      "\n",
      " Epoch 326 \n",
      " --------------\n",
      "Train loss: 5.10E-04\n",
      "Test  loss: 5.70E-04\n",
      "\n",
      " Epoch 327 \n",
      " --------------\n",
      "Train loss: 5.10E-04\n",
      "Test  loss: 5.69E-04\n",
      "\n",
      " Epoch 328 \n",
      " --------------\n",
      "Train loss: 5.09E-04\n",
      "Test  loss: 5.69E-04\n",
      "\n",
      " Epoch 329 \n",
      " --------------\n",
      "Train loss: 5.09E-04\n",
      "Test  loss: 5.68E-04\n",
      "\n",
      " Epoch 330 \n",
      " --------------\n",
      "Train loss: 5.08E-04\n",
      "Test  loss: 5.68E-04\n",
      "\n",
      " Epoch 331 \n",
      " --------------\n",
      "Train loss: 5.08E-04\n",
      "Test  loss: 5.67E-04\n",
      "\n",
      " Epoch 332 \n",
      " --------------\n",
      "Train loss: 5.07E-04\n",
      "Test  loss: 5.67E-04\n",
      "\n",
      " Epoch 333 \n",
      " --------------\n",
      "Train loss: 5.07E-04\n",
      "Test  loss: 5.66E-04\n",
      "\n",
      " Epoch 334 \n",
      " --------------\n",
      "Train loss: 5.06E-04\n",
      "Test  loss: 5.66E-04\n",
      "\n",
      " Epoch 335 \n",
      " --------------\n",
      "Train loss: 5.06E-04\n",
      "Test  loss: 5.65E-04\n",
      "\n",
      " Epoch 336 \n",
      " --------------\n",
      "Train loss: 5.05E-04\n",
      "Test  loss: 5.65E-04\n",
      "\n",
      " Epoch 337 \n",
      " --------------\n",
      "Train loss: 5.05E-04\n",
      "Test  loss: 5.64E-04\n",
      "\n",
      " Epoch 338 \n",
      " --------------\n",
      "Train loss: 5.04E-04\n",
      "Test  loss: 5.64E-04\n",
      "\n",
      " Epoch 339 \n",
      " --------------\n",
      "Train loss: 5.04E-04\n",
      "Test  loss: 5.63E-04\n",
      "\n",
      " Epoch 340 \n",
      " --------------\n",
      "Train loss: 5.04E-04\n",
      "Test  loss: 5.63E-04\n",
      "\n",
      " Epoch 341 \n",
      " --------------\n",
      "Train loss: 5.03E-04\n",
      "Test  loss: 5.62E-04\n",
      "\n",
      " Epoch 342 \n",
      " --------------\n",
      "Train loss: 5.03E-04\n",
      "Test  loss: 5.62E-04\n",
      "\n",
      " Epoch 343 \n",
      " --------------\n",
      "Train loss: 5.02E-04\n",
      "Test  loss: 5.62E-04\n",
      "\n",
      " Epoch 344 \n",
      " --------------\n",
      "Train loss: 5.02E-04\n",
      "Test  loss: 5.61E-04\n",
      "\n",
      " Epoch 345 \n",
      " --------------\n",
      "Train loss: 5.02E-04\n",
      "Test  loss: 5.61E-04\n",
      "\n",
      " Epoch 346 \n",
      " --------------\n",
      "Train loss: 5.01E-04\n",
      "Test  loss: 5.60E-04\n",
      "\n",
      " Epoch 347 \n",
      " --------------\n",
      "Train loss: 5.01E-04\n",
      "Test  loss: 5.60E-04\n",
      "\n",
      " Epoch 348 \n",
      " --------------\n"
     ]
    },
    {
     "name": "stdout",
     "output_type": "stream",
     "text": [
      "Train loss: 5.00E-04\n",
      "Test  loss: 5.60E-04\n",
      "\n",
      " Epoch 349 \n",
      " --------------\n",
      "Train loss: 5.00E-04\n",
      "Test  loss: 5.59E-04\n",
      "\n",
      " Epoch 350 \n",
      " --------------\n",
      "Train loss: 5.00E-04\n",
      "Test  loss: 5.59E-04\n",
      "\n",
      " Epoch 351 \n",
      " --------------\n",
      "Train loss: 4.99E-04\n",
      "Test  loss: 5.58E-04\n",
      "\n",
      " Epoch 352 \n",
      " --------------\n",
      "Train loss: 4.99E-04\n",
      "Test  loss: 5.58E-04\n",
      "\n",
      " Epoch 353 \n",
      " --------------\n",
      "Train loss: 4.99E-04\n",
      "Test  loss: 5.58E-04\n",
      "\n",
      " Epoch 354 \n",
      " --------------\n",
      "Train loss: 4.98E-04\n",
      "Test  loss: 5.57E-04\n",
      "\n",
      " Epoch 355 \n",
      " --------------\n",
      "Train loss: 4.98E-04\n",
      "Test  loss: 5.57E-04\n",
      "\n",
      " Epoch 356 \n",
      " --------------\n",
      "Train loss: 4.98E-04\n",
      "Test  loss: 5.57E-04\n",
      "\n",
      " Epoch 357 \n",
      " --------------\n",
      "Train loss: 4.97E-04\n",
      "Test  loss: 5.56E-04\n",
      "\n",
      " Epoch 358 \n",
      " --------------\n",
      "Train loss: 4.97E-04\n",
      "Test  loss: 5.56E-04\n",
      "\n",
      " Epoch 359 \n",
      " --------------\n",
      "Train loss: 4.97E-04\n",
      "Test  loss: 5.56E-04\n",
      "\n",
      " Epoch 360 \n",
      " --------------\n",
      "Train loss: 4.96E-04\n",
      "Test  loss: 5.55E-04\n",
      "\n",
      " Epoch 361 \n",
      " --------------\n",
      "Train loss: 4.96E-04\n",
      "Test  loss: 5.55E-04\n",
      "\n",
      " Epoch 362 \n",
      " --------------\n",
      "Train loss: 4.96E-04\n",
      "Test  loss: 5.55E-04\n",
      "\n",
      " Epoch 363 \n",
      " --------------\n",
      "Train loss: 4.95E-04\n",
      "Test  loss: 5.54E-04\n",
      "\n",
      " Epoch 364 \n",
      " --------------\n",
      "Train loss: 4.95E-04\n",
      "Test  loss: 5.54E-04\n",
      "\n",
      " Epoch 365 \n",
      " --------------\n",
      "Train loss: 4.95E-04\n",
      "Test  loss: 5.53E-04\n",
      "\n",
      " Epoch 366 \n",
      " --------------\n",
      "Train loss: 4.94E-04\n",
      "Test  loss: 5.53E-04\n",
      "\n",
      " Epoch 367 \n",
      " --------------\n",
      "Train loss: 4.94E-04\n",
      "Test  loss: 5.53E-04\n",
      "\n",
      " Epoch 368 \n",
      " --------------\n",
      "Train loss: 4.94E-04\n",
      "Test  loss: 5.52E-04\n",
      "\n",
      " Epoch 369 \n",
      " --------------\n",
      "Train loss: 4.93E-04\n",
      "Test  loss: 5.52E-04\n",
      "\n",
      " Epoch 370 \n",
      " --------------\n",
      "Train loss: 4.93E-04\n",
      "Test  loss: 5.52E-04\n",
      "\n",
      " Epoch 371 \n",
      " --------------\n",
      "Train loss: 4.92E-04\n",
      "Test  loss: 5.51E-04\n",
      "\n",
      " Epoch 372 \n",
      " --------------\n",
      "Train loss: 4.92E-04\n",
      "Test  loss: 5.51E-04\n",
      "\n",
      " Epoch 373 \n",
      " --------------\n",
      "Train loss: 4.92E-04\n",
      "Test  loss: 5.50E-04\n",
      "\n",
      " Epoch 374 \n",
      " --------------\n",
      "Train loss: 4.91E-04\n",
      "Test  loss: 5.50E-04\n",
      "\n",
      " Epoch 375 \n",
      " --------------\n",
      "Train loss: 4.91E-04\n",
      "Test  loss: 5.50E-04\n",
      "\n",
      " Epoch 376 \n",
      " --------------\n",
      "Train loss: 4.91E-04\n",
      "Test  loss: 5.49E-04\n",
      "\n",
      " Epoch 377 \n",
      " --------------\n",
      "Train loss: 4.90E-04\n",
      "Test  loss: 5.49E-04\n",
      "\n",
      " Epoch 378 \n",
      " --------------\n",
      "Train loss: 4.90E-04\n",
      "Test  loss: 5.49E-04\n",
      "\n",
      " Epoch 379 \n",
      " --------------\n",
      "Train loss: 4.90E-04\n",
      "Test  loss: 5.48E-04\n",
      "\n",
      " Epoch 380 \n",
      " --------------\n",
      "Train loss: 4.89E-04\n",
      "Test  loss: 5.48E-04\n",
      "\n",
      " Epoch 381 \n",
      " --------------\n",
      "Train loss: 4.89E-04\n",
      "Test  loss: 5.47E-04\n",
      "\n",
      " Epoch 382 \n",
      " --------------\n",
      "Train loss: 4.88E-04\n",
      "Test  loss: 5.47E-04\n",
      "\n",
      " Epoch 383 \n",
      " --------------\n",
      "Train loss: 4.88E-04\n",
      "Test  loss: 5.47E-04\n",
      "\n",
      " Epoch 384 \n",
      " --------------\n",
      "Train loss: 4.88E-04\n",
      "Test  loss: 5.46E-04\n",
      "\n",
      " Epoch 385 \n",
      " --------------\n",
      "Train loss: 4.87E-04\n",
      "Test  loss: 5.46E-04\n",
      "\n",
      " Epoch 386 \n",
      " --------------\n",
      "Train loss: 4.87E-04\n",
      "Test  loss: 5.46E-04\n",
      "\n",
      " Epoch 387 \n",
      " --------------\n",
      "Train loss: 4.87E-04\n",
      "Test  loss: 5.45E-04\n",
      "\n",
      " Epoch 388 \n",
      " --------------\n",
      "Train loss: 4.86E-04\n",
      "Test  loss: 5.45E-04\n",
      "\n",
      " Epoch 389 \n",
      " --------------\n",
      "Train loss: 4.86E-04\n",
      "Test  loss: 5.44E-04\n",
      "\n",
      " Epoch 390 \n",
      " --------------\n",
      "Train loss: 4.86E-04\n",
      "Test  loss: 5.44E-04\n",
      "\n",
      " Epoch 391 \n",
      " --------------\n",
      "Train loss: 4.85E-04\n",
      "Test  loss: 5.44E-04\n",
      "\n",
      " Epoch 392 \n",
      " --------------\n",
      "Train loss: 4.85E-04\n",
      "Test  loss: 5.43E-04\n",
      "\n",
      " Epoch 393 \n",
      " --------------\n",
      "Train loss: 4.85E-04\n",
      "Test  loss: 5.43E-04\n",
      "\n",
      " Epoch 394 \n",
      " --------------\n",
      "Train loss: 4.84E-04\n",
      "Test  loss: 5.43E-04\n",
      "\n",
      " Epoch 395 \n",
      " --------------\n",
      "Train loss: 4.84E-04\n",
      "Test  loss: 5.43E-04\n",
      "\n",
      " Epoch 396 \n",
      " --------------\n",
      "Train loss: 4.84E-04\n",
      "Test  loss: 5.42E-04\n",
      "\n",
      " Epoch 397 \n",
      " --------------\n",
      "Train loss: 4.84E-04\n",
      "Test  loss: 5.42E-04\n",
      "\n",
      " Epoch 398 \n",
      " --------------\n",
      "Train loss: 4.83E-04\n",
      "Test  loss: 5.42E-04\n",
      "\n",
      " Epoch 399 \n",
      " --------------\n",
      "Train loss: 4.83E-04\n",
      "Test  loss: 5.41E-04\n",
      "\n",
      " Epoch 400 \n",
      " --------------\n",
      "Train loss: 4.83E-04\n",
      "Test  loss: 5.41E-04\n",
      "\n",
      " Epoch 401 \n",
      " --------------\n",
      "Train loss: 4.82E-04\n",
      "Test  loss: 5.41E-04\n",
      "\n",
      " Epoch 402 \n",
      " --------------\n",
      "Train loss: 4.82E-04\n",
      "Test  loss: 5.40E-04\n",
      "\n",
      " Epoch 403 \n",
      " --------------\n",
      "Train loss: 4.82E-04\n",
      "Test  loss: 5.40E-04\n",
      "\n",
      " Epoch 404 \n",
      " --------------\n",
      "Train loss: 4.82E-04\n",
      "Test  loss: 5.40E-04\n",
      "\n",
      " Epoch 405 \n",
      " --------------\n",
      "Train loss: 4.81E-04\n",
      "Test  loss: 5.40E-04\n",
      "\n",
      " Epoch 406 \n",
      " --------------\n",
      "Train loss: 4.81E-04\n",
      "Test  loss: 5.39E-04\n",
      "\n",
      " Epoch 407 \n",
      " --------------\n",
      "Train loss: 4.81E-04\n",
      "Test  loss: 5.39E-04\n",
      "\n",
      " Epoch 408 \n",
      " --------------\n",
      "Train loss: 4.81E-04\n",
      "Test  loss: 5.39E-04\n",
      "\n",
      " Epoch 409 \n",
      " --------------\n",
      "Train loss: 4.80E-04\n",
      "Test  loss: 5.39E-04\n",
      "\n",
      " Epoch 410 \n",
      " --------------\n",
      "Train loss: 4.80E-04\n",
      "Test  loss: 5.38E-04\n",
      "\n",
      " Epoch 411 \n",
      " --------------\n",
      "Train loss: 4.80E-04\n",
      "Test  loss: 5.38E-04\n",
      "\n",
      " Epoch 412 \n",
      " --------------\n",
      "Train loss: 4.79E-04\n",
      "Test  loss: 5.38E-04\n",
      "\n",
      " Epoch 413 \n",
      " --------------\n",
      "Train loss: 4.79E-04\n",
      "Test  loss: 5.37E-04\n",
      "\n",
      " Epoch 414 \n",
      " --------------\n",
      "Train loss: 4.79E-04\n",
      "Test  loss: 5.37E-04\n",
      "\n",
      " Epoch 415 \n",
      " --------------\n",
      "Train loss: 4.79E-04\n",
      "Test  loss: 5.37E-04\n",
      "\n",
      " Epoch 416 \n",
      " --------------\n",
      "Train loss: 4.78E-04\n",
      "Test  loss: 5.37E-04\n",
      "\n",
      " Epoch 417 \n",
      " --------------\n",
      "Train loss: 4.78E-04\n",
      "Test  loss: 5.36E-04\n",
      "\n",
      " Epoch 418 \n",
      " --------------\n",
      "Train loss: 4.78E-04\n",
      "Test  loss: 5.36E-04\n",
      "\n",
      " Epoch 419 \n",
      " --------------\n",
      "Train loss: 4.78E-04\n",
      "Test  loss: 5.36E-04\n",
      "\n",
      " Epoch 420 \n",
      " --------------\n",
      "Train loss: 4.77E-04\n",
      "Test  loss: 5.35E-04\n",
      "\n",
      " Epoch 421 \n",
      " --------------\n",
      "Train loss: 4.77E-04\n",
      "Test  loss: 5.35E-04\n",
      "\n",
      " Epoch 422 \n",
      " --------------\n",
      "Train loss: 4.77E-04\n",
      "Test  loss: 5.35E-04\n",
      "\n",
      " Epoch 423 \n",
      " --------------\n",
      "Train loss: 4.77E-04\n",
      "Test  loss: 5.35E-04\n",
      "\n",
      " Epoch 424 \n",
      " --------------\n",
      "Train loss: 4.76E-04\n",
      "Test  loss: 5.34E-04\n",
      "\n",
      " Epoch 425 \n",
      " --------------\n",
      "Train loss: 4.76E-04\n",
      "Test  loss: 5.34E-04\n",
      "\n",
      " Epoch 426 \n",
      " --------------\n",
      "Train loss: 4.76E-04\n",
      "Test  loss: 5.34E-04\n",
      "\n",
      " Epoch 427 \n",
      " --------------\n",
      "Train loss: 4.76E-04\n",
      "Test  loss: 5.34E-04\n",
      "\n",
      " Epoch 428 \n",
      " --------------\n",
      "Train loss: 4.75E-04\n",
      "Test  loss: 5.33E-04\n",
      "\n",
      " Epoch 429 \n",
      " --------------\n",
      "Train loss: 4.75E-04\n",
      "Test  loss: 5.33E-04\n",
      "\n",
      " Epoch 430 \n",
      " --------------\n",
      "Train loss: 4.75E-04\n",
      "Test  loss: 5.33E-04\n",
      "\n",
      " Epoch 431 \n",
      " --------------\n",
      "Train loss: 4.75E-04\n",
      "Test  loss: 5.33E-04\n",
      "\n",
      " Epoch 432 \n",
      " --------------\n",
      "Train loss: 4.74E-04\n",
      "Test  loss: 5.32E-04\n",
      "\n",
      " Epoch 433 \n",
      " --------------\n",
      "Train loss: 4.74E-04\n",
      "Test  loss: 5.32E-04\n",
      "\n",
      " Epoch 434 \n",
      " --------------\n",
      "Train loss: 4.74E-04\n",
      "Test  loss: 5.32E-04\n",
      "\n",
      " Epoch 435 \n",
      " --------------\n",
      "Train loss: 4.74E-04\n",
      "Test  loss: 5.32E-04\n",
      "\n",
      " Epoch 436 \n",
      " --------------\n",
      "Train loss: 4.73E-04\n",
      "Test  loss: 5.31E-04\n",
      "\n",
      " Epoch 437 \n",
      " --------------\n",
      "Train loss: 4.73E-04\n",
      "Test  loss: 5.31E-04\n",
      "\n",
      " Epoch 438 \n",
      " --------------\n",
      "Train loss: 4.73E-04\n",
      "Test  loss: 5.31E-04\n",
      "\n",
      " Epoch 439 \n",
      " --------------\n",
      "Train loss: 4.73E-04\n",
      "Test  loss: 5.31E-04\n",
      "\n",
      " Epoch 440 \n",
      " --------------\n",
      "Train loss: 4.72E-04\n",
      "Test  loss: 5.30E-04\n",
      "\n",
      " Epoch 441 \n",
      " --------------\n",
      "Train loss: 4.72E-04\n",
      "Test  loss: 5.30E-04\n",
      "\n",
      " Epoch 442 \n",
      " --------------\n",
      "Train loss: 4.72E-04\n",
      "Test  loss: 5.30E-04\n",
      "\n",
      " Epoch 443 \n",
      " --------------\n",
      "Train loss: 4.72E-04\n",
      "Test  loss: 5.30E-04\n",
      "\n",
      " Epoch 444 \n",
      " --------------\n",
      "Train loss: 4.71E-04\n",
      "Test  loss: 5.29E-04\n",
      "\n",
      " Epoch 445 \n",
      " --------------\n",
      "Train loss: 4.71E-04\n",
      "Test  loss: 5.29E-04\n",
      "\n",
      " Epoch 446 \n",
      " --------------\n",
      "Train loss: 4.71E-04\n",
      "Test  loss: 5.29E-04\n",
      "\n",
      " Epoch 447 \n",
      " --------------\n",
      "Train loss: 4.71E-04\n",
      "Test  loss: 5.29E-04\n",
      "\n",
      " Epoch 448 \n",
      " --------------\n",
      "Train loss: 4.71E-04\n",
      "Test  loss: 5.29E-04\n",
      "\n",
      " Epoch 449 \n",
      " --------------\n",
      "Train loss: 4.71E-04\n",
      "Test  loss: 5.28E-04\n",
      "\n",
      " Epoch 450 \n",
      " --------------\n",
      "Train loss: 4.70E-04\n",
      "Test  loss: 5.28E-04\n",
      "\n",
      " Epoch 451 \n",
      " --------------\n",
      "Train loss: 4.70E-04\n",
      "Test  loss: 5.28E-04\n",
      "\n",
      " Epoch 452 \n",
      " --------------\n",
      "Train loss: 4.70E-04\n",
      "Test  loss: 5.28E-04\n",
      "\n",
      " Epoch 453 \n",
      " --------------\n",
      "Train loss: 4.70E-04\n",
      "Test  loss: 5.28E-04\n",
      "\n",
      " Epoch 454 \n",
      " --------------\n",
      "Train loss: 4.70E-04\n",
      "Test  loss: 5.28E-04\n",
      "\n",
      " Epoch 455 \n",
      " --------------\n",
      "Train loss: 4.70E-04\n",
      "Test  loss: 5.28E-04\n",
      "\n",
      " Epoch 456 \n",
      " --------------\n",
      "Adapting learning rate to 0.00125\n",
      "Train loss: 4.70E-04\n",
      "Test  loss: 5.28E-04\n",
      "\n",
      " Epoch 457 \n",
      " --------------\n",
      "Train loss: 3.67E-04\n",
      "Test  loss: 4.23E-04\n",
      "\n",
      " Epoch 458 \n",
      " --------------\n",
      "Train loss: 3.67E-04\n",
      "Test  loss: 4.22E-04\n",
      "\n",
      " Epoch 459 \n",
      " --------------\n",
      "Train loss: 3.67E-04\n",
      "Test  loss: 4.22E-04\n",
      "\n",
      " Epoch 460 \n",
      " --------------\n",
      "Train loss: 3.67E-04\n",
      "Test  loss: 4.22E-04\n",
      "\n",
      " Epoch 461 \n",
      " --------------\n",
      "Train loss: 3.66E-04\n",
      "Test  loss: 4.22E-04\n",
      "\n",
      " Epoch 462 \n",
      " --------------\n",
      "Train loss: 3.66E-04\n",
      "Test  loss: 4.22E-04\n",
      "\n",
      " Epoch 463 \n",
      " --------------\n"
     ]
    },
    {
     "name": "stdout",
     "output_type": "stream",
     "text": [
      "Train loss: 3.66E-04\n",
      "Test  loss: 4.22E-04\n",
      "\n",
      " Epoch 464 \n",
      " --------------\n",
      "Train loss: 3.66E-04\n",
      "Test  loss: 4.22E-04\n",
      "\n",
      " Epoch 465 \n",
      " --------------\n",
      "Train loss: 3.66E-04\n",
      "Test  loss: 4.21E-04\n",
      "\n",
      " Epoch 466 \n",
      " --------------\n",
      "Train loss: 3.66E-04\n",
      "Test  loss: 4.21E-04\n",
      "\n",
      " Epoch 467 \n",
      " --------------\n",
      "Train loss: 3.66E-04\n",
      "Test  loss: 4.21E-04\n",
      "\n",
      " Epoch 468 \n",
      " --------------\n",
      "Train loss: 3.66E-04\n",
      "Test  loss: 4.21E-04\n",
      "\n",
      " Epoch 469 \n",
      " --------------\n",
      "Train loss: 3.65E-04\n",
      "Test  loss: 4.21E-04\n",
      "\n",
      " Epoch 470 \n",
      " --------------\n",
      "Train loss: 3.65E-04\n",
      "Test  loss: 4.21E-04\n",
      "\n",
      " Epoch 471 \n",
      " --------------\n",
      "Train loss: 3.65E-04\n",
      "Test  loss: 4.20E-04\n",
      "\n",
      " Epoch 472 \n",
      " --------------\n",
      "Train loss: 3.65E-04\n",
      "Test  loss: 4.20E-04\n",
      "\n",
      " Epoch 473 \n",
      " --------------\n",
      "Train loss: 3.65E-04\n",
      "Test  loss: 4.20E-04\n",
      "\n",
      " Epoch 474 \n",
      " --------------\n",
      "Train loss: 3.65E-04\n",
      "Test  loss: 4.20E-04\n",
      "\n",
      " Epoch 475 \n",
      " --------------\n",
      "Train loss: 3.65E-04\n",
      "Test  loss: 4.20E-04\n",
      "\n",
      " Epoch 476 \n",
      " --------------\n",
      "Train loss: 3.65E-04\n",
      "Test  loss: 4.20E-04\n",
      "\n",
      " Epoch 477 \n",
      " --------------\n",
      "Train loss: 3.65E-04\n",
      "Test  loss: 4.19E-04\n",
      "\n",
      " Epoch 478 \n",
      " --------------\n",
      "Train loss: 3.64E-04\n",
      "Test  loss: 4.19E-04\n",
      "\n",
      " Epoch 479 \n",
      " --------------\n",
      "Train loss: 3.64E-04\n",
      "Test  loss: 4.19E-04\n",
      "\n",
      " Epoch 480 \n",
      " --------------\n",
      "Train loss: 3.64E-04\n",
      "Test  loss: 4.19E-04\n",
      "\n",
      " Epoch 481 \n",
      " --------------\n"
     ]
    },
    {
     "ename": "KeyboardInterrupt",
     "evalue": "",
     "output_type": "error",
     "traceback": [
      "\u001b[1;31m---------------------------------------------------------------------------\u001b[0m",
      "\u001b[1;31mKeyboardInterrupt\u001b[0m                         Traceback (most recent call last)",
      "Cell \u001b[1;32mIn[87], line 1\u001b[0m\n\u001b[1;32m----> 1\u001b[0m \u001b[43mtrainer\u001b[49m\u001b[38;5;241;43m.\u001b[39;49m\u001b[43mtrain\u001b[49m\u001b[43m(\u001b[49m\u001b[43m)\u001b[49m\n",
      "File \u001b[1;32mD:\\Thibeau\\master-thesis-AI\\Code\\nnc2p.py:412\u001b[0m, in \u001b[0;36mTrainer.train\u001b[1;34m(self, adaptation_threshold, adaptation_multiplier, number_of_epochs, log_file, csv_file)\u001b[0m\n\u001b[0;32m    410\u001b[0m write_to_txt(log_file, \u001b[38;5;124mf\u001b[39m\u001b[38;5;124m\"\u001b[39m\u001b[38;5;130;01m\\n\u001b[39;00m\u001b[38;5;124m Epoch \u001b[39m\u001b[38;5;132;01m{\u001b[39;00mepoch_counter\u001b[38;5;132;01m}\u001b[39;00m\u001b[38;5;124m \u001b[39m\u001b[38;5;130;01m\\n\u001b[39;00m\u001b[38;5;124m --------------\u001b[39m\u001b[38;5;124m\"\u001b[39m)\n\u001b[0;32m    411\u001b[0m \u001b[38;5;66;03m# Train the network\u001b[39;00m\n\u001b[1;32m--> 412\u001b[0m \u001b[43mtrain_loop\u001b[49m\u001b[43m(\u001b[49m\u001b[38;5;28;43mself\u001b[39;49m\u001b[38;5;241;43m.\u001b[39;49m\u001b[43mtrain_dataloader\u001b[49m\u001b[43m,\u001b[49m\u001b[43m \u001b[49m\u001b[38;5;28;43mself\u001b[39;49m\u001b[38;5;241;43m.\u001b[39;49m\u001b[43mmodel\u001b[49m\u001b[43m,\u001b[49m\u001b[43m \u001b[49m\u001b[38;5;28;43mself\u001b[39;49m\u001b[38;5;241;43m.\u001b[39;49m\u001b[43mloss_fn\u001b[49m\u001b[43m,\u001b[49m\u001b[43m \u001b[49m\u001b[38;5;28;43mself\u001b[39;49m\u001b[38;5;241;43m.\u001b[39;49m\u001b[43moptimizer\u001b[49m\u001b[43m,\u001b[49m\u001b[43m \u001b[49m\u001b[43muse_c2p_loss\u001b[49m\u001b[38;5;241;43m=\u001b[39;49m\u001b[38;5;28;43mself\u001b[39;49m\u001b[38;5;241;43m.\u001b[39;49m\u001b[43muse_c2p_loss\u001b[49m\u001b[43m)\u001b[49m\n\u001b[0;32m    413\u001b[0m \u001b[38;5;66;03m# Test on the training data\u001b[39;00m\n\u001b[0;32m    414\u001b[0m average_train_loss \u001b[38;5;241m=\u001b[39m test_loop(\u001b[38;5;28mself\u001b[39m\u001b[38;5;241m.\u001b[39mtrain_dataloader, \u001b[38;5;28mself\u001b[39m\u001b[38;5;241m.\u001b[39mmodel, \u001b[38;5;28mself\u001b[39m\u001b[38;5;241m.\u001b[39mloss_fn)\n",
      "File \u001b[1;32mD:\\Thibeau\\master-thesis-AI\\Code\\nnc2p.py:292\u001b[0m, in \u001b[0;36mtrain_loop\u001b[1;34m(dataloader, model, loss_fn, optimizer, report_progress, use_c2p_loss)\u001b[0m\n\u001b[0;32m    290\u001b[0m optimizer\u001b[38;5;241m.\u001b[39mzero_grad()\n\u001b[0;32m    291\u001b[0m loss\u001b[38;5;241m.\u001b[39mbackward()\n\u001b[1;32m--> 292\u001b[0m \u001b[43moptimizer\u001b[49m\u001b[38;5;241;43m.\u001b[39;49m\u001b[43mstep\u001b[49m\u001b[43m(\u001b[49m\u001b[43m)\u001b[49m\n\u001b[0;32m    294\u001b[0m \u001b[38;5;66;03m# If we want to report progress during training (not recommended - obstructs view)\u001b[39;00m\n\u001b[0;32m    295\u001b[0m \u001b[38;5;28;01mif\u001b[39;00m report_progress:\n",
      "File \u001b[1;32mD:\\Anaconda\\envs\\thesis\\Lib\\site-packages\\torch\\optim\\optimizer.py:280\u001b[0m, in \u001b[0;36mOptimizer.profile_hook_step.<locals>.wrapper\u001b[1;34m(*args, **kwargs)\u001b[0m\n\u001b[0;32m    276\u001b[0m         \u001b[38;5;28;01melse\u001b[39;00m:\n\u001b[0;32m    277\u001b[0m             \u001b[38;5;28;01mraise\u001b[39;00m \u001b[38;5;167;01mRuntimeError\u001b[39;00m(\u001b[38;5;124mf\u001b[39m\u001b[38;5;124m\"\u001b[39m\u001b[38;5;132;01m{\u001b[39;00mfunc\u001b[38;5;132;01m}\u001b[39;00m\u001b[38;5;124m must return None or a tuple of (new_args, new_kwargs),\u001b[39m\u001b[38;5;124m\"\u001b[39m\n\u001b[0;32m    278\u001b[0m                                \u001b[38;5;124mf\u001b[39m\u001b[38;5;124m\"\u001b[39m\u001b[38;5;124mbut got \u001b[39m\u001b[38;5;132;01m{\u001b[39;00mresult\u001b[38;5;132;01m}\u001b[39;00m\u001b[38;5;124m.\u001b[39m\u001b[38;5;124m\"\u001b[39m)\n\u001b[1;32m--> 280\u001b[0m out \u001b[38;5;241m=\u001b[39m \u001b[43mfunc\u001b[49m\u001b[43m(\u001b[49m\u001b[38;5;241;43m*\u001b[39;49m\u001b[43margs\u001b[49m\u001b[43m,\u001b[49m\u001b[43m \u001b[49m\u001b[38;5;241;43m*\u001b[39;49m\u001b[38;5;241;43m*\u001b[39;49m\u001b[43mkwargs\u001b[49m\u001b[43m)\u001b[49m\n\u001b[0;32m    281\u001b[0m \u001b[38;5;28mself\u001b[39m\u001b[38;5;241m.\u001b[39m_optimizer_step_code()\n\u001b[0;32m    283\u001b[0m \u001b[38;5;66;03m# call optimizer step post hooks\u001b[39;00m\n",
      "File \u001b[1;32mD:\\Anaconda\\envs\\thesis\\Lib\\site-packages\\torch\\optim\\optimizer.py:33\u001b[0m, in \u001b[0;36m_use_grad_for_differentiable.<locals>._use_grad\u001b[1;34m(self, *args, **kwargs)\u001b[0m\n\u001b[0;32m     31\u001b[0m \u001b[38;5;28;01mtry\u001b[39;00m:\n\u001b[0;32m     32\u001b[0m     torch\u001b[38;5;241m.\u001b[39mset_grad_enabled(\u001b[38;5;28mself\u001b[39m\u001b[38;5;241m.\u001b[39mdefaults[\u001b[38;5;124m'\u001b[39m\u001b[38;5;124mdifferentiable\u001b[39m\u001b[38;5;124m'\u001b[39m])\n\u001b[1;32m---> 33\u001b[0m     ret \u001b[38;5;241m=\u001b[39m \u001b[43mfunc\u001b[49m\u001b[43m(\u001b[49m\u001b[38;5;28;43mself\u001b[39;49m\u001b[43m,\u001b[49m\u001b[43m \u001b[49m\u001b[38;5;241;43m*\u001b[39;49m\u001b[43margs\u001b[49m\u001b[43m,\u001b[49m\u001b[43m \u001b[49m\u001b[38;5;241;43m*\u001b[39;49m\u001b[38;5;241;43m*\u001b[39;49m\u001b[43mkwargs\u001b[49m\u001b[43m)\u001b[49m\n\u001b[0;32m     34\u001b[0m \u001b[38;5;28;01mfinally\u001b[39;00m:\n\u001b[0;32m     35\u001b[0m     torch\u001b[38;5;241m.\u001b[39mset_grad_enabled(prev_grad)\n",
      "File \u001b[1;32mD:\\Anaconda\\envs\\thesis\\Lib\\site-packages\\torch\\optim\\adam.py:141\u001b[0m, in \u001b[0;36mAdam.step\u001b[1;34m(self, closure)\u001b[0m\n\u001b[0;32m    130\u001b[0m     beta1, beta2 \u001b[38;5;241m=\u001b[39m group[\u001b[38;5;124m'\u001b[39m\u001b[38;5;124mbetas\u001b[39m\u001b[38;5;124m'\u001b[39m]\n\u001b[0;32m    132\u001b[0m     \u001b[38;5;28mself\u001b[39m\u001b[38;5;241m.\u001b[39m_init_group(\n\u001b[0;32m    133\u001b[0m         group,\n\u001b[0;32m    134\u001b[0m         params_with_grad,\n\u001b[1;32m   (...)\u001b[0m\n\u001b[0;32m    138\u001b[0m         max_exp_avg_sqs,\n\u001b[0;32m    139\u001b[0m         state_steps)\n\u001b[1;32m--> 141\u001b[0m     \u001b[43madam\u001b[49m\u001b[43m(\u001b[49m\n\u001b[0;32m    142\u001b[0m \u001b[43m        \u001b[49m\u001b[43mparams_with_grad\u001b[49m\u001b[43m,\u001b[49m\n\u001b[0;32m    143\u001b[0m \u001b[43m        \u001b[49m\u001b[43mgrads\u001b[49m\u001b[43m,\u001b[49m\n\u001b[0;32m    144\u001b[0m \u001b[43m        \u001b[49m\u001b[43mexp_avgs\u001b[49m\u001b[43m,\u001b[49m\n\u001b[0;32m    145\u001b[0m \u001b[43m        \u001b[49m\u001b[43mexp_avg_sqs\u001b[49m\u001b[43m,\u001b[49m\n\u001b[0;32m    146\u001b[0m \u001b[43m        \u001b[49m\u001b[43mmax_exp_avg_sqs\u001b[49m\u001b[43m,\u001b[49m\n\u001b[0;32m    147\u001b[0m \u001b[43m        \u001b[49m\u001b[43mstate_steps\u001b[49m\u001b[43m,\u001b[49m\n\u001b[0;32m    148\u001b[0m \u001b[43m        \u001b[49m\u001b[43mamsgrad\u001b[49m\u001b[38;5;241;43m=\u001b[39;49m\u001b[43mgroup\u001b[49m\u001b[43m[\u001b[49m\u001b[38;5;124;43m'\u001b[39;49m\u001b[38;5;124;43mamsgrad\u001b[39;49m\u001b[38;5;124;43m'\u001b[39;49m\u001b[43m]\u001b[49m\u001b[43m,\u001b[49m\n\u001b[0;32m    149\u001b[0m \u001b[43m        \u001b[49m\u001b[43mbeta1\u001b[49m\u001b[38;5;241;43m=\u001b[39;49m\u001b[43mbeta1\u001b[49m\u001b[43m,\u001b[49m\n\u001b[0;32m    150\u001b[0m \u001b[43m        \u001b[49m\u001b[43mbeta2\u001b[49m\u001b[38;5;241;43m=\u001b[39;49m\u001b[43mbeta2\u001b[49m\u001b[43m,\u001b[49m\n\u001b[0;32m    151\u001b[0m \u001b[43m        \u001b[49m\u001b[43mlr\u001b[49m\u001b[38;5;241;43m=\u001b[39;49m\u001b[43mgroup\u001b[49m\u001b[43m[\u001b[49m\u001b[38;5;124;43m'\u001b[39;49m\u001b[38;5;124;43mlr\u001b[39;49m\u001b[38;5;124;43m'\u001b[39;49m\u001b[43m]\u001b[49m\u001b[43m,\u001b[49m\n\u001b[0;32m    152\u001b[0m \u001b[43m        \u001b[49m\u001b[43mweight_decay\u001b[49m\u001b[38;5;241;43m=\u001b[39;49m\u001b[43mgroup\u001b[49m\u001b[43m[\u001b[49m\u001b[38;5;124;43m'\u001b[39;49m\u001b[38;5;124;43mweight_decay\u001b[39;49m\u001b[38;5;124;43m'\u001b[39;49m\u001b[43m]\u001b[49m\u001b[43m,\u001b[49m\n\u001b[0;32m    153\u001b[0m \u001b[43m        \u001b[49m\u001b[43meps\u001b[49m\u001b[38;5;241;43m=\u001b[39;49m\u001b[43mgroup\u001b[49m\u001b[43m[\u001b[49m\u001b[38;5;124;43m'\u001b[39;49m\u001b[38;5;124;43meps\u001b[39;49m\u001b[38;5;124;43m'\u001b[39;49m\u001b[43m]\u001b[49m\u001b[43m,\u001b[49m\n\u001b[0;32m    154\u001b[0m \u001b[43m        \u001b[49m\u001b[43mmaximize\u001b[49m\u001b[38;5;241;43m=\u001b[39;49m\u001b[43mgroup\u001b[49m\u001b[43m[\u001b[49m\u001b[38;5;124;43m'\u001b[39;49m\u001b[38;5;124;43mmaximize\u001b[39;49m\u001b[38;5;124;43m'\u001b[39;49m\u001b[43m]\u001b[49m\u001b[43m,\u001b[49m\n\u001b[0;32m    155\u001b[0m \u001b[43m        \u001b[49m\u001b[43mforeach\u001b[49m\u001b[38;5;241;43m=\u001b[39;49m\u001b[43mgroup\u001b[49m\u001b[43m[\u001b[49m\u001b[38;5;124;43m'\u001b[39;49m\u001b[38;5;124;43mforeach\u001b[39;49m\u001b[38;5;124;43m'\u001b[39;49m\u001b[43m]\u001b[49m\u001b[43m,\u001b[49m\n\u001b[0;32m    156\u001b[0m \u001b[43m        \u001b[49m\u001b[43mcapturable\u001b[49m\u001b[38;5;241;43m=\u001b[39;49m\u001b[43mgroup\u001b[49m\u001b[43m[\u001b[49m\u001b[38;5;124;43m'\u001b[39;49m\u001b[38;5;124;43mcapturable\u001b[39;49m\u001b[38;5;124;43m'\u001b[39;49m\u001b[43m]\u001b[49m\u001b[43m,\u001b[49m\n\u001b[0;32m    157\u001b[0m \u001b[43m        \u001b[49m\u001b[43mdifferentiable\u001b[49m\u001b[38;5;241;43m=\u001b[39;49m\u001b[43mgroup\u001b[49m\u001b[43m[\u001b[49m\u001b[38;5;124;43m'\u001b[39;49m\u001b[38;5;124;43mdifferentiable\u001b[39;49m\u001b[38;5;124;43m'\u001b[39;49m\u001b[43m]\u001b[49m\u001b[43m,\u001b[49m\n\u001b[0;32m    158\u001b[0m \u001b[43m        \u001b[49m\u001b[43mfused\u001b[49m\u001b[38;5;241;43m=\u001b[39;49m\u001b[43mgroup\u001b[49m\u001b[43m[\u001b[49m\u001b[38;5;124;43m'\u001b[39;49m\u001b[38;5;124;43mfused\u001b[39;49m\u001b[38;5;124;43m'\u001b[39;49m\u001b[43m]\u001b[49m\u001b[43m,\u001b[49m\n\u001b[0;32m    159\u001b[0m \u001b[43m        \u001b[49m\u001b[43mgrad_scale\u001b[49m\u001b[38;5;241;43m=\u001b[39;49m\u001b[38;5;28;43mgetattr\u001b[39;49m\u001b[43m(\u001b[49m\u001b[38;5;28;43mself\u001b[39;49m\u001b[43m,\u001b[49m\u001b[43m \u001b[49m\u001b[38;5;124;43m\"\u001b[39;49m\u001b[38;5;124;43mgrad_scale\u001b[39;49m\u001b[38;5;124;43m\"\u001b[39;49m\u001b[43m,\u001b[49m\u001b[43m \u001b[49m\u001b[38;5;28;43;01mNone\u001b[39;49;00m\u001b[43m)\u001b[49m\u001b[43m,\u001b[49m\n\u001b[0;32m    160\u001b[0m \u001b[43m        \u001b[49m\u001b[43mfound_inf\u001b[49m\u001b[38;5;241;43m=\u001b[39;49m\u001b[38;5;28;43mgetattr\u001b[39;49m\u001b[43m(\u001b[49m\u001b[38;5;28;43mself\u001b[39;49m\u001b[43m,\u001b[49m\u001b[43m \u001b[49m\u001b[38;5;124;43m\"\u001b[39;49m\u001b[38;5;124;43mfound_inf\u001b[39;49m\u001b[38;5;124;43m\"\u001b[39;49m\u001b[43m,\u001b[49m\u001b[43m \u001b[49m\u001b[38;5;28;43;01mNone\u001b[39;49;00m\u001b[43m)\u001b[49m\u001b[43m,\u001b[49m\n\u001b[0;32m    161\u001b[0m \u001b[43m    \u001b[49m\u001b[43m)\u001b[49m\n\u001b[0;32m    163\u001b[0m \u001b[38;5;28;01mreturn\u001b[39;00m loss\n",
      "File \u001b[1;32mD:\\Anaconda\\envs\\thesis\\Lib\\site-packages\\torch\\optim\\adam.py:281\u001b[0m, in \u001b[0;36madam\u001b[1;34m(params, grads, exp_avgs, exp_avg_sqs, max_exp_avg_sqs, state_steps, foreach, capturable, differentiable, fused, grad_scale, found_inf, amsgrad, beta1, beta2, lr, weight_decay, eps, maximize)\u001b[0m\n\u001b[0;32m    278\u001b[0m \u001b[38;5;28;01melse\u001b[39;00m:\n\u001b[0;32m    279\u001b[0m     func \u001b[38;5;241m=\u001b[39m _single_tensor_adam\n\u001b[1;32m--> 281\u001b[0m \u001b[43mfunc\u001b[49m\u001b[43m(\u001b[49m\u001b[43mparams\u001b[49m\u001b[43m,\u001b[49m\n\u001b[0;32m    282\u001b[0m \u001b[43m     \u001b[49m\u001b[43mgrads\u001b[49m\u001b[43m,\u001b[49m\n\u001b[0;32m    283\u001b[0m \u001b[43m     \u001b[49m\u001b[43mexp_avgs\u001b[49m\u001b[43m,\u001b[49m\n\u001b[0;32m    284\u001b[0m \u001b[43m     \u001b[49m\u001b[43mexp_avg_sqs\u001b[49m\u001b[43m,\u001b[49m\n\u001b[0;32m    285\u001b[0m \u001b[43m     \u001b[49m\u001b[43mmax_exp_avg_sqs\u001b[49m\u001b[43m,\u001b[49m\n\u001b[0;32m    286\u001b[0m \u001b[43m     \u001b[49m\u001b[43mstate_steps\u001b[49m\u001b[43m,\u001b[49m\n\u001b[0;32m    287\u001b[0m \u001b[43m     \u001b[49m\u001b[43mamsgrad\u001b[49m\u001b[38;5;241;43m=\u001b[39;49m\u001b[43mamsgrad\u001b[49m\u001b[43m,\u001b[49m\n\u001b[0;32m    288\u001b[0m \u001b[43m     \u001b[49m\u001b[43mbeta1\u001b[49m\u001b[38;5;241;43m=\u001b[39;49m\u001b[43mbeta1\u001b[49m\u001b[43m,\u001b[49m\n\u001b[0;32m    289\u001b[0m \u001b[43m     \u001b[49m\u001b[43mbeta2\u001b[49m\u001b[38;5;241;43m=\u001b[39;49m\u001b[43mbeta2\u001b[49m\u001b[43m,\u001b[49m\n\u001b[0;32m    290\u001b[0m \u001b[43m     \u001b[49m\u001b[43mlr\u001b[49m\u001b[38;5;241;43m=\u001b[39;49m\u001b[43mlr\u001b[49m\u001b[43m,\u001b[49m\n\u001b[0;32m    291\u001b[0m \u001b[43m     \u001b[49m\u001b[43mweight_decay\u001b[49m\u001b[38;5;241;43m=\u001b[39;49m\u001b[43mweight_decay\u001b[49m\u001b[43m,\u001b[49m\n\u001b[0;32m    292\u001b[0m \u001b[43m     \u001b[49m\u001b[43meps\u001b[49m\u001b[38;5;241;43m=\u001b[39;49m\u001b[43meps\u001b[49m\u001b[43m,\u001b[49m\n\u001b[0;32m    293\u001b[0m \u001b[43m     \u001b[49m\u001b[43mmaximize\u001b[49m\u001b[38;5;241;43m=\u001b[39;49m\u001b[43mmaximize\u001b[49m\u001b[43m,\u001b[49m\n\u001b[0;32m    294\u001b[0m \u001b[43m     \u001b[49m\u001b[43mcapturable\u001b[49m\u001b[38;5;241;43m=\u001b[39;49m\u001b[43mcapturable\u001b[49m\u001b[43m,\u001b[49m\n\u001b[0;32m    295\u001b[0m \u001b[43m     \u001b[49m\u001b[43mdifferentiable\u001b[49m\u001b[38;5;241;43m=\u001b[39;49m\u001b[43mdifferentiable\u001b[49m\u001b[43m,\u001b[49m\n\u001b[0;32m    296\u001b[0m \u001b[43m     \u001b[49m\u001b[43mgrad_scale\u001b[49m\u001b[38;5;241;43m=\u001b[39;49m\u001b[43mgrad_scale\u001b[49m\u001b[43m,\u001b[49m\n\u001b[0;32m    297\u001b[0m \u001b[43m     \u001b[49m\u001b[43mfound_inf\u001b[49m\u001b[38;5;241;43m=\u001b[39;49m\u001b[43mfound_inf\u001b[49m\u001b[43m)\u001b[49m\n",
      "File \u001b[1;32mD:\\Anaconda\\envs\\thesis\\Lib\\site-packages\\torch\\optim\\adam.py:337\u001b[0m, in \u001b[0;36m_single_tensor_adam\u001b[1;34m(params, grads, exp_avgs, exp_avg_sqs, max_exp_avg_sqs, state_steps, grad_scale, found_inf, amsgrad, beta1, beta2, lr, weight_decay, eps, maximize, capturable, differentiable)\u001b[0m\n\u001b[0;32m    334\u001b[0m \u001b[38;5;28;01mif\u001b[39;00m weight_decay \u001b[38;5;241m!=\u001b[39m \u001b[38;5;241m0\u001b[39m:\n\u001b[0;32m    335\u001b[0m     grad \u001b[38;5;241m=\u001b[39m grad\u001b[38;5;241m.\u001b[39madd(param, alpha\u001b[38;5;241m=\u001b[39mweight_decay)\n\u001b[1;32m--> 337\u001b[0m \u001b[38;5;28;01mif\u001b[39;00m \u001b[43mtorch\u001b[49m\u001b[38;5;241;43m.\u001b[39;49m\u001b[43mis_complex\u001b[49m\u001b[43m(\u001b[49m\u001b[43mparam\u001b[49m\u001b[43m)\u001b[49m:\n\u001b[0;32m    338\u001b[0m     grad \u001b[38;5;241m=\u001b[39m torch\u001b[38;5;241m.\u001b[39mview_as_real(grad)\n\u001b[0;32m    339\u001b[0m     exp_avg \u001b[38;5;241m=\u001b[39m torch\u001b[38;5;241m.\u001b[39mview_as_real(exp_avg)\n",
      "\u001b[1;31mKeyboardInterrupt\u001b[0m: "
     ]
    }
   ],
   "source": [
    "trainer.train()"
   ]
  },
  {
   "cell_type": "markdown",
   "id": "c550e901",
   "metadata": {},
   "source": [
    "Report architecture (this saves info to a CSV, such as hidden layer set-up, nb of epochs trained, loss after training,... in order to compare performances across different architecture details)."
   ]
  },
  {
   "cell_type": "code",
   "execution_count": 89,
   "id": "2f3a92f7",
   "metadata": {
    "id": "2f3a92f7"
   },
   "outputs": [],
   "source": [
    "# trainer.report_training(\"NNEOS_tab_experiments.csv\", comment = \"logeps, logpress and log cs2.\")"
   ]
  },
  {
   "cell_type": "markdown",
   "id": "296ab01e",
   "metadata": {
    "id": "296ab01e"
   },
   "source": [
    "Create a quick sketch of training"
   ]
  },
  {
   "cell_type": "code",
   "execution_count": 90,
   "id": "f8056faf",
   "metadata": {
    "id": "f8056faf"
   },
   "outputs": [],
   "source": [
    "# plt.plot(trainer.train_losses, color='red', label=\"Train loss\")\n",
    "# plt.plot(trainer.test_losses, color='blue', label=\"Test loss\")\n",
    "\n",
    "# plt.grid()\n",
    "# plt.legend()\n",
    "# for ind in trainer.adaptation_indices:\n",
    "#     plt.axvline(ind, ls = '--', color='grey')\n",
    "# plt.yscale('log')\n",
    "# plt.xlabel(\"Epochs\")\n",
    "# plt.ylabel(\"MSE Loss\")\n",
    "# plt.title(\"Training (50, 50) network tabular EOS for p and eps\")\n",
    "# plt.savefig(\"testing_training_tab_eos_network_50_50.pdf\", bbox_inches = 'tight')\n",
    "# plt.show()"
   ]
  },
  {
   "cell_type": "markdown",
   "id": "bd574d7f",
   "metadata": {},
   "source": [
    "## Test the model"
   ]
  },
  {
   "cell_type": "markdown",
   "id": "b70c0189",
   "metadata": {},
   "source": [
    "Predictions on the test set:"
   ]
  },
  {
   "cell_type": "code",
   "execution_count": 114,
   "id": "6616e477",
   "metadata": {},
   "outputs": [],
   "source": [
    "with torch.no_grad():\n",
    "    # Get the input we wish to use\n",
    "    test_input = test_features.copy()\n",
    "    # Normalize it\n",
    "    test_input = scaler.transform(test_input)\n",
    "    # Conver to Torch tensor\n",
    "    test_input = torch.from_numpy(test_input)\n",
    "    # Do predictions\n",
    "    predictions = model(test_input)"
   ]
  },
  {
   "cell_type": "code",
   "execution_count": 121,
   "id": "125a2965",
   "metadata": {},
   "outputs": [
    {
     "data": {
      "text/plain": [
       "array([0.00571584, 0.00829841, 0.0132747 ])"
      ]
     },
     "execution_count": 121,
     "metadata": {},
     "output_type": "execute_result"
    }
   ],
   "source": [
    "nnc2p.l1_norm(test_labels, predictions.numpy())"
   ]
  },
  {
   "cell_type": "markdown",
   "id": "52a12dfa",
   "metadata": {},
   "source": [
    "## Save, load and export model "
   ]
  },
  {
   "cell_type": "markdown",
   "id": "29e9ef41",
   "metadata": {},
   "source": [
    "If desired, save the model"
   ]
  },
  {
   "cell_type": "code",
   "execution_count": 125,
   "id": "7f5344f8",
   "metadata": {},
   "outputs": [],
   "source": [
    "# torch.save(model, \"nn_tabeos_3_50_50_3.pt\")"
   ]
  },
  {
   "cell_type": "markdown",
   "id": "cbaefc43",
   "metadata": {},
   "source": [
    "If desired, load the original architecture (`tabular_eos_14_04.pth` contains for h = 50, 100, 20). "
   ]
  },
  {
   "cell_type": "code",
   "execution_count": 124,
   "id": "84a8d614",
   "metadata": {},
   "outputs": [
    {
     "data": {
      "text/plain": [
       "<All keys matched successfully>"
      ]
     },
     "execution_count": 124,
     "metadata": {},
     "output_type": "execute_result"
    }
   ],
   "source": [
    "model = Net(nb_of_inputs=3, nb_of_outputs=3, h=[50, 50]).float()\n",
    "# Load the state dict\n",
    "state_dict = torch.load(\"nn_tabeos_3_50_50_3.pth\") \n",
    "# Convert everything to floats rather than doubles\n",
    "for key in state_dict:\n",
    "    state_dict[key] = state_dict[key].float()\n",
    "model.load_state_dict(state_dict)"
   ]
  },
  {
   "cell_type": "markdown",
   "id": "3f64a42c",
   "metadata": {},
   "source": [
    "If desired, creat jit and onnx of the model"
   ]
  },
  {
   "cell_type": "code",
   "execution_count": 78,
   "id": "1ab9eba0",
   "metadata": {},
   "outputs": [
    {
     "name": "stdout",
     "output_type": "stream",
     "text": [
      "Example\n",
      "-1.728142261505127\n",
      "-1.4035654067993164\n",
      "-1.1849615573883057\n",
      "Output\n",
      "19.214147567749023\n",
      "18.384708404541016\n"
     ]
    }
   ],
   "source": [
    "x = scaler.transform(features[1000].reshape(1,-1))\n",
    "x = torch.from_numpy(x).float()\n",
    "print(\"Example\")\n",
    "print(x[0][0].item())\n",
    "print(x[0][1].item())\n",
    "print(x[0][2].item())\n",
    "torch_out = model(x)\n",
    "print(\"Output\")\n",
    "print(torch_out[0][0].item())\n",
    "print(torch_out[0][1].item())"
   ]
  },
  {
   "cell_type": "code",
   "execution_count": 79,
   "id": "c952dd37",
   "metadata": {},
   "outputs": [],
   "source": [
    "# ## ONNX\n",
    "# # Export the model\n",
    "# torch.onnx.export(model,               # model being run\n",
    "#                   x,                         # model input (or a tuple for multiple inputs)\n",
    "#                   \"tab_eos.onnx\",   # where to save the model (can be a file or file-like object)\n",
    "#                   export_params=True,        # store the trained parameter weights inside the model file\n",
    "#                   opset_version=10,          # the ONNX version to export the model to\n",
    "#                   do_constant_folding=True,  # whether to execute constant folding for optimization\n",
    "#                   input_names = ['input'],   # the model's input names\n",
    "#                   output_names = ['output'], # the model's output names\n",
    "#                   dynamic_axes={'input' : {0 : 'batch_size'},    # variable length axes\n",
    "#                                 'output' : {0 : 'batch_size'}})\n",
    "# ## Torchscript\n",
    "# # Use torch.jit.trace to generate a torch.jit.ScriptModule via tracing.\n",
    "# traced_script_module = torch.jit.trace(model, x)\n",
    "\n",
    "# # Save the TorchScript model\n",
    "# traced_script_module.save(\"tab_eos.pt\")"
   ]
  },
  {
   "cell_type": "markdown",
   "id": "79fbece1",
   "metadata": {},
   "source": [
    "Testing ONNX here!!! See [this PyTorch docs page for info.](https://pytorch.org/tutorials/advanced/super_resolution_with_onnxruntime.html)"
   ]
  },
  {
   "cell_type": "code",
   "execution_count": 111,
   "id": "33c3d4f3",
   "metadata": {},
   "outputs": [],
   "source": [
    "# onnx_model = onnx.load(\"tab_eos.onnx\")\n",
    "# onnx.checker.check_model(onnx_model)"
   ]
  },
  {
   "cell_type": "code",
   "execution_count": 112,
   "id": "33a31b56",
   "metadata": {},
   "outputs": [
    {
     "name": "stdout",
     "output_type": "stream",
     "text": [
      "Exported model has been tested with ONNXRuntime, and the result looks good!\n"
     ]
    }
   ],
   "source": [
    "# ort_session = onnxruntime.InferenceSession(\"tab_eos.onnx\")\n",
    "\n",
    "# def to_numpy(tensor):\n",
    "#     return tensor.detach().cpu().numpy() if tensor.requires_grad else tensor.cpu().numpy()\n",
    "\n",
    "# # compute ONNX Runtime output prediction\n",
    "# ort_inputs = {ort_session.get_inputs()[0].name: to_numpy(x)}\n",
    "# ort_outs = ort_session.run(None, ort_inputs)\n",
    "\n",
    "# # compare ONNX Runtime and PyTorch results\n",
    "# np.testing.assert_allclose(to_numpy(torch_out), ort_outs[0], rtol=1e-03, atol=1e-05)\n",
    "\n",
    "# print(\"Exported model has been tested with ONNXRuntime, and the result looks good!\")"
   ]
  },
  {
   "cell_type": "markdown",
   "id": "751ad8d9",
   "metadata": {},
   "source": [
    "## Compare performance against trilinear interpolation"
   ]
  },
  {
   "cell_type": "markdown",
   "id": "170faab4",
   "metadata": {},
   "source": [
    "We see (by running the cell below several times) that network is quite robust in generalization, althought the $\\ell_\\infty$ norm can sometimes suddenly get quite high, so further investigation into training on the full table is needed."
   ]
  },
  {
   "cell_type": "code",
   "execution_count": 139,
   "id": "be6b1508",
   "metadata": {},
   "outputs": [
    {
     "name": "stderr",
     "output_type": "stream",
     "text": [
      "C:\\Users\\Eline\\AppData\\Local\\Temp\\ipykernel_740\\2540522382.py:1: RuntimeWarning: invalid value encountered in log\n",
      "  logcs2 = np.log(cs2)\n"
     ]
    }
   ],
   "source": [
    "logcs2 = np.log(cs2)"
   ]
  },
  {
   "cell_type": "code",
   "execution_count": 140,
   "id": "8a8b5739",
   "metadata": {},
   "outputs": [
    {
     "name": "stdout",
     "output_type": "stream",
     "text": [
      "L2       difference on sample:  [5.76892252e-05 1.27363625e-04 7.22979913e-04]\n",
      "Linfty difference on sample:  [0.04742512 0.09362586 0.86427861]\n"
     ]
    }
   ],
   "source": [
    "# Sample features and their labels\n",
    "n_samples = 10000\n",
    "sample_ind = np.random.choice(len(features), size=min(len(features), n_samples), replace=False)\n",
    "sample_features = features[sample_ind]\n",
    "sample_labels = labels[sample_ind]\n",
    "# Get predictions\n",
    "with torch.no_grad():\n",
    "    # Don't forget to apply normalization!!! We fixed the random seed for reproducibility\n",
    "    sample_features = scaler.transform(sample_features)\n",
    "    predictions = model(torch.from_numpy(sample_features).float())\n",
    "    predictions = predictions.numpy()\n",
    "    \n",
    "# print(sample_labels[0])\n",
    "# print(predictions[0])\n",
    "print(\"L2       difference on sample: \", nnc2p.l2_norm(sample_labels, predictions))\n",
    "# print(nnc2p.l1_norm(sample_labels, predictions))\n",
    "print(\"Linfty difference on sample: \",nnc2p.linfty_norm(sample_labels, predictions))"
   ]
  },
  {
   "cell_type": "markdown",
   "id": "617ca2f7",
   "metadata": {},
   "source": [
    "Don't forget normalization (note: we can export the normalization procedure later on by saving the mean and std)."
   ]
  },
  {
   "cell_type": "code",
   "execution_count": 141,
   "id": "1f1060b7",
   "metadata": {},
   "outputs": [
    {
     "name": "stdout",
     "output_type": "stream",
     "text": [
      "Mean: [ 9.51608373 -0.30081866  0.32936217], std: [3.76043372 1.56992791 0.19028245]\n"
     ]
    }
   ],
   "source": [
    "print(f\"Mean: {scaler.mean_}, std: {scaler.scale_}\")"
   ]
  },
  {
   "cell_type": "markdown",
   "id": "3438e32b",
   "metadata": {},
   "source": [
    "## Compare network with trilinear interpolation"
   ]
  },
  {
   "cell_type": "markdown",
   "id": "040e1408",
   "metadata": {},
   "source": [
    "We use scipy for the interpolation: see [this docs page](https://docs.scipy.org/doc/scipy/reference/generated/scipy.interpolate.interpn.html#scipy.interpolate.interpn)"
   ]
  },
  {
   "cell_type": "code",
   "execution_count": 142,
   "id": "4eaa66fb",
   "metadata": {},
   "outputs": [],
   "source": [
    "from scipy.interpolate import interpn"
   ]
  },
  {
   "cell_type": "code",
   "execution_count": 143,
   "id": "c7d3e7ae",
   "metadata": {},
   "outputs": [],
   "source": [
    "def randomn(a, b):\n",
    "    \"\"\"Generate a random number in the range [a, b]\"\"\"\n",
    "    \n",
    "    return a + (b-a)*np.random.rand()"
   ]
  },
  {
   "cell_type": "markdown",
   "id": "c041a544",
   "metadata": {},
   "source": [
    "We define our own trilinear interpolation routine based on scipy:"
   ]
  },
  {
   "cell_type": "code",
   "execution_count": 144,
   "id": "f009fd46",
   "metadata": {},
   "outputs": [],
   "source": [
    "def trilinear_interpolation(points, values_list, test_points):\n",
    "    \"\"\"\n",
    "    Does a single prediction using trilinear interpolation.\n",
    "    \"\"\"\n",
    "    # Make the predictions\n",
    "    predictions = [interpn(points, values, test_points) for values in values_list]            \n",
    "    # Return transpose: shape is (n_samples, n_vars) similar to neural network\n",
    "    return np.transpose(np.array(predictions))"
   ]
  },
  {
   "cell_type": "markdown",
   "id": "0805f55e",
   "metadata": {},
   "source": [
    "For the grid points, we reverse the order compared to the EOS table. That is, the EOS table uses (ye, logtemp, logrho), but we will use (logrho, logtemp, ye)."
   ]
  },
  {
   "cell_type": "code",
   "execution_count": 146,
   "id": "b22ff32c",
   "metadata": {},
   "outputs": [
    {
     "name": "stdout",
     "output_type": "stream",
     "text": [
      "(391, 163, 66)\n"
     ]
    }
   ],
   "source": [
    "logpress_reversed = np.swapaxes(logpress, 0, 2)\n",
    "logenergy_reversed = np.swapaxes(logenergy, 0, 2)\n",
    "logcs2_reversed = np.swapaxes(logcs2, 0, 2)\n",
    "print(logpress_reversed.shape)"
   ]
  },
  {
   "cell_type": "code",
   "execution_count": 147,
   "id": "24facc89",
   "metadata": {},
   "outputs": [],
   "source": [
    "def sample_eos(logrho, logtemp, ye, n_examples = 1):\n",
    "    \"\"\"\n",
    "    Simple auxiliary function that returns a random input data point for an EOS table, based on its (logrho, logtemp, ye) values.\n",
    "    \"\"\"\n",
    "    \n",
    "    return np.stack([[randomn(min(logrho), max(logrho)), randomn(min(logtemp), max(logtemp)), randomn(min(ye), max(ye))] for _ in range(n_examples)])"
   ]
  },
  {
   "cell_type": "code",
   "execution_count": 172,
   "id": "0b48f682",
   "metadata": {},
   "outputs": [],
   "source": [
    "# Get an array of test cases:\n",
    "n_examples = 10000\n",
    "test_points = sample_eos(logrho, logtemp, ye, n_examples=n_examples)\n",
    "# Grid of tables\n",
    "points = (logrho, logtemp, ye)\n",
    "# Variables we wish to get\n",
    "values_list = [logenergy_reversed, logpress_reversed, logcs2_reversed]\n",
    "# Interpolation\n",
    "interpolated = trilinear_interpolation(points, values_list, test_points)\n",
    "# print(interpolated)  # print in case n_examples is low\n",
    "# Compare with neural net\n",
    "with torch.no_grad():\n",
    "    # Don't forget normalization!!!\n",
    "    test_points_n = scaler.transform(test_points)\n",
    "    predictions = model(torch.from_numpy(test_points_n).float())\n",
    "    predictions = predictions.numpy()\n",
    "#     print(predictions)  # print in case n_examples is low"
   ]
  },
  {
   "cell_type": "markdown",
   "id": "6165a0d3",
   "metadata": {},
   "source": [
    "Now get error rates"
   ]
  },
  {
   "cell_type": "code",
   "execution_count": 174,
   "id": "51b66e96",
   "metadata": {},
   "outputs": [],
   "source": [
    "l1_error, l2_error, linfty_error = nnc2p.l1_norm(interpolated, predictions), nnc2p.l2_norm(interpolated, predictions), nnc2p.linfty_norm(interpolated, predictions)"
   ]
  },
  {
   "cell_type": "code",
   "execution_count": 175,
   "id": "48ee6869",
   "metadata": {},
   "outputs": [
    {
     "name": "stdout",
     "output_type": "stream",
     "text": [
      "[0.00565407 0.0081235  0.01305064]\n",
      "[5.65448465e-05 1.19128211e-04 7.66002332e-04]\n",
      "[0.05040054 0.08126448 0.99801589]\n"
     ]
    }
   ],
   "source": [
    "print(l1_error)\n",
    "print(l2_error)\n",
    "print(linfty_error)"
   ]
  },
  {
   "cell_type": "markdown",
   "id": "e0ccc391",
   "metadata": {},
   "source": [
    "## Compare performance of methods"
   ]
  },
  {
   "cell_type": "markdown",
   "id": "34e72317",
   "metadata": {},
   "source": [
    "Here, we will try to compare the performance of the methods, by measuring the time they take (CPU time) through `timeit`."
   ]
  },
  {
   "cell_type": "code",
   "execution_count": 176,
   "id": "1d6f2327",
   "metadata": {},
   "outputs": [],
   "source": [
    "# Get a single point that has to be predicted\n",
    "test_point = sample_eos(logrho, logtemp, ye)"
   ]
  },
  {
   "cell_type": "markdown",
   "id": "f02146ac",
   "metadata": {},
   "source": [
    "Choose the number of runs and number of loops within each run"
   ]
  },
  {
   "cell_type": "code",
   "execution_count": 177,
   "id": "dba98145",
   "metadata": {},
   "outputs": [],
   "source": [
    "n_runs = 10\n",
    "n_loops = 10000"
   ]
  },
  {
   "cell_type": "code",
   "execution_count": 178,
   "id": "96877c57",
   "metadata": {},
   "outputs": [],
   "source": [
    "def time_execution(func, n_runs=10, n_loops=10000, verbose=True):\n",
    "    # Save all the runtimes\n",
    "    runtimes = []\n",
    "    for _ in range(n_runs):\n",
    "        # Start timer each run\n",
    "        start = time.process_time_ns()\n",
    "        for _ in range(n_loops):\n",
    "            func()\n",
    "        end = time.process_time_ns()\n",
    "        # Convert to micro seconds and get average for one loop\n",
    "        time_run = (end-start)/1000\n",
    "        time_loop = time_run/n_loops\n",
    "        runtimes.append(time_loop)\n",
    "    \n",
    "    # Convert to mean adn std\n",
    "    mu, sigma = np.mean(runtimes), np.std(runtimes)\n",
    "    \n",
    "    if verbose:\n",
    "        print(f\"{mu} \\pm {sigma} per loop ({n_runs} runs, {n_loops} each)\")\n",
    "    \n",
    "    return mu, sigma"
   ]
  },
  {
   "cell_type": "markdown",
   "id": "3266a43e",
   "metadata": {},
   "source": [
    "### Trilinear interpolation"
   ]
  },
  {
   "cell_type": "markdown",
   "id": "77be19ac",
   "metadata": {},
   "source": [
    "Performance of trilinear interpolation with Scipy:"
   ]
  },
  {
   "cell_type": "code",
   "execution_count": 179,
   "id": "6da37954",
   "metadata": {},
   "outputs": [],
   "source": [
    "# Which values to predict?\n",
    "values_list = [logenergy_reversed, logpress_reversed]\n",
    "# single value:\n",
    "val = logenergy_reversed\n",
    "def function1():\n",
    "    [interpn(points, val, test_point) for val in values_list]"
   ]
  },
  {
   "cell_type": "code",
   "execution_count": 180,
   "id": "2210bea5",
   "metadata": {},
   "outputs": [],
   "source": [
    "# %timeit -r10 -n10000 interpn(points, logenergy_reversed, test_point)  # measure Scipy"
   ]
  },
  {
   "cell_type": "markdown",
   "id": "57960034",
   "metadata": {},
   "source": [
    "### Neural network (using PyTorch)"
   ]
  },
  {
   "cell_type": "markdown",
   "id": "2fa6d74c",
   "metadata": {},
   "source": [
    "Performance of running the network with PyTorch built-ins: first convert point to right format"
   ]
  },
  {
   "cell_type": "code",
   "execution_count": 181,
   "id": "53c473f6",
   "metadata": {},
   "outputs": [],
   "source": [
    "test_point_n = scaler.transform(test_point)\n",
    "test_point_torch = torch.from_numpy(test_point_n).float()"
   ]
  },
  {
   "cell_type": "code",
   "execution_count": 182,
   "id": "f700b984",
   "metadata": {},
   "outputs": [],
   "source": [
    "def function2():\n",
    "    model(test_point_torch)"
   ]
  },
  {
   "cell_type": "markdown",
   "id": "1d903553",
   "metadata": {},
   "source": [
    "### Neural network (using PyTorch, no grad)"
   ]
  },
  {
   "cell_type": "markdown",
   "id": "d3f7dc09",
   "metadata": {},
   "source": [
    "It might be that saving the gradients etc in PyTorch can slow down the inference: check performance with grads disabled"
   ]
  },
  {
   "cell_type": "code",
   "execution_count": 183,
   "id": "69bb21dc",
   "metadata": {},
   "outputs": [],
   "source": [
    "def function3():\n",
    "    with torch.no_grad():\n",
    "        model(test_point_torch)"
   ]
  },
  {
   "cell_type": "markdown",
   "id": "7320f22f",
   "metadata": {},
   "source": [
    "### Neural network (using ONNX Runtime)"
   ]
  },
  {
   "cell_type": "code",
   "execution_count": 184,
   "id": "eab43d7e",
   "metadata": {},
   "outputs": [],
   "source": [
    "def function4():\n",
    "    ort_inputs = {ort_session.get_inputs()[0].name: to_numpy(x)}\n",
    "    ort_outs = ort_session.run(None, ort_inputs)"
   ]
  },
  {
   "cell_type": "markdown",
   "id": "c7dbd218",
   "metadata": {},
   "source": [
    "### Neural network (using Numpy)"
   ]
  },
  {
   "cell_type": "markdown",
   "id": "7476d3d2",
   "metadata": {},
   "source": [
    "Other comparison: the neural network but just the matrices and using Numpy! Save everything externally"
   ]
  },
  {
   "cell_type": "code",
   "execution_count": 185,
   "id": "b42da0ab",
   "metadata": {},
   "outputs": [],
   "source": [
    "w1 = model.state_dict()[\"linear1.weight\"].numpy()\n",
    "b1 = model.state_dict()[\"linear1.bias\"].numpy()\n",
    "w2 = model.state_dict()[\"linear2.weight\"].numpy()\n",
    "b2 = model.state_dict()[\"linear2.bias\"].numpy()\n",
    "w3 = model.state_dict()[\"linear3.weight\"].numpy()"
   ]
  },
  {
   "cell_type": "code",
   "execution_count": 186,
   "id": "5552111b",
   "metadata": {},
   "outputs": [],
   "source": [
    "test_point_np = test_point_n[0]"
   ]
  },
  {
   "cell_type": "code",
   "execution_count": 187,
   "id": "e39a3e13",
   "metadata": {},
   "outputs": [],
   "source": [
    "def sigmoid(x):\n",
    "    return 1/(1+np.exp(-x))"
   ]
  },
  {
   "cell_type": "code",
   "execution_count": 188,
   "id": "dd1d0e2d",
   "metadata": {},
   "outputs": [],
   "source": [
    "def run_nn(x):\n",
    "    x = np.matmul(w1, x) + b1\n",
    "    x = sigmoid(x)\n",
    "    x = np.matmul(w2, x) + b2\n",
    "    x = sigmoid(x)\n",
    "    x = np.matmul(w3, x)\n",
    "    \n",
    "    return x"
   ]
  },
  {
   "cell_type": "code",
   "execution_count": 189,
   "id": "814df05f",
   "metadata": {},
   "outputs": [
    {
     "name": "stdout",
     "output_type": "stream",
     "text": [
      "[[11.57061122 -0.15633412  0.08561414]]\n",
      "[21.82010524 38.72651337 47.77346631]\n",
      "[21.820105 38.726513 47.773468]\n"
     ]
    }
   ],
   "source": [
    "# Check if we get the same results -- OK\n",
    "print(test_point)\n",
    "test1 = run_nn(test_point[0])\n",
    "print(test1)\n",
    "with torch.no_grad():\n",
    "    test2 = model(torch.from_numpy(test_point[0]).float())\n",
    "    test2 = test2.numpy()\n",
    "print(test2)"
   ]
  },
  {
   "cell_type": "code",
   "execution_count": 190,
   "id": "c87285fa",
   "metadata": {},
   "outputs": [],
   "source": [
    "def function5():\n",
    "    run_nn(test_point_np)"
   ]
  },
  {
   "cell_type": "markdown",
   "id": "87e70883",
   "metadata": {},
   "source": [
    "### Python (no packages)"
   ]
  },
  {
   "cell_type": "markdown",
   "id": "c826585c",
   "metadata": {},
   "source": [
    "Convert everything to lists"
   ]
  },
  {
   "cell_type": "code",
   "execution_count": 191,
   "id": "916ba2ac",
   "metadata": {},
   "outputs": [
    {
     "name": "stdout",
     "output_type": "stream",
     "text": [
      "[[0.5463538641652405], [0.09203259199418481], [-1.280980106027008]]\n"
     ]
    }
   ],
   "source": [
    "test_point_list = test_point_np.tolist()\n",
    "test_point_list = [[val] for val in test_point_list]\n",
    "print(test_point_list)\n",
    "w1_list = w1.tolist()\n",
    "# b1_list = b1.tolist()\n",
    "b1_list = [[b1[i]] for i in range(len(b1))]\n",
    "# b1_list = [b1_list]\n",
    "w2_list = w2.tolist()\n",
    "b2_list = [[b2[i]] for i in range(len(b2))]\n",
    "w3_list = w3.tolist()"
   ]
  },
  {
   "cell_type": "markdown",
   "id": "4c4f1ef8",
   "metadata": {},
   "source": [
    "Get sigmoid function without numpy"
   ]
  },
  {
   "cell_type": "code",
   "execution_count": 192,
   "id": "ff76dfb6",
   "metadata": {},
   "outputs": [],
   "source": [
    "def sigmoid_list(x):\n",
    "    return [[1/(1+2.71828182845904523536028747135266249**(-x[i][0]))] for i in range(len(x))]"
   ]
  },
  {
   "cell_type": "code",
   "execution_count": 193,
   "id": "4d6b49e5",
   "metadata": {},
   "outputs": [],
   "source": [
    "def mm(A, B):\n",
    "    \"\"\"Matrix multiplication, pure Python\"\"\"\n",
    "    return [[sum(a*b for a,b in zip(A_row, B_col)) for B_col in zip(*B)] for A_row in A]"
   ]
  },
  {
   "cell_type": "code",
   "execution_count": 194,
   "id": "0daf7f73",
   "metadata": {},
   "outputs": [
    {
     "name": "stdout",
     "output_type": "stream",
     "text": [
      "[[2], [4], [6]]\n"
     ]
    },
    {
     "data": {
      "text/plain": [
       "[[2.731058578630005], [4.880797077977882], [6.952574126822433]]"
      ]
     },
     "execution_count": 194,
     "metadata": {},
     "output_type": "execute_result"
    }
   ],
   "source": [
    "a = [[2, 0, 0], [0, 2, 0], [0, 0, 2]]\n",
    "b = [[1],[2],[3]]\n",
    "first = mm(a,b)\n",
    "print(first)\n",
    "second = sigmoid_list(b)\n",
    "[[first[i][0] + second[i][0]] for i in range(len(first))]"
   ]
  },
  {
   "cell_type": "code",
   "execution_count": 195,
   "id": "46596592",
   "metadata": {},
   "outputs": [],
   "source": [
    "def run_nn_list(x):\n",
    "    x = mm(w1_list, x)\n",
    "    x = [[x[i][0] + b1_list[i][0]] for i in range(len(x))]\n",
    "    x = sigmoid_list(x)\n",
    "    x = mm(w2_list, x)\n",
    "    x = [[x[i][0] + b2_list[i][0]] for i in range(len(x))]\n",
    "    x = sigmoid_list(x)\n",
    "    x = mm(w3_list, x)\n",
    "    \n",
    "    return x"
   ]
  },
  {
   "cell_type": "markdown",
   "id": "35f01dc3",
   "metadata": {},
   "source": [
    "The shape is slightly different, but this is good enough!"
   ]
  },
  {
   "cell_type": "code",
   "execution_count": 196,
   "id": "bfee6f19",
   "metadata": {},
   "outputs": [
    {
     "name": "stdout",
     "output_type": "stream",
     "text": [
      "[[19.28380190064578], [29.502848125783046], [41.66890742358023]]\n",
      "[[19.283802 29.50285  41.668907]]\n"
     ]
    }
   ],
   "source": [
    "# Check if we get the same results -- OK\n",
    "test1 = run_nn_list(test_point_list)\n",
    "print(test1)\n",
    "with torch.no_grad():\n",
    "    test2 = model(test_point_torch)\n",
    "    test2 = test2.numpy()\n",
    "print(test2)"
   ]
  },
  {
   "cell_type": "code",
   "execution_count": 197,
   "id": "432f3553",
   "metadata": {},
   "outputs": [],
   "source": [
    "def function6():\n",
    "    run_nn_list(test_point_list)"
   ]
  },
  {
   "cell_type": "markdown",
   "id": "91dea986",
   "metadata": {},
   "source": [
    "__Do the runtime analysis__"
   ]
  },
  {
   "cell_type": "code",
   "execution_count": 198,
   "id": "643e25e0",
   "metadata": {},
   "outputs": [
    {
     "name": "stdout",
     "output_type": "stream",
     "text": [
      "--- Interpolation ---\n",
      "513.125 \\pm 5.284854539152426 per loop (10 runs, 10000 each)\n",
      "--- PyTorch ---\n",
      "101.40625 \\pm 0.8414320011147662 per loop (10 runs, 10000 each)\n",
      "--- PyTorch (no grad) ---\n",
      "73.125 \\pm 0.625 per loop (10 runs, 10000 each)\n",
      "--- Numpy ---\n",
      "20.15625 \\pm 1.09375 per loop (10 runs, 10000 each)\n"
     ]
    }
   ],
   "source": [
    "# Empty lists\n",
    "mu_list, sigma_list = [], []\n",
    "# Functions & names for runtime analysis\n",
    "funcs = [function1, function2, function3, function5]\n",
    "method_names = [\"Interpolation\", \"PyTorch\", \"PyTorch (no grad)\", \"Numpy\"]  # , \"Pure Python\"\n",
    "for i, func in enumerate(funcs):\n",
    "    print(f\"--- {method_names[i]} ---\")\n",
    "    mu, sigma = time_execution(func)\n",
    "    mu_list.append(mu)\n",
    "    sigma_list.append(sigma)"
   ]
  },
  {
   "cell_type": "code",
   "execution_count": 213,
   "id": "ffc19f44",
   "metadata": {},
   "outputs": [
    {
     "name": "stdout",
     "output_type": "stream",
     "text": [
      "Best neural net implementation is around 25x faster.\n"
     ]
    }
   ],
   "source": [
    "speedup = round(mu_list[0]/mu_list[-1])\n",
    "print(f\"Best neural net implementation is around {speedup}x faster.\")"
   ]
  },
  {
   "cell_type": "markdown",
   "id": "aa0903ef",
   "metadata": {},
   "source": [
    "\n",
    "### Plot to combine analysis"
   ]
  },
  {
   "cell_type": "markdown",
   "id": "89dac9bf",
   "metadata": {},
   "source": [
    "Prepare the plot, sort values etc"
   ]
  },
  {
   "cell_type": "code",
   "execution_count": 208,
   "id": "f6b6644a",
   "metadata": {},
   "outputs": [],
   "source": [
    "xticks = [i+1 for i in range(len(method_names))]\n",
    "yvals = mu_list\n",
    "yerrs = sigma_list"
   ]
  },
  {
   "cell_type": "code",
   "execution_count": 209,
   "id": "b3ef8205",
   "metadata": {},
   "outputs": [],
   "source": [
    "# cutoff = 5\n",
    "\n",
    "# # Get vals more clearly, do cutoff\n",
    "# xvals = xticks[:cutoff]\n",
    "# yvals = mu_list[:cutoff]\n",
    "# yerrs = sigma_list[:cutoff]\n",
    "# # Swap based on performance  ## NOT WORKING FOR SOME REASON\n",
    "# # sort_ind = np.argsort(yvals)[::-1]\n",
    "# # # Sort\n",
    "# # xvals = my_sort(xvals, sort_ind)\n",
    "# # yvals = my_sort(yvals, sort_ind)\n",
    "# # yerrs = my_sort(yerrs, sort_ind)\n",
    "# # method_names = my_sort(method_names, sort_ind)"
   ]
  },
  {
   "cell_type": "code",
   "execution_count": 210,
   "id": "8036f717",
   "metadata": {},
   "outputs": [
    {
     "data": {
      "image/png": "[encoded data removed]",
      "text/plain": [
       "<Figure size 1920x1440 with 1 Axes>"
      ]
     },
     "metadata": {},
     "output_type": "display_data"
    }
   ],
   "source": [
    "# Preparation\n",
    "plt.errorbar(xticks, yvals, yerrs, fmt=\"o\", color=\"blue\", capsize=5)\n",
    "plt.xticks(ticks=xticks, labels = method_names, rotation=30)\n",
    "plt.ylabel(\"CPU time/prediction (µs)\")\n",
    "plt.grid()\n",
    "plt.savefig(\"Time comparison single prediction\")\n",
    "# plt.savefig(\"interpolation_neuralnet_speed_comparison.pdf\", bbox_inches='tight')\n",
    "plt.show()"
   ]
  },
  {
   "cell_type": "markdown",
   "id": "377b0cbf",
   "metadata": {
    "id": "377b0cbf"
   },
   "source": [
    "# Second goal: NNC2P"
   ]
  },
  {
   "cell_type": "markdown",
   "id": "bf95fa58",
   "metadata": {
    "id": "bf95fa58"
   },
   "source": [
    "__TO DO__ think about design of architecture AND fix the conserved variable values -- I think they were not computed correctly before! "
   ]
  },
  {
   "cell_type": "markdown",
   "id": "2b454181",
   "metadata": {
    "id": "2b454181"
   },
   "source": [
    "__NNC2P__: try to replicate the full C2P conversion."
   ]
  },
  {
   "cell_type": "markdown",
   "id": "9c10571f",
   "metadata": {
    "id": "9c10571f"
   },
   "source": [
    "Get the training data as DataSet and DataLoader objects. Note on normalization: we fit transform on the training data, then use the fitted scaler object to transform (i.e. using same transformation as the training data) the test set."
   ]
  },
  {
   "cell_type": "code",
   "execution_count": null,
   "id": "852d22c5",
   "metadata": {
    "id": "852d22c5"
   },
   "outputs": [],
   "source": [
    "# Give the names of the input vars (features) and output vars (labels)\n",
    "in_vars = [\"rho\", \"eps\", \"ye\"]\n",
    "out_vars = [\"temp\"]\n",
    "# For normalization, use sklearn's StandardScaler\n",
    "scaler = StandardScaler()\n",
    "# Read the sampled data as pandas dataframes\n",
    "train_df = pd.read_csv(os.path.join(master_dir, \"Data/SLy4_training_data.csv\"))\n",
    "test_df  = pd.read_csv(os.path.join(master_dir, \"Data/SLy4_test_data.csv\"))\n",
    "# Convert to PyTorch Datasets as we defined them\n",
    "train_dataset = data.CustomDataset(train_df, feature_names = in_vars, label_names = out_vars, normalization_function = scaler.fit_transform) \n",
    "test_dataset  = data.CustomDataset(test_df, feature_names = in_vars, label_names = out_vars, normalization_function = scaler.transform)\n",
    "# Then create dataloaders, with batch size 32, from datasets\n",
    "train_dataloader = DataLoader(train_dataset, batch_size=32)\n",
    "test_dataloader  = DataLoader(test_dataset, batch_size=32)"
   ]
  },
  {
   "cell_type": "markdown",
   "id": "24e96de6",
   "metadata": {
    "id": "24e96de6"
   },
   "source": [
    "Create a new instance of the Net:"
   ]
  },
  {
   "cell_type": "code",
   "execution_count": null,
   "id": "d08aa592",
   "metadata": {
    "id": "d08aa592",
    "outputId": "1a3ec4f4-f574-496b-d3a8-25cfc9c30361"
   },
   "outputs": [
    {
     "data": {
      "text/plain": [
       "Net(\n",
       "  (linear1): Linear(in_features=3, out_features=50, bias=True)\n",
       "  (activation1): Sigmoid()\n",
       "  (linear2): Linear(in_features=50, out_features=50, bias=True)\n",
       "  (activation2): Sigmoid()\n",
       "  (linear3): Linear(in_features=50, out_features=1, bias=False)\n",
       ")"
      ]
     },
     "metadata": {},
     "output_type": "display_data"
    }
   ],
   "source": [
    "model = Net(nb_of_inputs = 3, nb_of_outputs = 1, h=[50, 50])\n",
    "model"
   ]
  },
  {
   "cell_type": "code",
   "execution_count": null,
   "id": "504399cb",
   "metadata": {
    "id": "504399cb",
    "outputId": "aa1b5560-9e9b-461b-a9e5-3eb90573d2c6"
   },
   "outputs": [
    {
     "data": {
      "text/plain": [
       "2800"
      ]
     },
     "metadata": {},
     "output_type": "display_data"
    }
   ],
   "source": [
    "nnc2p.count_parameters(model)"
   ]
  },
  {
   "cell_type": "markdown",
   "id": "da83cead",
   "metadata": {
    "id": "da83cead"
   },
   "source": [
    "Create a trainer object from it:"
   ]
  },
  {
   "cell_type": "code",
   "execution_count": null,
   "id": "7fffc1e4",
   "metadata": {
    "id": "7fffc1e4"
   },
   "outputs": [],
   "source": [
    "trainer = nnc2p.Trainer(model, 1e-1, train_dataloader=train_dataloader, test_dataloader=test_dataloader)"
   ]
  },
  {
   "cell_type": "code",
   "execution_count": null,
   "id": "e0369872",
   "metadata": {
    "id": "e0369872",
    "outputId": "324b4965-3166-4d96-dac7-ff9fa27aae78"
   },
   "outputs": [
    {
     "name": "stdout",
     "output_type": "stream",
     "text": [
      "Training the model for 500 epochs.\n",
      "\n",
      " Epoch 0 \n",
      " --------------\n",
      "Train loss: 7.59E-01\n",
      "Test  loss: 7.62E-01\n",
      "\n",
      " Epoch 1 \n",
      " --------------\n",
      "Train loss: 9.92E-01\n",
      "Test  loss: 9.98E-01\n",
      "\n",
      " Epoch 2 \n",
      " --------------\n",
      "Train loss: 9.45E-01\n",
      "Test  loss: 9.61E-01\n",
      "\n",
      " Epoch 3 \n",
      " --------------\n",
      "Train loss: 8.24E-01\n",
      "Test  loss: 8.29E-01\n",
      "\n",
      " Epoch 4 \n",
      " --------------\n",
      "Train loss: 9.10E-01\n",
      "Test  loss: 9.16E-01\n",
      "\n",
      " Epoch 5 \n",
      " --------------\n",
      "Train loss: 8.80E-01\n",
      "Test  loss: 8.91E-01\n",
      "\n",
      " Epoch 6 \n",
      " --------------\n",
      "Train loss: 8.62E-01\n",
      "Test  loss: 8.67E-01\n",
      "\n",
      " Epoch 7 \n",
      " --------------\n",
      "Train loss: 8.20E-01\n",
      "Test  loss: 8.27E-01\n",
      "\n",
      " Epoch 8 \n",
      " --------------\n",
      "Train loss: 8.80E-01\n",
      "Test  loss: 8.94E-01\n",
      "\n",
      " Epoch 9 \n",
      " --------------\n",
      "Train loss: 9.20E-01\n",
      "Test  loss: 9.26E-01\n",
      "\n",
      " Epoch 10 \n",
      " --------------\n",
      "Train loss: 7.34E-01\n",
      "Test  loss: 7.39E-01\n",
      "\n",
      " Epoch 11 \n",
      " --------------\n",
      "Train loss: 7.48E-01\n",
      "Test  loss: 7.56E-01\n",
      "\n",
      " Epoch 12 \n",
      " --------------\n",
      "Train loss: 7.28E-01\n",
      "Test  loss: 7.31E-01\n",
      "\n",
      " Epoch 13 \n",
      " --------------\n",
      "Train loss: 8.87E-01\n",
      "Test  loss: 8.99E-01\n",
      "\n",
      " Epoch 14 \n",
      " --------------\n",
      "Train loss: 8.02E-01\n",
      "Test  loss: 8.09E-01\n",
      "\n",
      " Epoch 15 \n",
      " --------------\n",
      "Train loss: 8.11E-01\n",
      "Test  loss: 8.20E-01\n",
      "\n",
      " Epoch 16 \n",
      " --------------\n",
      "Train loss: 8.02E-01\n",
      "Test  loss: 8.08E-01\n",
      "\n",
      " Epoch 17 \n",
      " --------------\n",
      "Adapting learning rate to 0.05\n",
      "Train loss: 8.70E-01\n",
      "Test  loss: 8.79E-01\n",
      "\n",
      " Epoch 18 \n",
      " --------------\n",
      "Train loss: 6.88E-01\n",
      "Test  loss: 6.92E-01\n",
      "\n",
      " Epoch 19 \n",
      " --------------\n",
      "Train loss: 6.24E-01\n",
      "Test  loss: 6.25E-01\n",
      "\n",
      " Epoch 20 \n",
      " --------------\n",
      "Train loss: 6.42E-01\n",
      "Test  loss: 6.46E-01\n",
      "\n",
      " Epoch 21 \n",
      " --------------\n",
      "Train loss: 6.21E-01\n",
      "Test  loss: 6.25E-01\n",
      "\n",
      " Epoch 22 \n",
      " --------------\n",
      "Train loss: 6.29E-01\n",
      "Test  loss: 6.32E-01\n",
      "\n",
      " Epoch 23 \n",
      " --------------\n",
      "Train loss: 6.30E-01\n",
      "Test  loss: 6.33E-01\n",
      "\n",
      " Epoch 24 \n",
      " --------------\n",
      "Train loss: 6.13E-01\n",
      "Test  loss: 6.16E-01\n",
      "\n",
      " Epoch 25 \n",
      " --------------\n",
      "Train loss: 6.25E-01\n",
      "Test  loss: 6.27E-01\n",
      "\n",
      " Epoch 26 \n",
      " --------------\n",
      "Train loss: 6.75E-01\n",
      "Test  loss: 6.81E-01\n",
      "\n",
      " Epoch 27 \n",
      " --------------\n",
      "Train loss: 6.22E-01\n",
      "Test  loss: 6.23E-01\n",
      "\n",
      " Epoch 28 \n",
      " --------------\n",
      "Train loss: 6.77E-01\n",
      "Test  loss: 6.81E-01\n",
      "\n",
      " Epoch 29 \n",
      " --------------\n",
      "Adapting learning rate to 0.025\n",
      "Train loss: 6.98E-01\n",
      "Test  loss: 6.99E-01\n",
      "\n",
      " Epoch 30 \n",
      " --------------\n",
      "Train loss: 5.71E-01\n",
      "Test  loss: 5.74E-01\n",
      "\n",
      " Epoch 31 \n",
      " --------------\n",
      "Train loss: 5.77E-01\n",
      "Test  loss: 5.81E-01\n",
      "\n",
      " Epoch 32 \n",
      " --------------\n",
      "Train loss: 5.69E-01\n",
      "Test  loss: 5.74E-01\n",
      "\n",
      " Epoch 33 \n",
      " --------------\n",
      "Train loss: 5.65E-01\n",
      "Test  loss: 5.69E-01\n",
      "\n",
      " Epoch 34 \n",
      " --------------\n",
      "Train loss: 5.63E-01\n",
      "Test  loss: 5.67E-01\n",
      "\n",
      " Epoch 35 \n",
      " --------------\n",
      "Train loss: 5.60E-01\n",
      "Test  loss: 5.65E-01\n",
      "\n",
      " Epoch 36 \n",
      " --------------\n",
      "Train loss: 5.67E-01\n",
      "Test  loss: 5.70E-01\n",
      "\n",
      " Epoch 37 \n",
      " --------------\n",
      "Train loss: 5.58E-01\n",
      "Test  loss: 5.60E-01\n",
      "\n",
      " Epoch 38 \n",
      " --------------\n",
      "Train loss: 5.62E-01\n",
      "Test  loss: 5.66E-01\n",
      "\n",
      " Epoch 39 \n",
      " --------------\n",
      "Train loss: 5.62E-01\n",
      "Test  loss: 5.66E-01\n",
      "\n",
      " Epoch 40 \n",
      " --------------\n",
      "Train loss: 5.62E-01\n",
      "Test  loss: 5.64E-01\n",
      "\n",
      " Epoch 41 \n",
      " --------------\n",
      "Train loss: 5.73E-01\n",
      "Test  loss: 5.75E-01\n",
      "\n",
      " Epoch 42 \n",
      " --------------\n",
      "Adapting learning rate to 0.0125\n",
      "Train loss: 5.69E-01\n",
      "Test  loss: 5.73E-01\n",
      "\n",
      " Epoch 43 \n",
      " --------------\n",
      "Train loss: 4.89E-01\n",
      "Test  loss: 4.92E-01\n",
      "\n",
      " Epoch 44 \n",
      " --------------\n",
      "Train loss: 4.87E-01\n",
      "Test  loss: 4.91E-01\n",
      "\n",
      " Epoch 45 \n",
      " --------------\n",
      "Train loss: 4.86E-01\n",
      "Test  loss: 4.91E-01\n",
      "\n",
      " Epoch 46 \n",
      " --------------\n",
      "Train loss: 4.83E-01\n",
      "Test  loss: 4.88E-01\n",
      "\n",
      " Epoch 47 \n",
      " --------------\n",
      "Train loss: 4.80E-01\n",
      "Test  loss: 4.85E-01\n",
      "\n",
      " Epoch 48 \n",
      " --------------\n",
      "Train loss: 4.78E-01\n",
      "Test  loss: 4.83E-01\n",
      "\n",
      " Epoch 49 \n",
      " --------------\n",
      "Train loss: 4.77E-01\n",
      "Test  loss: 4.81E-01\n",
      "\n",
      " Epoch 50 \n",
      " --------------\n",
      "Train loss: 4.75E-01\n",
      "Test  loss: 4.79E-01\n",
      "\n",
      " Epoch 51 \n",
      " --------------\n"
     ]
    },
    {
     "ename": "KeyboardInterrupt",
     "evalue": "",
     "output_type": "error",
     "traceback": [
      "\u001b[1;31m---------------------------------------------------------------------------\u001b[0m\n",
      "\u001b[1;31mKeyboardInterrupt\u001b[0m                         Traceback (most recent call last)\n",
      "Cell \u001b[1;32mIn[118], line 1\u001b[0m\n",
      "\u001b[1;32m----> 1\u001b[0m trainer\u001b[39m.\u001b[39;49mtrain()\n",
      "\n",
      "File \u001b[1;32md:\\Coding\\master-thesis-AI\\Code\\nnc2p.py:407\u001b[0m, in \u001b[0;36mTrainer.train\u001b[1;34m(self, adaptation_threshold, adaptation_multiplier, number_of_epochs, log_file, csv_file)\u001b[0m\n",
      "\u001b[0;32m    405\u001b[0m write_to_txt(log_file, \u001b[39mf\u001b[39m\u001b[39m\"\u001b[39m\u001b[39m\\n\u001b[39;00m\u001b[39m Epoch \u001b[39m\u001b[39m{\u001b[39;00mepoch_counter\u001b[39m}\u001b[39;00m\u001b[39m \u001b[39m\u001b[39m\\n\u001b[39;00m\u001b[39m --------------\u001b[39m\u001b[39m\"\u001b[39m)\n",
      "\u001b[0;32m    406\u001b[0m \u001b[39m# Train the network\u001b[39;00m\n",
      "\u001b[1;32m--> 407\u001b[0m train_loop(\u001b[39mself\u001b[39;49m\u001b[39m.\u001b[39;49mtrain_dataloader, \u001b[39mself\u001b[39;49m\u001b[39m.\u001b[39;49mmodel, \u001b[39mself\u001b[39;49m\u001b[39m.\u001b[39;49mloss_fn, \u001b[39mself\u001b[39;49m\u001b[39m.\u001b[39;49moptimizer, use_c2p_loss\u001b[39m=\u001b[39;49m\u001b[39mself\u001b[39;49m\u001b[39m.\u001b[39;49muse_c2p_loss)\n",
      "\u001b[0;32m    408\u001b[0m \u001b[39m# Test on the training data\u001b[39;00m\n",
      "\u001b[0;32m    409\u001b[0m average_train_loss \u001b[39m=\u001b[39m test_loop(\u001b[39mself\u001b[39m\u001b[39m.\u001b[39mtrain_dataloader, \u001b[39mself\u001b[39m\u001b[39m.\u001b[39mmodel, \u001b[39mself\u001b[39m\u001b[39m.\u001b[39mloss_fn)\n",
      "\n",
      "File \u001b[1;32md:\\Coding\\master-thesis-AI\\Code\\nnc2p.py:277\u001b[0m, in \u001b[0;36mtrain_loop\u001b[1;34m(dataloader, model, loss_fn, optimizer, report_progress, use_c2p_loss)\u001b[0m\n",
      "\u001b[0;32m    274\u001b[0m size \u001b[39m=\u001b[39m \u001b[39mlen\u001b[39m(dataloader\u001b[39m.\u001b[39mdataset)\n",
      "\u001b[0;32m    275\u001b[0m \u001b[39mfor\u001b[39;00m batch, (X, y) \u001b[39min\u001b[39;00m \u001b[39menumerate\u001b[39m(dataloader):\n",
      "\u001b[0;32m    276\u001b[0m     \u001b[39m# Compute prediction \u001b[39;00m\n",
      "\u001b[1;32m--> 277\u001b[0m     prediction \u001b[39m=\u001b[39m model(X)\n",
      "\u001b[0;32m    278\u001b[0m     \u001b[39m# In case we use C2P loss function, have to provide conserved variables for the loss computation\u001b[39;00m\n",
      "\u001b[0;32m    279\u001b[0m     \u001b[39mif\u001b[39;00m use_c2p_loss:\n",
      "\n",
      "File \u001b[1;32md:\\Anaconda3\\lib\\site-packages\\torch\\nn\\modules\\module.py:1194\u001b[0m, in \u001b[0;36mModule._call_impl\u001b[1;34m(self, *input, **kwargs)\u001b[0m\n",
      "\u001b[0;32m   1190\u001b[0m \u001b[39m# If we don't have any hooks, we want to skip the rest of the logic in\u001b[39;00m\n",
      "\u001b[0;32m   1191\u001b[0m \u001b[39m# this function, and just call forward.\u001b[39;00m\n",
      "\u001b[0;32m   1192\u001b[0m \u001b[39mif\u001b[39;00m \u001b[39mnot\u001b[39;00m (\u001b[39mself\u001b[39m\u001b[39m.\u001b[39m_backward_hooks \u001b[39mor\u001b[39;00m \u001b[39mself\u001b[39m\u001b[39m.\u001b[39m_forward_hooks \u001b[39mor\u001b[39;00m \u001b[39mself\u001b[39m\u001b[39m.\u001b[39m_forward_pre_hooks \u001b[39mor\u001b[39;00m _global_backward_hooks\n",
      "\u001b[0;32m   1193\u001b[0m         \u001b[39mor\u001b[39;00m _global_forward_hooks \u001b[39mor\u001b[39;00m _global_forward_pre_hooks):\n",
      "\u001b[1;32m-> 1194\u001b[0m     \u001b[39mreturn\u001b[39;00m forward_call(\u001b[39m*\u001b[39m\u001b[39minput\u001b[39m, \u001b[39m*\u001b[39m\u001b[39m*\u001b[39mkwargs)\n",
      "\u001b[0;32m   1195\u001b[0m \u001b[39m# Do not call functions when jit is used\u001b[39;00m\n",
      "\u001b[0;32m   1196\u001b[0m full_backward_hooks, non_full_backward_hooks \u001b[39m=\u001b[39m [], []\n",
      "\n",
      "Cell \u001b[1;32mIn[25], line 39\u001b[0m, in \u001b[0;36mNet.forward\u001b[1;34m(self, x)\u001b[0m\n",
      "\u001b[0;32m     37\u001b[0m     \u001b[39mif\u001b[39;00m i \u001b[39m==\u001b[39m \u001b[39m0\u001b[39m:\n",
      "\u001b[0;32m     38\u001b[0m         \u001b[39mcontinue\u001b[39;00m\n",
      "\u001b[1;32m---> 39\u001b[0m     x \u001b[39m=\u001b[39m module(x)\n",
      "\u001b[0;32m     41\u001b[0m \u001b[39mreturn\u001b[39;00m x\n",
      "\n",
      "File \u001b[1;32md:\\Anaconda3\\lib\\site-packages\\torch\\nn\\modules\\module.py:1194\u001b[0m, in \u001b[0;36mModule._call_impl\u001b[1;34m(self, *input, **kwargs)\u001b[0m\n",
      "\u001b[0;32m   1190\u001b[0m \u001b[39m# If we don't have any hooks, we want to skip the rest of the logic in\u001b[39;00m\n",
      "\u001b[0;32m   1191\u001b[0m \u001b[39m# this function, and just call forward.\u001b[39;00m\n",
      "\u001b[0;32m   1192\u001b[0m \u001b[39mif\u001b[39;00m \u001b[39mnot\u001b[39;00m (\u001b[39mself\u001b[39m\u001b[39m.\u001b[39m_backward_hooks \u001b[39mor\u001b[39;00m \u001b[39mself\u001b[39m\u001b[39m.\u001b[39m_forward_hooks \u001b[39mor\u001b[39;00m \u001b[39mself\u001b[39m\u001b[39m.\u001b[39m_forward_pre_hooks \u001b[39mor\u001b[39;00m _global_backward_hooks\n",
      "\u001b[0;32m   1193\u001b[0m         \u001b[39mor\u001b[39;00m _global_forward_hooks \u001b[39mor\u001b[39;00m _global_forward_pre_hooks):\n",
      "\u001b[1;32m-> 1194\u001b[0m     \u001b[39mreturn\u001b[39;00m forward_call(\u001b[39m*\u001b[39m\u001b[39minput\u001b[39m, \u001b[39m*\u001b[39m\u001b[39m*\u001b[39mkwargs)\n",
      "\u001b[0;32m   1195\u001b[0m \u001b[39m# Do not call functions when jit is used\u001b[39;00m\n",
      "\u001b[0;32m   1196\u001b[0m full_backward_hooks, non_full_backward_hooks \u001b[39m=\u001b[39m [], []\n",
      "\n",
      "File \u001b[1;32md:\\Anaconda3\\lib\\site-packages\\torch\\nn\\modules\\linear.py:114\u001b[0m, in \u001b[0;36mLinear.forward\u001b[1;34m(self, input)\u001b[0m\n",
      "\u001b[0;32m    113\u001b[0m \u001b[39mdef\u001b[39;00m \u001b[39mforward\u001b[39m(\u001b[39mself\u001b[39m, \u001b[39minput\u001b[39m: Tensor) \u001b[39m-\u001b[39m\u001b[39m>\u001b[39m Tensor:\n",
      "\u001b[1;32m--> 114\u001b[0m     \u001b[39mreturn\u001b[39;00m F\u001b[39m.\u001b[39;49mlinear(\u001b[39minput\u001b[39;49m, \u001b[39mself\u001b[39;49m\u001b[39m.\u001b[39;49mweight, \u001b[39mself\u001b[39;49m\u001b[39m.\u001b[39;49mbias)\n",
      "\n",
      "\u001b[1;31mKeyboardInterrupt\u001b[0m: "
     ]
    }
   ],
   "source": [
    "trainer.train()"
   ]
  },
  {
   "cell_type": "markdown",
   "id": "1b8a5288",
   "metadata": {
    "id": "1b8a5288"
   },
   "source": [
    "Create a quick sketch of training"
   ]
  },
  {
   "cell_type": "code",
   "execution_count": null,
   "id": "f07eb521",
   "metadata": {
    "id": "f07eb521"
   },
   "outputs": [],
   "source": [
    "# plt.plot(trainer.train_losses, color='red', label=\"Train loss\")\n",
    "# plt.plot(trainer.test_losses, color='blue', label=\"Test loss\")\n",
    "\n",
    "# plt.grid()\n",
    "# plt.legend()\n",
    "# for ind in trainer.adaptation_indices:\n",
    "#     plt.axvline(ind, ls = '--', color='grey')\n",
    "# plt.yscale('log')\n",
    "# plt.xlabel(\"Epochs\")\n",
    "# plt.xlabel(\"MSE Loss\")\n",
    "# plt.title(\"Training (100, 100) network tabular EOS for p and eps\")\n",
    "# plt.savefig(\"testing_training_tab_eos_network_100_100.pdf\", bbox_inches = 'tight')\n",
    "# plt.show()"
   ]
  },
  {
   "cell_type": "markdown",
   "id": "8ad41d2a",
   "metadata": {
    "id": "8ad41d2a"
   },
   "source": [
    "# Archive: NNE2T"
   ]
  },
  {
   "cell_type": "markdown",
   "id": "391a25b5",
   "metadata": {
    "id": "391a25b5"
   },
   "source": [
    "__NNE2T__: try to replicate the conversion from energy to temperature, which is currently done by rootfinding approximations & lookups in the EOS table (see Gmunu code). It seemed harder than I initially thought to model and train this; and in the end, I'm not sure how useful it'll be, so I'm archiving this."
   ]
  },
  {
   "cell_type": "markdown",
   "id": "7f48e387",
   "metadata": {
    "id": "7f48e387"
   },
   "source": [
    "Get the training data as DataSet and DataLoader objects. Note on normalization: we fit transform on the training data, then use the fitted scaler object to transform (i.e. using same transformation as the training data) the test set."
   ]
  },
  {
   "cell_type": "code",
   "execution_count": null,
   "id": "b88f2675",
   "metadata": {
    "id": "b88f2675"
   },
   "outputs": [],
   "source": [
    "# Give the names of the input vars (features) and output vars (labels)\n",
    "in_vars = [\"rho\", \"eps\", \"ye\"]\n",
    "out_vars = [\"temp\"]\n",
    "# For normalization, use sklearn's StandardScaler\n",
    "scaler = StandardScaler()\n",
    "# Read the sampled data as pandas dataframes\n",
    "train_df = pd.read_csv(os.path.join(master_dir, \"Data/SLy4_training_data.csv\"))\n",
    "test_df  = pd.read_csv(os.path.join(master_dir, \"Data/SLy4_test_data.csv\"))\n",
    "# Convert to PyTorch Datasets as we defined them\n",
    "train_dataset = data.CustomDataset(train_df, feature_names = in_vars, label_names = out_vars, normalization_function = scaler.fit_transform) \n",
    "test_dataset  = data.CustomDataset(test_df, feature_names = in_vars, label_names = out_vars, normalization_function = scaler.transform)\n",
    "# Then create dataloaders, with batch size 32, from datasets\n",
    "train_dataloader = DataLoader(train_dataset, batch_size=32)\n",
    "test_dataloader  = DataLoader(test_dataset, batch_size=32)"
   ]
  },
  {
   "cell_type": "markdown",
   "id": "abee61f0",
   "metadata": {
    "id": "abee61f0"
   },
   "source": [
    "Create a new instance of the Net:"
   ]
  },
  {
   "cell_type": "code",
   "execution_count": null,
   "id": "b990a7ff",
   "metadata": {
    "id": "b990a7ff",
    "outputId": "76d4c28e-ca6a-423d-e905-27d55d54b42e"
   },
   "outputs": [
    {
     "data": {
      "text/plain": [
       "Net(\n",
       "  (linear1): Linear(in_features=3, out_features=50, bias=True)\n",
       "  (activation1): Sigmoid()\n",
       "  (linear2): Linear(in_features=50, out_features=50, bias=True)\n",
       "  (activation2): Sigmoid()\n",
       "  (linear3): Linear(in_features=50, out_features=1, bias=False)\n",
       ")"
      ]
     },
     "execution_count": 115,
     "metadata": {},
     "output_type": "execute_result"
    }
   ],
   "source": [
    "model = Net(nb_of_inputs = 3, nb_of_outputs = 1, h=[50, 50])\n",
    "model"
   ]
  },
  {
   "cell_type": "code",
   "execution_count": null,
   "id": "312052a9",
   "metadata": {
    "id": "312052a9",
    "outputId": "18d37e9e-a86e-48e2-87bd-c82646596aeb"
   },
   "outputs": [
    {
     "data": {
      "text/plain": [
       "2800"
      ]
     },
     "execution_count": 116,
     "metadata": {},
     "output_type": "execute_result"
    }
   ],
   "source": [
    "nnc2p.count_parameters(model)"
   ]
  },
  {
   "cell_type": "markdown",
   "id": "1f23d022",
   "metadata": {
    "id": "1f23d022"
   },
   "source": [
    "Create a trainer object from it:"
   ]
  },
  {
   "cell_type": "code",
   "execution_count": null,
   "id": "06becda4",
   "metadata": {
    "id": "06becda4"
   },
   "outputs": [],
   "source": [
    "trainer = nnc2p.Trainer(model, 1e-1, train_dataloader=train_dataloader, test_dataloader=test_dataloader)"
   ]
  },
  {
   "cell_type": "code",
   "execution_count": null,
   "id": "93ce3bda",
   "metadata": {
    "id": "93ce3bda",
    "outputId": "f4a25ecd-bfdf-4140-b06d-6c414eaf8736"
   },
   "outputs": [
    {
     "name": "stdout",
     "output_type": "stream",
     "text": [
      "Training the model for 500 epochs.\n",
      "\n",
      " Epoch 0 \n",
      " --------------\n",
      "Train loss: 7.59E-01\n",
      "Test  loss: 7.62E-01\n",
      "\n",
      " Epoch 1 \n",
      " --------------\n",
      "Train loss: 9.92E-01\n",
      "Test  loss: 9.98E-01\n",
      "\n",
      " Epoch 2 \n",
      " --------------\n",
      "Train loss: 9.45E-01\n",
      "Test  loss: 9.61E-01\n",
      "\n",
      " Epoch 3 \n",
      " --------------\n",
      "Train loss: 8.24E-01\n",
      "Test  loss: 8.29E-01\n",
      "\n",
      " Epoch 4 \n",
      " --------------\n",
      "Train loss: 9.10E-01\n",
      "Test  loss: 9.16E-01\n",
      "\n",
      " Epoch 5 \n",
      " --------------\n",
      "Train loss: 8.80E-01\n",
      "Test  loss: 8.91E-01\n",
      "\n",
      " Epoch 6 \n",
      " --------------\n",
      "Train loss: 8.62E-01\n",
      "Test  loss: 8.67E-01\n",
      "\n",
      " Epoch 7 \n",
      " --------------\n",
      "Train loss: 8.20E-01\n",
      "Test  loss: 8.27E-01\n",
      "\n",
      " Epoch 8 \n",
      " --------------\n",
      "Train loss: 8.80E-01\n",
      "Test  loss: 8.94E-01\n",
      "\n",
      " Epoch 9 \n",
      " --------------\n",
      "Train loss: 9.20E-01\n",
      "Test  loss: 9.26E-01\n",
      "\n",
      " Epoch 10 \n",
      " --------------\n",
      "Train loss: 7.34E-01\n",
      "Test  loss: 7.39E-01\n",
      "\n",
      " Epoch 11 \n",
      " --------------\n",
      "Train loss: 7.48E-01\n",
      "Test  loss: 7.56E-01\n",
      "\n",
      " Epoch 12 \n",
      " --------------\n",
      "Train loss: 7.28E-01\n",
      "Test  loss: 7.31E-01\n",
      "\n",
      " Epoch 13 \n",
      " --------------\n",
      "Train loss: 8.87E-01\n",
      "Test  loss: 8.99E-01\n",
      "\n",
      " Epoch 14 \n",
      " --------------\n",
      "Train loss: 8.02E-01\n",
      "Test  loss: 8.09E-01\n",
      "\n",
      " Epoch 15 \n",
      " --------------\n",
      "Train loss: 8.11E-01\n",
      "Test  loss: 8.20E-01\n",
      "\n",
      " Epoch 16 \n",
      " --------------\n",
      "Train loss: 8.02E-01\n",
      "Test  loss: 8.08E-01\n",
      "\n",
      " Epoch 17 \n",
      " --------------\n",
      "Adapting learning rate to 0.05\n",
      "Train loss: 8.70E-01\n",
      "Test  loss: 8.79E-01\n",
      "\n",
      " Epoch 18 \n",
      " --------------\n",
      "Train loss: 6.88E-01\n",
      "Test  loss: 6.92E-01\n",
      "\n",
      " Epoch 19 \n",
      " --------------\n",
      "Train loss: 6.24E-01\n",
      "Test  loss: 6.25E-01\n",
      "\n",
      " Epoch 20 \n",
      " --------------\n",
      "Train loss: 6.42E-01\n",
      "Test  loss: 6.46E-01\n",
      "\n",
      " Epoch 21 \n",
      " --------------\n",
      "Train loss: 6.21E-01\n",
      "Test  loss: 6.25E-01\n",
      "\n",
      " Epoch 22 \n",
      " --------------\n",
      "Train loss: 6.29E-01\n",
      "Test  loss: 6.32E-01\n",
      "\n",
      " Epoch 23 \n",
      " --------------\n",
      "Train loss: 6.30E-01\n",
      "Test  loss: 6.33E-01\n",
      "\n",
      " Epoch 24 \n",
      " --------------\n",
      "Train loss: 6.13E-01\n",
      "Test  loss: 6.16E-01\n",
      "\n",
      " Epoch 25 \n",
      " --------------\n",
      "Train loss: 6.25E-01\n",
      "Test  loss: 6.27E-01\n",
      "\n",
      " Epoch 26 \n",
      " --------------\n",
      "Train loss: 6.75E-01\n",
      "Test  loss: 6.81E-01\n",
      "\n",
      " Epoch 27 \n",
      " --------------\n",
      "Train loss: 6.22E-01\n",
      "Test  loss: 6.23E-01\n",
      "\n",
      " Epoch 28 \n",
      " --------------\n",
      "Train loss: 6.77E-01\n",
      "Test  loss: 6.81E-01\n",
      "\n",
      " Epoch 29 \n",
      " --------------\n",
      "Adapting learning rate to 0.025\n",
      "Train loss: 6.98E-01\n",
      "Test  loss: 6.99E-01\n",
      "\n",
      " Epoch 30 \n",
      " --------------\n",
      "Train loss: 5.71E-01\n",
      "Test  loss: 5.74E-01\n",
      "\n",
      " Epoch 31 \n",
      " --------------\n",
      "Train loss: 5.77E-01\n",
      "Test  loss: 5.81E-01\n",
      "\n",
      " Epoch 32 \n",
      " --------------\n",
      "Train loss: 5.69E-01\n",
      "Test  loss: 5.74E-01\n",
      "\n",
      " Epoch 33 \n",
      " --------------\n",
      "Train loss: 5.65E-01\n",
      "Test  loss: 5.69E-01\n",
      "\n",
      " Epoch 34 \n",
      " --------------\n",
      "Train loss: 5.63E-01\n",
      "Test  loss: 5.67E-01\n",
      "\n",
      " Epoch 35 \n",
      " --------------\n",
      "Train loss: 5.60E-01\n",
      "Test  loss: 5.65E-01\n",
      "\n",
      " Epoch 36 \n",
      " --------------\n",
      "Train loss: 5.67E-01\n",
      "Test  loss: 5.70E-01\n",
      "\n",
      " Epoch 37 \n",
      " --------------\n",
      "Train loss: 5.58E-01\n",
      "Test  loss: 5.60E-01\n",
      "\n",
      " Epoch 38 \n",
      " --------------\n",
      "Train loss: 5.62E-01\n",
      "Test  loss: 5.66E-01\n",
      "\n",
      " Epoch 39 \n",
      " --------------\n",
      "Train loss: 5.62E-01\n",
      "Test  loss: 5.66E-01\n",
      "\n",
      " Epoch 40 \n",
      " --------------\n",
      "Train loss: 5.62E-01\n",
      "Test  loss: 5.64E-01\n",
      "\n",
      " Epoch 41 \n",
      " --------------\n",
      "Train loss: 5.73E-01\n",
      "Test  loss: 5.75E-01\n",
      "\n",
      " Epoch 42 \n",
      " --------------\n",
      "Adapting learning rate to 0.0125\n",
      "Train loss: 5.69E-01\n",
      "Test  loss: 5.73E-01\n",
      "\n",
      " Epoch 43 \n",
      " --------------\n",
      "Train loss: 4.89E-01\n",
      "Test  loss: 4.92E-01\n",
      "\n",
      " Epoch 44 \n",
      " --------------\n",
      "Train loss: 4.87E-01\n",
      "Test  loss: 4.91E-01\n",
      "\n",
      " Epoch 45 \n",
      " --------------\n",
      "Train loss: 4.86E-01\n",
      "Test  loss: 4.91E-01\n",
      "\n",
      " Epoch 46 \n",
      " --------------\n",
      "Train loss: 4.83E-01\n",
      "Test  loss: 4.88E-01\n",
      "\n",
      " Epoch 47 \n",
      " --------------\n",
      "Train loss: 4.80E-01\n",
      "Test  loss: 4.85E-01\n",
      "\n",
      " Epoch 48 \n",
      " --------------\n",
      "Train loss: 4.78E-01\n",
      "Test  loss: 4.83E-01\n",
      "\n",
      " Epoch 49 \n",
      " --------------\n",
      "Train loss: 4.77E-01\n",
      "Test  loss: 4.81E-01\n",
      "\n",
      " Epoch 50 \n",
      " --------------\n",
      "Train loss: 4.75E-01\n",
      "Test  loss: 4.79E-01\n",
      "\n",
      " Epoch 51 \n",
      " --------------\n"
     ]
    },
    {
     "ename": "KeyboardInterrupt",
     "evalue": "",
     "output_type": "error",
     "traceback": [
      "\u001b[1;31m---------------------------------------------------------------------------\u001b[0m",
      "\u001b[1;31mKeyboardInterrupt\u001b[0m                         Traceback (most recent call last)",
      "Cell \u001b[1;32mIn[118], line 1\u001b[0m\n\u001b[1;32m----> 1\u001b[0m trainer\u001b[39m.\u001b[39;49mtrain()\n",
      "File \u001b[1;32md:\\Coding\\master-thesis-AI\\Code\\nnc2p.py:407\u001b[0m, in \u001b[0;36mTrainer.train\u001b[1;34m(self, adaptation_threshold, adaptation_multiplier, number_of_epochs, log_file, csv_file)\u001b[0m\n\u001b[0;32m    405\u001b[0m write_to_txt(log_file, \u001b[39mf\u001b[39m\u001b[39m\"\u001b[39m\u001b[39m\\n\u001b[39;00m\u001b[39m Epoch \u001b[39m\u001b[39m{\u001b[39;00mepoch_counter\u001b[39m}\u001b[39;00m\u001b[39m \u001b[39m\u001b[39m\\n\u001b[39;00m\u001b[39m --------------\u001b[39m\u001b[39m\"\u001b[39m)\n\u001b[0;32m    406\u001b[0m \u001b[39m# Train the network\u001b[39;00m\n\u001b[1;32m--> 407\u001b[0m train_loop(\u001b[39mself\u001b[39;49m\u001b[39m.\u001b[39;49mtrain_dataloader, \u001b[39mself\u001b[39;49m\u001b[39m.\u001b[39;49mmodel, \u001b[39mself\u001b[39;49m\u001b[39m.\u001b[39;49mloss_fn, \u001b[39mself\u001b[39;49m\u001b[39m.\u001b[39;49moptimizer, use_c2p_loss\u001b[39m=\u001b[39;49m\u001b[39mself\u001b[39;49m\u001b[39m.\u001b[39;49muse_c2p_loss)\n\u001b[0;32m    408\u001b[0m \u001b[39m# Test on the training data\u001b[39;00m\n\u001b[0;32m    409\u001b[0m average_train_loss \u001b[39m=\u001b[39m test_loop(\u001b[39mself\u001b[39m\u001b[39m.\u001b[39mtrain_dataloader, \u001b[39mself\u001b[39m\u001b[39m.\u001b[39mmodel, \u001b[39mself\u001b[39m\u001b[39m.\u001b[39mloss_fn)\n",
      "File \u001b[1;32md:\\Coding\\master-thesis-AI\\Code\\nnc2p.py:277\u001b[0m, in \u001b[0;36mtrain_loop\u001b[1;34m(dataloader, model, loss_fn, optimizer, report_progress, use_c2p_loss)\u001b[0m\n\u001b[0;32m    274\u001b[0m size \u001b[39m=\u001b[39m \u001b[39mlen\u001b[39m(dataloader\u001b[39m.\u001b[39mdataset)\n\u001b[0;32m    275\u001b[0m \u001b[39mfor\u001b[39;00m batch, (X, y) \u001b[39min\u001b[39;00m \u001b[39menumerate\u001b[39m(dataloader):\n\u001b[0;32m    276\u001b[0m     \u001b[39m# Compute prediction \u001b[39;00m\n\u001b[1;32m--> 277\u001b[0m     prediction \u001b[39m=\u001b[39m model(X)\n\u001b[0;32m    278\u001b[0m     \u001b[39m# In case we use C2P loss function, have to provide conserved variables for the loss computation\u001b[39;00m\n\u001b[0;32m    279\u001b[0m     \u001b[39mif\u001b[39;00m use_c2p_loss:\n",
      "File \u001b[1;32md:\\Anaconda3\\lib\\site-packages\\torch\\nn\\modules\\module.py:1194\u001b[0m, in \u001b[0;36mModule._call_impl\u001b[1;34m(self, *input, **kwargs)\u001b[0m\n\u001b[0;32m   1190\u001b[0m \u001b[39m# If we don't have any hooks, we want to skip the rest of the logic in\u001b[39;00m\n\u001b[0;32m   1191\u001b[0m \u001b[39m# this function, and just call forward.\u001b[39;00m\n\u001b[0;32m   1192\u001b[0m \u001b[39mif\u001b[39;00m \u001b[39mnot\u001b[39;00m (\u001b[39mself\u001b[39m\u001b[39m.\u001b[39m_backward_hooks \u001b[39mor\u001b[39;00m \u001b[39mself\u001b[39m\u001b[39m.\u001b[39m_forward_hooks \u001b[39mor\u001b[39;00m \u001b[39mself\u001b[39m\u001b[39m.\u001b[39m_forward_pre_hooks \u001b[39mor\u001b[39;00m _global_backward_hooks\n\u001b[0;32m   1193\u001b[0m         \u001b[39mor\u001b[39;00m _global_forward_hooks \u001b[39mor\u001b[39;00m _global_forward_pre_hooks):\n\u001b[1;32m-> 1194\u001b[0m     \u001b[39mreturn\u001b[39;00m forward_call(\u001b[39m*\u001b[39m\u001b[39minput\u001b[39m, \u001b[39m*\u001b[39m\u001b[39m*\u001b[39mkwargs)\n\u001b[0;32m   1195\u001b[0m \u001b[39m# Do not call functions when jit is used\u001b[39;00m\n\u001b[0;32m   1196\u001b[0m full_backward_hooks, non_full_backward_hooks \u001b[39m=\u001b[39m [], []\n",
      "Cell \u001b[1;32mIn[25], line 39\u001b[0m, in \u001b[0;36mNet.forward\u001b[1;34m(self, x)\u001b[0m\n\u001b[0;32m     37\u001b[0m     \u001b[39mif\u001b[39;00m i \u001b[39m==\u001b[39m \u001b[39m0\u001b[39m:\n\u001b[0;32m     38\u001b[0m         \u001b[39mcontinue\u001b[39;00m\n\u001b[1;32m---> 39\u001b[0m     x \u001b[39m=\u001b[39m module(x)\n\u001b[0;32m     41\u001b[0m \u001b[39mreturn\u001b[39;00m x\n",
      "File \u001b[1;32md:\\Anaconda3\\lib\\site-packages\\torch\\nn\\modules\\module.py:1194\u001b[0m, in \u001b[0;36mModule._call_impl\u001b[1;34m(self, *input, **kwargs)\u001b[0m\n\u001b[0;32m   1190\u001b[0m \u001b[39m# If we don't have any hooks, we want to skip the rest of the logic in\u001b[39;00m\n\u001b[0;32m   1191\u001b[0m \u001b[39m# this function, and just call forward.\u001b[39;00m\n\u001b[0;32m   1192\u001b[0m \u001b[39mif\u001b[39;00m \u001b[39mnot\u001b[39;00m (\u001b[39mself\u001b[39m\u001b[39m.\u001b[39m_backward_hooks \u001b[39mor\u001b[39;00m \u001b[39mself\u001b[39m\u001b[39m.\u001b[39m_forward_hooks \u001b[39mor\u001b[39;00m \u001b[39mself\u001b[39m\u001b[39m.\u001b[39m_forward_pre_hooks \u001b[39mor\u001b[39;00m _global_backward_hooks\n\u001b[0;32m   1193\u001b[0m         \u001b[39mor\u001b[39;00m _global_forward_hooks \u001b[39mor\u001b[39;00m _global_forward_pre_hooks):\n\u001b[1;32m-> 1194\u001b[0m     \u001b[39mreturn\u001b[39;00m forward_call(\u001b[39m*\u001b[39m\u001b[39minput\u001b[39m, \u001b[39m*\u001b[39m\u001b[39m*\u001b[39mkwargs)\n\u001b[0;32m   1195\u001b[0m \u001b[39m# Do not call functions when jit is used\u001b[39;00m\n\u001b[0;32m   1196\u001b[0m full_backward_hooks, non_full_backward_hooks \u001b[39m=\u001b[39m [], []\n",
      "File \u001b[1;32md:\\Anaconda3\\lib\\site-packages\\torch\\nn\\modules\\linear.py:114\u001b[0m, in \u001b[0;36mLinear.forward\u001b[1;34m(self, input)\u001b[0m\n\u001b[0;32m    113\u001b[0m \u001b[39mdef\u001b[39;00m \u001b[39mforward\u001b[39m(\u001b[39mself\u001b[39m, \u001b[39minput\u001b[39m: Tensor) \u001b[39m-\u001b[39m\u001b[39m>\u001b[39m Tensor:\n\u001b[1;32m--> 114\u001b[0m     \u001b[39mreturn\u001b[39;00m F\u001b[39m.\u001b[39;49mlinear(\u001b[39minput\u001b[39;49m, \u001b[39mself\u001b[39;49m\u001b[39m.\u001b[39;49mweight, \u001b[39mself\u001b[39;49m\u001b[39m.\u001b[39;49mbias)\n",
      "\u001b[1;31mKeyboardInterrupt\u001b[0m: "
     ]
    }
   ],
   "source": [
    "trainer.train()"
   ]
  },
  {
   "cell_type": "markdown",
   "id": "8cc2a130",
   "metadata": {
    "id": "8cc2a130"
   },
   "source": [
    "Create a quick sketch of training"
   ]
  },
  {
   "cell_type": "code",
   "execution_count": null,
   "id": "c5338413",
   "metadata": {
    "id": "c5338413"
   },
   "outputs": [],
   "source": [
    "# plt.plot(trainer.train_losses, color='red', label=\"Train loss\")\n",
    "# plt.plot(trainer.test_losses, color='blue', label=\"Test loss\")\n",
    "\n",
    "# plt.grid()\n",
    "# plt.legend()\n",
    "# for ind in trainer.adaptation_indices:\n",
    "#     plt.axvline(ind, ls = '--', color='grey')\n",
    "# plt.yscale('log')\n",
    "# plt.xlabel(\"Epochs\")\n",
    "# plt.xlabel(\"MSE Loss\")\n",
    "# plt.title(\"Training (100, 100) network tabular EOS for p and eps\")\n",
    "# plt.savefig(\"testing_training_tab_eos_network_100_100.pdf\", bbox_inches = 'tight')\n",
    "# plt.show()"
   ]
  }
 ],
 "metadata": {
  "author": "Thibeau Wouters",
  "colab": {
   "provenance": []
  },
  "gpuClass": "standard",
  "kernelspec": {
   "display_name": "Python 3 (ipykernel)",
   "language": "python",
   "name": "python3"
  },
  "language_info": {
   "codemirror_mode": {
    "name": "ipython",
    "version": 3
   },
   "file_extension": ".py",
   "mimetype": "text/x-python",
   "name": "python",
   "nbconvert_exporter": "python",
   "pygments_lexer": "ipython3",
   "version": "3.11.3"
  },
  "latex_envs": {
   "LaTeX_envs_menu_present": true,
   "autoclose": false,
   "autocomplete": true,
   "bibliofile": "biblio.bib",
   "cite_by": "apalike",
   "current_citInitial": 1,
   "eqLabelWithNumbers": true,
   "eqNumInitial": 1,
   "hotkeys": {
    "equation": "Ctrl-E",
    "itemize": "Ctrl-I"
   },
   "labels_anchors": false,
   "latex_user_defs": false,
   "report_style_numbering": false,
   "user_envs_cfg": false
  },
  "toc": {
   "base_numbering": 1,
   "nav_menu": {},
   "number_sections": true,
   "sideBar": true,
   "skip_h1_title": false,
   "title_cell": "Table of Contents",
   "title_sidebar": "Contents",
   "toc_cell": false,
   "toc_position": {},
   "toc_section_display": true,
   "toc_window_display": false
  }
 },
 "nbformat": 4,
 "nbformat_minor": 5
}
