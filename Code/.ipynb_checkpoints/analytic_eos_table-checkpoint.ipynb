{
 "cells": [
  {
   "cell_type": "markdown",
   "id": "c2350117",
   "metadata": {},
   "source": [
    "# Preamble"
   ]
  },
  {
   "cell_type": "code",
   "execution_count": 1,
   "id": "0bb9f224",
   "metadata": {
    "executionInfo": {
     "elapsed": 8764,
     "status": "ok",
     "timestamp": 1681398656896,
     "user": {
      "displayName": "Thibeau Wouters",
      "userId": "14702334917940433667"
     },
     "user_tz": -120
    },
    "id": "0bb9f224"
   },
   "outputs": [],
   "source": [
    "# Standard libraries\n",
    "import time\n",
    "import numpy as np\n",
    "import matplotlib.pyplot as plt\n",
    "import matplotlib.cm as cm\n",
    "plt.rcParams['figure.dpi'] = 300\n",
    "import random\n",
    "import csv\n",
    "import pandas as pd\n",
    "import h5py\n",
    "import gc  # garbage collection\n",
    "# Scikit learn libraries\n",
    "from sklearn.model_selection import train_test_split\n",
    "from sklearn.preprocessing import StandardScaler\n",
    "# PyTorch libraries\n",
    "import torch\n",
    "from torch import nn\n",
    "from torch.utils.data import Dataset, DataLoader\n",
    "# from torchvision.transforms import ToTensor, Normalize \n",
    "# Get dirs\n",
    "import os\n",
    "cwd = os.getcwd()# \"Code\" folder\n",
    "master_dir = os.path.abspath(os.path.join(cwd, \"..\"))\n",
    "## ONNX\n",
    "# import onnx\n",
    "# import onnxruntime"
   ]
  },
  {
   "cell_type": "markdown",
   "id": "4c465f7c",
   "metadata": {
    "id": "4c465f7c"
   },
   "source": [
    "When using __Google Colab__, run the following cell"
   ]
  },
  {
   "cell_type": "code",
   "execution_count": 2,
   "id": "75bacf53",
   "metadata": {
    "colab": {
     "base_uri": "https://localhost:8080/"
    },
    "executionInfo": {
     "elapsed": 19202,
     "status": "ok",
     "timestamp": 1681398681220,
     "user": {
      "displayName": "Thibeau Wouters",
      "userId": "14702334917940433667"
     },
     "user_tz": -120
    },
    "id": "bbeb496d",
    "outputId": "30fa916e-e8c0-4fbe-de12-cd51790fc6a3"
   },
   "outputs": [],
   "source": [
    "# from google.colab import drive\n",
    "# drive.mount('/content/drive')\n",
    "# code_dir = \"/content/drive/MyDrive/KUL/MAI thesis/Code\"\n",
    "# master_dir = os.path.join(code_dir, \"..\")\n",
    "# os.chdir(code_dir)\n",
    "# print(os.getcwd())"
   ]
  },
  {
   "cell_type": "code",
   "execution_count": 3,
   "id": "36bbffc0",
   "metadata": {
    "executionInfo": {
     "elapsed": 1462,
     "status": "ok",
     "timestamp": 1681398682653,
     "user": {
      "displayName": "Thibeau Wouters",
      "userId": "14702334917940433667"
     },
     "user_tz": -120
    },
    "id": "36bbffc0"
   },
   "outputs": [],
   "source": [
    "# Load own scripts:\n",
    "%load_ext autoreload\n",
    "%autoreload 2\n",
    "import physics\n",
    "import data\n",
    "import nnc2p"
   ]
  },
  {
   "cell_type": "markdown",
   "id": "97dfc46d",
   "metadata": {},
   "source": [
    "Load in EOS table:"
   ]
  },
  {
   "cell_type": "code",
   "execution_count": 4,
   "id": "efbc8d2b",
   "metadata": {
    "colab": {
     "base_uri": "https://localhost:8080/"
    },
    "executionInfo": {
     "elapsed": 30,
     "status": "ok",
     "timestamp": 1681398682653,
     "user": {
      "displayName": "Thibeau Wouters",
      "userId": "14702334917940433667"
     },
     "user_tz": -120
    },
    "id": "efbc8d2b",
    "outputId": "49af00ba-c706-4dd9-fd2c-ee828683afe1"
   },
   "outputs": [
    {
     "name": "stdout",
     "output_type": "stream",
     "text": [
      "Going to look for EOS tables at D:/Coding/Datasets/eos_tables\n"
     ]
    }
   ],
   "source": [
    "eos_tables_dir = os.path.join(\"D:/Coding/Datasets/eos_tables\")  # offline\n",
    "# eos_tables_dir = os.path.join(master_dir, \"Data\")  # in Google Colab\n",
    "print(f\"Going to look for EOS tables at {eos_tables_dir}\")"
   ]
  },
  {
   "cell_type": "markdown",
   "id": "vqCsP2sKAeCm",
   "metadata": {
    "id": "vqCsP2sKAeCm"
   },
   "source": [
    "For the training, check if GPU is available (**Google Colab**):"
   ]
  },
  {
   "cell_type": "code",
   "execution_count": 131,
   "id": "P8YoVE15AhRC",
   "metadata": {
    "colab": {
     "base_uri": "https://localhost:8080/"
    },
    "executionInfo": {
     "elapsed": 29,
     "status": "ok",
     "timestamp": 1681398682654,
     "user": {
      "displayName": "Thibeau Wouters",
      "userId": "14702334917940433667"
     },
     "user_tz": -120
    },
    "id": "P8YoVE15AhRC",
    "outputId": "4f6e373c-7e27-4461-f5cf-51b91d99d440"
   },
   "outputs": [
    {
     "name": "stdout",
     "output_type": "stream",
     "text": [
      "Device for training: cpu\n"
     ]
    }
   ],
   "source": [
    "if torch.cuda.is_available(): \n",
    "    DEVICE = \"cuda:0\" \n",
    "    torch.set_default_device('cuda')\n",
    "else: \n",
    "    DEVICE = \"cpu\" \n",
    "print(f\"Device for training: {DEVICE}\")"
   ]
  },
  {
   "cell_type": "markdown",
   "id": "02fb3c8c",
   "metadata": {
    "id": "02fb3c8c"
   },
   "source": [
    "# Introduction"
   ]
  },
  {
   "cell_type": "markdown",
   "id": "e8ac1b18",
   "metadata": {},
   "source": [
    "Garbage collect:"
   ]
  },
  {
   "cell_type": "code",
   "execution_count": 146,
   "id": "17ceb9b1",
   "metadata": {},
   "outputs": [
    {
     "data": {
      "text/plain": [
       "0"
      ]
     },
     "execution_count": 146,
     "metadata": {},
     "output_type": "execute_result"
    }
   ],
   "source": [
    "# Browse through objects\n",
    "for obj in gc.get_objects():\n",
    "    # see if is an HDF5 file\n",
    "    if isinstance(obj, h5py.File):\n",
    "#         print(obj)\n",
    "        try:\n",
    "            obj.close()\n",
    "            del obj\n",
    "        except:\n",
    "            pass\n",
    "gc.collect()"
   ]
  },
  {
   "cell_type": "markdown",
   "id": "cf08ad4a",
   "metadata": {
    "id": "cf08ad4a"
   },
   "source": [
    "# Exploring EOS tables"
   ]
  },
  {
   "cell_type": "code",
   "execution_count": 107,
   "id": "4d5e6fdb",
   "metadata": {
    "executionInfo": {
     "elapsed": 380,
     "status": "ok",
     "timestamp": 1681398683009,
     "user": {
      "displayName": "Thibeau Wouters",
      "userId": "14702334917940433667"
     },
     "user_tz": -120
    },
    "id": "4d5e6fdb"
   },
   "outputs": [],
   "source": [
    "# Then specify which we are going to use here\n",
    "eos_table_filename = \"SLy4_0000_rho391_temp163_ye66.h5\""
   ]
  },
  {
   "cell_type": "code",
   "execution_count": 140,
   "id": "913d9582",
   "metadata": {
    "colab": {
     "base_uri": "https://localhost:8080/"
    },
    "executionInfo": {
     "elapsed": 660,
     "status": "ok",
     "timestamp": 1681398683667,
     "user": {
      "displayName": "Thibeau Wouters",
      "userId": "14702334917940433667"
     },
     "user_tz": -120
    },
    "id": "913d9582",
    "outputId": "677bba7a-6c4a-4190-a9fa-8f0bbca82bfd"
   },
   "outputs": [
    {
     "name": "stdout",
     "output_type": "stream",
     "text": [
      "<HDF5 dataset \"pointsye\": shape (1,), type \"<i4\">\n",
      "This EOS table has dimensions (ye, T, rho): 66 x 163 x 391\n",
      "Example: (3.0239960056064277, -3.0, 0.005) we have (log eps, log p, cs2): (19.2791052025363, 17.99956975587081, 1575737840983096.0).\n"
     ]
    }
   ],
   "source": [
    "# Open EOS table\n",
    "eos_table = physics.read_eos_table(os.path.join(eos_tables_dir, eos_table_filename))\n",
    "# Read in the most important variables and convert them to np arrays\n",
    "pointsye, pointstemp, pointsrho = eos_table[\"pointsye\"][()][0], eos_table[\"pointstemp\"][()][0], eos_table[\"pointsrho\"][()][0]\n",
    "print(eos_table[\"pointsye\"])\n",
    "logrho       = eos_table[\"logrho\"][()]\n",
    "logtemp      = eos_table[\"logtemp\"][()]\n",
    "ye           = eos_table[\"ye\"][()]\n",
    "logpress     = eos_table[\"logpress\"][()]\n",
    "logenergy    = eos_table[\"logenergy\"][()]\n",
    "energy_shift = eos_table[\"energy_shift\"][()][0]\n",
    "cs2          = eos_table[\"cs2\"][()]\n",
    "print(f\"This EOS table has dimensions (ye, T, rho): {dim_ye} x {dim_temp} x {dim_rho}\")\n",
    "# Small test to see the output of the EOS table\n",
    "test_ye      = eos_table[\"ye\"][()][0]\n",
    "test_temp    = eos_table[\"logtemp\"][()][0]\n",
    "test_rho     = eos_table[\"logrho\"][()][0]\n",
    "# Get an example output\n",
    "test_press, test_eps = eos_table[\"logpress\"][()][0, 0, 0], eos_table[\"logenergy\"][()][0, 0, 0]\n",
    "print(f\"Example: ({test_rho}, {test_temp}, {test_ye}) we have (log eps, log p, cs2): ({test_eps}, {test_press}, {cs2[0, 0, 0]}).\")\n",
    "eos_table.close()"
   ]
  },
  {
   "cell_type": "markdown",
   "id": "349fa6ca",
   "metadata": {},
   "source": [
    "__Extra:__ Save only most important variables for epsilon to energy procedure."
   ]
  },
  {
   "cell_type": "markdown",
   "id": "a105d6b7",
   "metadata": {},
   "source": [
    "What is the input range of this table?"
   ]
  },
  {
   "cell_type": "code",
   "execution_count": 11,
   "id": "e19b3314",
   "metadata": {},
   "outputs": [
    {
     "name": "stdout",
     "output_type": "stream",
     "text": [
      "logrho    range:(3.0239960056064277, 16.023996005606428)\n",
      "logtemp range:(-3.0, 2.4000000000000004)\n",
      "ye             range:(0.005, 0.655)\n"
     ]
    }
   ],
   "source": [
    "print(f\"logrho    range:({min(logrho)}, {max(logrho)})\")\n",
    "print(f\"logtemp range:({min(logtemp)}, {max(logtemp)})\")\n",
    "print(f\"ye             range:({min(ye)}, {max(ye)})\")"
   ]
  },
  {
   "cell_type": "markdown",
   "id": "f0167f31",
   "metadata": {
    "id": "f0167f31"
   },
   "source": [
    "See what is inside this EOS table"
   ]
  },
  {
   "cell_type": "code",
   "execution_count": 135,
   "id": "316b6963",
   "metadata": {
    "colab": {
     "base_uri": "https://localhost:8080/"
    },
    "executionInfo": {
     "elapsed": 517,
     "status": "ok",
     "timestamp": 1681398689771,
     "user": {
      "displayName": "Thibeau Wouters",
      "userId": "14702334917940433667"
     },
     "user_tz": -120
    },
    "id": "316b6963",
    "outputId": "77b6ecac-15ea-461d-f76a-b641a290fd63"
   },
   "outputs": [],
   "source": [
    "# # Iterate over keys and save them to list for simplified viewing\n",
    "# keys = []\n",
    "# for key in eos_table:\n",
    "#     keys.append(key)\n",
    "# print(keys)\n",
    "# print(len(keys))\n",
    "\n",
    "## Output\n",
    "# ['Abar', 'Albar', 'MERGE-space.in', 'MERGE-src.tar.gz', 'MERGE-tables.in', 'MERGE-transition.in', 'SNA-skyrme.in', 'SNA-space.in', 'SNA-src.tar.gz', 'Xa', 'Xh', 'Xl', 'Xn', 'Xp', 'Zbar', 'Zlbar', 'cs2', 'dedt', 'dpderho', 'dpdrhoe', 'energy_shift', 'entropy', 'gamma', 'have_rel_cs2', 'logenergy', 'logpress', 'logrho', 'logtemp', 'meffn', 'meffp', 'mu_e', 'mu_n', 'mu_p', 'muhat', 'munu', 'pointsrho', 'pointstemp', 'pointsye', 'r', 'u', 'ye']"
   ]
  },
  {
   "cell_type": "markdown",
   "id": "811327b0",
   "metadata": {},
   "source": [
    "# Construct EOS table for the analytic EOS"
   ]
  },
  {
   "cell_type": "markdown",
   "id": "7b683073",
   "metadata": {},
   "source": [
    "## Temperature values"
   ]
  },
  {
   "cell_type": "markdown",
   "id": "7b696889",
   "metadata": {},
   "source": [
    "These are a bit trickier and have to be obtained from the energy. Use: $ \\varepsilon = \\frac{1}{\\Gamma - 1} N_a k_B T \\, . $"
   ]
  },
  {
   "cell_type": "code",
   "execution_count": 152,
   "id": "f7c41d34",
   "metadata": {},
   "outputs": [],
   "source": [
    "# Define constants for conversion between eps and temp\n",
    "gamma = 5/3\n",
    "N_A = 6.0221367e23\n",
    "k_B = 1 # ??? not sure though\n",
    "# Smallest possible float:\n",
    "SMALLEST = 2.2250738585072014e-308 "
   ]
  },
  {
   "cell_type": "code",
   "execution_count": 153,
   "id": "7b7b3e42",
   "metadata": {},
   "outputs": [],
   "source": [
    "def temp_to_eps(temp):\n",
    "    return 1/(gamma - 1) * N_A * k_B * temp\n",
    "def eps_to_temp(eps):\n",
    "    return ((gamma - 1)/(N_A * k_B)) * eps"
   ]
  },
  {
   "cell_type": "markdown",
   "id": "0390e82d",
   "metadata": {},
   "source": [
    "What are the ranges of our T table, if we have ranges of eps?"
   ]
  },
  {
   "cell_type": "code",
   "execution_count": 154,
   "id": "248db5d5",
   "metadata": {},
   "outputs": [
    {
     "name": "stdout",
     "output_type": "stream",
     "text": [
      "(0, 2.02)\n"
     ]
    }
   ],
   "source": [
    "# Get new eps min, for the log:\n",
    "eps_min = physics.EPS_MIN\n",
    "eps_max = physics.EPS_MAX\n",
    "print((eps_min, eps_max))"
   ]
  },
  {
   "cell_type": "code",
   "execution_count": 155,
   "id": "c32a6958",
   "metadata": {},
   "outputs": [
    {
     "name": "stdout",
     "output_type": "stream",
     "text": [
      "(2.2250738585072014e-308, 2.2361941180555848e-24)\n"
     ]
    }
   ],
   "source": [
    "temp_min = eps_to_temp(physics.EPS_MIN)\n",
    "# Adjust such that log is well defined\n",
    "temp_min += SMALLEST\n",
    "temp_max = eps_to_temp(physics.EPS_MAX)\n",
    "\n",
    "print((temp_min, temp_max))"
   ]
  },
  {
   "cell_type": "markdown",
   "id": "69b39cad",
   "metadata": {},
   "source": [
    "Now take the log"
   ]
  },
  {
   "cell_type": "code",
   "execution_count": 156,
   "id": "4b672289",
   "metadata": {},
   "outputs": [],
   "source": [
    "logtemp_min = np.log10(temp_min)\n",
    "logtemp_max = np.log10(temp_max)"
   ]
  },
  {
   "cell_type": "code",
   "execution_count": 157,
   "id": "43654fac",
   "metadata": {},
   "outputs": [],
   "source": [
    "logtemp = np.linspace(logtemp_min, logtemp_max, pointstemp)"
   ]
  },
  {
   "cell_type": "markdown",
   "id": "37b2e471",
   "metadata": {},
   "source": [
    "## Rho values:"
   ]
  },
  {
   "cell_type": "code",
   "execution_count": 158,
   "id": "4641f10f",
   "metadata": {},
   "outputs": [
    {
     "name": "stdout",
     "output_type": "stream",
     "text": [
      "(2.2250738585072014e-308, 10.1)\n"
     ]
    }
   ],
   "source": [
    "rho_min = physics.RHO_MIN\n",
    "# Again, add small float for the log\n",
    "rho_min += SMALLEST\n",
    "rho_max = physics.RHO_MAX\n",
    "print((rho_min, rho_max))"
   ]
  },
  {
   "cell_type": "markdown",
   "id": "8c7cba65",
   "metadata": {},
   "source": [
    "Get log of range"
   ]
  },
  {
   "cell_type": "code",
   "execution_count": 159,
   "id": "c265eee7",
   "metadata": {},
   "outputs": [
    {
     "name": "stdout",
     "output_type": "stream",
     "text": [
      "(-307.6526555685888, 1.0043213737826426)\n"
     ]
    }
   ],
   "source": [
    "logrho_min = np.log10(rho_min)\n",
    "logrho_max = np.log10(rho_max)\n",
    "print((logrho_min, logrho_max))"
   ]
  },
  {
   "cell_type": "markdown",
   "id": "4a6db3c3",
   "metadata": {},
   "source": [
    "Get the values"
   ]
  },
  {
   "cell_type": "code",
   "execution_count": 160,
   "id": "b51ab09f",
   "metadata": {},
   "outputs": [],
   "source": [
    "logrho = np.linspace(logrho_min, logrho_max, pointsrho)"
   ]
  },
  {
   "cell_type": "markdown",
   "id": "95a1f731",
   "metadata": {},
   "source": [
    "## Ye"
   ]
  },
  {
   "cell_type": "markdown",
   "id": "536d0fc4",
   "metadata": {},
   "source": [
    "These are dummy values and linear, not log"
   ]
  },
  {
   "cell_type": "code",
   "execution_count": 161,
   "id": "aaf28641",
   "metadata": {},
   "outputs": [],
   "source": [
    "ye_min = 0\n",
    "ye_max = 0.5\n",
    "ye = np.linspace(ye_min, ye_max, pointsye)"
   ]
  },
  {
   "cell_type": "code",
   "execution_count": 162,
   "id": "6a90c7a3",
   "metadata": {},
   "outputs": [
    {
     "data": {
      "text/plain": [
       "array([0.        , 0.00769231, 0.01538462, 0.02307692, 0.03076923,\n",
       "       0.03846154, 0.04615385, 0.05384615, 0.06153846, 0.06923077,\n",
       "       0.07692308, 0.08461538, 0.09230769, 0.1       , 0.10769231,\n",
       "       0.11538462, 0.12307692, 0.13076923, 0.13846154, 0.14615385,\n",
       "       0.15384615, 0.16153846, 0.16923077, 0.17692308, 0.18461538,\n",
       "       0.19230769, 0.2       , 0.20769231, 0.21538462, 0.22307692,\n",
       "       0.23076923, 0.23846154, 0.24615385, 0.25384615, 0.26153846,\n",
       "       0.26923077, 0.27692308, 0.28461538, 0.29230769, 0.3       ,\n",
       "       0.30769231, 0.31538462, 0.32307692, 0.33076923, 0.33846154,\n",
       "       0.34615385, 0.35384615, 0.36153846, 0.36923077, 0.37692308,\n",
       "       0.38461538, 0.39230769, 0.4       , 0.40769231, 0.41538462,\n",
       "       0.42307692, 0.43076923, 0.43846154, 0.44615385, 0.45384615,\n",
       "       0.46153846, 0.46923077, 0.47692308, 0.48461538, 0.49230769,\n",
       "       0.5       ])"
      ]
     },
     "execution_count": 162,
     "metadata": {},
     "output_type": "execute_result"
    }
   ],
   "source": [
    "ye"
   ]
  },
  {
   "cell_type": "markdown",
   "id": "c705dd84",
   "metadata": {},
   "source": [
    "## Columns"
   ]
  },
  {
   "cell_type": "markdown",
   "id": "6eb6c9a2",
   "metadata": {},
   "source": [
    "The \"columns\" represent the output variables, such as $p$, $\\varepsilon$ and $c_s^2$ most importantly"
   ]
  },
  {
   "cell_type": "markdown",
   "id": "82a1fdb7",
   "metadata": {},
   "source": [
    "Auxiliary function: derivatives of $p$ wrt $\\rho$ and $\\varepsilon$"
   ]
  },
  {
   "cell_type": "code",
   "execution_count": 163,
   "id": "6d5bb177",
   "metadata": {},
   "outputs": [],
   "source": [
    "def chi(eps):\n",
    "    return (gamma - 1) * eps\n",
    "\n",
    "def kappa(rho):\n",
    "    return (gamma - 1) * rho"
   ]
  },
  {
   "cell_type": "code",
   "execution_count": 176,
   "id": "e8a4dc65",
   "metadata": {},
   "outputs": [],
   "source": [
    "def get_cs2(prs, rho, eps):\n",
    "    chi_val = chi(eps)\n",
    "    kappa_val = kappa(rho)\n",
    "    h = 1 + eps + prs/rho\n",
    "    # Add small floats to make sure no nans or infs are generated:\n",
    "    if h == 0:\n",
    "        h += SMALLEST\n",
    "    rho_sqr = rho ** 2\n",
    "    if rho_sqr == 0:\n",
    "        rho_sqr += SMALLEST\n",
    "    \n",
    "    return (1/h) * (chi_val + (prs/rho_sqr) * kappa_val)"
   ]
  },
  {
   "cell_type": "code",
   "execution_count": 177,
   "id": "2908bdc2",
   "metadata": {},
   "outputs": [],
   "source": [
    "def get_columns(ye, logtemp, logrho):\n",
    "    # Initialize as empty\n",
    "    logprsess = np.empty((pointsye, pointstemp, pointsrho))\n",
    "    logeps      = np.empty((pointsye, pointstemp, pointsrho))\n",
    "    cs2             = np.empty((pointsye, pointstemp, pointsrho))\n",
    "    \n",
    "    # Fill each entry\n",
    "    for i, ye_val in enumerate(ye):\n",
    "        for j, logtemp_val in enumerate(logtemp):\n",
    "            temp_val = 10 ** logtemp_val\n",
    "            for k, logrho_val in enumerate(logrho):\n",
    "                rho_val = 10 ** logrho_val\n",
    "                \n",
    "                # Compute eps\n",
    "                eps_val = temp_to_eps(temp_val)\n",
    "                # Convert to logeps val\n",
    "                logeps_val = np.log10(eps_val)\n",
    "                logeps[i, j, k] = logeps_val\n",
    "\n",
    "                # Compute the pressure\n",
    "                prs_val = (gamma - 1) * rho_val * eps_val\n",
    "                logpress[i, j, k] = prs_val\n",
    "                # Convert to logpress val\n",
    "                if prs_val == 0:\n",
    "                    prs_val += SMALLEST\n",
    "                logprs_val = np.log10(prs_val)\n",
    "                logpress[i, j, k] = logprs_val\n",
    "                \n",
    "                # Compute cs2\n",
    "                cs2_val = get_cs2(prs_val, rho_val, eps_val)\n",
    "                cs2[i, j, k] = cs2_val\n",
    "                \n",
    "    return logpress, logeps, cs2"
   ]
  },
  {
   "cell_type": "code",
   "execution_count": 178,
   "id": "6c9ddc13",
   "metadata": {},
   "outputs": [],
   "source": [
    "logpress, logenergy, cs2 = get_columns(ye, logtemp, logrho)"
   ]
  },
  {
   "cell_type": "markdown",
   "id": "ff6cf62f",
   "metadata": {},
   "source": [
    "### Sanity checks"
   ]
  },
  {
   "cell_type": "code",
   "execution_count": 179,
   "id": "fa19fac2",
   "metadata": {},
   "outputs": [
    {
     "name": "stdout",
     "output_type": "stream",
     "text": [
      "13.601333333333336\n",
      "13.601333333333335\n"
     ]
    }
   ],
   "source": [
    "print(10 ** np.max(logpress))\n",
    "max_prs = (gamma - 1) * rho_max * eps_max\n",
    "print(max_prs)"
   ]
  },
  {
   "cell_type": "markdown",
   "id": "78fc8702",
   "metadata": {},
   "source": [
    "Watch out: there are NaNs in the $c_s^2$ table!"
   ]
  },
  {
   "cell_type": "code",
   "execution_count": 182,
   "id": "f5279a91",
   "metadata": {},
   "outputs": [
    {
     "data": {
      "text/plain": [
       "0.5142577316202755"
      ]
     },
     "execution_count": 182,
     "metadata": {},
     "output_type": "execute_result"
    }
   ],
   "source": [
    "test_array = cs2.flatten()\n",
    "# np.nanmax(test_array[test_array != float('inf')])\n",
    "np.max(test_array)"
   ]
  },
  {
   "cell_type": "markdown",
   "id": "25218415",
   "metadata": {},
   "source": [
    "## To HDF5"
   ]
  },
  {
   "cell_type": "code",
   "execution_count": 183,
   "id": "02bc09a0",
   "metadata": {},
   "outputs": [],
   "source": [
    "with h5py.File(os.path.join(eos_tables_dir, \"analytic_eos.h5\"), 'w') as f:\n",
    "    # Save scalars, but they have to be arrays\n",
    "    pointsrho_array = [pointsrho]\n",
    "    pointstemp_array = [pointstemp]\n",
    "    pointsye_array = [pointsye]\n",
    "    dataset = f.create_dataset(\"pointsrho\", data=pointsrho_array)\n",
    "    dataset = f.create_dataset(\"pointstemp\", data=pointstemp_array)\n",
    "    dataset = f.create_dataset(\"pointsye\", data=pointsye_array)\n",
    "    # Save entries\n",
    "    dataset = f.create_dataset(\"logrho\", data=logrho)\n",
    "    dataset = f.create_dataset(\"logtemp\", data=logtemp)\n",
    "    dataset = f.create_dataset(\"ye\", data=ye)\n",
    "    # Columns\n",
    "    dataset = f.create_dataset(\"logenergy\", data=logenergy)\n",
    "    dataset = f.create_dataset(\"logpress\", data=logpress)\n",
    "    dataset = f.create_dataset(\"cs2\", data=cs2)"
   ]
  },
  {
   "cell_type": "markdown",
   "id": "74d06035",
   "metadata": {},
   "source": [
    "## Check the HDF5 file"
   ]
  },
  {
   "cell_type": "code",
   "execution_count": 185,
   "id": "a29b1380",
   "metadata": {},
   "outputs": [
    {
     "name": "stdout",
     "output_type": "stream",
     "text": [
      "<HDF5 dataset \"pointsye\": shape (1,), type \"<i4\">\n",
      "This EOS table has dimensions (ye, T, rho): 66 x 163 x 391\n",
      "Example: (1.0043213737826426, -23.650490499201915, 0.5) we have (log eps, log p, cs2): (0.30535136944662367, 1.1335814841735852, 6.699849471763349e-285).\n",
      "So: (eps, p, cs2): (2.0199999999999996, 13.601333333333336, 6.699849471763349e-285).\n"
     ]
    }
   ],
   "source": [
    "name = \"analytic_eos.h5\"\n",
    "# Open EOS table\n",
    "eos_table = physics.read_eos_table(os.path.join(eos_tables_dir, name))\n",
    "# Read in the most important variables and convert them to np arrays\n",
    "print(eos_table[\"pointsye\"])\n",
    "pointsye, pointstemp, pointsrho = eos_table[\"pointsye\"][()][0], eos_table[\"pointstemp\"][()][0], eos_table[\"pointsrho\"][()][0]\n",
    "logrho       = eos_table[\"logrho\"][()]\n",
    "logtemp      = eos_table[\"logtemp\"][()]\n",
    "ye           = eos_table[\"ye\"][()]\n",
    "logpress     = eos_table[\"logpress\"][()]\n",
    "logenergy    = eos_table[\"logenergy\"][()]\n",
    "# energy_shift = eos_table[\"energy_shift\"][()][0]\n",
    "cs2          = eos_table[\"cs2\"][()]\n",
    "print(f\"This EOS table has dimensions (ye, T, rho): {dim_ye} x {dim_temp} x {dim_rho}\")\n",
    "# Small test to see the output of the EOS table\n",
    "test_ye      = eos_table[\"ye\"][()][-1]\n",
    "test_temp    = eos_table[\"logtemp\"][()][-1]\n",
    "test_rho     = eos_table[\"logrho\"][()][-1]\n",
    "# Get an example output\n",
    "test_press, test_eps, test_cs2 = eos_table[\"logpress\"][()][-1, -1, -1], eos_table[\"logenergy\"][()][-1, -1, -1], cs2[0, 0, 0]\n",
    "print(f\"Example: ({test_rho}, {test_temp}, {test_ye}) we have (log eps, log p, cs2): ({test_eps}, {test_press}, {test_cs2}).\")\n",
    "print(f\"So: (eps, p, cs2): ({10**test_eps}, {10**test_press}, {test_cs2}).\")\n",
    "eos_table.close()"
   ]
  },
  {
   "cell_type": "code",
   "execution_count": 186,
   "id": "25ec0248",
   "metadata": {},
   "outputs": [
    {
     "name": "stdout",
     "output_type": "stream",
     "text": [
      "['cs2', 'logenergy', 'logpress', 'logrho', 'logtemp', 'pointsrho', 'pointstemp', 'pointsye', 'ye']\n",
      "9\n"
     ]
    }
   ],
   "source": [
    "name = \"analytic_eos.h5\"\n",
    "# Open EOS table\n",
    "eos_table = physics.read_eos_table(os.path.join(eos_tables_dir, name))\n",
    "# Iterate over keys and save them to list for simplified viewing\n",
    "keys = []\n",
    "for key in eos_table:\n",
    "    keys.append(key)\n",
    "print(keys)\n",
    "eos_table.close()"
   ]
  },
  {
   "cell_type": "code",
   "execution_count": null,
   "id": "d939bc41",
   "metadata": {},
   "outputs": [],
   "source": []
  }
 ],
 "metadata": {
  "author": "Thibeau Wouters",
  "colab": {
   "provenance": []
  },
  "gpuClass": "standard",
  "kernelspec": {
   "display_name": "Python 3 (ipykernel)",
   "language": "python",
   "name": "python3"
  },
  "language_info": {
   "codemirror_mode": {
    "name": "ipython",
    "version": 3
   },
   "file_extension": ".py",
   "mimetype": "text/x-python",
   "name": "python",
   "nbconvert_exporter": "python",
   "pygments_lexer": "ipython3",
   "version": "3.9.12"
  },
  "latex_envs": {
   "LaTeX_envs_menu_present": true,
   "autoclose": false,
   "autocomplete": true,
   "bibliofile": "biblio.bib",
   "cite_by": "apalike",
   "current_citInitial": 1,
   "eqLabelWithNumbers": true,
   "eqNumInitial": 1,
   "hotkeys": {
    "equation": "Ctrl-E",
    "itemize": "Ctrl-I"
   },
   "labels_anchors": false,
   "latex_user_defs": false,
   "report_style_numbering": false,
   "user_envs_cfg": false
  },
  "toc": {
   "base_numbering": 1,
   "nav_menu": {},
   "number_sections": true,
   "sideBar": true,
   "skip_h1_title": false,
   "title_cell": "Table of Contents",
   "title_sidebar": "Contents",
   "toc_cell": false,
   "toc_position": {},
   "toc_section_display": true,
   "toc_window_display": false
  }
 },
 "nbformat": 4,
 "nbformat_minor": 5
}
