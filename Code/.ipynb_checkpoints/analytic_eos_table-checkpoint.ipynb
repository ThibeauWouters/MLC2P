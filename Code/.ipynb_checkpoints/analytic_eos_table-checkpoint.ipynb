{
 "cells": [
  {
   "cell_type": "markdown",
   "id": "c2350117",
   "metadata": {},
   "source": [
    "# Preamble"
   ]
  },
  {
   "cell_type": "code",
   "execution_count": 1,
   "id": "0bb9f224",
   "metadata": {
    "executionInfo": {
     "elapsed": 8764,
     "status": "ok",
     "timestamp": 1681398656896,
     "user": {
      "displayName": "Thibeau Wouters",
      "userId": "14702334917940433667"
     },
     "user_tz": -120
    },
    "id": "0bb9f224"
   },
   "outputs": [],
   "source": [
    "# Standard libraries\n",
    "import time\n",
    "import numpy as np\n",
    "import matplotlib.pyplot as plt\n",
    "import matplotlib.cm as cm\n",
    "plt.rcParams['figure.dpi'] = 300\n",
    "import random\n",
    "import csv\n",
    "import pandas as pd\n",
    "import h5py\n",
    "import gc  # garbage collection\n",
    "# Scikit learn libraries\n",
    "from sklearn.model_selection import train_test_split\n",
    "from sklearn.preprocessing import StandardScaler\n",
    "# PyTorch libraries\n",
    "import torch\n",
    "from torch import nn\n",
    "from torch.utils.data import Dataset, DataLoader\n",
    "# from torchvision.transforms import ToTensor, Normalize \n",
    "# Get dirs\n",
    "import os\n",
    "cwd = os.getcwd()# \"Code\" folder\n",
    "master_dir = os.path.abspath(os.path.join(cwd, \"..\"))\n",
    "## ONNX\n",
    "# import onnx\n",
    "# import onnxruntime"
   ]
  },
  {
   "cell_type": "markdown",
   "id": "4c465f7c",
   "metadata": {
    "id": "4c465f7c"
   },
   "source": [
    "When using __Google Colab__, run the following cell"
   ]
  },
  {
   "cell_type": "code",
   "execution_count": 2,
   "id": "75bacf53",
   "metadata": {
    "colab": {
     "base_uri": "https://localhost:8080/"
    },
    "executionInfo": {
     "elapsed": 19202,
     "status": "ok",
     "timestamp": 1681398681220,
     "user": {
      "displayName": "Thibeau Wouters",
      "userId": "14702334917940433667"
     },
     "user_tz": -120
    },
    "id": "bbeb496d",
    "outputId": "30fa916e-e8c0-4fbe-de12-cd51790fc6a3"
   },
   "outputs": [],
   "source": [
    "# from google.colab import drive\n",
    "# drive.mount('/content/drive')\n",
    "# code_dir = \"/content/drive/MyDrive/KUL/MAI thesis/Code\"\n",
    "# master_dir = os.path.join(code_dir, \"..\")\n",
    "# os.chdir(code_dir)\n",
    "# print(os.getcwd())"
   ]
  },
  {
   "cell_type": "code",
   "execution_count": 3,
   "id": "36bbffc0",
   "metadata": {
    "executionInfo": {
     "elapsed": 1462,
     "status": "ok",
     "timestamp": 1681398682653,
     "user": {
      "displayName": "Thibeau Wouters",
      "userId": "14702334917940433667"
     },
     "user_tz": -120
    },
    "id": "36bbffc0"
   },
   "outputs": [],
   "source": [
    "# Load own scripts:\n",
    "%load_ext autoreload\n",
    "%autoreload 2\n",
    "import physics\n",
    "import data\n",
    "import nnc2p"
   ]
  },
  {
   "cell_type": "markdown",
   "id": "04e9b2d4",
   "metadata": {},
   "source": [
    "Load in EOS table:"
   ]
  },
  {
   "cell_type": "code",
   "execution_count": 4,
   "id": "efbc8d2b",
   "metadata": {
    "colab": {
     "base_uri": "https://localhost:8080/"
    },
    "executionInfo": {
     "elapsed": 30,
     "status": "ok",
     "timestamp": 1681398682653,
     "user": {
      "displayName": "Thibeau Wouters",
      "userId": "14702334917940433667"
     },
     "user_tz": -120
    },
    "id": "efbc8d2b",
    "outputId": "49af00ba-c706-4dd9-fd2c-ee828683afe1"
   },
   "outputs": [
    {
     "name": "stdout",
     "output_type": "stream",
     "text": [
      "Going to look for EOS tables at D:/Coding/Datasets/eos_tables\n"
     ]
    }
   ],
   "source": [
    "eos_tables_dir = os.path.join(\"D:/Coding/Datasets/eos_tables\")  # offline\n",
    "# eos_tables_dir = os.path.join(master_dir, \"Data\")  # in Google Colab\n",
    "print(f\"Going to look for EOS tables at {eos_tables_dir}\")"
   ]
  },
  {
   "cell_type": "markdown",
   "id": "vqCsP2sKAeCm",
   "metadata": {
    "id": "vqCsP2sKAeCm"
   },
   "source": [
    "For the training, check if GPU is available (**Google Colab**):"
   ]
  },
  {
   "cell_type": "code",
   "execution_count": 5,
   "id": "P8YoVE15AhRC",
   "metadata": {
    "colab": {
     "base_uri": "https://localhost:8080/"
    },
    "executionInfo": {
     "elapsed": 29,
     "status": "ok",
     "timestamp": 1681398682654,
     "user": {
      "displayName": "Thibeau Wouters",
      "userId": "14702334917940433667"
     },
     "user_tz": -120
    },
    "id": "P8YoVE15AhRC",
    "outputId": "4f6e373c-7e27-4461-f5cf-51b91d99d440"
   },
   "outputs": [
    {
     "name": "stdout",
     "output_type": "stream",
     "text": [
      "Device for training: cpu\n"
     ]
    }
   ],
   "source": [
    "if torch.cuda.is_available(): \n",
    "    DEVICE = \"cuda:0\" \n",
    "    torch.set_default_device('cuda')\n",
    "else: \n",
    "    DEVICE = \"cpu\" \n",
    "print(f\"Device for training: {DEVICE}\")"
   ]
  },
  {
   "cell_type": "markdown",
   "id": "02fb3c8c",
   "metadata": {
    "id": "02fb3c8c"
   },
   "source": [
    "# Introduction"
   ]
  },
  {
   "cell_type": "markdown",
   "id": "bf2c1f4a",
   "metadata": {},
   "source": [
    "Garbage collect:"
   ]
  },
  {
   "cell_type": "code",
   "execution_count": 6,
   "id": "17ceb9b1",
   "metadata": {},
   "outputs": [
    {
     "name": "stderr",
     "output_type": "stream",
     "text": [
      "D:\\Anaconda3\\lib\\site-packages\\torch\\distributed\\distributed_c10d.py:262: UserWarning: torch.distributed.reduce_op is deprecated, please use torch.distributed.ReduceOp instead\n",
      "  warnings.warn(\n"
     ]
    },
    {
     "data": {
      "text/plain": [
       "0"
      ]
     },
     "execution_count": 6,
     "metadata": {},
     "output_type": "execute_result"
    }
   ],
   "source": [
    "# Browse through objects\n",
    "for obj in gc.get_objects():\n",
    "    # see if is an HDF5 file\n",
    "    if isinstance(obj, h5py.File):\n",
    "#         print(obj)\n",
    "        try:\n",
    "            obj.close()\n",
    "            del obj\n",
    "        except:\n",
    "            pass\n",
    "gc.collect()"
   ]
  },
  {
   "cell_type": "markdown",
   "id": "cf08ad4a",
   "metadata": {
    "id": "cf08ad4a"
   },
   "source": [
    "# Exploring EOS tables"
   ]
  },
  {
   "cell_type": "code",
   "execution_count": 7,
   "id": "4d5e6fdb",
   "metadata": {
    "executionInfo": {
     "elapsed": 380,
     "status": "ok",
     "timestamp": 1681398683009,
     "user": {
      "displayName": "Thibeau Wouters",
      "userId": "14702334917940433667"
     },
     "user_tz": -120
    },
    "id": "4d5e6fdb"
   },
   "outputs": [],
   "source": [
    "# Then specify which we are going to use here\n",
    "eos_table_filename = \"SLy4_0000_rho391_temp163_ye66.h5\""
   ]
  },
  {
   "cell_type": "code",
   "execution_count": 50,
   "id": "913d9582",
   "metadata": {
    "colab": {
     "base_uri": "https://localhost:8080/"
    },
    "executionInfo": {
     "elapsed": 660,
     "status": "ok",
     "timestamp": 1681398683667,
     "user": {
      "displayName": "Thibeau Wouters",
      "userId": "14702334917940433667"
     },
     "user_tz": -120
    },
    "id": "913d9582",
    "outputId": "677bba7a-6c4a-4190-a9fa-8f0bbca82bfd"
   },
   "outputs": [
    {
     "name": "stdout",
     "output_type": "stream",
     "text": [
      "(66, 163, 391)\n",
      "This EOS table has dimensions (ye, T, rho): 66 x 163 x 391\n",
      "Example: (3.0239960056064277, -3.0, 0.005) we have (log eps, log p, cs2): (19.2791052025363, 17.99956975587081, 1575737840983096.0).\n"
     ]
    }
   ],
   "source": [
    "# Open EOS table\n",
    "eos_table = physics.read_eos_table(os.path.join(eos_tables_dir, eos_table_filename))\n",
    "# Read in the most important variables and convert them to np arrays\n",
    "pointsye, pointstemp, pointsrho = eos_table[\"pointsye\"][()][0], eos_table[\"pointstemp\"][()][0], eos_table[\"pointsrho\"][()][0]\n",
    "dim_ye, dim_temp, dim_rho = pointsye, pointstemp, pointsrho\n",
    "logrho       = eos_table[\"logrho\"][()]\n",
    "logtemp      = eos_table[\"logtemp\"][()]\n",
    "ye           = eos_table[\"ye\"][()]\n",
    "logpress     = eos_table[\"logpress\"][()]\n",
    "logenergy    = eos_table[\"logenergy\"][()]\n",
    "print(np.shape(logenergy))\n",
    "energy_shift = eos_table[\"energy_shift\"][()][0]\n",
    "cs2          = eos_table[\"cs2\"][()]\n",
    "print(f\"This EOS table has dimensions (ye, T, rho): {dim_ye} x {dim_temp} x {dim_rho}\")\n",
    "# Small test to see the output of the EOS table\n",
    "test_ye      = eos_table[\"ye\"][()][0]\n",
    "test_temp    = eos_table[\"logtemp\"][()][0]\n",
    "test_rho     = eos_table[\"logrho\"][()][0]\n",
    "# Get an example output\n",
    "test_press, test_eps = eos_table[\"logpress\"][()][0, 0, 0], eos_table[\"logenergy\"][()][0, 0, 0]\n",
    "print(f\"Example: ({test_rho}, {test_temp}, {test_ye}) we have (log eps, log p, cs2): ({test_eps}, {test_press}, {cs2[0, 0, 0]}).\")\n",
    "eos_table.close()"
   ]
  },
  {
   "cell_type": "markdown",
   "id": "a105d6b7",
   "metadata": {},
   "source": [
    "What is the input range of this table?"
   ]
  },
  {
   "cell_type": "code",
   "execution_count": 9,
   "id": "e19b3314",
   "metadata": {},
   "outputs": [
    {
     "name": "stdout",
     "output_type": "stream",
     "text": [
      "logrho    range:(3.0239960056064277, 16.023996005606428)\n",
      "logtemp range:(-3.0, 2.4000000000000004)\n",
      "ye             range:(0.005, 0.655)\n"
     ]
    }
   ],
   "source": [
    "print(f\"logrho    range:({min(logrho)}, {max(logrho)})\")\n",
    "print(f\"logtemp range:({min(logtemp)}, {max(logtemp)})\")\n",
    "print(f\"ye             range:({min(ye)}, {max(ye)})\")"
   ]
  },
  {
   "cell_type": "markdown",
   "id": "f0167f31",
   "metadata": {
    "id": "f0167f31"
   },
   "source": [
    "See what is inside this EOS table"
   ]
  },
  {
   "cell_type": "code",
   "execution_count": 10,
   "id": "316b6963",
   "metadata": {
    "colab": {
     "base_uri": "https://localhost:8080/"
    },
    "executionInfo": {
     "elapsed": 517,
     "status": "ok",
     "timestamp": 1681398689771,
     "user": {
      "displayName": "Thibeau Wouters",
      "userId": "14702334917940433667"
     },
     "user_tz": -120
    },
    "id": "316b6963",
    "outputId": "77b6ecac-15ea-461d-f76a-b641a290fd63"
   },
   "outputs": [],
   "source": [
    "# # Iterate over keys and save them to list for simplified viewing\n",
    "# keys = []\n",
    "# for key in eos_table:\n",
    "#     keys.append(key)\n",
    "# print(keys)\n",
    "# print(len(keys))\n",
    "\n",
    "## Output\n",
    "# ['Abar', 'Albar', 'MERGE-space.in', 'MERGE-src.tar.gz', 'MERGE-tables.in', 'MERGE-transition.in', 'SNA-skyrme.in', 'SNA-space.in', 'SNA-src.tar.gz', 'Xa', 'Xh', 'Xl', 'Xn', 'Xp', 'Zbar', 'Zlbar', 'cs2', 'dedt', 'dpderho', 'dpdrhoe', 'energy_shift', 'entropy', 'gamma', 'have_rel_cs2', 'logenergy', 'logpress', 'logrho', 'logtemp', 'meffn', 'meffp', 'mu_e', 'mu_n', 'mu_p', 'muhat', 'munu', 'pointsrho', 'pointstemp', 'pointsye', 'r', 'u', 'ye']"
   ]
  },
  {
   "cell_type": "markdown",
   "id": "ab4e72f8",
   "metadata": {},
   "source": [
    "# Construct EOS table for the analytic EOS"
   ]
  },
  {
   "cell_type": "markdown",
   "id": "ca20bb9d",
   "metadata": {},
   "source": [
    "Choose the size of the table, by specifying the number of points along one direction, $N$"
   ]
  },
  {
   "cell_type": "code",
   "execution_count": 222,
   "id": "1012829b",
   "metadata": {},
   "outputs": [],
   "source": [
    "N = 500\n",
    "\n",
    "# Choose Nrho, Ntemp, Nye based on this value for N\n",
    "Nrho = N\n",
    "Ntemp = N\n",
    "Nye = N"
   ]
  },
  {
   "cell_type": "markdown",
   "id": "9026552d",
   "metadata": {},
   "source": [
    "## Temperature values"
   ]
  },
  {
   "cell_type": "markdown",
   "id": "5bd73855",
   "metadata": {},
   "source": [
    "These are a bit trickier and have to be obtained from the energy. Use: $ \\varepsilon = \\frac{1}{\\Gamma - 1} N_a k_B T \\, . $\n",
    "\n",
    "For the conversion below, also make sure to see Gmunu, mod_constants."
   ]
  },
  {
   "cell_type": "code",
   "execution_count": 208,
   "id": "97cbf31a",
   "metadata": {},
   "outputs": [],
   "source": [
    "# Define constants for conversion between eps and temp\n",
    "gamma = 5/3\n",
    "N_A = 6.0221367e23\n",
    "\n",
    "# Cod conversions that are in Gmunu:\n",
    "k_B = 1.3806488e-16 # erg/K\n",
    "eps_gf = 1.11265006e-21 # code unit to erg\n",
    "T_MeV_to_K = 1.1604447522806e10 # K/MeV\n",
    "\n",
    "## To get to the original version, which gave wrong results in the shocktube, uncomment next line to overrule the conversions\n",
    "k_B = 1\n",
    "eps_gf = 1\n",
    "T_MeV_to_K = 1\n",
    "\n",
    "# Smallest possible float:\n",
    "SMALLEST = 2.2250738585072014e-308 "
   ]
  },
  {
   "cell_type": "code",
   "execution_count": 209,
   "id": "529b351a",
   "metadata": {},
   "outputs": [
    {
     "name": "stdout",
     "output_type": "stream",
     "text": [
      "1\n",
      "1\n"
     ]
    }
   ],
   "source": [
    "print(eps_gf)\n",
    "print(T_MeV_to_K)"
   ]
  },
  {
   "cell_type": "code",
   "execution_count": 210,
   "id": "80a6483c",
   "metadata": {},
   "outputs": [],
   "source": [
    "def temp_to_eps(temp):\n",
    "    \"\"\"Temp is in MeV, so code units\"\"\"\n",
    "    # Get temperature in K\n",
    "    temp_K = temp * T_MeV_to_K\n",
    "    # Get eps, in erg\n",
    "    eps_erg = (1/(gamma - 1)) * N_A * k_B * temp_K\n",
    "    # Convert erg to code unit\n",
    "    eps = eps_erg * eps_gf\n",
    "    return eps\n",
    "\n",
    "def eps_to_temp(eps):\n",
    "    \"\"\"Eps is in code unit\"\"\"\n",
    "    # Convert to erg\n",
    "    eps_erg = eps/eps_gf\n",
    "    # Get temperature in Kelvin\n",
    "    temp_K = ((gamma - 1)/(N_A * k_B)) * eps_erg\n",
    "    # Convert to MeV\n",
    "    temp = temp_K/T_MeV_to_K\n",
    "    return temp"
   ]
  },
  {
   "cell_type": "code",
   "execution_count": 211,
   "id": "b622b624",
   "metadata": {},
   "outputs": [
    {
     "data": {
      "text/plain": [
       "5.0"
      ]
     },
     "execution_count": 211,
     "metadata": {},
     "output_type": "execute_result"
    }
   ],
   "source": [
    "# Take a random test case, see if both transformations match\n",
    "eps_test = temp_to_eps(5)\n",
    "eps_to_temp(eps_test)"
   ]
  },
  {
   "cell_type": "markdown",
   "id": "ec9edc58",
   "metadata": {},
   "source": [
    "What are the ranges of our T table, if we have ranges of eps?"
   ]
  },
  {
   "cell_type": "code",
   "execution_count": 212,
   "id": "047a3430",
   "metadata": {},
   "outputs": [
    {
     "name": "stdout",
     "output_type": "stream",
     "text": [
      "(0, 2.02)\n"
     ]
    }
   ],
   "source": [
    "# Get new eps min, for the log:\n",
    "eps_min = physics.EPS_MIN\n",
    "eps_max = physics.EPS_MAX\n",
    "print((eps_min, eps_max))"
   ]
  },
  {
   "cell_type": "code",
   "execution_count": 213,
   "id": "b2f2e7f1",
   "metadata": {},
   "outputs": [
    {
     "name": "stdout",
     "output_type": "stream",
     "text": [
      "(2.2250738585072014e-308, 2.2361941180555848e-24)\n"
     ]
    }
   ],
   "source": [
    "temp_min = eps_to_temp(physics.EPS_MIN)\n",
    "# Adjust such that log is well defined\n",
    "temp_min += SMALLEST\n",
    "temp_max = eps_to_temp(physics.EPS_MAX)\n",
    "\n",
    "print((temp_min, temp_max))"
   ]
  },
  {
   "cell_type": "markdown",
   "id": "96b242d0",
   "metadata": {},
   "source": [
    "Now take the log"
   ]
  },
  {
   "cell_type": "code",
   "execution_count": 193,
   "id": "011aa41b",
   "metadata": {},
   "outputs": [
    {
     "name": "stdout",
     "output_type": "stream",
     "text": [
      "(-307.6526555685888, -23.650490499201915)\n"
     ]
    }
   ],
   "source": [
    "logtemp_min = np.log10(temp_min)\n",
    "logtemp_max = np.log10(temp_max)\n",
    "\n",
    "print((logtemp_min, logtemp_max))"
   ]
  },
  {
   "cell_type": "code",
   "execution_count": 223,
   "id": "09d32fb7",
   "metadata": {},
   "outputs": [],
   "source": [
    "logtemp = np.linspace(logtemp_min, logtemp_max, Ntemp)"
   ]
  },
  {
   "cell_type": "markdown",
   "id": "0d31983b",
   "metadata": {},
   "source": [
    "## Rho values:"
   ]
  },
  {
   "cell_type": "code",
   "execution_count": 224,
   "id": "55d7e261",
   "metadata": {},
   "outputs": [
    {
     "name": "stdout",
     "output_type": "stream",
     "text": [
      "(2.2250738585072014e-308, 10.1)\n"
     ]
    }
   ],
   "source": [
    "rho_min = physics.RHO_MIN\n",
    "# Again, add small float for the log\n",
    "rho_min += SMALLEST\n",
    "rho_max = physics.RHO_MAX\n",
    "print((rho_min, rho_max))"
   ]
  },
  {
   "cell_type": "markdown",
   "id": "9ddb7307",
   "metadata": {},
   "source": [
    "Get log of range"
   ]
  },
  {
   "cell_type": "code",
   "execution_count": 225,
   "id": "5b8e6fa0",
   "metadata": {},
   "outputs": [
    {
     "name": "stdout",
     "output_type": "stream",
     "text": [
      "(-307.6526555685888, 1.0043213737826426)\n"
     ]
    }
   ],
   "source": [
    "logrho_min = np.log10(rho_min)\n",
    "logrho_max = np.log10(rho_max)\n",
    "print((logrho_min, logrho_max))"
   ]
  },
  {
   "cell_type": "markdown",
   "id": "bf8de988",
   "metadata": {},
   "source": [
    "Get the values"
   ]
  },
  {
   "cell_type": "code",
   "execution_count": 226,
   "id": "0bd6f628",
   "metadata": {},
   "outputs": [],
   "source": [
    "logrho = np.linspace(logrho_min, logrho_max, Nrho)"
   ]
  },
  {
   "cell_type": "markdown",
   "id": "5f583b3f",
   "metadata": {},
   "source": [
    "## Ye"
   ]
  },
  {
   "cell_type": "markdown",
   "id": "ee185490",
   "metadata": {},
   "source": [
    "These are dummy values and linear, not log"
   ]
  },
  {
   "cell_type": "code",
   "execution_count": 228,
   "id": "fc2e8319",
   "metadata": {},
   "outputs": [],
   "source": [
    "ye_min = 0\n",
    "ye_max = 1\n",
    "ye = np.linspace(ye_min, ye_max, Nye)"
   ]
  },
  {
   "cell_type": "code",
   "execution_count": 229,
   "id": "11dfd3c5",
   "metadata": {},
   "outputs": [
    {
     "data": {
      "text/plain": [
       "array([0.        , 0.00200401, 0.00400802, 0.00601202, 0.00801603,\n",
       "       0.01002004, 0.01202405, 0.01402806, 0.01603206, 0.01803607,\n",
       "       0.02004008, 0.02204409, 0.0240481 , 0.0260521 , 0.02805611,\n",
       "       0.03006012, 0.03206413, 0.03406814, 0.03607214, 0.03807615,\n",
       "       0.04008016, 0.04208417, 0.04408818, 0.04609218, 0.04809619,\n",
       "       0.0501002 , 0.05210421, 0.05410822, 0.05611222, 0.05811623,\n",
       "       0.06012024, 0.06212425, 0.06412826, 0.06613226, 0.06813627,\n",
       "       0.07014028, 0.07214429, 0.0741483 , 0.0761523 , 0.07815631,\n",
       "       0.08016032, 0.08216433, 0.08416834, 0.08617234, 0.08817635,\n",
       "       0.09018036, 0.09218437, 0.09418838, 0.09619238, 0.09819639,\n",
       "       0.1002004 , 0.10220441, 0.10420842, 0.10621242, 0.10821643,\n",
       "       0.11022044, 0.11222445, 0.11422846, 0.11623246, 0.11823647,\n",
       "       0.12024048, 0.12224449, 0.1242485 , 0.12625251, 0.12825651,\n",
       "       0.13026052, 0.13226453, 0.13426854, 0.13627255, 0.13827655,\n",
       "       0.14028056, 0.14228457, 0.14428858, 0.14629259, 0.14829659,\n",
       "       0.1503006 , 0.15230461, 0.15430862, 0.15631263, 0.15831663,\n",
       "       0.16032064, 0.16232465, 0.16432866, 0.16633267, 0.16833667,\n",
       "       0.17034068, 0.17234469, 0.1743487 , 0.17635271, 0.17835671,\n",
       "       0.18036072, 0.18236473, 0.18436874, 0.18637275, 0.18837675,\n",
       "       0.19038076, 0.19238477, 0.19438878, 0.19639279, 0.19839679,\n",
       "       0.2004008 , 0.20240481, 0.20440882, 0.20641283, 0.20841683,\n",
       "       0.21042084, 0.21242485, 0.21442886, 0.21643287, 0.21843687,\n",
       "       0.22044088, 0.22244489, 0.2244489 , 0.22645291, 0.22845691,\n",
       "       0.23046092, 0.23246493, 0.23446894, 0.23647295, 0.23847695,\n",
       "       0.24048096, 0.24248497, 0.24448898, 0.24649299, 0.24849699,\n",
       "       0.250501  , 0.25250501, 0.25450902, 0.25651303, 0.25851703,\n",
       "       0.26052104, 0.26252505, 0.26452906, 0.26653307, 0.26853707,\n",
       "       0.27054108, 0.27254509, 0.2745491 , 0.27655311, 0.27855711,\n",
       "       0.28056112, 0.28256513, 0.28456914, 0.28657315, 0.28857715,\n",
       "       0.29058116, 0.29258517, 0.29458918, 0.29659319, 0.29859719,\n",
       "       0.3006012 , 0.30260521, 0.30460922, 0.30661323, 0.30861723,\n",
       "       0.31062124, 0.31262525, 0.31462926, 0.31663327, 0.31863727,\n",
       "       0.32064128, 0.32264529, 0.3246493 , 0.32665331, 0.32865731,\n",
       "       0.33066132, 0.33266533, 0.33466934, 0.33667335, 0.33867735,\n",
       "       0.34068136, 0.34268537, 0.34468938, 0.34669339, 0.34869739,\n",
       "       0.3507014 , 0.35270541, 0.35470942, 0.35671343, 0.35871743,\n",
       "       0.36072144, 0.36272545, 0.36472946, 0.36673347, 0.36873747,\n",
       "       0.37074148, 0.37274549, 0.3747495 , 0.37675351, 0.37875752,\n",
       "       0.38076152, 0.38276553, 0.38476954, 0.38677355, 0.38877756,\n",
       "       0.39078156, 0.39278557, 0.39478958, 0.39679359, 0.3987976 ,\n",
       "       0.4008016 , 0.40280561, 0.40480962, 0.40681363, 0.40881764,\n",
       "       0.41082164, 0.41282565, 0.41482966, 0.41683367, 0.41883768,\n",
       "       0.42084168, 0.42284569, 0.4248497 , 0.42685371, 0.42885772,\n",
       "       0.43086172, 0.43286573, 0.43486974, 0.43687375, 0.43887776,\n",
       "       0.44088176, 0.44288577, 0.44488978, 0.44689379, 0.4488978 ,\n",
       "       0.4509018 , 0.45290581, 0.45490982, 0.45691383, 0.45891784,\n",
       "       0.46092184, 0.46292585, 0.46492986, 0.46693387, 0.46893788,\n",
       "       0.47094188, 0.47294589, 0.4749499 , 0.47695391, 0.47895792,\n",
       "       0.48096192, 0.48296593, 0.48496994, 0.48697395, 0.48897796,\n",
       "       0.49098196, 0.49298597, 0.49498998, 0.49699399, 0.498998  ,\n",
       "       0.501002  , 0.50300601, 0.50501002, 0.50701403, 0.50901804,\n",
       "       0.51102204, 0.51302605, 0.51503006, 0.51703407, 0.51903808,\n",
       "       0.52104208, 0.52304609, 0.5250501 , 0.52705411, 0.52905812,\n",
       "       0.53106212, 0.53306613, 0.53507014, 0.53707415, 0.53907816,\n",
       "       0.54108216, 0.54308617, 0.54509018, 0.54709419, 0.5490982 ,\n",
       "       0.5511022 , 0.55310621, 0.55511022, 0.55711423, 0.55911824,\n",
       "       0.56112224, 0.56312625, 0.56513026, 0.56713427, 0.56913828,\n",
       "       0.57114228, 0.57314629, 0.5751503 , 0.57715431, 0.57915832,\n",
       "       0.58116232, 0.58316633, 0.58517034, 0.58717435, 0.58917836,\n",
       "       0.59118236, 0.59318637, 0.59519038, 0.59719439, 0.5991984 ,\n",
       "       0.6012024 , 0.60320641, 0.60521042, 0.60721443, 0.60921844,\n",
       "       0.61122244, 0.61322645, 0.61523046, 0.61723447, 0.61923848,\n",
       "       0.62124248, 0.62324649, 0.6252505 , 0.62725451, 0.62925852,\n",
       "       0.63126253, 0.63326653, 0.63527054, 0.63727455, 0.63927856,\n",
       "       0.64128257, 0.64328657, 0.64529058, 0.64729459, 0.6492986 ,\n",
       "       0.65130261, 0.65330661, 0.65531062, 0.65731463, 0.65931864,\n",
       "       0.66132265, 0.66332665, 0.66533066, 0.66733467, 0.66933868,\n",
       "       0.67134269, 0.67334669, 0.6753507 , 0.67735471, 0.67935872,\n",
       "       0.68136273, 0.68336673, 0.68537074, 0.68737475, 0.68937876,\n",
       "       0.69138277, 0.69338677, 0.69539078, 0.69739479, 0.6993988 ,\n",
       "       0.70140281, 0.70340681, 0.70541082, 0.70741483, 0.70941884,\n",
       "       0.71142285, 0.71342685, 0.71543086, 0.71743487, 0.71943888,\n",
       "       0.72144289, 0.72344689, 0.7254509 , 0.72745491, 0.72945892,\n",
       "       0.73146293, 0.73346693, 0.73547094, 0.73747495, 0.73947896,\n",
       "       0.74148297, 0.74348697, 0.74549098, 0.74749499, 0.749499  ,\n",
       "       0.75150301, 0.75350701, 0.75551102, 0.75751503, 0.75951904,\n",
       "       0.76152305, 0.76352705, 0.76553106, 0.76753507, 0.76953908,\n",
       "       0.77154309, 0.77354709, 0.7755511 , 0.77755511, 0.77955912,\n",
       "       0.78156313, 0.78356713, 0.78557114, 0.78757515, 0.78957916,\n",
       "       0.79158317, 0.79358717, 0.79559118, 0.79759519, 0.7995992 ,\n",
       "       0.80160321, 0.80360721, 0.80561122, 0.80761523, 0.80961924,\n",
       "       0.81162325, 0.81362725, 0.81563126, 0.81763527, 0.81963928,\n",
       "       0.82164329, 0.82364729, 0.8256513 , 0.82765531, 0.82965932,\n",
       "       0.83166333, 0.83366733, 0.83567134, 0.83767535, 0.83967936,\n",
       "       0.84168337, 0.84368737, 0.84569138, 0.84769539, 0.8496994 ,\n",
       "       0.85170341, 0.85370741, 0.85571142, 0.85771543, 0.85971944,\n",
       "       0.86172345, 0.86372745, 0.86573146, 0.86773547, 0.86973948,\n",
       "       0.87174349, 0.87374749, 0.8757515 , 0.87775551, 0.87975952,\n",
       "       0.88176353, 0.88376754, 0.88577154, 0.88777555, 0.88977956,\n",
       "       0.89178357, 0.89378758, 0.89579158, 0.89779559, 0.8997996 ,\n",
       "       0.90180361, 0.90380762, 0.90581162, 0.90781563, 0.90981964,\n",
       "       0.91182365, 0.91382766, 0.91583166, 0.91783567, 0.91983968,\n",
       "       0.92184369, 0.9238477 , 0.9258517 , 0.92785571, 0.92985972,\n",
       "       0.93186373, 0.93386774, 0.93587174, 0.93787575, 0.93987976,\n",
       "       0.94188377, 0.94388778, 0.94589178, 0.94789579, 0.9498998 ,\n",
       "       0.95190381, 0.95390782, 0.95591182, 0.95791583, 0.95991984,\n",
       "       0.96192385, 0.96392786, 0.96593186, 0.96793587, 0.96993988,\n",
       "       0.97194389, 0.9739479 , 0.9759519 , 0.97795591, 0.97995992,\n",
       "       0.98196393, 0.98396794, 0.98597194, 0.98797595, 0.98997996,\n",
       "       0.99198397, 0.99398798, 0.99599198, 0.99799599, 1.        ])"
      ]
     },
     "execution_count": 229,
     "metadata": {},
     "output_type": "execute_result"
    }
   ],
   "source": [
    "ye"
   ]
  },
  {
   "cell_type": "markdown",
   "id": "5ba754ed",
   "metadata": {},
   "source": [
    "## Columns"
   ]
  },
  {
   "cell_type": "markdown",
   "id": "d004c002",
   "metadata": {},
   "source": [
    "The \"columns\" represent the output variables, such as $p$, $\\varepsilon$ and $c_s^2$ most importantly"
   ]
  },
  {
   "cell_type": "markdown",
   "id": "6b5855b4",
   "metadata": {},
   "source": [
    "Auxiliary function: derivatives of $p$ wrt $\\rho$ and $\\varepsilon$"
   ]
  },
  {
   "cell_type": "code",
   "execution_count": 230,
   "id": "7ee734b6",
   "metadata": {},
   "outputs": [],
   "source": [
    "def chi(eps):\n",
    "    return (gamma - 1) * eps\n",
    "\n",
    "def kappa(rho):\n",
    "    return (gamma - 1) * rho"
   ]
  },
  {
   "cell_type": "markdown",
   "id": "f7a77f86",
   "metadata": {},
   "source": [
    "More information: see appendix of Dieselhorst paper for precise equations!"
   ]
  },
  {
   "cell_type": "code",
   "execution_count": 231,
   "id": "1e8307e0",
   "metadata": {},
   "outputs": [],
   "source": [
    "def get_cs2(prs, rho, eps):\n",
    "    chi_val = chi(eps)\n",
    "    kappa_val = kappa(rho)\n",
    "    if rho == 0:\n",
    "        rho += SMALLEST\n",
    "    h = 1 + eps + prs/rho\n",
    "    rho_sqr = rho ** 2\n",
    "    if rho_sqr == 0:\n",
    "        rho_sqr += SMALLEST\n",
    "    \n",
    "    return (1/h) * (chi_val + (prs/rho_sqr) * kappa_val)"
   ]
  },
  {
   "cell_type": "code",
   "execution_count": 232,
   "id": "44ddf89b",
   "metadata": {},
   "outputs": [],
   "source": [
    "def get_columns(ye, logtemp, logrho, Nrho = 500, Ntemp = 500, Nye = 500):\n",
    "    # Initialize as empty\n",
    "    logpress  = np.empty((Nye, Ntemp, Nrho))\n",
    "    logenergy = np.empty((Nye, Ntemp, Nrho))\n",
    "    cs2       = np.empty((Nye, Ntemp, Nrho))\n",
    "    \n",
    "    # Get an empty matrix, we copy that one for each ye value to speed up\n",
    "    logpress_matrix = np.empty((Ntemp, Nrho))\n",
    "    logenergy_matrix = np.empty((Ntemp, Nrho))\n",
    "    cs2_matrix = np.empty((Ntemp, Nrho))\n",
    "    \n",
    "    # Get the individual values\n",
    "    for j, logtemp_val in enumerate(logtemp):\n",
    "        temp_val = 10 ** logtemp_val\n",
    "        # Compute eps\n",
    "        eps_val = temp_to_eps(temp_val)\n",
    "        # Convert to logeps val\n",
    "        logenergy_val = np.log10(eps_val)\n",
    "        for k, logrho_val in enumerate(logrho):\n",
    "            logenergy_matrix[j, k] = logenergy_val\n",
    "\n",
    "            rho_val = 10 ** logrho_val\n",
    "            # Compute the pressure\n",
    "            prs_val = (gamma - 1) * rho_val * eps_val\n",
    "            # Convert to logpress val\n",
    "            if prs_val == 0:\n",
    "                prs_val += SMALLEST\n",
    "            logpress_val = np.log10(prs_val)\n",
    "            logpress_matrix[j, k] = logpress_val\n",
    "\n",
    "            # Compute cs2\n",
    "            cs2_val = get_cs2(prs_val, rho_val, eps_val)\n",
    "            cs2_matrix[j, k] = cs2_val\n",
    "    \n",
    "    # Copy the matrix for each entry of ye, since ye is \"ignored\" here\n",
    "    for i, ye_val in enumerate(ye):\n",
    "        logpress[i, :, :]  = logpress_matrix\n",
    "        logenergy[i, :, :] = logenergy_matrix\n",
    "        cs2[i, :, :]       = cs2_matrix\n",
    "                \n",
    "    return logpress, logenergy, cs2"
   ]
  },
  {
   "cell_type": "code",
   "execution_count": 233,
   "id": "cccc703c",
   "metadata": {},
   "outputs": [],
   "source": [
    "logpress, logenergy, cs2 = get_columns(ye, logtemp, logrho)"
   ]
  },
  {
   "cell_type": "markdown",
   "id": "3e442b09",
   "metadata": {},
   "source": [
    "### Sanity checks"
   ]
  },
  {
   "cell_type": "code",
   "execution_count": 234,
   "id": "3bd403e7",
   "metadata": {},
   "outputs": [
    {
     "name": "stdout",
     "output_type": "stream",
     "text": [
      "13.601333333333336\n",
      "13.601333333333335\n"
     ]
    }
   ],
   "source": [
    "print(10 ** np.max(logpress))\n",
    "max_prs = (gamma - 1) * rho_max * eps_max\n",
    "print(max_prs)"
   ]
  },
  {
   "cell_type": "code",
   "execution_count": 235,
   "id": "d753b288",
   "metadata": {},
   "outputs": [
    {
     "name": "stdout",
     "output_type": "stream",
     "text": [
      "[[-2.83696814e+02 -2.83696814e+02 -2.83696814e+02 ... -2.83696814e+02\n",
      "  -2.83696814e+02 -2.83696814e+02]\n",
      " [-2.83127671e+02 -2.83127671e+02 -2.83127671e+02 ... -2.83127671e+02\n",
      "  -2.83127671e+02 -2.83127671e+02]\n",
      " [-2.82558528e+02 -2.82558528e+02 -2.82558528e+02 ... -2.82558528e+02\n",
      "  -2.82558528e+02 -2.82558528e+02]\n",
      " ...\n",
      " [-8.32933861e-01 -8.32933861e-01 -8.32933861e-01 ... -8.32933861e-01\n",
      "  -8.32933861e-01 -8.32933861e-01]\n",
      " [-2.63791246e-01 -2.63791246e-01 -2.63791246e-01 ... -2.63791246e-01\n",
      "  -2.63791246e-01 -2.63791246e-01]\n",
      " [ 3.05351369e-01  3.05351369e-01  3.05351369e-01 ...  3.05351369e-01\n",
      "   3.05351369e-01  3.05351369e-01]]\n",
      "[[-2.83696814e+02 -2.83696814e+02 -2.83696814e+02 ... -2.83696814e+02\n",
      "  -2.83696814e+02 -2.83696814e+02]\n",
      " [-2.83127671e+02 -2.83127671e+02 -2.83127671e+02 ... -2.83127671e+02\n",
      "  -2.83127671e+02 -2.83127671e+02]\n",
      " [-2.82558528e+02 -2.82558528e+02 -2.82558528e+02 ... -2.82558528e+02\n",
      "  -2.82558528e+02 -2.82558528e+02]\n",
      " ...\n",
      " [-8.32933861e-01 -8.32933861e-01 -8.32933861e-01 ... -8.32933861e-01\n",
      "  -8.32933861e-01 -8.32933861e-01]\n",
      " [-2.63791246e-01 -2.63791246e-01 -2.63791246e-01 ... -2.63791246e-01\n",
      "  -2.63791246e-01 -2.63791246e-01]\n",
      " [ 3.05351369e-01  3.05351369e-01  3.05351369e-01 ...  3.05351369e-01\n",
      "   3.05351369e-01  3.05351369e-01]]\n"
     ]
    }
   ],
   "source": [
    "print(logenergy[0])\n",
    "print(logenergy[1])"
   ]
  },
  {
   "cell_type": "code",
   "execution_count": 236,
   "id": "da1a95df",
   "metadata": {},
   "outputs": [
    {
     "name": "stdout",
     "output_type": "stream",
     "text": [
      "2.0099548415289234e-284\n",
      "2.0199999999999996\n"
     ]
    }
   ],
   "source": [
    "print(10**np.min(logenergy))\n",
    "print(10**np.max(logenergy))"
   ]
  },
  {
   "cell_type": "markdown",
   "id": "8a1b4e2f",
   "metadata": {},
   "source": [
    "Watch out: there were NaNs in the $c_s^2$ table! Everything fine now? __YES__"
   ]
  },
  {
   "cell_type": "code",
   "execution_count": 238,
   "id": "00e2c85d",
   "metadata": {},
   "outputs": [],
   "source": [
    "# test_array = cs2.flatten()\n",
    "# np.nanmax(test_array[test_array != float('inf')])\n",
    "# np.max(test_array)"
   ]
  },
  {
   "cell_type": "markdown",
   "id": "85b61528",
   "metadata": {},
   "source": [
    "## To HDF5"
   ]
  },
  {
   "cell_type": "code",
   "execution_count": 240,
   "id": "fe04731b",
   "metadata": {},
   "outputs": [],
   "source": [
    "mock_table_name = f\"analytic_eos_{N}.h5\"\n",
    "with h5py.File(os.path.join(eos_tables_dir, mock_table_name), 'w') as f:\n",
    "    # Save scalars, but they have to be arrays\n",
    "    pointsrho_array = [Nrho]\n",
    "    pointstemp_array = [Ntemp]\n",
    "    pointsye_array = [Nye]\n",
    "    dataset = f.create_dataset(\"pointsrho\", data=pointsrho_array)\n",
    "    dataset = f.create_dataset(\"pointstemp\", data=pointstemp_array)\n",
    "    dataset = f.create_dataset(\"pointsye\", data=pointsye_array)\n",
    "    # Save entries\n",
    "    dataset = f.create_dataset(\"logrho\", data=logrho)\n",
    "    dataset = f.create_dataset(\"logtemp\", data=logtemp)\n",
    "    dataset = f.create_dataset(\"ye\", data=ye)\n",
    "    # Columns\n",
    "    dataset = f.create_dataset(\"logenergy\", data=logenergy)\n",
    "    dataset = f.create_dataset(\"logpress\", data=logpress)\n",
    "    dataset = f.create_dataset(\"cs2\", data=cs2)"
   ]
  },
  {
   "cell_type": "markdown",
   "id": "701cb19f",
   "metadata": {},
   "source": [
    "## Check the HDF5 file"
   ]
  },
  {
   "cell_type": "code",
   "execution_count": 186,
   "id": "b10e6cdf",
   "metadata": {},
   "outputs": [
    {
     "name": "stdout",
     "output_type": "stream",
     "text": [
      "<HDF5 dataset \"pointsye\": shape (1,), type \"<i4\">\n",
      "This EOS table has dimensions (ye, T, rho): 66 x 163 x 391\n",
      "Example: (1.0043213737826426, 3.0984432164282283, 0.5) we have (log eps, log p, cs2): (0.30535136944662405, 1.1335814841735854, 7.428856353875367e-309).\n",
      "So: (eps, p, cs2): (2.0200000000000014, 13.601333333333342, 7.428856353875367e-309).\n"
     ]
    }
   ],
   "source": [
    "name = \"analytic_eos.h5\"\n",
    "# Open EOS table\n",
    "eos_table = physics.read_eos_table(os.path.join(eos_tables_dir, name))\n",
    "# Read in the most important variables and convert them to np arrays\n",
    "print(eos_table[\"pointsye\"])\n",
    "pointsye, pointstemp, pointsrho = eos_table[\"pointsye\"][()][0], eos_table[\"pointstemp\"][()][0], eos_table[\"pointsrho\"][()][0]\n",
    "logrho       = eos_table[\"logrho\"][()]\n",
    "logtemp      = eos_table[\"logtemp\"][()]\n",
    "ye           = eos_table[\"ye\"][()]\n",
    "logpress     = eos_table[\"logpress\"][()]\n",
    "logenergy    = eos_table[\"logenergy\"][()]\n",
    "# energy_shift = eos_table[\"energy_shift\"][()][0]\n",
    "cs2          = eos_table[\"cs2\"][()]\n",
    "print(f\"This EOS table has dimensions (ye, T, rho): {dim_ye} x {dim_temp} x {dim_rho}\")\n",
    "# Small test to see the output of the EOS table\n",
    "test_ye      = eos_table[\"ye\"][()][-1]\n",
    "test_temp    = eos_table[\"logtemp\"][()][-1]\n",
    "test_rho     = eos_table[\"logrho\"][()][-1]\n",
    "# Get an example output\n",
    "test_press, test_eps, test_cs2 = eos_table[\"logpress\"][()][-1, -1, -1], eos_table[\"logenergy\"][()][-1, -1, -1], cs2[0, 0, 0]\n",
    "print(f\"Example: ({test_rho}, {test_temp}, {test_ye}) we have (log eps, log p, cs2): ({test_eps}, {test_press}, {test_cs2}).\")\n",
    "print(f\"So: (eps, p, cs2): ({10**test_eps}, {10**test_press}, {test_cs2}).\")\n",
    "eos_table.close()"
   ]
  },
  {
   "cell_type": "code",
   "execution_count": 186,
   "id": "089ce710",
   "metadata": {},
   "outputs": [
    {
     "name": "stdout",
     "output_type": "stream",
     "text": [
      "['cs2', 'logenergy', 'logpress', 'logrho', 'logtemp', 'pointsrho', 'pointstemp', 'pointsye', 'ye']\n",
      "9\n"
     ]
    }
   ],
   "source": [
    "# name = \"analytic_eos.h5\"\n",
    "# # Open EOS table\n",
    "# eos_table = physics.read_eos_table(os.path.join(eos_tables_dir, name))\n",
    "# # Iterate over keys and save them to list for simplified viewing\n",
    "# keys = []\n",
    "# for key in eos_table:\n",
    "#     keys.append(key)\n",
    "# print(keys)\n",
    "# eos_table.close()"
   ]
  },
  {
   "cell_type": "markdown",
   "id": "a61ea946",
   "metadata": {},
   "source": [
    "# What should be the size of the EOS table?"
   ]
  },
  {
   "cell_type": "markdown",
   "id": "0c9a98bb",
   "metadata": {},
   "source": [
    "Using the same N for rho, temp or ye is not realistic. Check what the ratios should be based on the tables that are on stellarcollapse"
   ]
  },
  {
   "cell_type": "code",
   "execution_count": null,
   "id": "5bd18c62",
   "metadata": {},
   "outputs": [],
   "source": [
    "pointsrho_list"
   ]
  },
  {
   "cell_type": "code",
   "execution_count": null,
   "id": "7fdc9754",
   "metadata": {},
   "outputs": [],
   "source": []
  }
 ],
 "metadata": {
  "author": "Thibeau Wouters",
  "colab": {
   "provenance": []
  },
  "gpuClass": "standard",
  "kernelspec": {
   "display_name": "Python 3 (ipykernel)",
   "language": "python",
   "name": "python3"
  },
  "language_info": {
   "codemirror_mode": {
    "name": "ipython",
    "version": 3
   },
   "file_extension": ".py",
   "mimetype": "text/x-python",
   "name": "python",
   "nbconvert_exporter": "python",
   "pygments_lexer": "ipython3",
   "version": "3.9.12"
  },
  "latex_envs": {
   "LaTeX_envs_menu_present": true,
   "autoclose": false,
   "autocomplete": true,
   "bibliofile": "biblio.bib",
   "cite_by": "apalike",
   "current_citInitial": 1,
   "eqLabelWithNumbers": true,
   "eqNumInitial": 1,
   "hotkeys": {
    "equation": "Ctrl-E",
    "itemize": "Ctrl-I"
   },
   "labels_anchors": false,
   "latex_user_defs": false,
   "report_style_numbering": false,
   "user_envs_cfg": false
  },
  "toc": {
   "base_numbering": 1,
   "nav_menu": {},
   "number_sections": true,
   "sideBar": true,
   "skip_h1_title": false,
   "title_cell": "Table of Contents",
   "title_sidebar": "Contents",
   "toc_cell": false,
   "toc_position": {},
   "toc_section_display": true,
   "toc_window_display": false
  }
 },
 "nbformat": 4,
 "nbformat_minor": 5
}
