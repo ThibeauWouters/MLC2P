{
 "cells": [
  {
   "cell_type": "markdown",
   "id": "af563537",
   "metadata": {},
   "source": [
    "%%latex\n",
    "\\tableofcontents\n",
    "\\author{Thibeau Wouters}"
   ]
  },
  {
   "cell_type": "markdown",
   "id": "ec8c67ea",
   "metadata": {},
   "source": [
    "# Implementation of NNEOSB"
   ]
  },
  {
   "cell_type": "code",
   "execution_count": 1,
   "id": "0bb9f224",
   "metadata": {},
   "outputs": [],
   "source": [
    "import numpy as np\n",
    "import matplotlib.pyplot as plt\n",
    "import random\n",
    "import csv\n",
    "import pandas as pd\n",
    "import torch\n",
    "from torch import nn # pytorch neural networks\n",
    "from torch.utils.data import Dataset, DataLoader # pytorch dataset structures\n",
    "from torchvision.transforms import ToTensor # pytorch transformer\n",
    "# from torch.utils.data import DataLoader\n",
    "# from torchvision import datasets\n",
    "# from torchvision.transforms import ToTensor"
   ]
  },
  {
   "cell_type": "markdown",
   "id": "02fb3c8c",
   "metadata": {},
   "source": [
    "## Introduction"
   ]
  },
  {
   "cell_type": "markdown",
   "id": "f8efeafb",
   "metadata": {},
   "source": [
    "The conserved variables are $(D, S_i, \\tau)$ and they are related to primitive variables, $w = (\\rho, v^i, \\epsilon, p)$, defined in the local rest frame of the fluid through (in units of light speed $c = 1$). The P2C is explicitly given:\n",
    "\\begin{equation}\n",
    "D = \\rho W \\, , \\quad S_i = \\rho h W^2 v_i \\, , \\quad \\tau = \\rho h W^2 - p - D \\, ,\n",
    "\\end{equation}\n",
    "where we used\n",
    "\\begin{equation}\n",
    "W = (1 - v^2)^{-1/2} \\, , \\quad h = 1 + \\epsilon + \\frac{p}{\\rho} \\, .\n",
    "\\end{equation}\n",
    "\n",
    "Our first goal is to reproduce the results from [this paper](https://www.mdpi.com/2073-8994/13/11/2157). We first focus on what they call __NNEOS__ networks. These are networks which are trained to infer information on the equation of state (EOS). In its simplest form, the EOS is the thermodynamical relation connecting the pressure to the fluid's rest-mass density and internal energy $p = \\bar{p}(\\rho, \\epsilon)$. We consider an __analytical $\\Gamma$-law EOS__ as a benchmark:\n",
    "\\begin{equation}\n",
    "    \\bar{p}(\\rho, \\varepsilon) = (\\Gamma - 1)\\rho\\epsilon \\, ,\n",
    "\\end{equation}\n",
    "and we fix $\\Gamma = 5/3$ in order to fully mimic the situation of the paper."
   ]
  },
  {
   "cell_type": "markdown",
   "id": "eca72213",
   "metadata": {},
   "source": [
    "## Generating training data"
   ]
  },
  {
   "cell_type": "markdown",
   "id": "4db09163",
   "metadata": {},
   "source": [
    "We generate training data for the NNEOS networks as follows. We create a training set by randomly sampling the EOS on a uniform distribution over $\\rho \\in (0, 10.1)$ and $\\epsilon \\in (0, 2.02)$. Below, we first focus on the implementation of __NNEOSB__ as called in the paper, meaning we also make the derivatives of the EOS part of the output. So we compute three quantities:\n",
    "\\begin{itemize}\n",
    "\\item $p$, using the EOS defined above\n",
    "\\item $\\chi := \\partial p/\\partial\\rho$, inferred from the EOS\n",
    "\\item $\\kappa := \\partial p/\\partial \\epsilon$, inferred from the EOS\n",
    "\\end{itemize}"
   ]
  },
  {
   "cell_type": "code",
   "execution_count": 2,
   "id": "5ebd9592",
   "metadata": {},
   "outputs": [],
   "source": [
    "# Define the three functions determining the output\n",
    "def eos(rho, eps, Gamma = 5/3):\n",
    "    \"\"\"Computes the analytical gamma law EOS from rho and epsilon\"\"\"\n",
    "    return (Gamma - 1) * rho * eps\n",
    "\n",
    "def chi(rho, eps, Gamma = 5/3):\n",
    "    \"\"\"Computes dp/drho from EOS\"\"\"\n",
    "    return (Gamma - 1) * eps\n",
    "\n",
    "def kappa(rho, eps, Gamma = 5/3):\n",
    "    \"\"\"Computes dp/deps from EOS\"\"\"\n",
    "    return (Gamma - 1) * rho"
   ]
  },
  {
   "cell_type": "code",
   "execution_count": 3,
   "id": "40409d81",
   "metadata": {},
   "outputs": [],
   "source": [
    "# Define ranges of parameters to be sampled (see paper Section 2.1)\n",
    "rho_min = 0\n",
    "rho_max = 10.1\n",
    "eps_min = 0\n",
    "eps_max = 2.02"
   ]
  },
  {
   "cell_type": "markdown",
   "id": "2b1751eb",
   "metadata": {},
   "source": [
    "Note: the code in comment below was used to generate the data. It has now been saved separately in a folder called \"data\"."
   ]
  },
  {
   "cell_type": "code",
   "execution_count": 4,
   "id": "af4df2dd",
   "metadata": {},
   "outputs": [],
   "source": [
    "# number_of_datapoints = 10000 # 80 000 for train, 10 000 for test\n",
    "# data = []\n",
    "\n",
    "# for i in range(number_of_datapoints):\n",
    "#     rho = random.uniform(rho_min, rho_max)\n",
    "#     eps = random.uniform(eps_min, eps_max)\n",
    "    \n",
    "#     new_row = [rho, eps, eos(rho, eps), chi(rho, eps), kappa(rho, eps)]\n",
    "    \n",
    "#     data.append(new_row)"
   ]
  },
  {
   "cell_type": "code",
   "execution_count": 5,
   "id": "663bea84",
   "metadata": {},
   "outputs": [],
   "source": [
    "# header = ['rho', 'eps', 'p', 'chi', 'kappa']\n",
    "\n",
    "# with open('NNEOS_data_test.csv', 'w', newline = '') as file:\n",
    "#     writer = csv.writer(file)\n",
    "#     # write header\n",
    "#     writer.writerow(header)\n",
    "#     # write data\n",
    "#     writer.writerows(data)"
   ]
  },
  {
   "cell_type": "code",
   "execution_count": 6,
   "id": "7ea690aa",
   "metadata": {},
   "outputs": [
    {
     "name": "stdout",
     "output_type": "stream",
     "text": [
      "The training data has 80000 instances\n",
      "The test data has 10000 instances\n"
     ]
    },
    {
     "data": {
      "text/html": [
       "<div>\n",
       "<style scoped>\n",
       "    .dataframe tbody tr th:only-of-type {\n",
       "        vertical-align: middle;\n",
       "    }\n",
       "\n",
       "    .dataframe tbody tr th {\n",
       "        vertical-align: top;\n",
       "    }\n",
       "\n",
       "    .dataframe thead th {\n",
       "        text-align: right;\n",
       "    }\n",
       "</style>\n",
       "<table border=\"1\" class=\"dataframe\">\n",
       "  <thead>\n",
       "    <tr style=\"text-align: right;\">\n",
       "      <th></th>\n",
       "      <th>rho</th>\n",
       "      <th>eps</th>\n",
       "      <th>p</th>\n",
       "      <th>chi</th>\n",
       "      <th>kappa</th>\n",
       "    </tr>\n",
       "  </thead>\n",
       "  <tbody>\n",
       "    <tr>\n",
       "      <th>0</th>\n",
       "      <td>9.770794</td>\n",
       "      <td>0.809768</td>\n",
       "      <td>5.274717</td>\n",
       "      <td>0.539845</td>\n",
       "      <td>6.513863</td>\n",
       "    </tr>\n",
       "    <tr>\n",
       "      <th>1</th>\n",
       "      <td>10.093352</td>\n",
       "      <td>0.575342</td>\n",
       "      <td>3.871421</td>\n",
       "      <td>0.383561</td>\n",
       "      <td>6.728901</td>\n",
       "    </tr>\n",
       "    <tr>\n",
       "      <th>2</th>\n",
       "      <td>1.685186</td>\n",
       "      <td>1.647820</td>\n",
       "      <td>1.851255</td>\n",
       "      <td>1.098547</td>\n",
       "      <td>1.123457</td>\n",
       "    </tr>\n",
       "    <tr>\n",
       "      <th>3</th>\n",
       "      <td>1.167718</td>\n",
       "      <td>0.408377</td>\n",
       "      <td>0.317913</td>\n",
       "      <td>0.272251</td>\n",
       "      <td>0.778479</td>\n",
       "    </tr>\n",
       "    <tr>\n",
       "      <th>4</th>\n",
       "      <td>7.750848</td>\n",
       "      <td>1.069954</td>\n",
       "      <td>5.528700</td>\n",
       "      <td>0.713303</td>\n",
       "      <td>5.167232</td>\n",
       "    </tr>\n",
       "    <tr>\n",
       "      <th>...</th>\n",
       "      <td>...</td>\n",
       "      <td>...</td>\n",
       "      <td>...</td>\n",
       "      <td>...</td>\n",
       "      <td>...</td>\n",
       "    </tr>\n",
       "    <tr>\n",
       "      <th>79995</th>\n",
       "      <td>3.985951</td>\n",
       "      <td>1.642317</td>\n",
       "      <td>4.364131</td>\n",
       "      <td>1.094878</td>\n",
       "      <td>2.657301</td>\n",
       "    </tr>\n",
       "    <tr>\n",
       "      <th>79996</th>\n",
       "      <td>6.948815</td>\n",
       "      <td>0.809021</td>\n",
       "      <td>3.747824</td>\n",
       "      <td>0.539347</td>\n",
       "      <td>4.632543</td>\n",
       "    </tr>\n",
       "    <tr>\n",
       "      <th>79997</th>\n",
       "      <td>8.423227</td>\n",
       "      <td>1.125142</td>\n",
       "      <td>6.318217</td>\n",
       "      <td>0.750095</td>\n",
       "      <td>5.615485</td>\n",
       "    </tr>\n",
       "    <tr>\n",
       "      <th>79998</th>\n",
       "      <td>4.748173</td>\n",
       "      <td>0.774870</td>\n",
       "      <td>2.452810</td>\n",
       "      <td>0.516580</td>\n",
       "      <td>3.165449</td>\n",
       "    </tr>\n",
       "    <tr>\n",
       "      <th>79999</th>\n",
       "      <td>2.927483</td>\n",
       "      <td>0.616751</td>\n",
       "      <td>1.203686</td>\n",
       "      <td>0.411167</td>\n",
       "      <td>1.951655</td>\n",
       "    </tr>\n",
       "  </tbody>\n",
       "</table>\n",
       "<p>80000 rows × 5 columns</p>\n",
       "</div>"
      ],
      "text/plain": [
       "             rho       eps         p       chi     kappa\n",
       "0       9.770794  0.809768  5.274717  0.539845  6.513863\n",
       "1      10.093352  0.575342  3.871421  0.383561  6.728901\n",
       "2       1.685186  1.647820  1.851255  1.098547  1.123457\n",
       "3       1.167718  0.408377  0.317913  0.272251  0.778479\n",
       "4       7.750848  1.069954  5.528700  0.713303  5.167232\n",
       "...          ...       ...       ...       ...       ...\n",
       "79995   3.985951  1.642317  4.364131  1.094878  2.657301\n",
       "79996   6.948815  0.809021  3.747824  0.539347  4.632543\n",
       "79997   8.423227  1.125142  6.318217  0.750095  5.615485\n",
       "79998   4.748173  0.774870  2.452810  0.516580  3.165449\n",
       "79999   2.927483  0.616751  1.203686  0.411167  1.951655\n",
       "\n",
       "[80000 rows x 5 columns]"
      ]
     },
     "execution_count": 6,
     "metadata": {},
     "output_type": "execute_result"
    }
   ],
   "source": [
    "# Import data\n",
    "data_train = pd.read_csv(\"data/NNEOS_data_train.csv\")\n",
    "data_test = pd.read_csv(\"data/NNEOS_data_test.csv\")\n",
    "print(\"The training data has \" + str(len(data_train)) + \" instances\")\n",
    "print(\"The test data has \" + str(len(data_test)) + \" instances\")\n",
    "data_train"
   ]
  },
  {
   "cell_type": "markdown",
   "id": "f01f30d9",
   "metadata": {},
   "source": [
    "In case we want to visualize the datapoints (not useful, nothing significant happening)."
   ]
  },
  {
   "cell_type": "code",
   "execution_count": 7,
   "id": "55cf2dfb",
   "metadata": {},
   "outputs": [],
   "source": [
    "# rho = data_train['rho']\n",
    "# eps = data_train['eps']\n",
    "\n",
    "# plt.figure(figsize = (12,10))\n",
    "# plt.plot(rho, eps, 'o', color = 'black', alpha = 0.005)\n",
    "# plt.grid()\n",
    "# plt.xlabel(r'$\\rho$')\n",
    "# plt.ylabel(r'$\\epsilon$')\n",
    "# plt.title('Training data')\n",
    "# plt.show()"
   ]
  },
  {
   "cell_type": "markdown",
   "id": "76f8ccb7",
   "metadata": {},
   "source": [
    "## Getting data into PyTorch's DataLoader"
   ]
  },
  {
   "cell_type": "markdown",
   "id": "c46c8cfc",
   "metadata": {},
   "source": [
    "Below: all_data is of the type $(\\rho, \\epsilon, p, \\chi, \\kappa)$ as generated above."
   ]
  },
  {
   "cell_type": "code",
   "execution_count": 8,
   "id": "13501f79",
   "metadata": {},
   "outputs": [],
   "source": [
    "class CustomDataset(Dataset):\n",
    "    \"\"\"See PyTorch tutorial: the following three methods HAVE to be implemented\"\"\"\n",
    "    \n",
    "    def __init__(self, all_data, transform=None, target_transform=None):\n",
    "        self.transform = transform\n",
    "        self.target_transform = target_transform\n",
    "        \n",
    "        # Separate features (rho and eps) from the labels (p, chi, kappa)\n",
    "        # (see above to get how data is organized)\n",
    "        features = []\n",
    "        labels = []\n",
    "        \n",
    "        for i in range(len(all_data)):\n",
    "            # Separate the features\n",
    "            new_feature = [all_data['rho'][i], all_data['eps'][i]]\n",
    "            features.append(torch.tensor(new_feature, dtype = torch.float32))\n",
    "            # Separate the labels\n",
    "            new_label = [all_data['p'][i], all_data['chi'][i], all_data['kappa'][i]]\n",
    "            labels.append(torch.tensor(new_label, dtype = torch.float32))\n",
    "            \n",
    "        # Save as instance variables to the dataloader\n",
    "        self.features = features\n",
    "        self.labels = labels\n",
    "        \n",
    "    def __len__(self):\n",
    "        return len(self.labels)\n",
    "\n",
    "    # TODO: I don't understand transform and target_transform --- but this is not used now!\n",
    "    def __getitem__(self, idx):\n",
    "        feature = self.features[idx]\n",
    "        if self.transform:\n",
    "            feature = transform(feature)\n",
    "        label = self.labels[idx]\n",
    "        if self.target_transform:\n",
    "            feature = target_transform(label)\n",
    "            \n",
    "        return feature, label"
   ]
  },
  {
   "cell_type": "markdown",
   "id": "6faa7ab8",
   "metadata": {},
   "source": [
    "Note that the following cell may be confusing. \"data_train\" refers to the data that was generatd above, see the pandas table. \"training_data\" is defined similarly as in the PyTorch tutorial, see [this page](https://pytorch.org/tutorials/beginner/basics/data_tutorial.html) and this is an instance of the class CustomDataset defined above."
   ]
  },
  {
   "cell_type": "code",
   "execution_count": 9,
   "id": "5c141bc9",
   "metadata": {},
   "outputs": [],
   "source": [
    "# Make training and test data, as in the tutorial\n",
    "training_data = CustomDataset(data_train)\n",
    "test_data = CustomDataset(data_test)"
   ]
  },
  {
   "cell_type": "code",
   "execution_count": 10,
   "id": "6801365f",
   "metadata": {},
   "outputs": [
    {
     "name": "stdout",
     "output_type": "stream",
     "text": [
      "[tensor([9.7708, 0.8098]), tensor([10.0934,  0.5753])]\n",
      "[tensor([5.2747, 0.5398, 6.5139]), tensor([3.8714, 0.3836, 6.7289])]\n",
      "80000\n",
      "10000\n"
     ]
    }
   ],
   "source": [
    "# Check if this is done correctly\n",
    "print(training_data.features[:2])\n",
    "print(training_data.labels[:2])\n",
    "print(training_data.__len__())\n",
    "print(test_data.__len__())"
   ]
  },
  {
   "cell_type": "code",
   "execution_count": 11,
   "id": "6fcf1d6d",
   "metadata": {},
   "outputs": [],
   "source": [
    "# Now call DataLoader on the above CustomDataset instances:\n",
    "train_dataloader = DataLoader(training_data, batch_size=32)\n",
    "test_dataloader = DataLoader(test_data, batch_size=32)"
   ]
  },
  {
   "cell_type": "markdown",
   "id": "1411ed07",
   "metadata": {},
   "source": [
    "## Building the neural networks"
   ]
  },
  {
   "cell_type": "markdown",
   "id": "ebb3639f",
   "metadata": {},
   "source": [
    "We will follow [this part of the PyTorch tutorial](https://pytorch.org/tutorials/beginner/basics/buildmodel_tutorial.html). For more information, see the [documentation page of torch.nn](https://pytorch.org/docs/stable/nn.html). We take the parameters of NNEOSB in the paper, see Table 1. __Question:__ I'm not sure how the ReLU at the output layer is done... For now, we just use sigmoids in the hidden layers. __To do__ check other activation functions."
   ]
  },
  {
   "cell_type": "code",
   "execution_count": 12,
   "id": "e1115de9",
   "metadata": {},
   "outputs": [],
   "source": [
    "# Define hyperparameters of the model here. Will first of all put two hidden layers\n",
    "device = \"cpu\"\n",
    "size_HL_1 = 400\n",
    "size_HL_2 = 600\n",
    "\n",
    "# Implement neural network\n",
    "class NeuralNetwork(nn.Module):\n",
    "    def __init__(self):\n",
    "        super(NeuralNetwork, self).__init__()\n",
    "        #self.flatten = nn.Flatten()\n",
    "        self.stack = nn.Sequential(\n",
    "            nn.Linear(2, size_HL_1),\n",
    "            nn.Sigmoid(),\n",
    "            nn.Linear(size_HL_1, size_HL_2),\n",
    "            nn.Sigmoid(),\n",
    "            nn.Linear(size_HL_2, 3) ### Q: Does this have to become ReLU? Gives an error!\n",
    "            ###nn.ReLU() # ???\n",
    "        )\n",
    "\n",
    "    def forward(self, x):\n",
    "        #x = self.flatten(x) ### no flatten needed, as our input and output are 1D?\n",
    "        logits = self.stack(x)\n",
    "        return logits"
   ]
  },
  {
   "cell_type": "markdown",
   "id": "5bf4f48d",
   "metadata": {},
   "source": [
    "Now we generate an instance of the above neural network in `model`"
   ]
  },
  {
   "cell_type": "code",
   "execution_count": 13,
   "id": "9d89e47c",
   "metadata": {},
   "outputs": [
    {
     "name": "stdout",
     "output_type": "stream",
     "text": [
      "NeuralNetwork(\n",
      "  (stack): Sequential(\n",
      "    (0): Linear(in_features=2, out_features=400, bias=True)\n",
      "    (1): Sigmoid()\n",
      "    (2): Linear(in_features=400, out_features=600, bias=True)\n",
      "    (3): Sigmoid()\n",
      "    (4): Linear(in_features=600, out_features=3, bias=True)\n",
      "  )\n",
      ")\n"
     ]
    }
   ],
   "source": [
    "model = NeuralNetwork().to(device)\n",
    "print(model)"
   ]
  },
  {
   "cell_type": "markdown",
   "id": "2ac35c30",
   "metadata": {},
   "source": [
    "## Optimizing the neural networks"
   ]
  },
  {
   "cell_type": "markdown",
   "id": "2439942e",
   "metadata": {},
   "source": [
    "Save hyperparameters and loss function - note that we follow the paper. I think that their loss function agrees with [MSELoss](https://pytorch.org/docs/stable/generated/torch.nn.MSELoss.html#torch.nn.MSELoss). The paper uses the [Adam optimizer](https://pytorch.org/docs/stable/generated/torch.optim.Adam.html#torch.optim.Adam). More details on optimizers can be found [here](https://pytorch.org/docs/stable/optim.html). Required argument `params` can be filled in by calling `model` which contains the neural network. For simplicity we will train for 10 epochs here. __Question:__ how many epochs should be used? What size for the batches,..."
   ]
  },
  {
   "cell_type": "code",
   "execution_count": 14,
   "id": "f6136b1b",
   "metadata": {},
   "outputs": [],
   "source": [
    "# Save hyperparameters here --- see paper!!!\n",
    "learning_rate = 6e-4\n",
    "batch_size = 32\n",
    "epochs = 10\n",
    "# Initialize the loss function\n",
    "loss_fn = nn.MSELoss()\n",
    "optimizer = torch.optim.Adam(model.parameters(), lr=learning_rate)"
   ]
  },
  {
   "cell_type": "markdown",
   "id": "d3e8dc1d",
   "metadata": {},
   "source": [
    "The train and test loops are implemented below (copy pasted from [this part of the tutorial](https://pytorch.org/tutorials/beginner/basics/optimization_tutorial.html#full-implementation):"
   ]
  },
  {
   "cell_type": "code",
   "execution_count": 15,
   "id": "5157ea7e",
   "metadata": {},
   "outputs": [],
   "source": [
    "def train_loop(dataloader, model, loss_fn, optimizer, report_progress = False):\n",
    "    \"\"\"The training loop of the algorithm\"\"\"\n",
    "    size = len(dataloader.dataset)\n",
    "    for batch, (X, y) in enumerate(dataloader):\n",
    "        # Compute prediction and loss\n",
    "        pred = model(X)\n",
    "        loss = loss_fn(pred, y)\n",
    "\n",
    "        # Backpropagation\n",
    "        optimizer.zero_grad()\n",
    "        loss.backward()\n",
    "        optimizer.step()\n",
    "\n",
    "        # If we want to report progress during training (not recommended - obstructs view)\n",
    "        if report_progress:\n",
    "            if batch % 100 == 0:\n",
    "                loss, current = loss.item(), batch * len(X)\n",
    "                print(f\"loss: {loss:>7f}  [{current:>5d}/{size:>5d}]\")\n",
    "\n",
    "\n",
    "def test_loop(dataloader, model, loss_fn):\n",
    "    \"\"\"The testing loop of the algorithm\"\"\"\n",
    "    num_batches = len(dataloader)\n",
    "    test_loss = 0\n",
    "\n",
    "    # Predict and compute losses\n",
    "    with torch.no_grad():\n",
    "        for X, y in dataloader:\n",
    "            pred = model(X)\n",
    "            test_loss += loss_fn(pred, y).item()\n",
    "            \n",
    "    average_test_loss = test_loss/num_batches\n",
    "    return average_test_loss"
   ]
  },
  {
   "cell_type": "markdown",
   "id": "02a1392a",
   "metadata": {},
   "source": [
    "Now train the model!"
   ]
  },
  {
   "cell_type": "code",
   "execution_count": 16,
   "id": "6834ec2f",
   "metadata": {},
   "outputs": [],
   "source": [
    "def get_subset_train_dataloader(data_train, size = 10000):\n",
    "    \"\"\"Creates a 'subset' of dataloader for computing loss on training data.\n",
    "        This way we can 'test' on training data too - to check the claim of the paper about overfitting. \"\"\"\n",
    "    \n",
    "    # Get random ids to sample\n",
    "    random_ids =  np.random.choice(len(data_train), size, replace=False)\n",
    "    \n",
    "    # the following is a pandas dataframe\n",
    "    sampled_train_data = data_train.iloc[random_ids] \n",
    "    # relabel the indices\n",
    "    sampled_train_data.index = [i for i in range(len(sampled_train_data))]\n",
    "    new_dataset = CustomDataset(sampled_train_data)\n",
    "    \n",
    "    # Make it a dataloader and return it\n",
    "    new_dataloader = DataLoader(new_dataset, batch_size=32)\n",
    "    \n",
    "    return new_dataloader"
   ]
  },
  {
   "cell_type": "code",
   "execution_count": 17,
   "id": "072be4fc",
   "metadata": {},
   "outputs": [
    {
     "name": "stdout",
     "output_type": "stream",
     "text": [
      "Training the model . . .\n",
      "Epoch 1 \n",
      " --------------\n",
      "Average loss of: 0.0015158924579504317 for test data\n",
      "Average loss of: 0.0015243512080660977 for train data\n",
      "Epoch 2 \n",
      " --------------\n",
      "Average loss of: 0.0006775046635892231 for test data\n",
      "Average loss of: 0.0006713931855653373 for train data\n",
      "Epoch 3 \n",
      " --------------\n",
      "Average loss of: 0.00015046046196446627 for test data\n",
      "Average loss of: 0.00015208603021653054 for train data\n",
      "Epoch 4 \n",
      " --------------\n",
      "Average loss of: 6.531732786463919e-05 for test data\n",
      "Average loss of: 6.276075993473016e-05 for train data\n",
      "Epoch 5 \n",
      " --------------\n",
      "Average loss of: 2.7785114067960524e-05 for test data\n",
      "Average loss of: 2.6506734792029295e-05 for train data\n",
      "Epoch 6 \n",
      " --------------\n",
      "Average loss of: 0.00021515251862587402 for test data\n",
      "Average loss of: 0.00021361556798093223 for train data\n",
      "Epoch 7 \n",
      " --------------\n",
      "Average loss of: 9.67511285811264e-05 for test data\n",
      "Average loss of: 9.612818649793698e-05 for train data\n",
      "Epoch 8 \n",
      " --------------\n",
      "Average loss of: 0.00024223506048778458 for test data\n",
      "Average loss of: 0.0002424580415304655 for train data\n",
      "Epoch 9 \n",
      " --------------\n",
      "Average loss of: 0.0013528622994824244 for test data\n",
      "Average loss of: 0.0013233726193679098 for train data\n",
      "Epoch 10 \n",
      " --------------\n",
      "Average loss of: 0.0008256386294358442 for test data\n",
      "Average loss of: 0.0008455768896872326 for train data\n",
      "Done!\n"
     ]
    }
   ],
   "source": [
    "# Train the model!\n",
    "test_losses = []\n",
    "train_losses = []\n",
    "\n",
    "print(\"Training the model . . .\")\n",
    "for t in range(epochs):\n",
    "    # Train\n",
    "    train_loop(train_dataloader, model, loss_fn, optimizer)\n",
    "    # Test\n",
    "    average_test_loss = test_loop(test_dataloader, model, loss_fn)\n",
    "    test_losses.append(average_test_loss)\n",
    "    \n",
    "    # Also test on the training data\n",
    "    subset = get_subset_train_dataloader(data_train)\n",
    "    # test on this subset\n",
    "    average_train_loss = test_loop(subset, model, loss_fn)\n",
    "    train_losses.append(average_train_loss)\n",
    "    \n",
    "    # Report progress:\n",
    "    print(f\"Epoch {t+1} \\n --------------\")\n",
    "    print(f\"Average loss of: {average_test_loss} for test data\")\n",
    "    print(f\"Average loss of: {average_train_loss} for train data\")\n",
    "    \n",
    "print(\"Done!\")"
   ]
  },
  {
   "cell_type": "code",
   "execution_count": 22,
   "id": "8f95600c",
   "metadata": {},
   "outputs": [
    {
     "data": {
      "image/png": "[encoded data removed]",
      "text/plain": [
       "<Figure size 504x360 with 1 Axes>"
      ]
     },
     "metadata": {
      "needs_background": "light"
     },
     "output_type": "display_data"
    }
   ],
   "source": [
    "# Get the difference (need np.array)\n",
    "test_losses_as_array = np.array(test_losses)\n",
    "train_losses_as_array = np.array(train_losses)\n",
    "difference = test_losses_as_array - train_losses_as_array\n",
    "\n",
    "# Plot it\n",
    "plt.figure(figsize = (7,5))\n",
    "plt.plot(difference, 'o--', color = 'red', label = \"Difference\")\n",
    "plt.grid()\n",
    "plt.xlabel(\"Epoch\", fontsize = 22)\n",
    "plt.ylabel(r'$L_{test} - L_{train}$', fontsize = 22)\n",
    "plt.axhline(0, color = 'black', alpha = 0.7)\n",
    "plt.title(\"Difference in losses\", fontsize = 22)\n",
    "plt.show()"
   ]
  },
  {
   "cell_type": "code",
   "execution_count": 21,
   "id": "9f2fef5c",
   "metadata": {},
   "outputs": [
    {
     "data": {
      "image/png": "[encoded data removed]",
      "text/plain": [
       "<Figure size 504x360 with 1 Axes>"
      ]
     },
     "metadata": {
      "needs_background": "light"
     },
     "output_type": "display_data"
    }
   ],
   "source": [
    "# Get the difference (need np.array)\n",
    "test_losses_as_array = np.array(test_losses)\n",
    "train_losses_as_array = np.array(train_losses)\n",
    "difference = test_losses_as_array - train_losses_as_array\n",
    "\n",
    "# Plot it\n",
    "plt.figure(figsize = (7,5))\n",
    "plt.plot(train_losses, 'o--', color = 'red', label = \"Train set\")\n",
    "plt.plot(train_losses, 'o--', color = 'blue', label = \"Test set\")\n",
    "plt.legend()\n",
    "plt.grid()\n",
    "plt.xlabel(\"Epoch\", fontsize = 22)\n",
    "plt.ylabel(r'$L$', fontsize = 22)\n",
    "plt.axhline(0, color = 'black', alpha = 0.7)\n",
    "plt.title(\"Loss\", fontsize = 22)\n",
    "plt.show()"
   ]
  },
  {
   "cell_type": "code",
   "execution_count": null,
   "id": "2e74a0c7",
   "metadata": {},
   "outputs": [],
   "source": []
  }
 ],
 "metadata": {
  "kernelspec": {
   "display_name": "Python 3 (ipykernel)",
   "language": "python",
   "name": "python3"
  },
  "language_info": {
   "codemirror_mode": {
    "name": "ipython",
    "version": 3
   },
   "file_extension": ".py",
   "mimetype": "text/x-python",
   "name": "python",
   "nbconvert_exporter": "python",
   "pygments_lexer": "ipython3",
   "version": "3.9.12"
  },
  "latex_envs": {
   "LaTeX_envs_menu_present": true,
   "autoclose": false,
   "autocomplete": true,
   "bibliofile": "biblio.bib",
   "cite_by": "apalike",
   "current_citInitial": 1,
   "eqLabelWithNumbers": true,
   "eqNumInitial": 1,
   "hotkeys": {
    "equation": "Ctrl-E",
    "itemize": "Ctrl-I"
   },
   "labels_anchors": false,
   "latex_user_defs": false,
   "report_style_numbering": false,
   "user_envs_cfg": false
  },
  "toc": {
   "base_numbering": 1,
   "nav_menu": {},
   "number_sections": true,
   "sideBar": true,
   "skip_h1_title": false,
   "title_cell": "Table of Contents",
   "title_sidebar": "Contents",
   "toc_cell": false,
   "toc_position": {},
   "toc_section_display": true,
   "toc_window_display": false
  }
 },
 "nbformat": 4,
 "nbformat_minor": 5
}
